{
 "cells": [
  {
   "cell_type": "markdown",
   "metadata": {},
   "source": [
    "# Natural Language Processing   \n",
    "\n",
    "Mini-Challenge 1 (LE3-LE5)   \n",
    "Yannic & Ben  \n"
   ]
  },
  {
   "cell_type": "markdown",
   "metadata": {},
   "source": [
    "# Aufgabe\n",
    "\n",
    "You evaluate 2 different classification systems on a text classification task (examples below). You argument why you chose these systems for that case and you build, train and evaluate the system. You also do a thorough error analysis and propose theories on how to improve the systems, especially also by analysing individual cases and comparing the predictions of each system. At least one of the systems is based on a fine-tuned deep learning model.\n",
    "\n",
    "Here you can use data from shared tasks, such as semeval, kaggle, codalab or paperwithcode for text classification.\n",
    "\n",
    "You can submit as a group of 2 but each one has to have a significant contribution. Submission is given as a gitlab repo. I will track with the commit history if there was  a significant contribution from each participant. The repo should include the report, a python notebook to reproduce the results and a wiki with a journal or git issues that document the progress of your mini-challenge.\n",
    "\n",
    "Since many parts of code can be online, the most important part of the submission will be the report and evaluation of the results. In the report you describe which system you used, which are the theory behind it and why you chose it. The evaluation you describe the metric chose, why this metric is good for the use case and discuss the results of the experiments and some predictions on individual test samples. Bonus points will be given if you show, that you implemented the systems yourself, and the progress/errors are documented through commits.\n",
    "\n",
    "ADDENDUM: The classification systems can be for example tf-idf-svm, cnns or transformers, see https://gitlab.fhnw.ch/fernando.benites/npr-21-fs/-/tree/master/text_classification/20news_group for an applied example. There are other ways to go, and I am open for suggestions. Please try to understand the systems, this can be handy in the error analysis/evaluation/report or in the exam. Don't use the 20newsgroup dataset. The repo will be used in the deep dive and so this dataset is already \"taken\". If you receive a 404 on the repo, please contact me, I'll add you to the repo, then it should work.\n",
    "\n",
    "Some other starting points:\n",
    "\n",
    "https://lionbridge.ai/articles/using-deep-learning-for-end-to-end-multiclass-text-classification/\n",
    "\n",
    "BETTER: https://medium.com/analytics-vidhya/sentiment-analysis-on-amazon-reviews-using-tf-idf-approach-c5ab4c36e7a1\n",
    "\n",
    "GOOD: https://colab.research.google.com/github/patrickvankessel/AAPOR-Text-Analysis-2019/blob/master/Tutorial.ipynb#scrollTo=9wJQJUDHkM5w\n",
    "\n",
    "BAD: https://medium.com/@qempsil0914/machine-learning-nlp-text-classification-with-amazon-review-data-using-python3-step-by-step-3fb0cc0cecc1\n",
    "\n",
    "https://paperswithcode.com/task/text-classification\n",
    "\n",
    "https://fbenites.github.io/GermEval/\n",
    "\n",
    "https://medium.com/analytics-vidhya/fine-tuning-bert-language-model-to-get-better-results-on-text-classification-3dac5e3c348e\n",
    "\n",
    "https://github.com/Shivampanwar/Bert-text-classification/blob/master/bert_language_model_with_sequence_classification.ipynb\n"
   ]
  },
  {
   "cell_type": "markdown",
   "metadata": {},
   "source": [
    "# Installing Packages"
   ]
  },
  {
   "cell_type": "code",
   "execution_count": 2,
   "metadata": {},
   "outputs": [],
   "source": [
    "import pandas as pd\n",
    "import matplotlib.pyplot as plt"
   ]
  },
  {
   "cell_type": "markdown",
   "metadata": {},
   "source": [
    "# Read Dataset"
   ]
  },
  {
   "cell_type": "code",
   "execution_count": 3,
   "metadata": {},
   "outputs": [
    {
     "data": {
      "text/html": [
       "<div>\n",
       "<style scoped>\n",
       "    .dataframe tbody tr th:only-of-type {\n",
       "        vertical-align: middle;\n",
       "    }\n",
       "\n",
       "    .dataframe tbody tr th {\n",
       "        vertical-align: top;\n",
       "    }\n",
       "\n",
       "    .dataframe thead th {\n",
       "        text-align: right;\n",
       "    }\n",
       "</style>\n",
       "<table border=\"1\" class=\"dataframe\">\n",
       "  <thead>\n",
       "    <tr style=\"text-align: right;\">\n",
       "      <th></th>\n",
       "      <th>Unnamed: 0</th>\n",
       "      <th>book_id</th>\n",
       "      <th>book_name</th>\n",
       "      <th>genre</th>\n",
       "      <th>summary</th>\n",
       "    </tr>\n",
       "  </thead>\n",
       "  <tbody>\n",
       "    <tr>\n",
       "      <th>0</th>\n",
       "      <td>0</td>\n",
       "      <td>3248537</td>\n",
       "      <td>Drowned Wednesday</td>\n",
       "      <td>Fantasy</td>\n",
       "      <td>Drowned Wednesday is the first Trustee among ...</td>\n",
       "    </tr>\n",
       "    <tr>\n",
       "      <th>1</th>\n",
       "      <td>1</td>\n",
       "      <td>27796919</td>\n",
       "      <td>The Lost Hero</td>\n",
       "      <td>Fantasy</td>\n",
       "      <td>As the book opens, Jason awakens on a school ...</td>\n",
       "    </tr>\n",
       "    <tr>\n",
       "      <th>2</th>\n",
       "      <td>2</td>\n",
       "      <td>3910776</td>\n",
       "      <td>The Eyes of the Overworld</td>\n",
       "      <td>Fantasy</td>\n",
       "      <td>Cugel is easily persuaded by the merchant Fia...</td>\n",
       "    </tr>\n",
       "    <tr>\n",
       "      <th>3</th>\n",
       "      <td>3</td>\n",
       "      <td>5969644</td>\n",
       "      <td>Magic's Promise</td>\n",
       "      <td>Fantasy</td>\n",
       "      <td>The book opens with Herald-Mage Vanyel return...</td>\n",
       "    </tr>\n",
       "    <tr>\n",
       "      <th>4</th>\n",
       "      <td>4</td>\n",
       "      <td>3173445</td>\n",
       "      <td>Taran Wanderer</td>\n",
       "      <td>Fantasy</td>\n",
       "      <td>Taran and Gurgi have returned to Caer Dallben...</td>\n",
       "    </tr>\n",
       "    <tr>\n",
       "      <th>...</th>\n",
       "      <td>...</td>\n",
       "      <td>...</td>\n",
       "      <td>...</td>\n",
       "      <td>...</td>\n",
       "      <td>...</td>\n",
       "    </tr>\n",
       "    <tr>\n",
       "      <th>2995</th>\n",
       "      <td>2995</td>\n",
       "      <td>10372180</td>\n",
       "      <td>White Death</td>\n",
       "      <td>Thriller</td>\n",
       "      <td>A Novel from the NUMA files, A Kurt Austin Ad...</td>\n",
       "    </tr>\n",
       "    <tr>\n",
       "      <th>2996</th>\n",
       "      <td>2996</td>\n",
       "      <td>14504372</td>\n",
       "      <td>Venus with Pistol</td>\n",
       "      <td>Thriller</td>\n",
       "      <td>Gilbert Kemp is dealer specializing in antiqu...</td>\n",
       "    </tr>\n",
       "    <tr>\n",
       "      <th>2997</th>\n",
       "      <td>2997</td>\n",
       "      <td>3617412</td>\n",
       "      <td>Blackwater</td>\n",
       "      <td>Thriller</td>\n",
       "      <td>\"How do you know when you're in too deep? Dav...</td>\n",
       "    </tr>\n",
       "    <tr>\n",
       "      <th>2998</th>\n",
       "      <td>2998</td>\n",
       "      <td>11320975</td>\n",
       "      <td>The Rainbow and the Rose</td>\n",
       "      <td>Thriller</td>\n",
       "      <td>The story concerns the life of Johnnie Pascoe...</td>\n",
       "    </tr>\n",
       "    <tr>\n",
       "      <th>2999</th>\n",
       "      <td>2999</td>\n",
       "      <td>17227674</td>\n",
       "      <td>Chiefs</td>\n",
       "      <td>Thriller</td>\n",
       "      <td>The First Chief: Will Henry Lee: The novel op...</td>\n",
       "    </tr>\n",
       "  </tbody>\n",
       "</table>\n",
       "<p>3000 rows × 5 columns</p>\n",
       "</div>"
      ],
      "text/plain": [
       "      Unnamed: 0   book_id                  book_name     genre  \\\n",
       "0              0   3248537          Drowned Wednesday   Fantasy   \n",
       "1              1  27796919              The Lost Hero   Fantasy   \n",
       "2              2   3910776  The Eyes of the Overworld   Fantasy   \n",
       "3              3   5969644            Magic's Promise   Fantasy   \n",
       "4              4   3173445             Taran Wanderer   Fantasy   \n",
       "...          ...       ...                        ...       ...   \n",
       "2995        2995  10372180                White Death  Thriller   \n",
       "2996        2996  14504372          Venus with Pistol  Thriller   \n",
       "2997        2997   3617412                 Blackwater  Thriller   \n",
       "2998        2998  11320975   The Rainbow and the Rose  Thriller   \n",
       "2999        2999  17227674                     Chiefs  Thriller   \n",
       "\n",
       "                                                summary  \n",
       "0      Drowned Wednesday is the first Trustee among ...  \n",
       "1      As the book opens, Jason awakens on a school ...  \n",
       "2      Cugel is easily persuaded by the merchant Fia...  \n",
       "3      The book opens with Herald-Mage Vanyel return...  \n",
       "4      Taran and Gurgi have returned to Caer Dallben...  \n",
       "...                                                 ...  \n",
       "2995   A Novel from the NUMA files, A Kurt Austin Ad...  \n",
       "2996   Gilbert Kemp is dealer specializing in antiqu...  \n",
       "2997   \"How do you know when you're in too deep? Dav...  \n",
       "2998   The story concerns the life of Johnnie Pascoe...  \n",
       "2999   The First Chief: Will Henry Lee: The novel op...  \n",
       "\n",
       "[3000 rows x 5 columns]"
      ]
     },
     "execution_count": 3,
     "metadata": {},
     "output_type": "execute_result"
    }
   ],
   "source": [
    "# Read in the data \n",
    "df = pd.read_csv('data/BooksDataSet.csv')\n",
    "\n",
    "df"
   ]
  },
  {
   "cell_type": "code",
   "execution_count": 4,
   "metadata": {},
   "outputs": [
    {
     "data": {
      "text/plain": [
       "6"
      ]
     },
     "execution_count": 4,
     "metadata": {},
     "output_type": "execute_result"
    }
   ],
   "source": [
    "# calculate number of unique genre\n",
    "df['genre'].nunique()"
   ]
  },
  {
   "cell_type": "code",
   "execution_count": 5,
   "metadata": {},
   "outputs": [
    {
     "data": {
      "text/plain": [
       "1"
      ]
     },
     "execution_count": 5,
     "metadata": {},
     "output_type": "execute_result"
    }
   ],
   "source": [
    "# count maximum genres per row\n",
    "df['genre'].str.split(',').str.len().max()"
   ]
  },
  {
   "cell_type": "code",
   "execution_count": 6,
   "metadata": {},
   "outputs": [
    {
     "data": {
      "text/plain": [
       "<AxesSubplot:>"
      ]
     },
     "execution_count": 6,
     "metadata": {},
     "output_type": "execute_result"
    },
    {
     "data": {
      "image/png": "[encoded data removed]",
      "text/plain": [
       "<Figure size 432x288 with 1 Axes>"
      ]
     },
     "metadata": {
      "needs_background": "light"
     },
     "output_type": "display_data"
    }
   ],
   "source": [
    "# plot the amount of each genre\n",
    "df['genre'].value_counts().plot(kind='bar')"
   ]
  },
  {
   "cell_type": "code",
   "execution_count": 19,
   "metadata": {},
   "outputs": [
    {
     "data": {
      "text/html": [
       "<div>\n",
       "<style scoped>\n",
       "    .dataframe tbody tr th:only-of-type {\n",
       "        vertical-align: middle;\n",
       "    }\n",
       "\n",
       "    .dataframe tbody tr th {\n",
       "        vertical-align: top;\n",
       "    }\n",
       "\n",
       "    .dataframe thead th {\n",
       "        text-align: right;\n",
       "    }\n",
       "</style>\n",
       "<table border=\"1\" class=\"dataframe\">\n",
       "  <thead>\n",
       "    <tr style=\"text-align: right;\">\n",
       "      <th></th>\n",
       "      <th>Unnamed: 0</th>\n",
       "      <th>book_id</th>\n",
       "      <th>book_name</th>\n",
       "      <th>genre</th>\n",
       "      <th>summary</th>\n",
       "    </tr>\n",
       "  </thead>\n",
       "  <tbody>\n",
       "    <tr>\n",
       "      <th>0</th>\n",
       "      <td>1335</td>\n",
       "      <td>5079765</td>\n",
       "      <td>Death in Holy Orders</td>\n",
       "      <td>Crime Fiction</td>\n",
       "      <td>Dalgliesh visits Saint Anselm's in a semi-off...</td>\n",
       "    </tr>\n",
       "    <tr>\n",
       "      <th>1</th>\n",
       "      <td>321</td>\n",
       "      <td>12692753</td>\n",
       "      <td>Queste</td>\n",
       "      <td>Fantasy</td>\n",
       "      <td>Queste takes Septimus, Jenna and Beetle in se...</td>\n",
       "    </tr>\n",
       "    <tr>\n",
       "      <th>2</th>\n",
       "      <td>1887</td>\n",
       "      <td>145627</td>\n",
       "      <td>Master and Commander</td>\n",
       "      <td>Historical novel</td>\n",
       "      <td>The story starts out on April 18, 1800, in Po...</td>\n",
       "    </tr>\n",
       "    <tr>\n",
       "      <th>3</th>\n",
       "      <td>2434</td>\n",
       "      <td>6035060</td>\n",
       "      <td>Reborn</td>\n",
       "      <td>Horror</td>\n",
       "      <td>Almost immediately after being slain by Glaek...</td>\n",
       "    </tr>\n",
       "    <tr>\n",
       "      <th>4</th>\n",
       "      <td>716</td>\n",
       "      <td>3060288</td>\n",
       "      <td>Junior Jedi Knights: Promises</td>\n",
       "      <td>Science Fiction</td>\n",
       "      <td>Tahiri Veila knows nothing about her past: th...</td>\n",
       "    </tr>\n",
       "    <tr>\n",
       "      <th>5</th>\n",
       "      <td>2811</td>\n",
       "      <td>8412464</td>\n",
       "      <td>So Yesterday</td>\n",
       "      <td>Thriller</td>\n",
       "      <td>A young man named Hunter works as a cool hunt...</td>\n",
       "    </tr>\n",
       "  </tbody>\n",
       "</table>\n",
       "</div>"
      ],
      "text/plain": [
       "   Unnamed: 0   book_id                      book_name             genre  \\\n",
       "0        1335   5079765           Death in Holy Orders     Crime Fiction   \n",
       "1         321  12692753                         Queste           Fantasy   \n",
       "2        1887    145627           Master and Commander  Historical novel   \n",
       "3        2434   6035060                         Reborn            Horror   \n",
       "4         716   3060288  Junior Jedi Knights: Promises   Science Fiction   \n",
       "5        2811   8412464                   So Yesterday          Thriller   \n",
       "\n",
       "                                             summary  \n",
       "0   Dalgliesh visits Saint Anselm's in a semi-off...  \n",
       "1   Queste takes Septimus, Jenna and Beetle in se...  \n",
       "2   The story starts out on April 18, 1800, in Po...  \n",
       "3   Almost immediately after being slain by Glaek...  \n",
       "4   Tahiri Veila knows nothing about her past: th...  \n",
       "5   A young man named Hunter works as a cool hunt...  "
      ]
     },
     "execution_count": 19,
     "metadata": {},
     "output_type": "execute_result"
    }
   ],
   "source": [
    "# give a random summary from every genre and save as dataframe\n",
    "df_summary = df.groupby('genre').apply(lambda x: x.sample(1)).reset_index(drop=True)\n",
    "df_summary"
   ]
  },
  {
   "cell_type": "markdown",
   "metadata": {},
   "source": [
    "# Data Pre-processing"
   ]
  },
  {
   "cell_type": "code",
   "execution_count": null,
   "metadata": {},
   "outputs": [],
   "source": []
  },
  {
   "cell_type": "markdown",
   "metadata": {},
   "source": [
    "# Feature Extraction"
   ]
  },
  {
   "cell_type": "code",
   "execution_count": null,
   "metadata": {},
   "outputs": [],
   "source": []
  },
  {
   "cell_type": "markdown",
   "metadata": {},
   "source": [
    "# Predictions"
   ]
  },
  {
   "cell_type": "code",
   "execution_count": null,
   "metadata": {},
   "outputs": [],
   "source": []
  },
  {
   "cell_type": "markdown",
   "metadata": {},
   "source": [
    "# Evaluation"
   ]
  },
  {
   "cell_type": "code",
   "execution_count": null,
   "metadata": {},
   "outputs": [],
   "source": []
  }
 ],
 "metadata": {
  "kernelspec": {
   "display_name": "npr",
   "language": "python",
   "name": "python3"
  },
  "language_info": {
   "codemirror_mode": {
    "name": "ipython",
    "version": 3
   },
   "file_extension": ".py",
   "mimetype": "text/x-python",
   "name": "python",
   "nbconvert_exporter": "python",
   "pygments_lexer": "ipython3",
   "version": "3.10.4"
  },
  "orig_nbformat": 4
 },
 "nbformat": 4,
 "nbformat_minor": 2
}
