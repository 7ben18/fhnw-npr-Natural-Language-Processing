{
 "cells": [
  {
   "cell_type": "markdown",
   "metadata": {},
   "source": [
    "# Natural Language Processing   \n",
    "\n",
    "Mini-Challenge 1 (LE3-LE5)   \n",
    "Yannic & Ben  \n"
   ]
  },
  {
   "cell_type": "markdown",
   "metadata": {},
   "source": [
    "# Aufgabe\n",
    "\n",
    "You evaluate 2 different classification systems on a text classification task (examples below). You argument why you chose these systems for that case and you build, train and evaluate the system. You also do a thorough error analysis and propose theories on how to improve the systems, especially also by analysing individual cases and comparing the predictions of each system. At least one of the systems is based on a fine-tuned deep learning model.\n",
    "\n",
    "Here you can use data from shared tasks, such as semeval, kaggle, codalab or paperwithcode for text classification.\n",
    "\n",
    "You can submit as a group of 2 but each one has to have a significant contribution. Submission is given as a gitlab repo. I will track with the commit history if there was  a significant contribution from each participant. The repo should include the report, a python notebook to reproduce the results and a wiki with a journal or git issues that document the progress of your mini-challenge.\n",
    "\n",
    "Since many parts of code can be online, the most important part of the submission will be the report and evaluation of the results. In the report you describe which system you used, which are the theory behind it and why you chose it. The evaluation you describe the metric chose, why this metric is good for the use case and discuss the results of the experiments and some predictions on individual test samples. Bonus points will be given if you show, that you implemented the systems yourself, and the progress/errors are documented through commits.\n",
    "\n",
    "ADDENDUM: The classification systems can be for example tf-idf-svm, cnns or transformers, see https://gitlab.fhnw.ch/fernando.benites/npr-21-fs/-/tree/master/text_classification/20news_group for an applied example. There are other ways to go, and I am open for suggestions. Please try to understand the systems, this can be handy in the error analysis/evaluation/report or in the exam. Don't use the 20newsgroup dataset. The repo will be used in the deep dive and so this dataset is already \"taken\". If you receive a 404 on the repo, please contact me, I'll add you to the repo, then it should work.\n",
    "\n",
    "Some other starting points:\n",
    "\n",
    "https://lionbridge.ai/articles/using-deep-learning-for-end-to-end-multiclass-text-classification/\n",
    "\n",
    "BETTER: https://medium.com/analytics-vidhya/sentiment-analysis-on-amazon-reviews-using-tf-idf-approach-c5ab4c36e7a1\n",
    "\n",
    "GOOD: https://colab.research.google.com/github/patrickvankessel/AAPOR-Text-Analysis-2019/blob/master/Tutorial.ipynb#scrollTo=9wJQJUDHkM5w\n",
    "\n",
    "BAD: https://medium.com/@qempsil0914/machine-learning-nlp-text-classification-with-amazon-review-data-using-python3-step-by-step-3fb0cc0cecc1\n",
    "\n",
    "https://paperswithcode.com/task/text-classification\n",
    "\n",
    "https://fbenites.github.io/GermEval/\n",
    "\n",
    "https://medium.com/analytics-vidhya/fine-tuning-bert-language-model-to-get-better-results-on-text-classification-3dac5e3c348e\n",
    "\n",
    "https://github.com/Shivampanwar/Bert-text-classification/blob/master/bert_language_model_with_sequence_classification.ipynb\n"
   ]
  },
  {
   "cell_type": "markdown",
   "metadata": {},
   "source": [
    "# Libraries importieren"
   ]
  },
  {
   "cell_type": "code",
   "execution_count": 1,
   "metadata": {},
   "outputs": [
    {
     "name": "stderr",
     "output_type": "stream",
     "text": [
      "[nltk_data] Downloading package stopwords to\n",
      "[nltk_data]     C:\\Users\\yanni\\AppData\\Roaming\\nltk_data...\n",
      "[nltk_data]   Package stopwords is already up-to-date!\n",
      "[nltk_data] Downloading package punkt to\n",
      "[nltk_data]     C:\\Users\\yanni\\AppData\\Roaming\\nltk_data...\n",
      "[nltk_data]   Package punkt is already up-to-date!\n",
      "[nltk_data] Downloading package wordnet to\n",
      "[nltk_data]     C:\\Users\\yanni\\AppData\\Roaming\\nltk_data...\n",
      "[nltk_data]   Package wordnet is already up-to-date!\n",
      "[nltk_data] Downloading package averaged_perceptron_tagger to\n",
      "[nltk_data]     C:\\Users\\yanni\\AppData\\Roaming\\nltk_data...\n",
      "[nltk_data]   Package averaged_perceptron_tagger is already up-to-\n",
      "[nltk_data]       date!\n"
     ]
    },
    {
     "data": {
      "text/plain": [
       "True"
      ]
     },
     "execution_count": 1,
     "metadata": {},
     "output_type": "execute_result"
    }
   ],
   "source": [
    "# Standard Data Science Libraries\n",
    "import pandas as pd\n",
    "import numpy as np\n",
    "import matplotlib.pyplot as plt\n",
    "import seaborn as sns\n",
    "import json\n",
    "from tqdm.notebook import tqdm\n",
    "\n",
    "# sklearn imports\n",
    "from sklearn.feature_extraction.text import TfidfVectorizer\n",
    "from sklearn.model_selection import train_test_split\n",
    "from sklearn.model_selection import KFold\n",
    "from sklearn.multiclass import OneVsRestClassifier\n",
    "from sklearn.preprocessing import MultiLabelBinarizer\n",
    "from sklearn.ensemble import RandomForestClassifier, HistGradientBoostingClassifier\n",
    "from sklearn.metrics import accuracy_score, precision_score, recall_score, f1_score, fbeta_score\n",
    "\n",
    "# nltk imports\n",
    "import nltk\n",
    "import string\n",
    "from nltk.corpus import stopwords\n",
    "from nltk.tokenize import word_tokenize\n",
    "from nltk.stem import WordNetLemmatizer\n",
    "\n",
    "nltk.download('stopwords')\n",
    "nltk.download('punkt')\n",
    "nltk.download('wordnet')\n",
    "nltk.download('averaged_perceptron_tagger')"
   ]
  },
  {
   "cell_type": "markdown",
   "metadata": {},
   "source": [
    "# Datensatz einlesen\n",
    "\n",
    "Dieser Datensatz enthält Zusammenfassungen von 16.559 Büchern, die aus Wikipedia extrahiert wurden, zusammen mit abgeglichenen Metadaten aus Freebase, einschließlich Autor, Titel und Genre des Buches.\n",
    "\n",
    "Relevant für die npr Text Classification Minichallenge-1  sind die Spalten \"genres\" und \"summary\". "
   ]
  },
  {
   "cell_type": "code",
   "execution_count": 2,
   "metadata": {},
   "outputs": [
    {
     "name": "stdout",
     "output_type": "stream",
     "text": [
      "<class 'pandas.core.frame.DataFrame'>\n",
      "RangeIndex: 16559 entries, 0 to 16558\n",
      "Data columns (total 7 columns):\n",
      " #   Column        Non-Null Count  Dtype \n",
      "---  ------        --------------  ----- \n",
      " 0   wikipedia_id  16559 non-null  int32 \n",
      " 1   freebase_id   16559 non-null  object\n",
      " 2   book_title    16559 non-null  object\n",
      " 3   book_author   14177 non-null  object\n",
      " 4   pub_date      10949 non-null  object\n",
      " 5   genres        12841 non-null  object\n",
      " 6   summary       16559 non-null  object\n",
      "dtypes: int32(1), object(6)\n",
      "memory usage: 841.0+ KB\n"
     ]
    },
    {
     "data": {
      "text/html": [
       "<div>\n",
       "<style scoped>\n",
       "    .dataframe tbody tr th:only-of-type {\n",
       "        vertical-align: middle;\n",
       "    }\n",
       "\n",
       "    .dataframe tbody tr th {\n",
       "        vertical-align: top;\n",
       "    }\n",
       "\n",
       "    .dataframe thead th {\n",
       "        text-align: right;\n",
       "    }\n",
       "</style>\n",
       "<table border=\"1\" class=\"dataframe\">\n",
       "  <thead>\n",
       "    <tr style=\"text-align: right;\">\n",
       "      <th></th>\n",
       "      <th>wikipedia_id</th>\n",
       "      <th>freebase_id</th>\n",
       "      <th>book_title</th>\n",
       "      <th>book_author</th>\n",
       "      <th>pub_date</th>\n",
       "      <th>genres</th>\n",
       "      <th>summary</th>\n",
       "    </tr>\n",
       "  </thead>\n",
       "  <tbody>\n",
       "    <tr>\n",
       "      <th>0</th>\n",
       "      <td>620</td>\n",
       "      <td>/m/0hhy</td>\n",
       "      <td>Animal Farm</td>\n",
       "      <td>George Orwell</td>\n",
       "      <td>1945-08-17</td>\n",
       "      <td>{\"/m/016lj8\": \"Roman \\u00e0 clef\", \"/m/06nbt\":...</td>\n",
       "      <td>Old Major, the old boar on the Manor Farm, ca...</td>\n",
       "    </tr>\n",
       "    <tr>\n",
       "      <th>1</th>\n",
       "      <td>843</td>\n",
       "      <td>/m/0k36</td>\n",
       "      <td>A Clockwork Orange</td>\n",
       "      <td>Anthony Burgess</td>\n",
       "      <td>1962</td>\n",
       "      <td>{\"/m/06n90\": \"Science Fiction\", \"/m/0l67h\": \"N...</td>\n",
       "      <td>Alex, a teenager living in near-future Englan...</td>\n",
       "    </tr>\n",
       "    <tr>\n",
       "      <th>2</th>\n",
       "      <td>986</td>\n",
       "      <td>/m/0ldx</td>\n",
       "      <td>The Plague</td>\n",
       "      <td>Albert Camus</td>\n",
       "      <td>1947</td>\n",
       "      <td>{\"/m/02m4t\": \"Existentialism\", \"/m/02xlf\": \"Fi...</td>\n",
       "      <td>The text of The Plague is divided into five p...</td>\n",
       "    </tr>\n",
       "    <tr>\n",
       "      <th>3</th>\n",
       "      <td>1756</td>\n",
       "      <td>/m/0sww</td>\n",
       "      <td>An Enquiry Concerning Human Understanding</td>\n",
       "      <td>David Hume</td>\n",
       "      <td>NaN</td>\n",
       "      <td>NaN</td>\n",
       "      <td>The argument of the Enquiry proceeds by a ser...</td>\n",
       "    </tr>\n",
       "    <tr>\n",
       "      <th>4</th>\n",
       "      <td>2080</td>\n",
       "      <td>/m/0wkt</td>\n",
       "      <td>A Fire Upon the Deep</td>\n",
       "      <td>Vernor Vinge</td>\n",
       "      <td>NaN</td>\n",
       "      <td>{\"/m/03lrw\": \"Hard science fiction\", \"/m/06n90...</td>\n",
       "      <td>The novel posits that space around the Milky ...</td>\n",
       "    </tr>\n",
       "    <tr>\n",
       "      <th>...</th>\n",
       "      <td>...</td>\n",
       "      <td>...</td>\n",
       "      <td>...</td>\n",
       "      <td>...</td>\n",
       "      <td>...</td>\n",
       "      <td>...</td>\n",
       "      <td>...</td>\n",
       "    </tr>\n",
       "    <tr>\n",
       "      <th>16554</th>\n",
       "      <td>36934824</td>\n",
       "      <td>/m/0m0p0hr</td>\n",
       "      <td>Under Wildwood</td>\n",
       "      <td>Colin Meloy</td>\n",
       "      <td>2012-09-25</td>\n",
       "      <td>NaN</td>\n",
       "      <td>Prue McKeel, having rescued her brother from ...</td>\n",
       "    </tr>\n",
       "    <tr>\n",
       "      <th>16555</th>\n",
       "      <td>37054020</td>\n",
       "      <td>/m/04f1nbs</td>\n",
       "      <td>Transfer of Power</td>\n",
       "      <td>Vince Flynn</td>\n",
       "      <td>2000-06-01</td>\n",
       "      <td>{\"/m/01jfsb\": \"Thriller\", \"/m/02xlf\": \"Fiction\"}</td>\n",
       "      <td>The reader first meets Rapp while he is doing...</td>\n",
       "    </tr>\n",
       "    <tr>\n",
       "      <th>16556</th>\n",
       "      <td>37122323</td>\n",
       "      <td>/m/0n5236t</td>\n",
       "      <td>Decoded</td>\n",
       "      <td>Jay-Z</td>\n",
       "      <td>2010-11-16</td>\n",
       "      <td>{\"/m/0xdf\": \"Autobiography\"}</td>\n",
       "      <td>The book follows very rough chronological ord...</td>\n",
       "    </tr>\n",
       "    <tr>\n",
       "      <th>16557</th>\n",
       "      <td>37132319</td>\n",
       "      <td>/m/0n4bqb1</td>\n",
       "      <td>America Again: Re-becoming The Greatness We Ne...</td>\n",
       "      <td>Stephen Colbert</td>\n",
       "      <td>2012-10-02</td>\n",
       "      <td>NaN</td>\n",
       "      <td>Colbert addresses topics including Wall Stree...</td>\n",
       "    </tr>\n",
       "    <tr>\n",
       "      <th>16558</th>\n",
       "      <td>37159503</td>\n",
       "      <td>/m/073nkd</td>\n",
       "      <td>Poor Folk</td>\n",
       "      <td>Fyodor Dostoyevsky</td>\n",
       "      <td>1846</td>\n",
       "      <td>{\"/m/02ql9\": \"Epistolary novel\", \"/m/014dfn\": ...</td>\n",
       "      <td>Makar Devushkin and Varvara Dobroselova are s...</td>\n",
       "    </tr>\n",
       "  </tbody>\n",
       "</table>\n",
       "<p>16559 rows × 7 columns</p>\n",
       "</div>"
      ],
      "text/plain": [
       "       wikipedia_id freebase_id  \\\n",
       "0               620     /m/0hhy   \n",
       "1               843     /m/0k36   \n",
       "2               986     /m/0ldx   \n",
       "3              1756     /m/0sww   \n",
       "4              2080     /m/0wkt   \n",
       "...             ...         ...   \n",
       "16554      36934824  /m/0m0p0hr   \n",
       "16555      37054020  /m/04f1nbs   \n",
       "16556      37122323  /m/0n5236t   \n",
       "16557      37132319  /m/0n4bqb1   \n",
       "16558      37159503   /m/073nkd   \n",
       "\n",
       "                                              book_title         book_author  \\\n",
       "0                                            Animal Farm       George Orwell   \n",
       "1                                     A Clockwork Orange     Anthony Burgess   \n",
       "2                                             The Plague        Albert Camus   \n",
       "3              An Enquiry Concerning Human Understanding          David Hume   \n",
       "4                                   A Fire Upon the Deep        Vernor Vinge   \n",
       "...                                                  ...                 ...   \n",
       "16554                                     Under Wildwood         Colin Meloy   \n",
       "16555                                  Transfer of Power         Vince Flynn   \n",
       "16556                                            Decoded               Jay-Z   \n",
       "16557  America Again: Re-becoming The Greatness We Ne...     Stephen Colbert   \n",
       "16558                                          Poor Folk  Fyodor Dostoyevsky   \n",
       "\n",
       "         pub_date                                             genres  \\\n",
       "0      1945-08-17  {\"/m/016lj8\": \"Roman \\u00e0 clef\", \"/m/06nbt\":...   \n",
       "1            1962  {\"/m/06n90\": \"Science Fiction\", \"/m/0l67h\": \"N...   \n",
       "2            1947  {\"/m/02m4t\": \"Existentialism\", \"/m/02xlf\": \"Fi...   \n",
       "3             NaN                                                NaN   \n",
       "4             NaN  {\"/m/03lrw\": \"Hard science fiction\", \"/m/06n90...   \n",
       "...           ...                                                ...   \n",
       "16554  2012-09-25                                                NaN   \n",
       "16555  2000-06-01   {\"/m/01jfsb\": \"Thriller\", \"/m/02xlf\": \"Fiction\"}   \n",
       "16556  2010-11-16                       {\"/m/0xdf\": \"Autobiography\"}   \n",
       "16557  2012-10-02                                                NaN   \n",
       "16558        1846  {\"/m/02ql9\": \"Epistolary novel\", \"/m/014dfn\": ...   \n",
       "\n",
       "                                                 summary  \n",
       "0       Old Major, the old boar on the Manor Farm, ca...  \n",
       "1       Alex, a teenager living in near-future Englan...  \n",
       "2       The text of The Plague is divided into five p...  \n",
       "3       The argument of the Enquiry proceeds by a ser...  \n",
       "4       The novel posits that space around the Milky ...  \n",
       "...                                                  ...  \n",
       "16554   Prue McKeel, having rescued her brother from ...  \n",
       "16555   The reader first meets Rapp while he is doing...  \n",
       "16556   The book follows very rough chronological ord...  \n",
       "16557   Colbert addresses topics including Wall Stree...  \n",
       "16558   Makar Devushkin and Varvara Dobroselova are s...  \n",
       "\n",
       "[16559 rows x 7 columns]"
      ]
     },
     "metadata": {},
     "output_type": "display_data"
    }
   ],
   "source": [
    "# Read booksumaries.txt Dataset\n",
    "df = pd.read_csv('data/booksummaries.txt', \n",
    "                 sep=\"\\t\", \n",
    "                 header=None, \n",
    "                 names=[\"wikipedia_id\", \"freebase_id\", \"book_title\", \"book_author\", \"pub_date\",\"genres\",\"summary\"],\n",
    "                 dtype={\"wikipedia_id\": np.int32, \"freebase_id\": str, \"book_title\": str, \"book_author\": str, \"pub_date\": str, \"genres\": str, \"summary\": str})\n",
    "\n",
    "df.info()\n",
    "display(df)"
   ]
  },
  {
   "cell_type": "markdown",
   "metadata": {},
   "source": [
    "# Data Wrangling\n",
    "\n",
    "Beim Data Wrangling wurden Funktionen geschrieben, die unseren Datensatz bereinigen. In einem späteren Abschnitt analysieren wir die Daten vor und nach der Bereinigung.\n",
    "\n",
    "Hier wichtig sind dabei folgende Funktionen für das Data Wrangling:\n",
    "\n",
    "- extract_genres: Extrahiert die Genres aus dem Datensatz und gibt diese als Liste zurück.\n",
    "- drop_na_duplicates: Entfernt alle Zeilen, die NaN Werte enthalten und entfernt Duplikate.\n",
    "- wrangle_genre: Entfernt alle Genre die weniger als x mal vorkommen.\n",
    "- wrangle_summary: Entfernt alle Zusammenfassungen, die weniger als x Percentil enthalten.\n",
    "- analyze_dataframe: Gibt einen kleinen Vergleich zwischen dem Datensatz vor und nach dem Data Wrangling aus, sowie die Anzahl der Genres und deren möglichen Kombinationen."
   ]
  },
  {
   "cell_type": "code",
   "execution_count": 3,
   "metadata": {},
   "outputs": [
    {
     "data": {
      "text/html": [
       "<div>\n",
       "<style scoped>\n",
       "    .dataframe tbody tr th:only-of-type {\n",
       "        vertical-align: middle;\n",
       "    }\n",
       "\n",
       "    .dataframe tbody tr th {\n",
       "        vertical-align: top;\n",
       "    }\n",
       "\n",
       "    .dataframe thead th {\n",
       "        text-align: right;\n",
       "    }\n",
       "</style>\n",
       "<table border=\"1\" class=\"dataframe\">\n",
       "  <thead>\n",
       "    <tr style=\"text-align: right;\">\n",
       "      <th></th>\n",
       "      <th>wikipedia_id</th>\n",
       "      <th>freebase_id</th>\n",
       "      <th>book_title</th>\n",
       "      <th>book_author</th>\n",
       "      <th>pub_date</th>\n",
       "      <th>genres</th>\n",
       "      <th>summary</th>\n",
       "    </tr>\n",
       "  </thead>\n",
       "  <tbody>\n",
       "    <tr>\n",
       "      <th>6</th>\n",
       "      <td>4081</td>\n",
       "      <td>/m/01b4w</td>\n",
       "      <td>Blade Runner 3: Replicant Night</td>\n",
       "      <td>K. W. Jeter</td>\n",
       "      <td>1996-10-01</td>\n",
       "      <td>[Speculative fiction, Science Fiction]</td>\n",
       "      <td>Living on Mars, Deckard is acting as a consul...</td>\n",
       "    </tr>\n",
       "    <tr>\n",
       "      <th>7</th>\n",
       "      <td>4082</td>\n",
       "      <td>/m/01b56</td>\n",
       "      <td>Blade Runner 2: The Edge of Human</td>\n",
       "      <td>K. W. Jeter</td>\n",
       "      <td>1995-10-01</td>\n",
       "      <td>[Speculative fiction, Science Fiction]</td>\n",
       "      <td>Beginning several months after the events in ...</td>\n",
       "    </tr>\n",
       "    <tr>\n",
       "      <th>9</th>\n",
       "      <td>6020</td>\n",
       "      <td>/m/01t5z</td>\n",
       "      <td>Crash</td>\n",
       "      <td>J. G. Ballard</td>\n",
       "      <td>1973</td>\n",
       "      <td>[Speculative fiction, Fiction, Novel]</td>\n",
       "      <td>The story is told through the eyes of narrato...</td>\n",
       "    </tr>\n",
       "    <tr>\n",
       "      <th>10</th>\n",
       "      <td>6628</td>\n",
       "      <td>/m/01y92</td>\n",
       "      <td>Children of Dune</td>\n",
       "      <td>Frank Herbert</td>\n",
       "      <td>1976</td>\n",
       "      <td>[Speculative fiction, Children's literature, F...</td>\n",
       "      <td>Nine years after Emperor Paul Muad'dib walked...</td>\n",
       "    </tr>\n",
       "    <tr>\n",
       "      <th>12</th>\n",
       "      <td>6630</td>\n",
       "      <td>/m/01yb0</td>\n",
       "      <td>Chapterhouse Dune</td>\n",
       "      <td>Frank Herbert</td>\n",
       "      <td>1985-04</td>\n",
       "      <td>[Speculative fiction, Children's literature, F...</td>\n",
       "      <td>The situation is desperate for the Bene Gesse...</td>\n",
       "    </tr>\n",
       "    <tr>\n",
       "      <th>...</th>\n",
       "      <td>...</td>\n",
       "      <td>...</td>\n",
       "      <td>...</td>\n",
       "      <td>...</td>\n",
       "      <td>...</td>\n",
       "      <td>...</td>\n",
       "      <td>...</td>\n",
       "    </tr>\n",
       "    <tr>\n",
       "      <th>12811</th>\n",
       "      <td>36126792</td>\n",
       "      <td>/m/044psh</td>\n",
       "      <td>Gates of Paradise</td>\n",
       "      <td>V. C. Andrews</td>\n",
       "      <td>1989-06</td>\n",
       "      <td>[Young adult literature, Gothic fiction]</td>\n",
       "      <td>A novel about Annie Stonewall, the daughter o...</td>\n",
       "    </tr>\n",
       "    <tr>\n",
       "      <th>12812</th>\n",
       "      <td>36372465</td>\n",
       "      <td>/m/02vqwsp</td>\n",
       "      <td>The Third Lynx</td>\n",
       "      <td>Timothy Zahn</td>\n",
       "      <td>2007</td>\n",
       "      <td>[Science Fiction]</td>\n",
       "      <td>The story starts with former government agent...</td>\n",
       "    </tr>\n",
       "    <tr>\n",
       "      <th>12813</th>\n",
       "      <td>36534061</td>\n",
       "      <td>/m/072y44</td>\n",
       "      <td>Remote Control</td>\n",
       "      <td>Andy McNab</td>\n",
       "      <td>1997</td>\n",
       "      <td>[Fiction, Thriller, Suspense]</td>\n",
       "      <td>The series follows the character of Nick Ston...</td>\n",
       "    </tr>\n",
       "    <tr>\n",
       "      <th>12814</th>\n",
       "      <td>37054020</td>\n",
       "      <td>/m/04f1nbs</td>\n",
       "      <td>Transfer of Power</td>\n",
       "      <td>Vince Flynn</td>\n",
       "      <td>2000-06-01</td>\n",
       "      <td>[Fiction, Thriller]</td>\n",
       "      <td>The reader first meets Rapp while he is doing...</td>\n",
       "    </tr>\n",
       "    <tr>\n",
       "      <th>12815</th>\n",
       "      <td>37122323</td>\n",
       "      <td>/m/0n5236t</td>\n",
       "      <td>Decoded</td>\n",
       "      <td>Jay-Z</td>\n",
       "      <td>2010-11-16</td>\n",
       "      <td>[Autobiography]</td>\n",
       "      <td>The book follows very rough chronological ord...</td>\n",
       "    </tr>\n",
       "  </tbody>\n",
       "</table>\n",
       "<p>9884 rows × 7 columns</p>\n",
       "</div>"
      ],
      "text/plain": [
       "       wikipedia_id freebase_id                         book_title  \\\n",
       "6              4081    /m/01b4w    Blade Runner 3: Replicant Night   \n",
       "7              4082    /m/01b56  Blade Runner 2: The Edge of Human   \n",
       "9              6020    /m/01t5z                              Crash   \n",
       "10             6628    /m/01y92                   Children of Dune   \n",
       "12             6630    /m/01yb0                  Chapterhouse Dune   \n",
       "...             ...         ...                                ...   \n",
       "12811      36126792   /m/044psh                  Gates of Paradise   \n",
       "12812      36372465  /m/02vqwsp                     The Third Lynx   \n",
       "12813      36534061   /m/072y44                     Remote Control   \n",
       "12814      37054020  /m/04f1nbs                  Transfer of Power   \n",
       "12815      37122323  /m/0n5236t                            Decoded   \n",
       "\n",
       "         book_author    pub_date  \\\n",
       "6        K. W. Jeter  1996-10-01   \n",
       "7        K. W. Jeter  1995-10-01   \n",
       "9      J. G. Ballard        1973   \n",
       "10     Frank Herbert        1976   \n",
       "12     Frank Herbert     1985-04   \n",
       "...              ...         ...   \n",
       "12811  V. C. Andrews     1989-06   \n",
       "12812   Timothy Zahn        2007   \n",
       "12813     Andy McNab        1997   \n",
       "12814    Vince Flynn  2000-06-01   \n",
       "12815          Jay-Z  2010-11-16   \n",
       "\n",
       "                                                  genres  \\\n",
       "6                 [Speculative fiction, Science Fiction]   \n",
       "7                 [Speculative fiction, Science Fiction]   \n",
       "9                  [Speculative fiction, Fiction, Novel]   \n",
       "10     [Speculative fiction, Children's literature, F...   \n",
       "12     [Speculative fiction, Children's literature, F...   \n",
       "...                                                  ...   \n",
       "12811           [Young adult literature, Gothic fiction]   \n",
       "12812                                  [Science Fiction]   \n",
       "12813                      [Fiction, Thriller, Suspense]   \n",
       "12814                                [Fiction, Thriller]   \n",
       "12815                                    [Autobiography]   \n",
       "\n",
       "                                                 summary  \n",
       "6       Living on Mars, Deckard is acting as a consul...  \n",
       "7       Beginning several months after the events in ...  \n",
       "9       The story is told through the eyes of narrato...  \n",
       "10      Nine years after Emperor Paul Muad'dib walked...  \n",
       "12      The situation is desperate for the Bene Gesse...  \n",
       "...                                                  ...  \n",
       "12811   A novel about Annie Stonewall, the daughter o...  \n",
       "12812   The story starts with former government agent...  \n",
       "12813   The series follows the character of Nick Ston...  \n",
       "12814   The reader first meets Rapp while he is doing...  \n",
       "12815   The book follows very rough chronological ord...  \n",
       "\n",
       "[9884 rows x 7 columns]"
      ]
     },
     "metadata": {},
     "output_type": "display_data"
    },
    {
     "name": "stdout",
     "output_type": "stream",
     "text": [
      "{'Number of dropped rows': 6675, 'Relative number of dropped rows in percent': '40.31%', 'Number of unique genres': 57, 'Number of unique genre combinations': 228}\n"
     ]
    }
   ],
   "source": [
    "# function to extract genres\n",
    "def extract_genres(genre_str: str):\n",
    "    \"\"\"\n",
    "    Extract the genres from the given string.\n",
    "\n",
    "    Parameters:\n",
    "    genre_str (str): input string\n",
    "\n",
    "    Returns:\n",
    "    list: list of genres\n",
    "    \"\"\"\n",
    "    try:\n",
    "        genre_data = json.loads(genre_str)\n",
    "        return list(genre_data.values())\n",
    "    except:\n",
    "        (json.decoder.JSONDecodeError, TypeError)\n",
    "        return np.nan\n",
    "    \n",
    "# function to drop na rows and duplicates\n",
    "def drop_na_duplicates(df: pd.DataFrame):\n",
    "    \"\"\"\n",
    "    Drop rows with missing values in the genres and summary columns and drop duplicate rows.\n",
    "\n",
    "    Parameters:\n",
    "    df (DataFrame): input data\n",
    "\n",
    "    Returns:\n",
    "    DataFrame: data with missing values and duplicates dropped\n",
    "    \"\"\"\n",
    "    return df.dropna(subset=['genres', 'summary']).drop_duplicates(subset=[\"summary\"]).reset_index(drop=True)\n",
    "\n",
    "# function to wrangle genres\n",
    "def wrangle_genres(df, minimum_genre_occurence=5):\n",
    "    \"\"\"\n",
    "    Wrangle the genres column of the given dataframe, removing rows with genres that occur less than the given minimum_genre_occurence.\n",
    "\n",
    "    Parameters:\n",
    "    df (DataFrame): input data\n",
    "\n",
    "    Returns:\n",
    "    DataFrame: data with genres wrangled\n",
    "    \"\"\"\n",
    "    # create copy of dataframe to avoid changing the original\n",
    "    df_wrangle = df.copy()\n",
    "\n",
    "    # Turn genres into set\n",
    "    df_wrangle['genres'] = df_wrangle['genres'].apply(set)\n",
    "\n",
    "    # Convert genres sets to strings to count occurrences\n",
    "    df_count = pd.DataFrame(df_wrangle['genres'].value_counts()).reset_index()\n",
    "    \n",
    "    # Filter rows where genres occur more than 5 times\n",
    "    selected_rows = df_count[df_count['count'] > minimum_genre_occurence]['genres']\n",
    "    df_wrangle = df_wrangle[df_wrangle['genres'].isin(selected_rows)]\n",
    "    \n",
    "    # Turn back into list\n",
    "    df_wrangle['genres'] = df_wrangle['genres'].apply(list)\n",
    "\n",
    "    return df_wrangle\n",
    "\n",
    "# function to wrangle summary\n",
    "def wrangle_summary(df, minimum_quantile=0.01):\n",
    "    \"\"\"\n",
    "    Wrangle the summary column of the given dataframe, removing rows with summaries that are longer than the given minimum_quantile.\n",
    "\n",
    "    Parameters:\n",
    "    df (DataFrame): input data\n",
    "\n",
    "    Returns:\n",
    "    DataFrame: data with summaries wrangled\n",
    "    \"\"\"\n",
    "    # create copy of dataframe to avoid changing the original\n",
    "    df_wrangle = df.copy()\n",
    "\n",
    "    # Filter rows where summaries are shorter than 10% quantile\n",
    "    df_wrangle = df_wrangle[df_wrangle['summary'].str.len() > df_wrangle['summary'].str.len().quantile(minimum_quantile)]\n",
    "\n",
    "    return df_wrangle\n",
    "\n",
    "# function to analyze the difference between two DataFrames\n",
    "def analyze_dataframe(df, df_wrangled):\n",
    "    \"\"\"\n",
    "    Analyze the difference between two DataFrames.\n",
    "\n",
    "    Parameters:\n",
    "    df (DataFrame): original DataFrame\n",
    "    df_wrangled (DataFrame): wrangled DataFrame\n",
    "\n",
    "    Returns:\n",
    "    dict: a dictionary containing the analysis results\n",
    "    \"\"\"\n",
    "    analysis_results = {}\n",
    "    \n",
    "    # Calculate the number of dropped rows\n",
    "    num_dropped_rows = df.shape[0] - df_wrangled.shape[0]\n",
    "    analysis_results[\"Number of dropped rows\"] = num_dropped_rows\n",
    "    \n",
    "    # Calculate the relative number of dropped rows in percent and round to 2 decimal places\n",
    "    relative_dropped_percent = round((num_dropped_rows / df.shape[0]) * 100, 2)\n",
    "    analysis_results[\"Relative number of dropped rows in percent\"] = f\"{relative_dropped_percent}%\"\n",
    "    \n",
    "    # Calculate the number of unique genres\n",
    "    num_unique_genres = df_wrangled['genres'].explode().nunique()\n",
    "    analysis_results[\"Number of unique genres\"] = num_unique_genres\n",
    "\n",
    "    # copy Dataframe to avoid changing the original\n",
    "    df_wrangle = df_wrangled.copy()\n",
    "\n",
    "    # count unique combinations of elemnts in lists within a specified DataFrame column\n",
    "    df_wrangle['genres'] = df_wrangle['genres'].apply(lambda x: set(sorted(x)) if isinstance(x, list) else x)\n",
    "    \n",
    "    # Count occurrences of each unique combination\n",
    "    combination_counts = df_wrangle['genres'].value_counts().reset_index().shape[0]\n",
    "    analysis_results[\"Number of unique genre combinations\"] = combination_counts\n",
    "    \n",
    "    return analysis_results\n",
    "\n",
    "# copy Dataframe to avoid changing the original\n",
    "df_unwrangled = df.copy()\n",
    "\n",
    "# Start Data Wrangling\n",
    "# apply extract_genres function to the genres column\n",
    "df_unwrangled['genres'] = df_unwrangled['genres'].apply(extract_genres)\n",
    "\n",
    "# create a copy for later analysis\n",
    "df_unwrangled_analysis = df_unwrangled.copy()\n",
    "\n",
    "# drop na rows and duplicates\n",
    "df_unwrangled = drop_na_duplicates(df=df_unwrangled)\n",
    "\n",
    "# wrangle genres\n",
    "df_unwrangled = wrangle_genres(df=df_unwrangled, minimum_genre_occurence=5)\n",
    "\n",
    "# wrangle summary\n",
    "df_wrangled = wrangle_summary(df=df_unwrangled, minimum_quantile=0.01)\n",
    "\n",
    "# display wrangled dataframe\n",
    "display(df_wrangled)\n",
    "\n",
    "# analyze the difference between the original and the wrangled dataframe\n",
    "print(analyze_dataframe(df=df, df_wrangled=df_wrangled))\n",
    "\n"
   ]
  },
  {
   "cell_type": "markdown",
   "metadata": {},
   "source": [
    "# Explorative Daten Analyse\n",
    "\n",
    "**Fehlende Werte**   \n",
    "In einem ersten Schritt visualisieren wir mittels einem Barplot die Fehlenden Werte für jede Spalte vor und nach dem Data Wrangling. Dabei stellen wir fest, dass es 3718 Werte gibt, die in der Spalte \"genres\" fehlen. Da wir diese Spalte für die Text Classification benötigen, wurden diese entfernt. Die anderen Spalten in denen fehlende Werte vorhanden sind, ist für unsere Text Classification nicht relevant und wurden deshalb auch nicht berücksichtigt beim Data Wrangling.\n",
    "\n",
    "\n",
    "**Anzahl Genres**   \n",
    "Ein Buch kann ein bis mehrere Genre aufweisen. In der Spalte \"genres\" sind die Genres mit einem Komma getrennt. Wir haben die Anzahl Genres pro Buch gezählt und in einem Barplot visualisiert. Dabei haben wir festgestellt, dass es viele Bücher gab die mehrere Genre aufweisen können. Wir wissen durch die Funktion \"anlazye_dataframe\", dass wir 57 Genres haben. Jedoch kann ein Buch mehrere Genre aufweisen und haben somit 228 einzigartige kombinierte Genres. Weiter haben wir Genre entfernt, die weniger als 5 mal in unserem Datensatz vorkommen, um später bei der Klassifizierung eine bessere Performance zu erhalten. Die Visualisierung bei den Flop 5 Genres vor und nach dem Data Wrangling ist unten zu sehen.\n",
    "\n",
    "**Anzahl Wörter**   \n",
    "Weiter wurde auch die Spalte \"summary\" betrachtet und festgestellt, dass es manchmal Bücher gab die nur aus Sonderzeichen bestanden oder nur aus wenigen Worten, sprich ein Satz. Es wurden Bücher entfernt die weniger als 1 Percentil Länge aufweisen. Dies mit dem Hintergedanke, dass diese Bücher nicht aussagekräftig sind für die Text Classification, da sie zu kurz sind.\n",
    "\n"
   ]
  },
  {
   "cell_type": "code",
   "execution_count": 4,
   "metadata": {},
   "outputs": [
    {
     "data": {
      "image/png": "[encoded data removed]",
      "text/plain": [
       "<Figure size 2000x500 with 2 Axes>"
      ]
     },
     "metadata": {},
     "output_type": "display_data"
    }
   ],
   "source": [
    "# befor and after data wrangling\n",
    "fig, axes = plt.subplots(1, 2, figsize=(20, 5))\n",
    "df.isna().sum().sort_values(ascending=False).plot(kind='bar', ax=axes[0])\n",
    "for index, value in enumerate(df.isna().sum().sort_values(ascending=False)):\n",
    "    axes[0].text(index, value, str(value), ha='center', va='bottom', fontsize=10)\n",
    "axes[0].set_title('Number of NaN values per column before dropping rows')\n",
    "axes[0].set_xlabel('Columns')\n",
    "axes[0].set_ylabel('Number of NaN values')\n",
    "\n",
    "df_wrangled.isna().sum().sort_values(ascending=False).plot(kind='bar', ax=axes[1])\n",
    "for index, value in enumerate(df_wrangled.isna().sum().sort_values(ascending=False)):\n",
    "    axes[1].text(index, value, str(value), ha='center', va='bottom', fontsize=10)\n",
    "axes[1].set_title('Number of NaN values per column after dropping rows')\n",
    "axes[1].set_xlabel('Columns')\n",
    "axes[1].set_ylabel('Number of NaN values')\n",
    "plt.show()"
   ]
  },
  {
   "cell_type": "code",
   "execution_count": 5,
   "metadata": {},
   "outputs": [
    {
     "data": {
      "image/png": "[encoded data removed]",
      "text/plain": [
       "<Figure size 2000x1000 with 4 Axes>"
      ]
     },
     "metadata": {},
     "output_type": "display_data"
    }
   ],
   "source": [
    "# Create 4 subplots for top 5 Genres and Flop 5 Genres for the df and df_wrangled\n",
    "fig, axes = plt.subplots(2, 2, figsize=(20, 10))\n",
    "df_unwrangled[\"genres\"].value_counts().head(n=5).plot(kind='barh', ax=axes[0, 0])\n",
    "for index, value in enumerate(df_unwrangled[\"genres\"].value_counts().head(n=5)):\n",
    "    axes[0, 0].text(value, index, str(value))\n",
    "axes[0, 0].set_title('Top 5 Genres before wrangling')\n",
    "axes[0, 0].set_xlabel('Number of books')\n",
    "axes[0, 0].set_ylabel('Genres')\n",
    "\n",
    "df_unwrangled_analysis[\"genres\"].value_counts().head(n=5).plot(kind='barh', ax=axes[0, 1])\n",
    "for index, value in enumerate(df_unwrangled_analysis[\"genres\"].value_counts().head(n=5)):\n",
    "    axes[0, 1].text(value, index, str(value))\n",
    "axes[0, 1].set_title('Top 5 Genres after wrangling')\n",
    "axes[0, 1].set_xlabel('Number of books')\n",
    "axes[0, 1].set_ylabel('Genres')\n",
    "\n",
    "df_unwrangled_analysis[\"genres\"].value_counts().tail(n=5).plot(kind='barh', ax=axes[1, 0])\n",
    "for index, value in enumerate(df_unwrangled_analysis[\"genres\"].value_counts().tail(n=5)):\n",
    "    axes[1, 0].text(value, index, str(value))\n",
    "axes[1, 0].set_title('Flop 5 Genres before wrangling')\n",
    "axes[1, 0].set_xlabel('Number of books')\n",
    "axes[1, 0].set_ylabel('Genres')\n",
    "\n",
    "df_wrangled[\"genres\"].value_counts().tail(n=5).plot(kind='barh', ax=axes[1, 1])\n",
    "for index, value in enumerate(df_wrangled[\"genres\"].value_counts().tail(n=5)):\n",
    "    axes[1, 1].text(value, index, str(value))\n",
    "axes[1, 1].set_title('Flop 5 Genres after wrangling')\n",
    "axes[1, 1].set_xlabel('Number of books')\n",
    "axes[1, 1].set_ylabel('Genres')\n",
    "\n",
    "plt.tight_layout()\n",
    "plt.show()\n"
   ]
  },
  {
   "cell_type": "code",
   "execution_count": 6,
   "metadata": {},
   "outputs": [
    {
     "data": {
      "image/png": "[encoded data removed]",
      "text/plain": [
       "<Figure size 2000x500 with 1 Axes>"
      ]
     },
     "metadata": {},
     "output_type": "display_data"
    }
   ],
   "source": [
    "# create a histogram of the len of the summaries\n",
    "df_wrangled['summary'].str.len().hist(figsize=(20, 5), bins=200, color='blue', alpha = 0.5)\n",
    "plt.axvline(df_wrangled['summary'].str.len().mean(), color='black', linestyle='dashed', linewidth=1)\n",
    "plt.axvline(df_wrangled['summary'].str.len().median(), color='r', linestyle='dashed', linewidth=1)\n",
    "plt.axvline(df_wrangled['summary'].str.len().min(), color='g', linestyle='dashed', linewidth=1)\n",
    "plt.axvline(df_wrangled['summary'].str.len().max(), color='b', linestyle='dashed', linewidth=1)\n",
    "plt.axvline(df_wrangled['summary'].str.len().quantile(0.1), color='magenta', linestyle='dashed', linewidth=1)\n",
    "\n",
    "mean_length = df_wrangled['summary'].str.len().mean()\n",
    "median_length = df_wrangled['summary'].str.len().median()\n",
    "min_length = df_wrangled['summary'].str.len().min()\n",
    "max_length = df_wrangled['summary'].str.len().max()\n",
    "quantile_10 = df_wrangled['summary'].str.len().quantile(0.1)\n",
    "\n",
    "# add labels from axvline\n",
    "plt.text(10000, 1200, f'Mean: {mean_length:.2f}', fontsize=10, color='black')\n",
    "plt.text(10000, 1150, f'Median: {median_length:.2f}', fontsize=10, color='r')\n",
    "plt.text(10000, 1100, f'Min: {min_length:.2f}', fontsize=10, color='g')\n",
    "plt.text(10000, 1050, f'Max: {max_length:.2f}', fontsize=10, color='b')\n",
    "plt.text(10000, 1000, f'10% Quantile: {quantile_10:.2f}', fontsize=10, color='magenta')\n",
    "\n",
    "plt.title('Length of summaries after wrangling')\n",
    "plt.xlabel('Number of characters')\n",
    "plt.ylabel('Number of summaries')\n",
    "plt.show()"
   ]
  },
  {
   "cell_type": "markdown",
   "metadata": {},
   "source": [
    "# Data NLP Pre-processing\n",
    "\n",
    "Für die Text Klassifikation wurden folgende Pre-Processing Schritte durchgeführt:\n",
    "- lower: Alle Wörter wurden in Kleinbuchstaben umgewandelt.\n",
    "- punctuation: Alle Satzzeichen wurden entfernt.\n",
    "- stopwords: Alle Stopwords wurden entfernt.\n",
    "- lemmatization: Alle Wörter wurden auf ihren Wortstamm zurückgeführt.\n",
    "- tokenization: Alle Wörter wurden in Tokens umgewandelt.\n",
    "\n",
    "Alle diese Schritte sind unter der Funktion preprocess_summary zusammengefasst, welche uns eine Liste mit den vorverarbeiteten Texten zurückgibt.\n",
    "\n",
    "In einem weiteren Schritt wurde noch ein Pos-Tag durchgeführt, um die Wortarten zu bestimmen. Dies mit dem Hintergedanken, dass wir später die Wortarten ebenfalls als ein weiteres Feature verwenden können.\n"
   ]
  },
  {
   "cell_type": "code",
   "execution_count": 7,
   "metadata": {},
   "outputs": [
    {
     "data": {
      "text/html": [
       "<div>\n",
       "<style scoped>\n",
       "    .dataframe tbody tr th:only-of-type {\n",
       "        vertical-align: middle;\n",
       "    }\n",
       "\n",
       "    .dataframe tbody tr th {\n",
       "        vertical-align: top;\n",
       "    }\n",
       "\n",
       "    .dataframe thead th {\n",
       "        text-align: right;\n",
       "    }\n",
       "</style>\n",
       "<table border=\"1\" class=\"dataframe\">\n",
       "  <thead>\n",
       "    <tr style=\"text-align: right;\">\n",
       "      <th></th>\n",
       "      <th>genres</th>\n",
       "      <th>summary</th>\n",
       "      <th>tokens</th>\n",
       "    </tr>\n",
       "  </thead>\n",
       "  <tbody>\n",
       "    <tr>\n",
       "      <th>6</th>\n",
       "      <td>[Speculative fiction, Science Fiction]</td>\n",
       "      <td>Living on Mars, Deckard is acting as a consul...</td>\n",
       "      <td>[living, mar, deckard, acting, consultant, mov...</td>\n",
       "    </tr>\n",
       "    <tr>\n",
       "      <th>7</th>\n",
       "      <td>[Speculative fiction, Science Fiction]</td>\n",
       "      <td>Beginning several months after the events in ...</td>\n",
       "      <td>[beginning, several, month, event, blade, runn...</td>\n",
       "    </tr>\n",
       "    <tr>\n",
       "      <th>9</th>\n",
       "      <td>[Speculative fiction, Fiction, Novel]</td>\n",
       "      <td>The story is told through the eyes of narrato...</td>\n",
       "      <td>[story, told, eye, narrator, james, ballard, n...</td>\n",
       "    </tr>\n",
       "    <tr>\n",
       "      <th>10</th>\n",
       "      <td>[Speculative fiction, Children's literature, F...</td>\n",
       "      <td>Nine years after Emperor Paul Muad'dib walked...</td>\n",
       "      <td>[nine, year, emperor, paul, muaddib, walked, d...</td>\n",
       "    </tr>\n",
       "    <tr>\n",
       "      <th>12</th>\n",
       "      <td>[Speculative fiction, Children's literature, F...</td>\n",
       "      <td>The situation is desperate for the Bene Gesse...</td>\n",
       "      <td>[situation, desperate, bene, gesserit, find, t...</td>\n",
       "    </tr>\n",
       "    <tr>\n",
       "      <th>...</th>\n",
       "      <td>...</td>\n",
       "      <td>...</td>\n",
       "      <td>...</td>\n",
       "    </tr>\n",
       "    <tr>\n",
       "      <th>12811</th>\n",
       "      <td>[Young adult literature, Gothic fiction]</td>\n",
       "      <td>A novel about Annie Stonewall, the daughter o...</td>\n",
       "      <td>[novel, annie, stonewall, daughter, heaven, ca...</td>\n",
       "    </tr>\n",
       "    <tr>\n",
       "      <th>12812</th>\n",
       "      <td>[Science Fiction]</td>\n",
       "      <td>The story starts with former government agent...</td>\n",
       "      <td>[story, start, former, government, agent, fran...</td>\n",
       "    </tr>\n",
       "    <tr>\n",
       "      <th>12813</th>\n",
       "      <td>[Fiction, Thriller, Suspense]</td>\n",
       "      <td>The series follows the character of Nick Ston...</td>\n",
       "      <td>[series, follows, character, nick, stone, exmi...</td>\n",
       "    </tr>\n",
       "    <tr>\n",
       "      <th>12814</th>\n",
       "      <td>[Fiction, Thriller]</td>\n",
       "      <td>The reader first meets Rapp while he is doing...</td>\n",
       "      <td>[reader, first, meet, rapp, covert, operation,...</td>\n",
       "    </tr>\n",
       "    <tr>\n",
       "      <th>12815</th>\n",
       "      <td>[Autobiography]</td>\n",
       "      <td>The book follows very rough chronological ord...</td>\n",
       "      <td>[book, follows, rough, chronological, order, s...</td>\n",
       "    </tr>\n",
       "  </tbody>\n",
       "</table>\n",
       "<p>9884 rows × 3 columns</p>\n",
       "</div>"
      ],
      "text/plain": [
       "                                                  genres  \\\n",
       "6                 [Speculative fiction, Science Fiction]   \n",
       "7                 [Speculative fiction, Science Fiction]   \n",
       "9                  [Speculative fiction, Fiction, Novel]   \n",
       "10     [Speculative fiction, Children's literature, F...   \n",
       "12     [Speculative fiction, Children's literature, F...   \n",
       "...                                                  ...   \n",
       "12811           [Young adult literature, Gothic fiction]   \n",
       "12812                                  [Science Fiction]   \n",
       "12813                      [Fiction, Thriller, Suspense]   \n",
       "12814                                [Fiction, Thriller]   \n",
       "12815                                    [Autobiography]   \n",
       "\n",
       "                                                 summary  \\\n",
       "6       Living on Mars, Deckard is acting as a consul...   \n",
       "7       Beginning several months after the events in ...   \n",
       "9       The story is told through the eyes of narrato...   \n",
       "10      Nine years after Emperor Paul Muad'dib walked...   \n",
       "12      The situation is desperate for the Bene Gesse...   \n",
       "...                                                  ...   \n",
       "12811   A novel about Annie Stonewall, the daughter o...   \n",
       "12812   The story starts with former government agent...   \n",
       "12813   The series follows the character of Nick Ston...   \n",
       "12814   The reader first meets Rapp while he is doing...   \n",
       "12815   The book follows very rough chronological ord...   \n",
       "\n",
       "                                                  tokens  \n",
       "6      [living, mar, deckard, acting, consultant, mov...  \n",
       "7      [beginning, several, month, event, blade, runn...  \n",
       "9      [story, told, eye, narrator, james, ballard, n...  \n",
       "10     [nine, year, emperor, paul, muaddib, walked, d...  \n",
       "12     [situation, desperate, bene, gesserit, find, t...  \n",
       "...                                                  ...  \n",
       "12811  [novel, annie, stonewall, daughter, heaven, ca...  \n",
       "12812  [story, start, former, government, agent, fran...  \n",
       "12813  [series, follows, character, nick, stone, exmi...  \n",
       "12814  [reader, first, meet, rapp, covert, operation,...  \n",
       "12815  [book, follows, rough, chronological, order, s...  \n",
       "\n",
       "[9884 rows x 3 columns]"
      ]
     },
     "metadata": {},
     "output_type": "display_data"
    }
   ],
   "source": [
    "# select the relevant columns\n",
    "df_nlp = df_wrangled[['genres', 'summary']].copy()\n",
    "\n",
    "# Initialize stop words and lemmatizer\n",
    "stop_words = set(stopwords.words('english'))\n",
    "\n",
    "# preprocess Summary column and add it to the dataframe\n",
    "def preprocess_summary(summary_text: str):\n",
    "    # case folding to lower case \n",
    "    summary_text = summary_text.lower()\n",
    "    # remove punctuation, kommas, dots, and other special characters\n",
    "    summary_text = summary_text.translate(str.maketrans('', '', string.punctuation))\n",
    "    # remove stopwords\n",
    "    summary_text = [word for word in summary_text.split() if word not in stop_words]\n",
    "    # lemmatize words\n",
    "    summary_text = [WordNetLemmatizer().lemmatize(word) for word in summary_text]\n",
    "    # Tokenize\n",
    "    summary_text = word_tokenize(\" \".join(summary_text))\n",
    "    return summary_text\n",
    "\n",
    "# apply preprocess function to Summary column\n",
    "df_nlp['tokens'] = df_nlp['summary'].apply(preprocess_summary)\n",
    "\n",
    "# display dataframe\n",
    "display(df_nlp)"
   ]
  },
  {
   "cell_type": "markdown",
   "metadata": {},
   "source": [
    "# Feature Extraction\n",
    "\n",
    "Als Feature Extraction wurde jedem Token noch ein Pos-Tag durchgeführt, um die Wortarten zu bestimmen. \n",
    "Diese sind in der Spalte \"POS-Tag\" zu finden.\n",
    "\n",
    "Einfach haltshalber wurde aus unserem Target, dem \"genres\" ein One-Hot-Encoding durchgeführt, da ein Buch mehrere Klassen haben kann. Weiter wird der Datensatz nach dem POS-Tagging in ein 80% Train und 20 % Test Datensatz aufgeteilt, um später damit unser Modelle zu trainieren und evaluieren zu können. \n"
   ]
  },
  {
   "cell_type": "code",
   "execution_count": 8,
   "metadata": {},
   "outputs": [
    {
     "data": {
      "text/html": [
       "<div>\n",
       "<style scoped>\n",
       "    .dataframe tbody tr th:only-of-type {\n",
       "        vertical-align: middle;\n",
       "    }\n",
       "\n",
       "    .dataframe tbody tr th {\n",
       "        vertical-align: top;\n",
       "    }\n",
       "\n",
       "    .dataframe thead th {\n",
       "        text-align: right;\n",
       "    }\n",
       "</style>\n",
       "<table border=\"1\" class=\"dataframe\">\n",
       "  <thead>\n",
       "    <tr style=\"text-align: right;\">\n",
       "      <th></th>\n",
       "      <th>genres</th>\n",
       "      <th>tokens</th>\n",
       "      <th>POS-Tag</th>\n",
       "    </tr>\n",
       "  </thead>\n",
       "  <tbody>\n",
       "    <tr>\n",
       "      <th>6</th>\n",
       "      <td>[Speculative fiction, Science Fiction]</td>\n",
       "      <td>living mar deckard acting consultant movie cre...</td>\n",
       "      <td>[(living, VBG), (mar, NN), (deckard, NN), (act...</td>\n",
       "    </tr>\n",
       "    <tr>\n",
       "      <th>7</th>\n",
       "      <td>[Speculative fiction, Science Fiction]</td>\n",
       "      <td>beginning several month event blade runner dec...</td>\n",
       "      <td>[(beginning, VBG), (several, JJ), (month, NN),...</td>\n",
       "    </tr>\n",
       "    <tr>\n",
       "      <th>9</th>\n",
       "      <td>[Speculative fiction, Fiction, Novel]</td>\n",
       "      <td>story told eye narrator james ballard named au...</td>\n",
       "      <td>[(story, NN), (told, VBD), (eye, NN), (narrato...</td>\n",
       "    </tr>\n",
       "    <tr>\n",
       "      <th>10</th>\n",
       "      <td>[Speculative fiction, Children's literature, F...</td>\n",
       "      <td>nine year emperor paul muaddib walked desert b...</td>\n",
       "      <td>[(nine, CD), (year, NN), (emperor, NN), (paul,...</td>\n",
       "    </tr>\n",
       "    <tr>\n",
       "      <th>12</th>\n",
       "      <td>[Speculative fiction, Children's literature, F...</td>\n",
       "      <td>situation desperate bene gesserit find target ...</td>\n",
       "      <td>[(situation, NN), (desperate, JJ), (bene, NN),...</td>\n",
       "    </tr>\n",
       "    <tr>\n",
       "      <th>...</th>\n",
       "      <td>...</td>\n",
       "      <td>...</td>\n",
       "      <td>...</td>\n",
       "    </tr>\n",
       "    <tr>\n",
       "      <th>12811</th>\n",
       "      <td>[Young adult literature, Gothic fiction]</td>\n",
       "      <td>novel annie stonewall daughter heaven casteel ...</td>\n",
       "      <td>[(novel, JJ), (annie, NN), (stonewall, NN), (d...</td>\n",
       "    </tr>\n",
       "    <tr>\n",
       "      <th>12812</th>\n",
       "      <td>[Science Fiction]</td>\n",
       "      <td>story start former government agent frank comp...</td>\n",
       "      <td>[(story, NN), (start, VB), (former, JJ), (gove...</td>\n",
       "    </tr>\n",
       "    <tr>\n",
       "      <th>12813</th>\n",
       "      <td>[Fiction, Thriller, Suspense]</td>\n",
       "      <td>series follows character nick stone exmilitary...</td>\n",
       "      <td>[(series, NN), (follows, VBZ), (character, JJR...</td>\n",
       "    </tr>\n",
       "    <tr>\n",
       "      <th>12814</th>\n",
       "      <td>[Fiction, Thriller]</td>\n",
       "      <td>reader first meet rapp covert operation iran d...</td>\n",
       "      <td>[(reader, NN), (first, RB), (meet, VB), (rapp,...</td>\n",
       "    </tr>\n",
       "    <tr>\n",
       "      <th>12815</th>\n",
       "      <td>[Autobiography]</td>\n",
       "      <td>book follows rough chronological order switchi...</td>\n",
       "      <td>[(book, NN), (follows, VBZ), (rough, JJ), (chr...</td>\n",
       "    </tr>\n",
       "  </tbody>\n",
       "</table>\n",
       "<p>9884 rows × 3 columns</p>\n",
       "</div>"
      ],
      "text/plain": [
       "                                                  genres  \\\n",
       "6                 [Speculative fiction, Science Fiction]   \n",
       "7                 [Speculative fiction, Science Fiction]   \n",
       "9                  [Speculative fiction, Fiction, Novel]   \n",
       "10     [Speculative fiction, Children's literature, F...   \n",
       "12     [Speculative fiction, Children's literature, F...   \n",
       "...                                                  ...   \n",
       "12811           [Young adult literature, Gothic fiction]   \n",
       "12812                                  [Science Fiction]   \n",
       "12813                      [Fiction, Thriller, Suspense]   \n",
       "12814                                [Fiction, Thriller]   \n",
       "12815                                    [Autobiography]   \n",
       "\n",
       "                                                  tokens  \\\n",
       "6      living mar deckard acting consultant movie cre...   \n",
       "7      beginning several month event blade runner dec...   \n",
       "9      story told eye narrator james ballard named au...   \n",
       "10     nine year emperor paul muaddib walked desert b...   \n",
       "12     situation desperate bene gesserit find target ...   \n",
       "...                                                  ...   \n",
       "12811  novel annie stonewall daughter heaven casteel ...   \n",
       "12812  story start former government agent frank comp...   \n",
       "12813  series follows character nick stone exmilitary...   \n",
       "12814  reader first meet rapp covert operation iran d...   \n",
       "12815  book follows rough chronological order switchi...   \n",
       "\n",
       "                                                 POS-Tag  \n",
       "6      [(living, VBG), (mar, NN), (deckard, NN), (act...  \n",
       "7      [(beginning, VBG), (several, JJ), (month, NN),...  \n",
       "9      [(story, NN), (told, VBD), (eye, NN), (narrato...  \n",
       "10     [(nine, CD), (year, NN), (emperor, NN), (paul,...  \n",
       "12     [(situation, NN), (desperate, JJ), (bene, NN),...  \n",
       "...                                                  ...  \n",
       "12811  [(novel, JJ), (annie, NN), (stonewall, NN), (d...  \n",
       "12812  [(story, NN), (start, VB), (former, JJ), (gove...  \n",
       "12813  [(series, NN), (follows, VBZ), (character, JJR...  \n",
       "12814  [(reader, NN), (first, RB), (meet, VB), (rapp,...  \n",
       "12815  [(book, NN), (follows, VBZ), (rough, JJ), (chr...  \n",
       "\n",
       "[9884 rows x 3 columns]"
      ]
     },
     "metadata": {},
     "output_type": "display_data"
    }
   ],
   "source": [
    "# POS-Tagging\n",
    "def pos_tag_text(tokens: list):\n",
    "    pos_tagged = nltk.pos_tag(tokens)\n",
    "    # Returning the tags as a string\n",
    "    return pos_tagged\n",
    "\n",
    "# apply pos_tag_text function to Summary column\n",
    "df_nlp['POS-Tag'] = df_nlp['tokens'].apply(pos_tag_text)\n",
    "\n",
    "# turn tokens from list to str\n",
    "df_nlp['tokens'] = df_nlp['tokens'].apply(lambda x: \" \".join(x))\n",
    "\n",
    "# select relevant columns for classification\n",
    "df_preprocessed = df_nlp[['genres', 'tokens', 'POS-Tag']].copy()\n",
    "\n",
    "# display DataFrame\n",
    "display(df_preprocessed)"
   ]
  },
  {
   "cell_type": "markdown",
   "metadata": {},
   "source": [
    "# Model Training & Evaluation\n",
    "\n",
    "Anschliessend wurde ein TF-IDF Vectorizer angewendet, um die Wörter in Vektoren umzuwandeln. Dabei repräsentieren die Zeilen der Matrix unsere Bücher Zusammenfassung und die Spalten unser Wortschatz. Die Werte in der Matrix sind die TF-IDF Werte. Beim TF-IDF wurde dabei \"1-gramm\" und \"2-gramm\" verwendet.\n",
    "\n",
    "Die Funktion perform_classification nimmt als Input Wert die preprocessed Tokens und One-Hot-Encodeter Target. Die Funktion ermoeglicht es auch einen n_split auszuwaehlen um Cross Validation durchzufuehren mit dem bestimmten Estimator. Als Output erhalten wir ein Dictionary welches als Key Woerter die Wahrscheinlichkeits Matrizen in einer Liste enthaelt und auch die y_test Matrizen. Diese werden dann spaeter in der Funktion calculate_score() weiter verarbeitet mit unterschiedlichen Thresholds."
   ]
  },
  {
   "cell_type": "code",
   "execution_count": 9,
   "metadata": {},
   "outputs": [],
   "source": [
    "def perform_classification(X, \n",
    "                           Y, \n",
    "                           ngram_range=(1, 1), \n",
    "                           estimator=RandomForestClassifier(random_state=42, n_jobs=-1), \n",
    "                           n_splits=5, \n",
    "                           random_state=42,\n",
    "                           verbose=0):\n",
    "    \"\"\"\n",
    "    Perform cross-validation for the given data.\n",
    "\n",
    "    Parameters:\n",
    "    X (array-like): input data\n",
    "    Y (array-like): target data\n",
    "    ngram_range (tuple): range of ngrams to use\n",
    "    estimator (estimator): estimator to use\n",
    "    n_splits (int): number of splits to use\n",
    "    random_state (int): random state to use\n",
    "    verbose (int): verbosity level\n",
    "\n",
    "    Returns:\n",
    "    dict: a dictionary containing the results\n",
    "    \"\"\"\n",
    "    \n",
    "    # Set up KFold cross-validation\n",
    "    kf = KFold(n_splits=n_splits, \n",
    "               random_state=random_state, \n",
    "               shuffle=True)\n",
    "\n",
    "    # Create a TfidfVectorizer with specified ngram_range\n",
    "    vectorizer = TfidfVectorizer(ngram_range=ngram_range)\n",
    "\n",
    "    # Create a classifier with specified estimator\n",
    "    clf = OneVsRestClassifier(estimator=estimator, \n",
    "                              n_jobs=-1, \n",
    "                              verbose=verbose)\n",
    "\n",
    "    y_pred_probas_list = []\n",
    "    y_test_list = []\n",
    "\n",
    "    # Perform cross-validation\n",
    "    for train_index, test_index in kf.split(X):\n",
    "        X_train, X_test = X[train_index], X[test_index]\n",
    "        Y_train, Y_test = Y[train_index], Y[test_index]\n",
    "\n",
    "        # Store test labels\n",
    "        y_test_list.append(Y_test)\n",
    "\n",
    "        # Vectorization\n",
    "        X_train_tfidf = vectorizer.fit_transform(X_train)\n",
    "        X_test_tfidf = vectorizer.transform(X_test)\n",
    "\n",
    "        # Train the classifier\n",
    "        clf.fit(X_train_tfidf, Y_train)\n",
    "\n",
    "        # Get the probability score for each class\n",
    "        Y_pred_proba = clf.predict_proba(X_test_tfidf)\n",
    "\n",
    "        # Store probability scores\n",
    "        y_pred_probas_list.append(Y_pred_proba)\n",
    "\n",
    "    results = {\n",
    "        'y_pred_probas_list': y_pred_probas_list,\n",
    "        'y_test_list': y_test_list\n",
    "    }\n",
    "    \n",
    "    return results\n",
    "\n",
    "def calculate_scores(results, threshold=0.3, f1_metric_type=\"micro\", verbose=0):\n",
    "    \"\"\"\n",
    "    Calculate F1 scores based on the results from perform_classification and a given threshold.\n",
    "    \n",
    "    Parameters:\n",
    "    - results: Output from perform_classification function\n",
    "    - threshold: Threshold for classifying predicted probabilities\n",
    "    - f1_metric_type: Type of F1 metric (\"micro\", \"macro\", \"weighted\")\n",
    "    - verbose: Verbosity level\n",
    "    \n",
    "    Returns:\n",
    "    - Dictionary with average F1 score, standard deviation of F1 score, and F1 scores for each fold\n",
    "    \"\"\"\n",
    "\n",
    "    y_pred_probas_list = results['y_pred_probas_list']\n",
    "    y_test_list = results['y_test_list']\n",
    "    \n",
    "    f1_scores_list = []\n",
    "\n",
    "    for Y_test, Y_pred_proba in zip(y_test_list, y_pred_probas_list):\n",
    "        # Convert the probability score into binary matrix\n",
    "        Y_pred = (Y_pred_proba >= threshold).astype(int)\n",
    "\n",
    "        # Evaluate the model using F1 score with selected average parameter\n",
    "        f1_score_val = f1_score(Y_test, \n",
    "                                Y_pred, \n",
    "                                average=f1_metric_type, \n",
    "                                zero_division=1)\n",
    "        \n",
    "        # Store the F1 score\n",
    "        f1_scores_list.append(f1_score_val)\n",
    "\n",
    "    # Average F1 score across all folds\n",
    "    avg_f1_score = np.mean(f1_scores_list)\n",
    "    \n",
    "    # Calculate std deviation of F1 score across all folds\n",
    "    std_f1_score = np.std(f1_scores_list)\n",
    "\n",
    "    # verbose\n",
    "    if verbose:\n",
    "        print(f\"Average F1 Score ({f1_metric_type.capitalize()} and threshold {str(threshold)}):\", avg_f1_score)\n",
    "        print(f\"Std Deviation of F1 Score ({f1_metric_type.capitalize()} and threshold {str(threshold)}):\", std_f1_score)\n",
    "\n",
    "    scores = {\n",
    "        'f1_scores': f1_scores_list,\n",
    "        'average_f1_score': avg_f1_score,\n",
    "        'std_f1_score': std_f1_score\n",
    "    }\n",
    "\n",
    "    return scores"
   ]
  },
  {
   "cell_type": "code",
   "execution_count": 10,
   "metadata": {},
   "outputs": [],
   "source": [
    "# Convert target variable to binary matrix *one-hot encoding*\n",
    "mlb = MultiLabelBinarizer()\n",
    "Y = mlb.fit_transform(df_preprocessed['genres'])\n",
    "X = df_preprocessed['tokens'].values\n"
   ]
  },
  {
   "cell_type": "markdown",
   "metadata": {},
   "source": [
    "## Random Forest Classifier & n_grams=(1, 1)"
   ]
  },
  {
   "cell_type": "code",
   "execution_count": 11,
   "metadata": {},
   "outputs": [],
   "source": [
    "# perform with ngram_range (1, 1)\n",
    "results_rfc_ngram_1_1 = perform_classification(X=X,\n",
    "                                      Y=Y,\n",
    "                                      ngram_range=(1, 1),\n",
    "                                      estimator=RandomForestClassifier(random_state=42),\n",
    "                                      n_splits=5,\n",
    "                                      random_state=42,\n",
    "                                      verbose=0)"
   ]
  },
  {
   "cell_type": "code",
   "execution_count": 12,
   "metadata": {},
   "outputs": [
    {
     "data": {
      "text/html": [
       "<div>\n",
       "<style scoped>\n",
       "    .dataframe tbody tr th:only-of-type {\n",
       "        vertical-align: middle;\n",
       "    }\n",
       "\n",
       "    .dataframe tbody tr th {\n",
       "        vertical-align: top;\n",
       "    }\n",
       "\n",
       "    .dataframe thead th {\n",
       "        text-align: right;\n",
       "    }\n",
       "</style>\n",
       "<table border=\"1\" class=\"dataframe\">\n",
       "  <thead>\n",
       "    <tr style=\"text-align: right;\">\n",
       "      <th></th>\n",
       "      <th>model</th>\n",
       "      <th>ngrams</th>\n",
       "      <th>highest_f1_score</th>\n",
       "      <th>std_deviation</th>\n",
       "      <th>threshold</th>\n",
       "    </tr>\n",
       "  </thead>\n",
       "  <tbody>\n",
       "    <tr>\n",
       "      <th>0</th>\n",
       "      <td>Random Forest Classifier</td>\n",
       "      <td>(1, 1)</td>\n",
       "      <td>0.546903</td>\n",
       "      <td>0.002764</td>\n",
       "      <td>0.2</td>\n",
       "    </tr>\n",
       "  </tbody>\n",
       "</table>\n",
       "</div>"
      ],
      "text/plain": [
       "                      model  ngrams highest_f1_score std_deviation threshold\n",
       "0  Random Forest Classifier  (1, 1)         0.546903      0.002764       0.2"
      ]
     },
     "metadata": {},
     "output_type": "display_data"
    },
    {
     "data": {
      "image/png": "[encoded data removed]",
      "text/plain": [
       "<Figure size 2000x1200 with 1 Axes>"
      ]
     },
     "metadata": {},
     "output_type": "display_data"
    }
   ],
   "source": [
    "# export results as dataframe\n",
    "results_to_save = pd.DataFrame.from_dict(results_rfc_ngram_1_1, orient='index').T\n",
    "\n",
    "# export as csv\n",
    "results_to_save.to_csv(\"results/results_rfc_ngram_1_1.csv\")\n",
    "\n",
    "# create a list of thresholds and empty lists for the f1 scores\n",
    "thresholds = np.linspace(0, 1, 11)\n",
    "f1_scores_avg = []\n",
    "f1_scores_std = []\n",
    "\n",
    "for threshold in thresholds:\n",
    "    #print(f\"running threshold: {threshold}\")\n",
    "    scores = calculate_scores(results_rfc_ngram_1_1, threshold=threshold, f1_metric_type=\"micro\")\n",
    "    f1_scores_avg.append(scores[\"average_f1_score\"])\n",
    "    f1_scores_std.append(scores[\"std_f1_score\"])\n",
    "\n",
    "best_result = {\n",
    "    \"model\": \"Random Forest Classifier\",\n",
    "    \"ngrams\": \"(1, 1)\",\n",
    "    \"highest_f1_score\": max(f1_scores_avg),\n",
    "    \"std_deviation\": f1_scores_std[f1_scores_avg.index(max(f1_scores_avg))],\n",
    "    \"threshold\": thresholds[f1_scores_avg.index(max(f1_scores_avg))]\n",
    "    }\n",
    "\n",
    "# create a dataframe\n",
    "results_df = pd.DataFrame.from_dict(best_result, orient='index').T\n",
    "display(results_df)\n",
    "\n",
    "# plot the data with eror bars\n",
    "plt.figure(figsize=(20, 12))\n",
    "plt.errorbar(thresholds, f1_scores_avg, yerr=f1_scores_std, fmt='-o', \n",
    "             ecolor='orangered', capsize=5, color='blue', markersize=5, \n",
    "             linewidth=2, label='F1 Score Micro')\n",
    "plt.title('F1 Score Micro for different thresholds \\n (Random Forest Classifier, ngram_range=(1, 1))')\n",
    "plt.xlabel('Threshold')\n",
    "plt.ylabel('F1 Score Micro')\n",
    "\n",
    "# customize the tick labels\n",
    "plt.xticks(np.arange(0, 1.1, 0.1))\n",
    "\n",
    "# add legend\n",
    "plt.legend(loc='upper right')\n",
    "\n",
    "# show plot\n",
    "plt.show()"
   ]
  },
  {
   "cell_type": "markdown",
   "metadata": {},
   "source": [
    "## Random Forest Classifier & n_grams=(1, 2)"
   ]
  },
  {
   "cell_type": "code",
   "execution_count": 13,
   "metadata": {},
   "outputs": [],
   "source": [
    "# perform with ngram_range (1, 2)\n",
    "results_rfc_ngram_1_2 = perform_classification(X=X,\n",
    "                                      Y=Y,\n",
    "                                      ngram_range=(1, 2),\n",
    "                                      estimator=RandomForestClassifier(random_state=42),\n",
    "                                      n_splits=5,\n",
    "                                      random_state=42,\n",
    "                                      verbose=0)"
   ]
  },
  {
   "cell_type": "code",
   "execution_count": 14,
   "metadata": {},
   "outputs": [
    {
     "data": {
      "text/html": [
       "<div>\n",
       "<style scoped>\n",
       "    .dataframe tbody tr th:only-of-type {\n",
       "        vertical-align: middle;\n",
       "    }\n",
       "\n",
       "    .dataframe tbody tr th {\n",
       "        vertical-align: top;\n",
       "    }\n",
       "\n",
       "    .dataframe thead th {\n",
       "        text-align: right;\n",
       "    }\n",
       "</style>\n",
       "<table border=\"1\" class=\"dataframe\">\n",
       "  <thead>\n",
       "    <tr style=\"text-align: right;\">\n",
       "      <th></th>\n",
       "      <th>model</th>\n",
       "      <th>ngrams</th>\n",
       "      <th>highest_f1_score</th>\n",
       "      <th>std_deviation</th>\n",
       "      <th>threshold</th>\n",
       "    </tr>\n",
       "  </thead>\n",
       "  <tbody>\n",
       "    <tr>\n",
       "      <th>0</th>\n",
       "      <td>Random Forest Classifier</td>\n",
       "      <td>(1, 1)</td>\n",
       "      <td>0.546903</td>\n",
       "      <td>0.002764</td>\n",
       "      <td>0.2</td>\n",
       "    </tr>\n",
       "    <tr>\n",
       "      <th>0</th>\n",
       "      <td>Random Forest Classifier</td>\n",
       "      <td>(1, 2)</td>\n",
       "      <td>0.541613</td>\n",
       "      <td>0.003407</td>\n",
       "      <td>0.2</td>\n",
       "    </tr>\n",
       "  </tbody>\n",
       "</table>\n",
       "</div>"
      ],
      "text/plain": [
       "                      model  ngrams highest_f1_score std_deviation threshold\n",
       "0  Random Forest Classifier  (1, 1)         0.546903      0.002764       0.2\n",
       "0  Random Forest Classifier  (1, 2)         0.541613      0.003407       0.2"
      ]
     },
     "metadata": {},
     "output_type": "display_data"
    },
    {
     "data": {
      "image/png": "[encoded data removed]",
      "text/plain": [
       "<Figure size 2000x1200 with 1 Axes>"
      ]
     },
     "metadata": {},
     "output_type": "display_data"
    }
   ],
   "source": [
    "# export results as dataframe\n",
    "results_to_save = pd.DataFrame.from_dict(results_rfc_ngram_1_2, orient='index').T\n",
    "\n",
    "# export as csv\n",
    "results_to_save.to_csv(\"results/results_rfc_ngram_1_2.csv\")\n",
    "\n",
    "\n",
    "# create a list of thresholds and empty lists for the f1 scores\n",
    "thresholds = np.linspace(0, 1, 11)\n",
    "f1_scores_avg = []\n",
    "f1_scores_std = []\n",
    "\n",
    "for threshold in thresholds:\n",
    "    #print(f\"running threshold: {threshold}\")\n",
    "    scores = calculate_scores(results_rfc_ngram_1_2, threshold=threshold, f1_metric_type=\"micro\")\n",
    "    f1_scores_avg.append(scores[\"average_f1_score\"])\n",
    "    f1_scores_std.append(scores[\"std_f1_score\"])\n",
    "\n",
    "best_result = {\n",
    "    \"model\": \"Random Forest Classifier\",\n",
    "    \"ngrams\": \"(1, 2)\",\n",
    "    \"highest_f1_score\": max(f1_scores_avg),\n",
    "    \"std_deviation\": f1_scores_std[f1_scores_avg.index(max(f1_scores_avg))],\n",
    "    \"threshold\": thresholds[f1_scores_avg.index(max(f1_scores_avg))]\n",
    "    }\n",
    "\n",
    "# concat with previous results dataframe\n",
    "results_df = pd.concat([results_df, pd.DataFrame.from_dict(best_result, orient='index').T])\n",
    "display(results_df)\n",
    "\n",
    "# plot the data with eror bars\n",
    "plt.figure(figsize=(20, 12))\n",
    "plt.errorbar(thresholds, f1_scores_avg, yerr=f1_scores_std, fmt='-o', \n",
    "             ecolor='orangered', capsize=5, color='blue', markersize=5, \n",
    "             linewidth=2, label='F1 Score Micro')\n",
    "plt.title('F1 Score Micro for different thresholds \\n (Random Forest Classifier, ngram_range=(1, 2))')\n",
    "plt.xlabel('Threshold')\n",
    "plt.ylabel('F1 Score Micro')\n",
    "\n",
    "# customize the tick labels\n",
    "plt.xticks(np.arange(0, 1.1, 0.1))\n",
    "\n",
    "# add legend\n",
    "plt.legend(loc='upper right')\n",
    "\n",
    "# show plot\n",
    "plt.show()"
   ]
  },
  {
   "cell_type": "markdown",
   "metadata": {},
   "source": [
    "# Deep Model"
   ]
  },
  {
   "cell_type": "markdown",
   "metadata": {},
   "source": [
    "## Vorgehen\n",
    "\n",
    "- Trainieren eines eigenen word embeding models\n",
    "- Durchführen des Word embeding \n",
    "- Trainieren eines CNN"
   ]
  },
  {
   "cell_type": "code",
   "execution_count": 51,
   "metadata": {},
   "outputs": [],
   "source": [
    "# imports\n",
    "import torch\n",
    "import torch.nn as nn\n",
    "import torch.nn.utils.rnn as rnn_utils\n",
    "import torch.optim as optim\n",
    "import torchtext\n",
    "import gensim\n",
    "from gensim.models import Word2Vec\n",
    "from torch.utils.data import Dataset, DataLoader, TensorDataset\n",
    "from torch.nn.utils.rnn import pad_sequence\n",
    "import torch.nn.functional as F\n",
    "from torch.optim import SGD\n",
    "from pytorch_lightning import Trainer\n",
    "import torchmetrics\n",
    "import pytorch_lightning as pl\n",
    "import wandb\n",
    "from pytorch_lightning.loggers import WandbLogger\n",
    "from collections import Counter\n",
    "from itertools import chain"
   ]
  },
  {
   "cell_type": "markdown",
   "metadata": {},
   "source": [
    "### Word embedding\n",
    "\n",
    "- wesshalb genau Word embedding?\n",
    "\n",
    "Dimensionalitätsreduktion: Im Gegensatz zu One-Hot-Encoding, bei dem die Vektordimension der Größe des Vokabulars entspricht, haben Word Embeddings eine viel geringere und festgelegte Dimension (z.B. 100, 200). <br>\n",
    "Semantische Informationen: Embeddings erfassen semantische Informationen und Beziehungen zwischen Wörtern. <br>\n",
    "Effizienz: Sie verbessern die Effizienz des Lernprozesses, indem sie dem Modell erlauben, schneller und effektiver zu lernen. <br>\n",
    "\n",
    "- Dabei gibt es 2 wichtige Algorithmen/ Modelle: CBOW und Skip Gram "
   ]
  },
  {
   "cell_type": "code",
   "execution_count": 52,
   "metadata": {},
   "outputs": [],
   "source": [
    "# Traineren des eigenen Word2Vec Modells\n",
    "'''\n",
    "vector_size: Die Dimension der Word Embeddings\n",
    "window: Die maximale Entfernung zwischen dem aktuellen und dem vorhergesagten Wort in einem Satz\n",
    "min_count: Das minimale Vorkommen eines Wortes im Corpus, um es zu berücksichtigen\n",
    "sg: 0 für das CBOW-Modell, 1 für das Skip-Gram-Modell\n",
    "'''\n",
    "# Train the Word2Vec model\n",
    "#embedding_model = Word2Vec(X, vector_size=300, window=5, min_count=1, sg=0)\n",
    "\n",
    "# Save the Word2Vec model\n",
    "#embedding_model.save(\"word2vec_modell.bin\")\n",
    "\n",
    "# Load the Word2Vec model\n",
    "embedding_model = Word2Vec.load(\"models/word2vec_modell.bin\")"
   ]
  },
  {
   "cell_type": "code",
   "execution_count": 53,
   "metadata": {},
   "outputs": [
    {
     "data": {
      "text/plain": [
       "((9884,), (9884, 57))"
      ]
     },
     "execution_count": 53,
     "metadata": {},
     "output_type": "execute_result"
    }
   ],
   "source": [
    "X.shape, Y.shape"
   ]
  },
  {
   "cell_type": "code",
   "execution_count": 54,
   "metadata": {},
   "outputs": [
    {
     "data": {
      "text/plain": [
       "('living mar deckard acting consultant movie crew filming story blade runner day find drawn mission behalf replicants assigned kill meanwhile mystery surrounding beginning tyrell corporation dragged light',\n",
       " array([0, 0, 0, 0, 0, 0, 0, 0, 0, 0, 0, 0, 0, 0, 0, 0, 0, 0, 0, 0, 0, 0,\n",
       "        0, 0, 0, 0, 0, 0, 0, 0, 0, 0, 0, 0, 0, 0, 0, 0, 0, 0, 0, 0, 1, 0,\n",
       "        1, 0, 0, 0, 0, 0, 0, 0, 0, 0, 0, 0, 0]))"
      ]
     },
     "execution_count": 54,
     "metadata": {},
     "output_type": "execute_result"
    }
   ],
   "source": [
    "X[0], Y[0]"
   ]
  },
  {
   "cell_type": "code",
   "execution_count": 55,
   "metadata": {},
   "outputs": [],
   "source": [
    "class TextDataset(Dataset):\n",
    "    def __init__(self, descriptions, genres, embedding_model, max_length=1000):\n",
    "        self.descriptions = descriptions\n",
    "        self.genres = genres\n",
    "        self.embedding_model = embedding_model\n",
    "        self.max_length = max_length \n",
    "\n",
    "    def __len__(self):\n",
    "        return len(self.descriptions)\n",
    "\n",
    "    def __getitem__(self, idx):\n",
    "        description = self.descriptions[idx]\n",
    "        genre = self.genres[idx]\n",
    "\n",
    "        # Beschränkung der Wörter\n",
    "        truncated_description = description.split()[:self.max_length]\n",
    "\n",
    "        # Vektorisieren\n",
    "        vectorized_text = [self.embedding_model.wv[word] if word in self.embedding_model.wv else [0] * self.embedding_model.vector_size for word in truncated_description]\n",
    "\n",
    "        # Padding\n",
    "        padding_length = self.max_length - len(vectorized_text)\n",
    "        vectorized_text.extend([[0] * self.embedding_model.vector_size] * padding_length)\n",
    "\n",
    "        text_tensor = torch.FloatTensor(vectorized_text)\n",
    "        genre_tensor = torch.FloatTensor(genre)\n",
    "\n",
    "        return text_tensor, genre_tensor\n"
   ]
  },
  {
   "cell_type": "code",
   "execution_count": 56,
   "metadata": {},
   "outputs": [],
   "source": [
    "# Aufteilen der Daten in Training und Test Daten\n",
    "descriptions_train, descriptions_test, genres_train, genres_test = train_test_split(X, Y, test_size=0.2, random_state=42)"
   ]
  },
  {
   "cell_type": "code",
   "execution_count": 57,
   "metadata": {},
   "outputs": [],
   "source": [
    "# Trainings- und Test-Datasets erstellen\n",
    "train_dataset = TextDataset(descriptions_train, genres_train, embedding_model, max_length=2000)\n",
    "test_dataset = TextDataset(descriptions_test, genres_test, embedding_model, max_length=2000)\n",
    "\n",
    "# DataLoader für Training und Test\n",
    "train_loader = DataLoader(train_dataset, batch_size=20, shuffle=True)\n",
    "test_loader = DataLoader(test_dataset, batch_size=20, shuffle=False)"
   ]
  },
  {
   "cell_type": "code",
   "execution_count": 58,
   "metadata": {},
   "outputs": [
    {
     "data": {
      "text/plain": [
       "torch.Size([57])"
      ]
     },
     "execution_count": 58,
     "metadata": {},
     "output_type": "execute_result"
    }
   ],
   "source": [
    "sample_data, sample_label = train_dataset[0]\n",
    "sample_label.shape"
   ]
  },
  {
   "cell_type": "markdown",
   "metadata": {},
   "source": [
    "### Convolutional Neuronal Network (CNN)"
   ]
  },
  {
   "cell_type": "code",
   "execution_count": 59,
   "metadata": {},
   "outputs": [],
   "source": [
    "# Generelle Modellklasse\n",
    "class CustomLightningModel(pl.LightningModule):\n",
    "    def __init__(self, lr=0.001, num_classes=57):\n",
    "        super().__init__()\n",
    "        self.loss = nn.BCEWithLogitsLoss()\n",
    "        self.learning_rate = lr\n",
    "        self.num_classes = num_classes\n",
    "        self.fbeta = torchmetrics.FBetaScore(num_labels=num_classes, beta=1.0, average='micro', task='multilabel')\n",
    "\n",
    "    def _log(self, status, y_hat, y):\n",
    "        loss = self.loss(y_hat, y)\n",
    "        threshold = 0.5\n",
    "        y_hat_labels = (y_hat.sigmoid() > threshold).float()\n",
    "        fbeta_score = self.fbeta(y_hat_labels, y)\n",
    "        self.log(f'{status}_loss', loss)\n",
    "        self.log(f'{status}_f1_mikro', fbeta_score, prog_bar=True)\n",
    "        return loss\n",
    "\n",
    "    def forward(self, x):\n",
    "        x = x.permute(0, 2, 1)\n",
    "        return self.model(x)\n",
    "\n",
    "    def training_step(self, batch, batch_idx):\n",
    "        x, y = batch\n",
    "        y_hat = self(x)\n",
    "        return self._log('train', y_hat, y)\n",
    "\n",
    "    def validation_step(self, batch, batch_idx):\n",
    "        x, y = batch\n",
    "        y_hat = self(x)\n",
    "        return self._log('val', y_hat, y)\n",
    "\n",
    "    def test_step(self, batch, batch_idx):\n",
    "        x, y = batch\n",
    "        y_hat = self(x)\n",
    "        return self._log('test', y_hat, y)\n",
    "\n",
    "    def configure_optimizers(self):\n",
    "        return SGD(self.parameters(), lr=self.learning_rate)"
   ]
  },
  {
   "cell_type": "code",
   "execution_count": 60,
   "metadata": {},
   "outputs": [],
   "source": [
    "def evaluate_model(model, dataloader, threshold):\n",
    "    model.eval()\n",
    "\n",
    "    all_predictions = []\n",
    "    all_labels = []\n",
    "\n",
    "    with torch.no_grad(): \n",
    "        for texts, labels in dataloader:\n",
    "            outputs = model(texts)\n",
    "            predictions = torch.sigmoid(outputs)\n",
    "            # Thresholding\n",
    "            predictions = (predictions > threshold).float()\n",
    "\n",
    "            all_predictions.extend(predictions.cpu().numpy())\n",
    "            all_labels.extend(labels.cpu().numpy())\n",
    "\n",
    "    # Berechnen der Metriken\n",
    "    accuracy = accuracy_score(all_labels, all_predictions)\n",
    "    precision = precision_score(all_labels, all_predictions, average='micro')\n",
    "    recall = recall_score(all_labels, all_predictions, average='micro')\n",
    "    f1_mikro = f1_score(all_labels, all_predictions, average='micro')\n",
    "    f1_makro = f1_score(all_labels, all_predictions, average='macro')\n",
    "\n",
    "    return accuracy, precision, recall, f1_mikro, f1_makro"
   ]
  },
  {
   "cell_type": "code",
   "execution_count": 61,
   "metadata": {},
   "outputs": [],
   "source": [
    "def test_thresholds(model, dataloader, thresholds):\n",
    "    results = []\n",
    "    for threshold in thresholds:\n",
    "        accuracy, precision, recall, f1_mikro, f1_makro = evaluate_model(model, dataloader, threshold)\n",
    "        results.append({\n",
    "            'threshold': threshold,\n",
    "            'accuracy': accuracy,\n",
    "            'precision': precision,\n",
    "            'recall': recall,\n",
    "            'f1_mikro': f1_mikro,\n",
    "            'f1_makro': f1_makro,\n",
    "        })\n",
    "\n",
    "    # Erstellen eines DataFrames aus den Ergebnissen\n",
    "    df = pd.DataFrame(results)\n",
    "\n",
    "    # Anzeigen des DataFrames\n",
    "    print(df)\n",
    "\n",
    "    # Ermitteln des besten Thresholds basierend auf dem höchsten f1_mikro Wert\n",
    "    best_threshold = df.loc[df['f1_mikro'].idxmax(), 'threshold']\n",
    "\n",
    "    return df, best_threshold\n",
    "\n",
    "# Testen der Funktion mit den gegebenen Thresholds\n",
    "thresholds = [0.1, 0.15, 0.2, 0.25, 0.3, 0.4, 0.5, 0.6, 0.7, 0.8, 0.9]"
   ]
  },
  {
   "cell_type": "markdown",
   "metadata": {},
   "source": [
    "#### Simple CNN"
   ]
  },
  {
   "cell_type": "code",
   "execution_count": 62,
   "metadata": {},
   "outputs": [],
   "source": [
    "class SimpleCNN(CustomLightningModel):\n",
    "    def __init__(self, lr=0.001, num_classes=57):\n",
    "        super().__init__(lr, num_classes)\n",
    "        final_feature_size = 64*500  \n",
    "        self.model = nn.Sequential(\n",
    "            nn.Conv1d(in_channels=300, out_channels=64, kernel_size=3, stride=1, padding=1),\n",
    "            nn.ReLU(),\n",
    "            nn.MaxPool1d(kernel_size=2, stride=2),\n",
    "            nn.Conv1d(in_channels=64, out_channels=64, kernel_size=3, stride=1, padding=1),\n",
    "            nn.ReLU(),\n",
    "            nn.MaxPool1d(kernel_size=2, stride=2),\n",
    "            nn.Flatten(),\n",
    "            nn.Linear(final_feature_size, self.num_classes)\n",
    "        )"
   ]
  },
  {
   "cell_type": "code",
   "execution_count": 63,
   "metadata": {},
   "outputs": [
    {
     "name": "stderr",
     "output_type": "stream",
     "text": [
      "GPU available: False, used: False\n",
      "TPU available: False, using: 0 TPU cores\n",
      "IPU available: False, using: 0 IPUs\n",
      "HPU available: False, using: 0 HPUs\n"
     ]
    },
    {
     "data": {
      "text/html": [
       "Tracking run with wandb version 0.16.0"
      ],
      "text/plain": [
       "<IPython.core.display.HTML object>"
      ]
     },
     "metadata": {},
     "output_type": "display_data"
    },
    {
     "data": {
      "text/html": [
       "Run data is saved locally in <code>.\\wandb\\run-20231121_163401-z8gtztap</code>"
      ],
      "text/plain": [
       "<IPython.core.display.HTML object>"
      ]
     },
     "metadata": {},
     "output_type": "display_data"
    },
    {
     "data": {
      "text/html": [
       "Syncing run <strong><a href='https://wandb.ai/krokodil/NPR_MC1/runs/z8gtztap' target=\"_blank\">SimpleCNN_Training_2000</a></strong> to <a href='https://wandb.ai/krokodil/NPR_MC1' target=\"_blank\">Weights & Biases</a> (<a href='https://wandb.me/run' target=\"_blank\">docs</a>)<br/>"
      ],
      "text/plain": [
       "<IPython.core.display.HTML object>"
      ]
     },
     "metadata": {},
     "output_type": "display_data"
    },
    {
     "data": {
      "text/html": [
       " View project at <a href='https://wandb.ai/krokodil/NPR_MC1' target=\"_blank\">https://wandb.ai/krokodil/NPR_MC1</a>"
      ],
      "text/plain": [
       "<IPython.core.display.HTML object>"
      ]
     },
     "metadata": {},
     "output_type": "display_data"
    },
    {
     "data": {
      "text/html": [
       " View run at <a href='https://wandb.ai/krokodil/NPR_MC1/runs/z8gtztap' target=\"_blank\">https://wandb.ai/krokodil/NPR_MC1/runs/z8gtztap</a>"
      ],
      "text/plain": [
       "<IPython.core.display.HTML object>"
      ]
     },
     "metadata": {},
     "output_type": "display_data"
    },
    {
     "name": "stderr",
     "output_type": "stream",
     "text": [
      "\n",
      "  | Name  | Type                 | Params\n",
      "-----------------------------------------------\n",
      "0 | loss  | BCEWithLogitsLoss    | 0     \n",
      "1 | fbeta | MultilabelFBetaScore | 0     \n",
      "2 | model | Sequential           | 1.9 M \n",
      "-----------------------------------------------\n",
      "1.9 M     Trainable params\n",
      "0         Non-trainable params\n",
      "1.9 M     Total params\n",
      "7.576     Total estimated model params size (MB)\n"
     ]
    },
    {
     "name": "stdout",
     "output_type": "stream",
     "text": [
      "Sanity Checking: |          | 0/? [00:00<?, ?it/s]"
     ]
    },
    {
     "name": "stderr",
     "output_type": "stream",
     "text": [
      "c:\\Users\\yanni\\OneDrive\\FHNW\\Module\\5. Semester\\Natural language processing\\fhnw-npr-Natural-Language-Processing\\.venv\\Lib\\site-packages\\pytorch_lightning\\trainer\\connectors\\data_connector.py:441: The 'val_dataloader' does not have many workers which may be a bottleneck. Consider increasing the value of the `num_workers` argument` to `num_workers=7` in the `DataLoader` to improve performance.\n"
     ]
    },
    {
     "name": "stdout",
     "output_type": "stream",
     "text": [
      "                                                                           "
     ]
    },
    {
     "name": "stderr",
     "output_type": "stream",
     "text": [
      "c:\\Users\\yanni\\OneDrive\\FHNW\\Module\\5. Semester\\Natural language processing\\fhnw-npr-Natural-Language-Processing\\.venv\\Lib\\site-packages\\pytorch_lightning\\trainer\\connectors\\data_connector.py:441: The 'train_dataloader' does not have many workers which may be a bottleneck. Consider increasing the value of the `num_workers` argument` to `num_workers=7` in the `DataLoader` to improve performance.\n"
     ]
    },
    {
     "name": "stdout",
     "output_type": "stream",
     "text": [
      "Epoch 0:  40%|████      | 159/396 [1:20:48<2:00:27,  0.03it/s, v_num=ztap, train_f1_mikro=0.0513]"
     ]
    },
    {
     "name": "stderr",
     "output_type": "stream",
     "text": [
      "c:\\Users\\yanni\\OneDrive\\FHNW\\Module\\5. Semester\\Natural language processing\\fhnw-npr-Natural-Language-Processing\\.venv\\Lib\\site-packages\\pytorch_lightning\\trainer\\call.py:54: Detected KeyboardInterrupt, attempting graceful shutdown...\n"
     ]
    }
   ],
   "source": [
    "# Instanziieren Sie Ihr Modell\n",
    "simpleCNN = SimpleCNN(lr=0.001, num_classes=57)\n",
    "\n",
    "wandb_logger = WandbLogger(name=\"SimpleCNN_Training_2000\", project=\"NPR_MC1\")\n",
    "trainer = pl.Trainer(max_epochs=10, logger=wandb_logger)\n",
    "trainer.fit(simpleCNN, train_loader, test_loader)\n",
    "\n",
    "wandb_logger.experiment.finish()"
   ]
  },
  {
   "cell_type": "code",
   "execution_count": null,
   "metadata": {},
   "outputs": [
    {
     "name": "stdout",
     "output_type": "stream",
     "text": [
      "   threshold  accuracy  precision  recall  f1_mikro  f1_makro\n",
      "0       0.10       0.0   0.053509     1.0  0.101582  0.071797\n",
      "1       0.15       0.0   0.053509     1.0  0.101582  0.071797\n",
      "2       0.20       0.0   0.053509     1.0  0.101582  0.071797\n",
      "3       0.25       0.0   0.053509     1.0  0.101582  0.071797\n",
      "4       0.30       0.0   0.053509     1.0  0.101582  0.071797\n",
      "5       0.40       0.0   0.053509     1.0  0.101582  0.071797\n",
      "Bester Threshold: 0.1\n"
     ]
    }
   ],
   "source": [
    "results_df_simpleCNN, best_threshold_simpleCNN = test_thresholds(simpleCNN, test_loader, thresholds)\n",
    "\n",
    "# Anzeigen des besten Thresholds\n",
    "print(\"Bester Threshold:\", best_threshold_simpleCNN)"
   ]
  },
  {
   "cell_type": "code",
   "execution_count": null,
   "metadata": {},
   "outputs": [
    {
     "name": "stderr",
     "output_type": "stream",
     "text": [
      "C:\\Users\\yanni\\AppData\\Local\\Temp\\ipykernel_19264\\3393638633.py:4: SettingWithCopyWarning: \n",
      "A value is trying to be set on a copy of a slice from a DataFrame.\n",
      "Try using .loc[row_indexer,col_indexer] = value instead\n",
      "\n",
      "See the caveats in the documentation: https://pandas.pydata.org/pandas-docs/stable/user_guide/indexing.html#returning-a-view-versus-a-copy\n",
      "  best_threshold_df['model'] = \"Simple CNN\"\n"
     ]
    }
   ],
   "source": [
    "# calculate metrics for best threshold\n",
    "best_threshold_df = results_df_simpleCNN[results_df_simpleCNN['threshold'] == best_threshold_simpleCNN]\n",
    "# append new column with model name\n",
    "best_threshold_df['model'] = \"Simple CNN\""
   ]
  },
  {
   "cell_type": "code",
   "execution_count": null,
   "metadata": {},
   "outputs": [],
   "source": [
    "torch.save(simpleCNN.state_dict(), 'models/simple_CNN_model.pth')"
   ]
  },
  {
   "cell_type": "markdown",
   "metadata": {},
   "source": [
    "#### Complex CNN"
   ]
  },
  {
   "cell_type": "code",
   "execution_count": null,
   "metadata": {},
   "outputs": [],
   "source": [
    "class ComplexCNN(CustomLightningModel):\n",
    "    def __init__(self, lr=0.001, num_classes=57, dropout_rate=0.25):\n",
    "        super().__init__(lr, num_classes)\n",
    "\n",
    "        # Spezifikationen\n",
    "        batch_size = 20\n",
    "        num_vectors = 2000\n",
    "        vector_size = 300\n",
    "\n",
    "        # Initialisieren Sie die Größe der Eingabe\n",
    "        input_size = (batch_size, num_vectors, vector_size)\n",
    "        final_feature_size = 256*500 \n",
    "\n",
    "        self.model = nn.Sequential(\n",
    "            nn.Conv1d(in_channels=input_size[2], out_channels=64, kernel_size=3, stride=1, padding=1),\n",
    "            nn.ReLU(),\n",
    "            nn.Conv1d(in_channels=64, out_channels=128, kernel_size=3, stride=1, padding=1),\n",
    "            nn.ReLU(),\n",
    "            nn.MaxPool1d(kernel_size=2, stride=2),\n",
    "            nn.Dropout(dropout_rate),\n",
    "            nn.Conv1d(in_channels=128, out_channels=256, kernel_size=3, stride=1, padding=1),\n",
    "            nn.ReLU(),\n",
    "            nn.Conv1d(in_channels=256, out_channels=256, kernel_size=3, stride=1, padding=1),\n",
    "            nn.ReLU(),\n",
    "            nn.MaxPool1d(kernel_size=2, stride=2),\n",
    "            nn.Dropout(dropout_rate),\n",
    "            nn.Flatten(),\n",
    "            nn.Linear(final_feature_size, 20), \n",
    "            nn.ReLU(),\n",
    "            nn.Dropout(dropout_rate),\n",
    "            nn.Linear(20, self.num_classes) \n",
    "        )"
   ]
  },
  {
   "cell_type": "code",
   "execution_count": null,
   "metadata": {},
   "outputs": [
    {
     "name": "stderr",
     "output_type": "stream",
     "text": [
      "GPU available: False, used: False\n",
      "TPU available: False, using: 0 TPU cores\n",
      "IPU available: False, using: 0 IPUs\n",
      "HPU available: False, using: 0 HPUs\n"
     ]
    },
    {
     "data": {
      "text/html": [
       "Tracking run with wandb version 0.16.0"
      ],
      "text/plain": [
       "<IPython.core.display.HTML object>"
      ]
     },
     "metadata": {},
     "output_type": "display_data"
    },
    {
     "data": {
      "text/html": [
       "Run data is saved locally in <code>.\\wandb\\run-20231121_162637-wzkv9uuj</code>"
      ],
      "text/plain": [
       "<IPython.core.display.HTML object>"
      ]
     },
     "metadata": {},
     "output_type": "display_data"
    },
    {
     "data": {
      "text/html": [
       "Syncing run <strong><a href='https://wandb.ai/krokodil/NPR_MC1/runs/wzkv9uuj' target=\"_blank\">ComplexCNN_Training_2000</a></strong> to <a href='https://wandb.ai/krokodil/NPR_MC1' target=\"_blank\">Weights & Biases</a> (<a href='https://wandb.me/run' target=\"_blank\">docs</a>)<br/>"
      ],
      "text/plain": [
       "<IPython.core.display.HTML object>"
      ]
     },
     "metadata": {},
     "output_type": "display_data"
    },
    {
     "data": {
      "text/html": [
       " View project at <a href='https://wandb.ai/krokodil/NPR_MC1' target=\"_blank\">https://wandb.ai/krokodil/NPR_MC1</a>"
      ],
      "text/plain": [
       "<IPython.core.display.HTML object>"
      ]
     },
     "metadata": {},
     "output_type": "display_data"
    },
    {
     "data": {
      "text/html": [
       " View run at <a href='https://wandb.ai/krokodil/NPR_MC1/runs/wzkv9uuj' target=\"_blank\">https://wandb.ai/krokodil/NPR_MC1/runs/wzkv9uuj</a>"
      ],
      "text/plain": [
       "<IPython.core.display.HTML object>"
      ]
     },
     "metadata": {},
     "output_type": "display_data"
    },
    {
     "name": "stderr",
     "output_type": "stream",
     "text": [
      "\n",
      "  | Name  | Type                 | Params\n",
      "-----------------------------------------------\n",
      "0 | loss  | BCEWithLogitsLoss    | 0     \n",
      "1 | fbeta | MultilabelFBetaScore | 0     \n",
      "2 | model | Sequential           | 2.9 M \n",
      "-----------------------------------------------\n",
      "2.9 M     Trainable params\n",
      "0         Non-trainable params\n",
      "2.9 M     Total params\n",
      "11.756    Total estimated model params size (MB)\n"
     ]
    },
    {
     "name": "stdout",
     "output_type": "stream",
     "text": [
      "Sanity Checking: |          | 0/? [00:00<?, ?it/s]"
     ]
    },
    {
     "name": "stderr",
     "output_type": "stream",
     "text": [
      "c:\\Users\\yanni\\OneDrive\\FHNW\\Module\\5. Semester\\Natural language processing\\fhnw-npr-Natural-Language-Processing\\.venv\\Lib\\site-packages\\pytorch_lightning\\trainer\\connectors\\data_connector.py:441: The 'val_dataloader' does not have many workers which may be a bottleneck. Consider increasing the value of the `num_workers` argument` to `num_workers=7` in the `DataLoader` to improve performance.\n"
     ]
    },
    {
     "name": "stdout",
     "output_type": "stream",
     "text": [
      "                                                                           "
     ]
    },
    {
     "name": "stderr",
     "output_type": "stream",
     "text": [
      "c:\\Users\\yanni\\OneDrive\\FHNW\\Module\\5. Semester\\Natural language processing\\fhnw-npr-Natural-Language-Processing\\.venv\\Lib\\site-packages\\pytorch_lightning\\trainer\\connectors\\data_connector.py:441: The 'train_dataloader' does not have many workers which may be a bottleneck. Consider increasing the value of the `num_workers` argument` to `num_workers=7` in the `DataLoader` to improve performance.\n",
      "c:\\Users\\yanni\\OneDrive\\FHNW\\Module\\5. Semester\\Natural language processing\\fhnw-npr-Natural-Language-Processing\\.venv\\Lib\\site-packages\\pytorch_lightning\\loops\\fit_loop.py:293: The number of training batches (4) is smaller than the logging interval Trainer(log_every_n_steps=50). Set a lower value for log_every_n_steps if you want to see logs for the training epoch.\n"
     ]
    },
    {
     "name": "stdout",
     "output_type": "stream",
     "text": [
      "Epoch 9: 100%|██████████| 4/4 [00:08<00:00,  0.45it/s, v_num=9uuj, train_f1_mikro=0.0711, val_f1_mikro=0.108]"
     ]
    },
    {
     "name": "stderr",
     "output_type": "stream",
     "text": [
      "`Trainer.fit` stopped: `max_epochs=10` reached.\n"
     ]
    },
    {
     "name": "stdout",
     "output_type": "stream",
     "text": [
      "Epoch 9: 100%|██████████| 4/4 [00:08<00:00,  0.45it/s, v_num=9uuj, train_f1_mikro=0.0711, val_f1_mikro=0.108]\n"
     ]
    },
    {
     "data": {
      "text/html": [
       "<style>\n",
       "    table.wandb td:nth-child(1) { padding: 0 10px; text-align: left ; width: auto;} td:nth-child(2) {text-align: left ; width: 100%}\n",
       "    .wandb-row { display: flex; flex-direction: row; flex-wrap: wrap; justify-content: flex-start; width: 100% }\n",
       "    .wandb-col { display: flex; flex-direction: column; flex-basis: 100%; flex: 1; padding: 10px; }\n",
       "    </style>\n",
       "<div class=\"wandb-row\"><div class=\"wandb-col\"><h3>Run history:</h3><br/><table class=\"wandb\"><tr><td>epoch</td><td>▁▂▃▃▄▅▆▆▇█</td></tr><tr><td>trainer/global_step</td><td>▁▂▃▃▄▅▆▆▇█</td></tr><tr><td>val_f1_mikro</td><td>▁▁████████</td></tr><tr><td>val_loss</td><td>█▇▆▆▅▄▃▂▂▁</td></tr></table><br/></div><div class=\"wandb-col\"><h3>Run summary:</h3><br/><table class=\"wandb\"><tr><td>epoch</td><td>9</td></tr><tr><td>trainer/global_step</td><td>39</td></tr><tr><td>val_f1_mikro</td><td>0.10842</td></tr><tr><td>val_loss</td><td>0.69669</td></tr></table><br/></div></div>"
      ],
      "text/plain": [
       "<IPython.core.display.HTML object>"
      ]
     },
     "metadata": {},
     "output_type": "display_data"
    },
    {
     "data": {
      "text/html": [
       " View run <strong style=\"color:#cdcd00\">ComplexCNN_Training_2000</strong> at: <a href='https://wandb.ai/krokodil/NPR_MC1/runs/wzkv9uuj' target=\"_blank\">https://wandb.ai/krokodil/NPR_MC1/runs/wzkv9uuj</a><br/>Synced 5 W&B file(s), 0 media file(s), 0 artifact file(s) and 0 other file(s)"
      ],
      "text/plain": [
       "<IPython.core.display.HTML object>"
      ]
     },
     "metadata": {},
     "output_type": "display_data"
    },
    {
     "data": {
      "text/html": [
       "Find logs at: <code>.\\wandb\\run-20231121_162637-wzkv9uuj\\logs</code>"
      ],
      "text/plain": [
       "<IPython.core.display.HTML object>"
      ]
     },
     "metadata": {},
     "output_type": "display_data"
    }
   ],
   "source": [
    "# Instanziieren Sie Ihr Modell\n",
    "complexCNN = ComplexCNN(lr=0.001, num_classes=57)\n",
    "\n",
    "wandb_logger = WandbLogger(name=\"ComplexCNN_Training_2000\", project=\"NPR_MC1\")\n",
    "trainer = pl.Trainer(max_epochs=10, logger=wandb_logger)\n",
    "trainer.fit(complexCNN, train_loader, test_loader)\n",
    "\n",
    "wandb_logger.experiment.finish()"
   ]
  },
  {
   "cell_type": "code",
   "execution_count": null,
   "metadata": {},
   "outputs": [
    {
     "name": "stdout",
     "output_type": "stream",
     "text": [
      "   threshold  accuracy  precision  recall  f1_mikro  f1_makro\n",
      "0       0.10       0.0   0.053509     1.0  0.101582  0.071797\n",
      "1       0.15       0.0   0.053509     1.0  0.101582  0.071797\n",
      "2       0.20       0.0   0.053509     1.0  0.101582  0.071797\n",
      "3       0.25       0.0   0.053509     1.0  0.101582  0.071797\n",
      "4       0.30       0.0   0.053509     1.0  0.101582  0.071797\n",
      "5       0.40       0.0   0.053509     1.0  0.101582  0.071797\n",
      "Bester Threshold: 0.1\n"
     ]
    }
   ],
   "source": [
    "results_df_complexCNN, best_threshold_complexCNN = test_thresholds(complexCNN, test_loader, thresholds)\n",
    "\n",
    "# Anzeigen des besten Thresholds\n",
    "print(\"Bester Threshold:\", best_threshold_complexCNN)"
   ]
  },
  {
   "cell_type": "code",
   "execution_count": null,
   "metadata": {},
   "outputs": [
    {
     "name": "stderr",
     "output_type": "stream",
     "text": [
      "C:\\Users\\yanni\\AppData\\Local\\Temp\\ipykernel_19264\\3000614559.py:3: SettingWithCopyWarning: \n",
      "A value is trying to be set on a copy of a slice from a DataFrame.\n",
      "Try using .loc[row_indexer,col_indexer] = value instead\n",
      "\n",
      "See the caveats in the documentation: https://pandas.pydata.org/pandas-docs/stable/user_guide/indexing.html#returning-a-view-versus-a-copy\n",
      "  best_threshold_df_complex['model'] = \"Complex CNN\"\n"
     ]
    }
   ],
   "source": [
    "# append bestthreashold to dataframe with model name\n",
    "best_threshold_df_complex = results_df_complexCNN[results_df_complexCNN['threshold'] == best_threshold_complexCNN]\n",
    "best_threshold_df_complex['model'] = \"Complex CNN\"\n",
    "\n",
    "# concat with previous results dataframe\n",
    "results_df = pd.concat([best_threshold_df, best_threshold_df_complex])"
   ]
  },
  {
   "cell_type": "code",
   "execution_count": null,
   "metadata": {},
   "outputs": [],
   "source": [
    "torch.save(complexCNN.state_dict(), 'models/complex_CNN_model_2000_words.pth')"
   ]
  },
  {
   "cell_type": "markdown",
   "metadata": {},
   "source": [
    "### Deep CNN\n",
    "\n",
    "Wir trainieren ein zusätzliches tiefes, jedoch schmales CNN aufgrund der Sequentiellen Textdaten. <br>\n",
    "Textdaten sind von Natur aus sequentiell und kontextabhängig. Tiefere Netzwerke sind in der Regel besser darin, langfristige Abhängigkeiten und komplexe Muster in Sequenzdaten zu erfassen."
   ]
  },
  {
   "cell_type": "code",
   "execution_count": null,
   "metadata": {},
   "outputs": [],
   "source": [
    "class DeepCNN(CustomLightningModel):\n",
    "    def __init__(self, lr=0.001, num_classes=57, dropout_rate=0.25):\n",
    "        super().__init__(lr, num_classes)\n",
    "\n",
    "        # Spezifikationen\n",
    "        batch_size = 20\n",
    "        num_vectors = 2000\n",
    "        vector_size = 300\n",
    "\n",
    "        # Initialisieren Sie die Größe der Eingabe\n",
    "        input_size = (batch_size, num_vectors, vector_size)\n",
    "        final_feature_size = 64*250  \n",
    "\n",
    "        self.model = nn.Sequential(\n",
    "            nn.Conv1d(in_channels=input_size[2], out_channels=32, kernel_size=3, stride=1, padding=1),\n",
    "            nn.ReLU(),\n",
    "            nn.Conv1d(in_channels=32, out_channels=32, kernel_size=3, stride=1, padding=1),\n",
    "            nn.ReLU(),\n",
    "            nn.MaxPool1d(kernel_size=2, stride=2),\n",
    "            nn.Dropout(dropout_rate),\n",
    "            nn.Conv1d(in_channels=32, out_channels=64, kernel_size=3, stride=1, padding=1),\n",
    "            nn.ReLU(),\n",
    "            nn.Conv1d(in_channels=64, out_channels=64, kernel_size=3, stride=1, padding=1),\n",
    "            nn.ReLU(),\n",
    "            nn.MaxPool1d(kernel_size=2, stride=2),\n",
    "            nn.Dropout(dropout_rate),\n",
    "            nn.Conv1d(in_channels=64, out_channels=64, kernel_size=3, stride=1, padding=1),\n",
    "            nn.ReLU(),\n",
    "            nn.Conv1d(in_channels=64, out_channels=64, kernel_size=3, stride=1, padding=1),\n",
    "            nn.ReLU(),\n",
    "            nn.MaxPool1d(kernel_size=2, stride=2),\n",
    "            nn.Dropout(dropout_rate),\n",
    "            nn.Flatten(),\n",
    "            nn.Linear(final_feature_size, 20), \n",
    "            nn.ReLU(),\n",
    "            nn.Dropout(dropout_rate),\n",
    "            nn.Linear(20, self.num_classes) \n",
    "        )"
   ]
  },
  {
   "cell_type": "code",
   "execution_count": null,
   "metadata": {},
   "outputs": [
    {
     "name": "stderr",
     "output_type": "stream",
     "text": [
      "GPU available: False, used: False\n",
      "TPU available: False, using: 0 TPU cores\n",
      "IPU available: False, using: 0 IPUs\n",
      "HPU available: False, using: 0 HPUs\n"
     ]
    },
    {
     "data": {
      "text/html": [
       "Tracking run with wandb version 0.16.0"
      ],
      "text/plain": [
       "<IPython.core.display.HTML object>"
      ]
     },
     "metadata": {},
     "output_type": "display_data"
    },
    {
     "data": {
      "text/html": [
       "Run data is saved locally in <code>.\\wandb\\run-20231121_162951-1bms8whb</code>"
      ],
      "text/plain": [
       "<IPython.core.display.HTML object>"
      ]
     },
     "metadata": {},
     "output_type": "display_data"
    },
    {
     "data": {
      "text/html": [
       "Syncing run <strong><a href='https://wandb.ai/krokodil/NPR_MC1/runs/1bms8whb' target=\"_blank\">deepCNN_Training_2000</a></strong> to <a href='https://wandb.ai/krokodil/NPR_MC1' target=\"_blank\">Weights & Biases</a> (<a href='https://wandb.me/run' target=\"_blank\">docs</a>)<br/>"
      ],
      "text/plain": [
       "<IPython.core.display.HTML object>"
      ]
     },
     "metadata": {},
     "output_type": "display_data"
    },
    {
     "data": {
      "text/html": [
       " View project at <a href='https://wandb.ai/krokodil/NPR_MC1' target=\"_blank\">https://wandb.ai/krokodil/NPR_MC1</a>"
      ],
      "text/plain": [
       "<IPython.core.display.HTML object>"
      ]
     },
     "metadata": {},
     "output_type": "display_data"
    },
    {
     "data": {
      "text/html": [
       " View run at <a href='https://wandb.ai/krokodil/NPR_MC1/runs/1bms8whb' target=\"_blank\">https://wandb.ai/krokodil/NPR_MC1/runs/1bms8whb</a>"
      ],
      "text/plain": [
       "<IPython.core.display.HTML object>"
      ]
     },
     "metadata": {},
     "output_type": "display_data"
    },
    {
     "name": "stderr",
     "output_type": "stream",
     "text": [
      "\n",
      "  | Name  | Type                 | Params\n",
      "-----------------------------------------------\n",
      "0 | loss  | BCEWithLogitsLoss    | 0     \n",
      "1 | fbeta | MultilabelFBetaScore | 0     \n",
      "2 | model | Sequential           | 396 K \n",
      "-----------------------------------------------\n",
      "396 K     Trainable params\n",
      "0         Non-trainable params\n",
      "396 K     Total params\n",
      "1.586     Total estimated model params size (MB)\n"
     ]
    },
    {
     "name": "stdout",
     "output_type": "stream",
     "text": [
      "Sanity Checking: |          | 0/? [00:00<?, ?it/s]"
     ]
    },
    {
     "name": "stderr",
     "output_type": "stream",
     "text": [
      "c:\\Users\\yanni\\OneDrive\\FHNW\\Module\\5. Semester\\Natural language processing\\fhnw-npr-Natural-Language-Processing\\.venv\\Lib\\site-packages\\pytorch_lightning\\trainer\\connectors\\data_connector.py:441: The 'val_dataloader' does not have many workers which may be a bottleneck. Consider increasing the value of the `num_workers` argument` to `num_workers=7` in the `DataLoader` to improve performance.\n"
     ]
    },
    {
     "name": "stdout",
     "output_type": "stream",
     "text": [
      "                                                                           "
     ]
    },
    {
     "name": "stderr",
     "output_type": "stream",
     "text": [
      "c:\\Users\\yanni\\OneDrive\\FHNW\\Module\\5. Semester\\Natural language processing\\fhnw-npr-Natural-Language-Processing\\.venv\\Lib\\site-packages\\pytorch_lightning\\trainer\\connectors\\data_connector.py:441: The 'train_dataloader' does not have many workers which may be a bottleneck. Consider increasing the value of the `num_workers` argument` to `num_workers=7` in the `DataLoader` to improve performance.\n",
      "c:\\Users\\yanni\\OneDrive\\FHNW\\Module\\5. Semester\\Natural language processing\\fhnw-npr-Natural-Language-Processing\\.venv\\Lib\\site-packages\\pytorch_lightning\\loops\\fit_loop.py:293: The number of training batches (4) is smaller than the logging interval Trainer(log_every_n_steps=50). Set a lower value for log_every_n_steps if you want to see logs for the training epoch.\n"
     ]
    },
    {
     "name": "stdout",
     "output_type": "stream",
     "text": [
      "Epoch 9: 100%|██████████| 4/4 [00:06<00:00,  0.61it/s, v_num=8whb, train_f1_mikro=0.113, val_f1_mikro=0.114] "
     ]
    },
    {
     "name": "stderr",
     "output_type": "stream",
     "text": [
      "`Trainer.fit` stopped: `max_epochs=10` reached.\n"
     ]
    },
    {
     "name": "stdout",
     "output_type": "stream",
     "text": [
      "Epoch 9: 100%|██████████| 4/4 [00:06<00:00,  0.61it/s, v_num=8whb, train_f1_mikro=0.113, val_f1_mikro=0.114]\n"
     ]
    },
    {
     "data": {
      "text/html": [
       "<style>\n",
       "    table.wandb td:nth-child(1) { padding: 0 10px; text-align: left ; width: auto;} td:nth-child(2) {text-align: left ; width: 100%}\n",
       "    .wandb-row { display: flex; flex-direction: row; flex-wrap: wrap; justify-content: flex-start; width: 100% }\n",
       "    .wandb-col { display: flex; flex-direction: column; flex-basis: 100%; flex: 1; padding: 10px; }\n",
       "    </style>\n",
       "<div class=\"wandb-row\"><div class=\"wandb-col\"><h3>Run history:</h3><br/><table class=\"wandb\"><tr><td>epoch</td><td>▁▂▃▃▄▅▆▆▇█</td></tr><tr><td>trainer/global_step</td><td>▁▂▃▃▄▅▆▆▇█</td></tr><tr><td>val_f1_mikro</td><td>▁▁▁▁▁▁▁▁▁█</td></tr><tr><td>val_loss</td><td>█▇▆▆▅▄▃▃▂▁</td></tr></table><br/></div><div class=\"wandb-col\"><h3>Run summary:</h3><br/><table class=\"wandb\"><tr><td>epoch</td><td>9</td></tr><tr><td>trainer/global_step</td><td>39</td></tr><tr><td>val_f1_mikro</td><td>0.11396</td></tr><tr><td>val_loss</td><td>0.69646</td></tr></table><br/></div></div>"
      ],
      "text/plain": [
       "<IPython.core.display.HTML object>"
      ]
     },
     "metadata": {},
     "output_type": "display_data"
    },
    {
     "data": {
      "text/html": [
       " View run <strong style=\"color:#cdcd00\">deepCNN_Training_2000</strong> at: <a href='https://wandb.ai/krokodil/NPR_MC1/runs/1bms8whb' target=\"_blank\">https://wandb.ai/krokodil/NPR_MC1/runs/1bms8whb</a><br/>Synced 5 W&B file(s), 0 media file(s), 0 artifact file(s) and 0 other file(s)"
      ],
      "text/plain": [
       "<IPython.core.display.HTML object>"
      ]
     },
     "metadata": {},
     "output_type": "display_data"
    },
    {
     "data": {
      "text/html": [
       "Find logs at: <code>.\\wandb\\run-20231121_162951-1bms8whb\\logs</code>"
      ],
      "text/plain": [
       "<IPython.core.display.HTML object>"
      ]
     },
     "metadata": {},
     "output_type": "display_data"
    }
   ],
   "source": [
    "# Instanziieren Sie Ihr Modell\n",
    "deepCNN = DeepCNN(lr=0.001, num_classes=57)\n",
    "\n",
    "wandb_logger = WandbLogger(name=\"deepCNN_Training_2000\", project=\"NPR_MC1\")\n",
    "trainer = pl.Trainer(max_epochs=10, logger=wandb_logger)\n",
    "trainer.fit(deepCNN, train_loader, test_loader)\n",
    "\n",
    "wandb_logger.experiment.finish()"
   ]
  },
  {
   "cell_type": "code",
   "execution_count": null,
   "metadata": {},
   "outputs": [
    {
     "name": "stdout",
     "output_type": "stream",
     "text": [
      "   threshold  accuracy  precision  recall  f1_mikro  f1_makro\n",
      "0       0.10       0.0   0.053509     1.0  0.101582  0.071797\n",
      "1       0.15       0.0   0.053509     1.0  0.101582  0.071797\n",
      "2       0.20       0.0   0.053509     1.0  0.101582  0.071797\n",
      "3       0.25       0.0   0.053509     1.0  0.101582  0.071797\n",
      "4       0.30       0.0   0.053509     1.0  0.101582  0.071797\n",
      "5       0.40       0.0   0.053509     1.0  0.101582  0.071797\n",
      "Bester Threshold: 0.1\n"
     ]
    }
   ],
   "source": [
    "results_df_deepCNN, best_threshold_deepCNN = test_thresholds(deepCNN, test_loader, thresholds)\n",
    "\n",
    "# Anzeigen des besten Thresholds\n",
    "print(\"Bester Threshold:\", best_threshold_deepCNN)"
   ]
  },
  {
   "cell_type": "code",
   "execution_count": null,
   "metadata": {},
   "outputs": [
    {
     "name": "stderr",
     "output_type": "stream",
     "text": [
      "C:\\Users\\yanni\\AppData\\Local\\Temp\\ipykernel_19264\\318981671.py:3: SettingWithCopyWarning: \n",
      "A value is trying to be set on a copy of a slice from a DataFrame.\n",
      "Try using .loc[row_indexer,col_indexer] = value instead\n",
      "\n",
      "See the caveats in the documentation: https://pandas.pydata.org/pandas-docs/stable/user_guide/indexing.html#returning-a-view-versus-a-copy\n",
      "  best_threshold_df_deep['model'] = \"Deep CNN\"\n"
     ]
    }
   ],
   "source": [
    "# append bestthreashold to dataframe with model name\n",
    "best_threshold_df_deep = results_df_deepCNN[results_df_deepCNN['threshold'] == best_threshold_deepCNN]\n",
    "best_threshold_df_deep['model'] = \"Deep CNN\"\n",
    "\n",
    "# concat with previous results dataframe\n",
    "results_df = pd.concat([results_df, best_threshold_df_deep])"
   ]
  },
  {
   "cell_type": "code",
   "execution_count": null,
   "metadata": {},
   "outputs": [],
   "source": [
    "torch.save(deepCNN.state_dict(), 'models/deep_CNN_model_2000_words.pth')"
   ]
  },
  {
   "cell_type": "code",
   "execution_count": null,
   "metadata": {},
   "outputs": [],
   "source": [
    "# save results as csv\n",
    "results_df.to_csv(\"results/results_cnn.csv\")"
   ]
  },
  {
   "cell_type": "markdown",
   "metadata": {},
   "source": [
    "### Evaluation"
   ]
  },
  {
   "cell_type": "code",
   "execution_count": null,
   "metadata": {},
   "outputs": [],
   "source": [
    "results_df = pd.read_csv(\"results/results_cnn.csv\")"
   ]
  },
  {
   "cell_type": "code",
   "execution_count": null,
   "metadata": {},
   "outputs": [
    {
     "data": {
      "image/png": "[encoded data removed]",
      "text/plain": [
       "<Figure size 2000x500 with 3 Axes>"
      ]
     },
     "metadata": {},
     "output_type": "display_data"
    }
   ],
   "source": [
    "# make a plot with 3 subplots with the f1_mikro scores for each model and eaach threshold\n",
    "fig, axes = plt.subplots(1, 3, figsize=(20, 5))\n",
    "\n",
    "# plot the data with eror bars\n",
    "results_df_simpleCNN.plot(x='threshold', y='f1_mikro', ax=axes[0])\n",
    "results_df_complexCNN.plot(x='threshold', y='f1_mikro', ax=axes[1])\n",
    "results_df_deepCNN.plot(x='threshold', y='f1_mikro', ax=axes[2])\n",
    "\n",
    "# add labels\n",
    "axes[0].set_title('Simple CNN')\n",
    "axes[0].set_xlabel('Threshold')\n",
    "axes[0].set_ylabel('F1 Score Micro')\n",
    "\n",
    "axes[1].set_title('Complex CNN')\n",
    "axes[1].set_xlabel('Threshold')\n",
    "axes[1].set_ylabel('F1 Score Micro')\n",
    "\n",
    "axes[2].set_title('Deep CNN')\n",
    "axes[2].set_xlabel('Threshold')\n",
    "axes[2].set_ylabel('F1 Score Micro')\n",
    "\n",
    "# customize the tick labels\n",
    "axes[0].set_xticks(np.arange(0, 1.1, 0.1))\n",
    "axes[1].set_xticks(np.arange(0, 1.1, 0.1))\n",
    "axes[2].set_xticks(np.arange(0, 1.1, 0.1))\n",
    "\n",
    "plt.show()"
   ]
  }
 ],
 "metadata": {
  "kernelspec": {
   "display_name": "npr",
   "language": "python",
   "name": "python3"
  },
  "language_info": {
   "codemirror_mode": {
    "name": "ipython",
    "version": 3
   },
   "file_extension": ".py",
   "mimetype": "text/x-python",
   "name": "python",
   "nbconvert_exporter": "python",
   "pygments_lexer": "ipython3",
   "version": "3.11.4"
  },
  "orig_nbformat": 4
 },
 "nbformat": 4,
 "nbformat_minor": 2
}
