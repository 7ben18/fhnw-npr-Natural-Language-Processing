{
 "cells": [
  {
   "cell_type": "markdown",
   "metadata": {},
   "source": [
    "<div style=\"width: 30%; float: right; margin: 10px; margin-right: 5%;\">\n",
    "    <img src=\"https://upload.wikimedia.org/wikipedia/commons/thumb/d/d3/FHNW_Logo.svg/2560px-FHNW_Logo.svg.png\" width=\"500\" style=\"float: left; filter: invert(50%);\"/>\n",
    "</div>\n",
    "\n",
    "<h1 style=\"text-align: left; margin-top: 10px; float: left; width: 60%;\">\n",
    "    npr Mini-Challenge 2 <br> \n",
    "</h1>\n",
    "\n",
    "<p style=\"clear: both; text-align: left;\">\n",
    "    Bearbeitet durch Si Ben Tran, Yannic Lais, Rami Tarabishi im HS 2023.<br>Bachelor of Science FHNW in Data Science.\n",
    "</p>\n",
    "\n",
    "\n",
    "# Aufgabe aus dem Space\n",
    "Mini-Challenge 2-C (LE6):\n",
    "Chatbot\n",
    "\n",
    "You build a simple chatbot for hotel recommendation (here you can combine with npr and webscraping challenge) or extend the chatbot from the library (auxilio, please take contact with me), with rasa or dialogflow. You can also propose a use case. Important is the way intent are recognized and NER or variables are extracted. Delivery is a report on the use case, interactions and how intents are recognized and variables extracted. Also an error analysis on concrete conversations (confidence of models, explanation of predictions, etc.) should be undertaken. The submission can be done in a group of 2 or 3.\n"
   ]
  },
  {
   "cell_type": "markdown",
   "metadata": {},
   "source": [
    "# Aufgabenstellung\n",
    "\n",
    "Wir haben hier einen simplen ChatBot erstellt, welches die Anfrage des Benutzers entgegennimmt und eine Antwort zurückgibt. Die Anfrage des Benutzers wird durch unsere Preprocessing Pipeline bearbeitet und anschliessend durch ein Machine Learning Model (Kleines Neuronales Netz) klassifiziert - Intent Klassifikation. Anschliessend wird eine zufällige Antwort aus einer Liste von Antworten zurückgegeben. Weiter haben wir versucht die NER (Named Entity Recognition) zu implementieren, welche aber nicht so gut funktioniert hat."
   ]
  },
  {
   "cell_type": "markdown",
   "metadata": {},
   "source": [
    "# 1 Libraries"
   ]
  },
  {
   "cell_type": "code",
   "execution_count": 1,
   "metadata": {},
   "outputs": [],
   "source": [
    "%load_ext autoreload\n",
    "%autoreload 2\n",
    "\n",
    "import json\n",
    "import numpy as np\n",
    "from tqdm import tqdm \n",
    "\n",
    "import nltk\n",
    "# nltk.download('punkt')\n",
    "\n",
    "import torch\n",
    "import torch.nn as nn\n",
    "from torch.utils.data import Dataset, DataLoader\n",
    "\n",
    "import spacy\n",
    "spacy_nlp = spacy.load(\"en_core_web_sm\")\n",
    "\n",
    "from src.preprocessing import tokenize, stem, bag_of_words\n",
    "from src.news_scraper import scrape_srf_links, get_data_for_topics\n",
    "\n",
    "device = torch.device(\"cuda\" if torch.cuda.is_available() else \"cpu\")\n",
    "\n",
    "# Preprocessing with bert Transformer\n",
    "from transformers import BertTokenizer, BertModel\n",
    "from transformers import BertModel\n",
    "from torch.optim import Adam\n",
    "from transformers import BertTokenizer, BertModel\n",
    "from torch.utils.data import DataLoader\n",
    "from tqdm import tqdm\n",
    "\n"
   ]
  },
  {
   "cell_type": "markdown",
   "metadata": {},
   "source": [
    "# 2 Create Data "
   ]
  },
  {
   "cell_type": "code",
   "execution_count": 2,
   "metadata": {},
   "outputs": [
    {
     "name": "stdout",
     "output_type": "stream",
     "text": [
      "Combined JSON file 'data/intents_news.json' created successfully for all topics.\n"
     ]
    }
   ],
   "source": [
    "# Scrape srf webpage\n",
    "url = \"https://www.srf.ch\"\n",
    "topic_list = scrape_srf_links(url)\n",
    "# create data \n",
    "get_data_for_topics(topic_list)"
   ]
  },
  {
   "cell_type": "code",
   "execution_count": 3,
   "metadata": {},
   "outputs": [],
   "source": [
    "with open('data/intents_news.json', 'r') as f:\n",
    "    intents_news = json.load(f)\n",
    "\n",
    "with open('data/intents-scratch.json', 'r') as f:\n",
    "    intents = json.load(f)\n",
    "\n",
    "# combine intents_news with intens\n",
    "intents[\"intents\"].extend(intents_news[\"intents\"])\n",
    "\n",
    "# export intents formmated as json\n",
    "with open('data/intents.json', 'w') as outfile:\n",
    "    json.dump(intents, outfile, indent=4)"
   ]
  },
  {
   "cell_type": "code",
   "execution_count": 4,
   "metadata": {},
   "outputs": [
    {
     "name": "stdout",
     "output_type": "stream",
     "text": [
      "['Hello', ',', 'my', 'name', 'is', 'Hi', ',', 'I', \"'m\", 'Hey', ',', 'I', 'go', 'by', 'I', 'am', 'Greetings', ',', 'call', 'me', 'You', 'can', 'call', 'me', 'They', 'call', 'me', 'My', 'name', \"'s\", 'I', \"'d\", 'like', 'to', 'introduce', 'myself', ',', 'I', \"'m\", 'Allow', 'me', 'to', 'introduce', 'myself', ',', 'I', 'am', 'I', 'go', 'by', 'the', 'name', 'People', 'know', 'me', 'as', 'Hi', 'Hey', 'How', 'are', 'you', 'Is', 'anyone', 'there', '?', 'Hello', 'Good', 'day', 'Whats', 'up', 'How', 'are', 'you', 'doing', 'Howdy', 'Hi', 'there', 'Hola', 'Good', 'morning', 'Good', 'afternoon', 'Good', 'evening', 'It', 'is', 'nice', 'to', 'meet', 'you', 'Bye', 'See', 'you', 'later', 'Goodbye', 'Nice', 'chatting', 'to', 'you', ',', 'bye', 'Till', 'next', 'time', 'Have', 'a', 'nice', 'day', 'See', 'you', '!', 'Later', '!', 'Goodbye', '!', 'I', \"'m\", 'off', '!', 'That', \"'s\", 'all', 'for', 'now', '.', 'See', 'you', 'soon', '!', 'I', \"'ve\", 'got', 'to', 'get', 'going', '.', 'Bye', '!', 'It', 'was', 'nice', 'talking', 'to', 'you', '.', 'See', 'you', 'soon', '.', 'I', \"'ve\", 'got', 'to', 'get', 'going', '.', 'Have', 'a', 'great', 'day', '!', 'It', 'was', 'nice', 'talking', 'to', 'you', '.', 'Have', 'a', 'great', 'day', '!', 'I', \"'ve\", 'got', 'to', 'get', 'going', '.', 'Have', 'a', 'nice', 'day', '!', 'It', 'was', 'nice', 'talking', 'to', 'you', '.', 'Have', 'a', 'nice', 'day', '!', 'I', \"'ve\", 'got', 'to', 'get', 'going', '.', 'See', 'you', 'later', '!', 'Thanks', 'Thank', 'you', 'That', \"'s\", 'helpful', 'Thank', \"'s\", 'a', 'lot', '!', 'Thanks', 'for', 'helping', 'me', 'Awesome', ',', 'thanks', 'Thanks', 'for', 'the', 'help', 'Thanks', 'a', 'bunch', 'Thanks', 'for', 'everything', 'Thanks', 'for', 'the', 'chat', 'Thanks', 'for', 'the', 'conversation', 'Thanks', 'for', 'the', 'info', 'Which', 'items', 'do', 'you', 'have', '?', 'What', 'kinds', 'of', 'items', 'are', 'there', '?', 'What', 'do', 'you', 'sell', '?', 'What', 'are', 'your', 'items', '?', 'What', 'do', 'you', 'have', '?', 'What', 'are', 'you', 'selling', '?', 'What', 'do', 'you', 'offer', '?', 'What', 'do', 'you', 'have', 'for', 'sale', '?', 'What', 'do', 'you', 'have', 'in', 'stock', '?', 'What', 'are', 'your', 'products', '?', 'Do', 'you', 'take', 'credit', 'cards', '?', 'Do', 'you', 'accept', 'Mastercard', '?', 'Can', 'I', 'pay', 'with', 'Paypal', '?', 'Are', 'you', 'cash', 'only', '?', 'Do', 'you', 'accept', 'VISA', '?', 'Do', 'you', 'accept', 'AMEX', '?', 'Do', 'you', 'accept', 'Discover', 'Card', '?', 'Do', 'you', 'accept', 'Apple', 'Pay', '?', 'Do', 'you', 'accept', 'Google', 'Pay', '?', 'Do', 'you', 'accept', 'Samsung', 'Pay', '?', 'Do', 'you', 'accept', 'Bitcoin', '?', 'Do', 'you', 'accept', 'cryptocurrency', '?', 'Do', 'you', 'accept', 'crypto', '?', 'Do', 'you', 'accept', 'Dogecoin', '?', 'Do', 'you', 'accept', 'Ethereum', '?', 'How', 'long', 'does', 'delivery', 'take', '?', 'How', 'long', 'does', 'shipping', 'take', '?', 'When', 'do', 'I', 'get', 'my', 'delivery', '?', 'When', 'do', 'I', 'get', 'my', 'order', '?', 'When', 'do', 'I', 'get', 'my', 'package', '?', 'When', 'do', 'I', 'get', 'my', 'shipment', '?', 'When', 'do', 'I', 'get', 'my', 'item', '?', 'Tell', 'me', 'a', 'joke', '!', 'Tell', 'me', 'something', 'funny', '!', 'Do', 'you', 'know', 'a', 'joke', '?', 'Do', 'you', 'know', 'any', 'jokes', '?', 'Do', 'you', 'know', 'any', 'funny', 'jokes', '?', 'Get', 'me', 'the', 'latest', 'school', 'Tell', 'me', 'about', 'school', 'What', \"'s\", 'happening', 'in', 'school', 'Give', 'me', 'updates', 'on', 'school', 'I', \"'m\", 'interested', 'in', 'school', 'Can', 'you', 'provide', 'school', 'Tell', 'me', 'more', 'about', 'school', 'Share', 'school', 'school', 'Get', 'me', 'the', 'latest', 'podcasts', 'Tell', 'me', 'about', 'podcasts', 'What', \"'s\", 'happening', 'in', 'podcasts', 'Give', 'me', 'updates', 'on', 'podcasts', 'I', \"'m\", 'interested', 'in', 'podcasts', 'Can', 'you', 'provide', 'podcasts', 'Tell', 'me', 'more', 'about', 'podcasts', 'Share', 'podcasts', 'podcasts', 'Get', 'me', 'the', 'latest', 'www.srf.ch', 'Tell', 'me', 'about', 'www.srf.ch', 'What', \"'s\", 'happening', 'in', 'www.srf.ch', 'Give', 'me', 'updates', 'on', 'www.srf.ch', 'I', \"'m\", 'interested', 'in', 'www.srf.ch', 'Can', 'you', 'provide', 'www.srf.ch', 'Tell', 'me', 'more', 'about', 'www.srf.ch', 'Share', 'www.srf.ch', 'www.srf.ch', 'Get', 'me', 'the', 'latest', 'gesellschaft', 'Tell', 'me', 'about', 'gesellschaft', 'What', \"'s\", 'happening', 'in', 'gesellschaft', 'Give', 'me', 'updates', 'on', 'gesellschaft', 'I', \"'m\", 'interested', 'in', 'gesellschaft', 'Can', 'you', 'provide', 'gesellschaft', 'Tell', 'me', 'more', 'about', 'gesellschaft', 'Share', 'gesellschaft', 'gesellschaft', 'Get', 'me', 'the', 'latest', 'www.swissinfo.ch', 'Tell', 'me', 'about', 'www.swissinfo.ch', 'What', \"'s\", 'happening', 'in', 'www.swissinfo.ch', 'Give', 'me', 'updates', 'on', 'www.swissinfo.ch', 'I', \"'m\", 'interested', 'in', 'www.swissinfo.ch', 'Can', 'you', 'provide', 'www.swissinfo.ch', 'Tell', 'me', 'more', 'about', 'www.swissinfo.ch', 'Share', 'www.swissinfo.ch', 'www.swissinfo.ch', 'Get', 'me', 'the', 'latest', 'www.srgssr.ch', 'Tell', 'me', 'about', 'www.srgssr.ch', 'What', \"'s\", 'happening', 'in', 'www.srgssr.ch', 'Give', 'me', 'updates', 'on', 'www.srgssr.ch', 'I', \"'m\", 'interested', 'in', 'www.srgssr.ch', 'Can', 'you', 'provide', 'www.srgssr.ch', 'Tell', 'me', 'more', 'about', 'www.srgssr.ch', 'Share', 'www.srgssr.ch', 'www.srgssr.ch', 'Get', 'me', 'the', 'latest', 'www.radioswissjazz.ch', 'Tell', 'me', 'about', 'www.radioswissjazz.ch', 'What', \"'s\", 'happening', 'in', 'www.radioswissjazz.ch', 'Give', 'me', 'updates', 'on', 'www.radioswissjazz.ch', 'I', \"'m\", 'interested', 'in', 'www.radioswissjazz.ch', 'Can', 'you', 'provide', 'www.radioswissjazz.ch', 'Tell', 'me', 'more', 'about', 'www.radioswissjazz.ch', 'Share', 'www.radioswissjazz.ch', 'www.radioswissjazz.ch', 'Get', 'me', 'the', 'latest', 'www.rsi.ch', 'Tell', 'me', 'about', 'www.rsi.ch', 'What', \"'s\", 'happening', 'in', 'www.rsi.ch', 'Give', 'me', 'updates', 'on', 'www.rsi.ch', 'I', \"'m\", 'interested', 'in', 'www.rsi.ch', 'Can', 'you', 'provide', 'www.rsi.ch', 'Tell', 'me', 'more', 'about', 'www.rsi.ch', 'Share', 'www.rsi.ch', 'www.rsi.ch', 'Get', 'me', 'the', 'latest', 'literatur', 'Tell', 'me', 'about', 'literatur', 'What', \"'s\", 'happening', 'in', 'literatur', 'Give', 'me', 'updates', 'on', 'literatur', 'I', \"'m\", 'interested', 'in', 'literatur', 'Can', 'you', 'provide', 'literatur', 'Tell', 'me', 'more', 'about', 'literatur', 'Share', 'literatur', 'literatur', 'Get', 'me', 'the', 'latest', 'gesellschaft-religion', 'Tell', 'me', 'about', 'gesellschaft-religion', 'What', \"'s\", 'happening', 'in', 'gesellschaft-religion', 'Give', 'me', 'updates', 'on', 'gesellschaft-religion', 'I', \"'m\", 'interested', 'in', 'gesellschaft-religion', 'Can', 'you', 'provide', 'gesellschaft-religion', 'Tell', 'me', 'more', 'about', 'gesellschaft-religion', 'Share', 'gesellschaft-religion', 'gesellschaft-religion', 'Get', 'me', 'the', 'latest', 'jobs.srf.ch', 'Tell', 'me', 'about', 'jobs.srf.ch', 'What', \"'s\", 'happening', 'in', 'jobs.srf.ch', 'Give', 'me', 'updates', 'on', 'jobs.srf.ch', 'I', \"'m\", 'interested', 'in', 'jobs.srf.ch', 'Can', 'you', 'provide', 'jobs.srf.ch', 'Tell', 'me', 'more', 'about', 'jobs.srf.ch', 'Share', 'jobs.srf.ch', 'jobs.srf.ch', 'Get', 'me', 'the', 'latest', 'mehr-sport', 'Tell', 'me', 'about', 'mehr-sport', 'What', \"'s\", 'happening', 'in', 'mehr-sport', 'Give', 'me', 'updates', 'on', 'mehr-sport', 'I', \"'m\", 'interested', 'in', 'mehr-sport', 'Can', 'you', 'provide', 'mehr-sport', 'Tell', 'me', 'more', 'about', 'mehr-sport', 'Share', 'mehr-sport', 'mehr-sport', 'Get', 'me', 'the', 'latest', 'film-serien', 'Tell', 'me', 'about', 'film-serien', 'What', \"'s\", 'happening', 'in', 'film-serien', 'Give', 'me', 'updates', 'on', 'film-serien', 'I', \"'m\", 'interested', 'in', 'film-serien', 'Can', 'you', 'provide', 'film-serien', 'Tell', 'me', 'more', 'about', 'film-serien', 'Share', 'film-serien', 'film-serien', 'Get', 'me', 'the', 'latest', 'gesichterundgeschichten', 'Tell', 'me', 'about', 'gesichterundgeschichten', 'What', \"'s\", 'happening', 'in', 'gesichterundgeschichten', 'Give', 'me', 'updates', 'on', 'gesichterundgeschichten', 'I', \"'m\", 'interested', 'in', 'gesichterundgeschichten', 'Can', 'you', 'provide', 'gesichterundgeschichten', 'Tell', 'me', 'more', 'about', 'gesichterundgeschichten', 'Share', 'gesichterundgeschichten', 'gesichterundgeschichten', 'Get', 'me', 'the', 'latest', 'wetter', 'Tell', 'me', 'about', 'wetter', 'What', \"'s\", 'happening', 'in', 'wetter', 'Give', 'me', 'updates', 'on', 'wetter', 'I', \"'m\", 'interested', 'in', 'wetter', 'Can', 'you', 'provide', 'wetter', 'Tell', 'me', 'more', 'about', 'wetter', 'Share', 'wetter', 'wetter', 'Get', 'me', 'the', 'latest', 'schweiz', 'Tell', 'me', 'about', 'schweiz', 'What', \"'s\", 'happening', 'in', 'schweiz', 'Give', 'me', 'updates', 'on', 'schweiz', 'I', \"'m\", 'interested', 'in', 'schweiz', 'Can', 'you', 'provide', 'schweiz', 'Tell', 'me', 'more', 'about', 'schweiz', 'Share', 'schweiz', 'schweiz', 'Get', 'me', 'the', 'latest', 'website-und-apps', 'Tell', 'me', 'about', 'website-und-apps', 'What', \"'s\", 'happening', 'in', 'website-und-apps', 'Give', 'me', 'updates', 'on', 'website-und-apps', 'I', \"'m\", 'interested', 'in', 'website-und-apps', 'Can', 'you', 'provide', 'website-und-apps', 'Tell', 'me', 'more', 'about', 'website-und-apps', 'Share', 'website-und-apps', 'website-und-apps', 'Get', 'me', 'the', 'latest', 'kunst', 'Tell', 'me', 'about', 'kunst', 'What', \"'s\", 'happening', 'in', 'kunst', 'Give', 'me', 'updates', 'on', 'kunst', 'I', \"'m\", 'interested', 'in', 'kunst', 'Can', 'you', 'provide', 'kunst', 'Tell', 'me', 'more', 'about', 'kunst', 'Share', 'kunst', 'kunst', 'Get', 'me', 'the', 'latest', 'www.rtr.ch', 'Tell', 'me', 'about', 'www.rtr.ch', 'What', \"'s\", 'happening', 'in', 'www.rtr.ch', 'Give', 'me', 'updates', 'on', 'www.rtr.ch', 'I', \"'m\", 'interested', 'in', 'www.rtr.ch', 'Can', 'you', 'provide', 'www.rtr.ch', 'Tell', 'me', 'more', 'about', 'www.rtr.ch', 'Share', 'www.rtr.ch', 'www.rtr.ch', 'Get', 'me', 'the', 'latest', 'startseite', 'Tell', 'me', 'about', 'startseite', 'What', \"'s\", 'happening', 'in', 'startseite', 'Give', 'me', 'updates', 'on', 'startseite', 'I', \"'m\", 'interested', 'in', 'startseite', 'Can', 'you', 'provide', 'startseite', 'Tell', 'me', 'more', 'about', 'startseite', 'Share', 'startseite', 'startseite', 'Get', 'me', 'the', 'latest', 'international', 'Tell', 'me', 'about', 'international', 'What', \"'s\", 'happening', 'in', 'international', 'Give', 'me', 'updates', 'on', 'international', 'I', \"'m\", 'interested', 'in', 'international', 'Can', 'you', 'provide', 'international', 'Tell', 'me', 'more', 'about', 'international', 'Share', 'international', 'international', 'Get', 'me', 'the', 'latest', 'ski-alpin', 'Tell', 'me', 'about', 'ski-alpin', 'What', \"'s\", 'happening', 'in', 'ski-alpin', 'Give', 'me', 'updates', 'on', 'ski-alpin', 'I', \"'m\", 'interested', 'in', 'ski-alpin', 'Can', 'you', 'provide', 'ski-alpin', 'Tell', 'me', 'more', 'about', 'ski-alpin', 'Share', 'ski-alpin', 'ski-alpin', 'Get', 'me', 'the', 'latest', 'decodar-nossa-cultura', 'Tell', 'me', 'about', 'decodar-nossa-cultura', 'What', \"'s\", 'happening', 'in', 'decodar-nossa-cultura', 'Give', 'me', 'updates', 'on', 'decodar-nossa-cultura', 'I', \"'m\", 'interested', 'in', 'decodar-nossa-cultura', 'Can', 'you', 'provide', 'decodar-nossa-cultura', 'Tell', 'me', 'more', 'about', 'decodar-nossa-cultura', 'Share', 'decodar-nossa-cultura', 'decodar-nossa-cultura', 'Get', 'me', 'the', 'latest', 'www.radioswisspop.ch', 'Tell', 'me', 'about', 'www.radioswisspop.ch', 'What', \"'s\", 'happening', 'in', 'www.radioswisspop.ch', 'Give', 'me', 'updates', 'on', 'www.radioswisspop.ch', 'I', \"'m\", 'interested', 'in', 'www.radioswisspop.ch', 'Can', 'you', 'provide', 'www.radioswisspop.ch', 'Tell', 'me', 'more', 'about', 'www.radioswisspop.ch', 'Share', 'www.radioswisspop.ch', 'www.radioswisspop.ch', 'Get', 'me', 'the', 'latest', 'wirtschaft', 'Tell', 'me', 'about', 'wirtschaft', 'What', \"'s\", 'happening', 'in', 'wirtschaft', 'Give', 'me', 'updates', 'on', 'wirtschaft', 'I', \"'m\", 'interested', 'in', 'wirtschaft', 'Can', 'you', 'provide', 'wirtschaft', 'Tell', 'me', 'more', 'about', 'wirtschaft', 'Share', 'wirtschaft', 'wirtschaft', 'Get', 'me', 'the', 'latest', 'dialog', 'Tell', 'me', 'about', 'dialog', 'What', \"'s\", 'happening', 'in', 'dialog', 'Give', 'me', 'updates', 'on', 'dialog', 'I', \"'m\", 'interested', 'in', 'dialog', 'Can', 'you', 'provide', 'dialog', 'Tell', 'me', 'more', 'about', 'dialog', 'Share', 'dialog', 'dialog', 'Get', 'me', 'the', 'latest', 'fussball', 'Tell', 'me', 'about', 'fussball', 'What', \"'s\", 'happening', 'in', 'fussball', 'Give', 'me', 'updates', 'on', 'fussball', 'I', \"'m\", 'interested', 'in', 'fussball', 'Can', 'you', 'provide', 'fussball', 'Tell', 'me', 'more', 'about', 'fussball', 'Share', 'fussball', 'fussball', 'Get', 'me', 'the', 'latest', 'radio', 'Tell', 'me', 'about', 'radio', 'What', \"'s\", 'happening', 'in', 'radio', 'Give', 'me', 'updates', 'on', 'radio', 'I', \"'m\", 'interested', 'in', 'radio', 'Can', 'you', 'provide', 'radio', 'Tell', 'me', 'more', 'about', 'radio', 'Share', 'radio', 'radio', 'Get', 'me', 'the', 'latest', 'mensch', 'Tell', 'me', 'about', 'mensch', 'What', \"'s\", 'happening', 'in', 'mensch', 'Give', 'me', 'updates', 'on', 'mensch', 'I', \"'m\", 'interested', 'in', 'mensch', 'Can', 'you', 'provide', 'mensch', 'Tell', 'me', 'more', 'about', 'mensch', 'Share', 'mensch', 'mensch', 'Get', 'me', 'the', 'latest', 'gesundheit', 'Tell', 'me', 'about', 'gesundheit', 'What', \"'s\", 'happening', 'in', 'gesundheit', 'Give', 'me', 'updates', 'on', 'gesundheit', 'I', \"'m\", 'interested', 'in', 'gesundheit', 'Can', 'you', 'provide', 'gesundheit', 'Tell', 'me', 'more', 'about', 'gesundheit', 'Share', 'gesundheit', 'gesundheit', 'Get', 'me', 'the', 'latest', 'www.radioswissclassic.ch', 'Tell', 'me', 'about', 'www.radioswissclassic.ch', 'What', \"'s\", 'happening', 'in', 'www.radioswissclassic.ch', 'Give', 'me', 'updates', 'on', 'www.radioswissclassic.ch', 'I', \"'m\", 'interested', 'in', 'www.radioswissclassic.ch', 'Can', 'you', 'provide', 'www.radioswissclassic.ch', 'Tell', 'me', 'more', 'about', 'www.radioswissclassic.ch', 'Share', 'www.radioswissclassic.ch', 'www.radioswissclassic.ch', 'Get', 'me', 'the', 'latest', 'eishockey', 'Tell', 'me', 'about', 'eishockey', 'What', \"'s\", 'happening', 'in', 'eishockey', 'Give', 'me', 'updates', 'on', 'eishockey', 'I', \"'m\", 'interested', 'in', 'eishockey', 'Can', 'you', 'provide', 'eishockey', 'Tell', 'me', 'more', 'about', 'eishockey', 'Share', 'eishockey', 'eishockey', 'Get', 'me', 'the', 'latest', 'tv', 'Tell', 'me', 'about', 'tv', 'What', \"'s\", 'happening', 'in', 'tv', 'Give', 'me', 'updates', 'on', 'tv', 'I', \"'m\", 'interested', 'in', 'tv', 'Can', 'you', 'provide', 'tv', 'Tell', 'me', 'more', 'about', 'tv', 'Share', 'tv', 'tv', 'Get', 'me', 'the', 'latest', 'woerterbuch', 'Tell', 'me', 'about', 'woerterbuch', 'What', \"'s\", 'happening', 'in', 'woerterbuch', 'Give', 'me', 'updates', 'on', 'woerterbuch', 'I', \"'m\", 'interested', 'in', 'woerterbuch', 'Can', 'you', 'provide', 'woerterbuch', 'Tell', 'me', 'more', 'about', 'woerterbuch', 'Share', 'woerterbuch', 'woerterbuch', 'Get', 'me', 'the', 'latest', 'www.rts.ch', 'Tell', 'me', 'about', 'www.rts.ch', 'What', \"'s\", 'happening', 'in', 'www.rts.ch', 'Give', 'me', 'updates', 'on', 'www.rts.ch', 'I', \"'m\", 'interested', 'in', 'www.rts.ch', 'Can', 'you', 'provide', 'www.rts.ch', 'Tell', 'me', 'more', 'about', 'www.rts.ch', 'Share', 'www.rts.ch', 'www.rts.ch', 'Get', 'me', 'the', 'latest', 'musik', 'Tell', 'me', 'about', 'musik', 'What', \"'s\", 'happening', 'in', 'musik', 'Give', 'me', 'updates', 'on', 'musik', 'I', \"'m\", 'interested', 'in', 'musik', 'Can', 'you', 'provide', 'musik', 'Tell', 'me', 'more', 'about', 'musik', 'Share', 'musik', 'musik', 'Get', 'me', 'the', 'latest', 'allgemein', 'Tell', 'me', 'about', 'allgemein', 'What', \"'s\", 'happening', 'in', 'allgemein', 'Give', 'me', 'updates', 'on', 'allgemein', 'I', \"'m\", 'interested', 'in', 'allgemein', 'Can', 'you', 'provide', 'allgemein', 'Tell', 'me', 'more', 'about', 'allgemein', 'Share', 'allgemein', 'allgemein', 'Get', 'me', 'the', 'latest', 'kassensturz-espresso', 'Tell', 'me', 'about', 'kassensturz-espresso', 'What', \"'s\", 'happening', 'in', 'kassensturz-espresso', 'Give', 'me', 'updates', 'on', 'kassensturz-espresso', 'I', \"'m\", 'interested', 'in', 'kassensturz-espresso', 'Can', 'you', 'provide', 'kassensturz-espresso', 'Tell', 'me', 'more', 'about', 'kassensturz-espresso', 'Share', 'kassensturz-espresso', 'kassensturz-espresso', 'Get', 'me', 'the', 'latest', 'video', 'Tell', 'me', 'about', 'video', 'What', \"'s\", 'happening', 'in', 'video', 'Give', 'me', 'updates', 'on', 'video', 'I', \"'m\", 'interested', 'in', 'video', 'Can', 'you', 'provide', 'video', 'Tell', 'me', 'more', 'about', 'video', 'Share', 'video', 'video', 'Get', 'me', 'the', 'latest', 'themen', 'Tell', 'me', 'about', 'themen', 'What', \"'s\", 'happening', 'in', 'themen', 'Give', 'me', 'updates', 'on', 'themen', 'I', \"'m\", 'interested', 'in', 'themen', 'Can', 'you', 'provide', 'themen', 'Tell', 'me', 'more', 'about', 'themen', 'Share', 'themen', 'themen']\n",
      "['introduction', 'greeting', 'goodbye', 'thanks', 'items', 'payments', 'delivery', 'funny', 'school', 'podcasts', 'www.srf.ch', 'gesellschaft', 'www.swissinfo.ch', 'www.srgssr.ch', 'www.radioswissjazz.ch', 'www.rsi.ch', 'literatur', 'gesellschaft-religion', 'jobs.srf.ch', 'mehr-sport', 'film-serien', 'gesichterundgeschichten', 'wetter', 'schweiz', 'website-und-apps', 'kunst', 'www.rtr.ch', 'startseite', 'international', 'ski-alpin', 'decodar-nossa-cultura', 'www.radioswisspop.ch', 'wirtschaft', 'dialog', 'fussball', 'radio', 'mensch', 'gesundheit', 'www.radioswissclassic.ch', 'eishockey', 'tv', 'woerterbuch', 'www.rts.ch', 'musik', 'allgemein', 'kassensturz-espresso', 'video', 'themen']\n",
      "[(['Hello', ',', 'my', 'name', 'is'], 'introduction'), (['Hi', ',', 'I', \"'m\"], 'introduction'), (['Hey', ',', 'I', 'go', 'by'], 'introduction'), (['I', 'am'], 'introduction'), (['Greetings', ',', 'call', 'me'], 'introduction'), (['You', 'can', 'call', 'me'], 'introduction'), (['They', 'call', 'me'], 'introduction'), (['My', 'name', \"'s\"], 'introduction'), (['I', \"'d\", 'like', 'to', 'introduce', 'myself', ',', 'I', \"'m\"], 'introduction'), (['Allow', 'me', 'to', 'introduce', 'myself', ',', 'I', 'am'], 'introduction'), (['I', 'go', 'by', 'the', 'name'], 'introduction'), (['People', 'know', 'me', 'as'], 'introduction'), (['Hi'], 'greeting'), (['Hey'], 'greeting'), (['How', 'are', 'you'], 'greeting'), (['Is', 'anyone', 'there', '?'], 'greeting'), (['Hello'], 'greeting'), (['Good', 'day'], 'greeting'), (['Whats', 'up'], 'greeting'), (['How', 'are', 'you', 'doing'], 'greeting'), (['Howdy'], 'greeting'), (['Hi', 'there'], 'greeting'), (['Hola'], 'greeting'), (['Good', 'morning'], 'greeting'), (['Good', 'afternoon'], 'greeting'), (['Good', 'evening'], 'greeting'), (['It', 'is', 'nice', 'to', 'meet', 'you'], 'greeting'), (['Bye'], 'goodbye'), (['See', 'you', 'later'], 'goodbye'), (['Goodbye'], 'goodbye'), (['Nice', 'chatting', 'to', 'you', ',', 'bye'], 'goodbye'), (['Till', 'next', 'time'], 'goodbye'), (['Have', 'a', 'nice', 'day'], 'goodbye'), (['See', 'you', '!'], 'goodbye'), (['Later', '!'], 'goodbye'), (['Goodbye', '!'], 'goodbye'), (['I', \"'m\", 'off', '!'], 'goodbye'), (['That', \"'s\", 'all', 'for', 'now', '.', 'See', 'you', 'soon', '!'], 'goodbye'), (['I', \"'ve\", 'got', 'to', 'get', 'going', '.', 'Bye', '!'], 'goodbye'), (['It', 'was', 'nice', 'talking', 'to', 'you', '.', 'See', 'you', 'soon', '.'], 'goodbye'), (['I', \"'ve\", 'got', 'to', 'get', 'going', '.', 'Have', 'a', 'great', 'day', '!'], 'goodbye'), (['It', 'was', 'nice', 'talking', 'to', 'you', '.', 'Have', 'a', 'great', 'day', '!'], 'goodbye'), (['I', \"'ve\", 'got', 'to', 'get', 'going', '.', 'Have', 'a', 'nice', 'day', '!'], 'goodbye'), (['It', 'was', 'nice', 'talking', 'to', 'you', '.', 'Have', 'a', 'nice', 'day', '!'], 'goodbye'), (['I', \"'ve\", 'got', 'to', 'get', 'going', '.', 'See', 'you', 'later', '!'], 'goodbye'), (['Thanks'], 'thanks'), (['Thank', 'you'], 'thanks'), (['That', \"'s\", 'helpful'], 'thanks'), (['Thank', \"'s\", 'a', 'lot', '!'], 'thanks'), (['Thanks', 'for', 'helping', 'me'], 'thanks'), (['Awesome', ',', 'thanks'], 'thanks'), (['Thanks', 'for', 'the', 'help'], 'thanks'), (['Thanks', 'a', 'bunch'], 'thanks'), (['Thanks', 'for', 'everything'], 'thanks'), (['Thanks', 'for', 'the', 'chat'], 'thanks'), (['Thanks', 'for', 'the', 'conversation'], 'thanks'), (['Thanks', 'for', 'the', 'info'], 'thanks'), (['Which', 'items', 'do', 'you', 'have', '?'], 'items'), (['What', 'kinds', 'of', 'items', 'are', 'there', '?'], 'items'), (['What', 'do', 'you', 'sell', '?'], 'items'), (['What', 'are', 'your', 'items', '?'], 'items'), (['What', 'do', 'you', 'have', '?'], 'items'), (['What', 'are', 'you', 'selling', '?'], 'items'), (['What', 'do', 'you', 'offer', '?'], 'items'), (['What', 'do', 'you', 'have', 'for', 'sale', '?'], 'items'), (['What', 'do', 'you', 'have', 'in', 'stock', '?'], 'items'), (['What', 'are', 'your', 'products', '?'], 'items'), (['Do', 'you', 'take', 'credit', 'cards', '?'], 'payments'), (['Do', 'you', 'accept', 'Mastercard', '?'], 'payments'), (['Can', 'I', 'pay', 'with', 'Paypal', '?'], 'payments'), (['Are', 'you', 'cash', 'only', '?'], 'payments'), (['Do', 'you', 'accept', 'VISA', '?'], 'payments'), (['Do', 'you', 'accept', 'AMEX', '?'], 'payments'), (['Do', 'you', 'accept', 'Discover', 'Card', '?'], 'payments'), (['Do', 'you', 'accept', 'Apple', 'Pay', '?'], 'payments'), (['Do', 'you', 'accept', 'Google', 'Pay', '?'], 'payments'), (['Do', 'you', 'accept', 'Samsung', 'Pay', '?'], 'payments'), (['Do', 'you', 'accept', 'Bitcoin', '?'], 'payments'), (['Do', 'you', 'accept', 'cryptocurrency', '?'], 'payments'), (['Do', 'you', 'accept', 'crypto', '?'], 'payments'), (['Do', 'you', 'accept', 'Dogecoin', '?'], 'payments'), (['Do', 'you', 'accept', 'Ethereum', '?'], 'payments'), (['How', 'long', 'does', 'delivery', 'take', '?'], 'delivery'), (['How', 'long', 'does', 'shipping', 'take', '?'], 'delivery'), (['When', 'do', 'I', 'get', 'my', 'delivery', '?'], 'delivery'), (['When', 'do', 'I', 'get', 'my', 'order', '?'], 'delivery'), (['When', 'do', 'I', 'get', 'my', 'package', '?'], 'delivery'), (['When', 'do', 'I', 'get', 'my', 'shipment', '?'], 'delivery'), (['When', 'do', 'I', 'get', 'my', 'item', '?'], 'delivery'), (['Tell', 'me', 'a', 'joke', '!'], 'funny'), (['Tell', 'me', 'something', 'funny', '!'], 'funny'), (['Do', 'you', 'know', 'a', 'joke', '?'], 'funny'), (['Do', 'you', 'know', 'any', 'jokes', '?'], 'funny'), (['Do', 'you', 'know', 'any', 'funny', 'jokes', '?'], 'funny'), (['Get', 'me', 'the', 'latest', 'school'], 'school'), (['Tell', 'me', 'about', 'school'], 'school'), (['What', \"'s\", 'happening', 'in', 'school'], 'school'), (['Give', 'me', 'updates', 'on', 'school'], 'school'), (['I', \"'m\", 'interested', 'in', 'school'], 'school'), (['Can', 'you', 'provide', 'school'], 'school'), (['Tell', 'me', 'more', 'about', 'school'], 'school'), (['Share', 'school'], 'school'), (['school'], 'school'), (['Get', 'me', 'the', 'latest', 'podcasts'], 'podcasts'), (['Tell', 'me', 'about', 'podcasts'], 'podcasts'), (['What', \"'s\", 'happening', 'in', 'podcasts'], 'podcasts'), (['Give', 'me', 'updates', 'on', 'podcasts'], 'podcasts'), (['I', \"'m\", 'interested', 'in', 'podcasts'], 'podcasts'), (['Can', 'you', 'provide', 'podcasts'], 'podcasts'), (['Tell', 'me', 'more', 'about', 'podcasts'], 'podcasts'), (['Share', 'podcasts'], 'podcasts'), (['podcasts'], 'podcasts'), (['Get', 'me', 'the', 'latest', 'www.srf.ch'], 'www.srf.ch'), (['Tell', 'me', 'about', 'www.srf.ch'], 'www.srf.ch'), (['What', \"'s\", 'happening', 'in', 'www.srf.ch'], 'www.srf.ch'), (['Give', 'me', 'updates', 'on', 'www.srf.ch'], 'www.srf.ch'), (['I', \"'m\", 'interested', 'in', 'www.srf.ch'], 'www.srf.ch'), (['Can', 'you', 'provide', 'www.srf.ch'], 'www.srf.ch'), (['Tell', 'me', 'more', 'about', 'www.srf.ch'], 'www.srf.ch'), (['Share', 'www.srf.ch'], 'www.srf.ch'), (['www.srf.ch'], 'www.srf.ch'), (['Get', 'me', 'the', 'latest', 'gesellschaft'], 'gesellschaft'), (['Tell', 'me', 'about', 'gesellschaft'], 'gesellschaft'), (['What', \"'s\", 'happening', 'in', 'gesellschaft'], 'gesellschaft'), (['Give', 'me', 'updates', 'on', 'gesellschaft'], 'gesellschaft'), (['I', \"'m\", 'interested', 'in', 'gesellschaft'], 'gesellschaft'), (['Can', 'you', 'provide', 'gesellschaft'], 'gesellschaft'), (['Tell', 'me', 'more', 'about', 'gesellschaft'], 'gesellschaft'), (['Share', 'gesellschaft'], 'gesellschaft'), (['gesellschaft'], 'gesellschaft'), (['Get', 'me', 'the', 'latest', 'www.swissinfo.ch'], 'www.swissinfo.ch'), (['Tell', 'me', 'about', 'www.swissinfo.ch'], 'www.swissinfo.ch'), (['What', \"'s\", 'happening', 'in', 'www.swissinfo.ch'], 'www.swissinfo.ch'), (['Give', 'me', 'updates', 'on', 'www.swissinfo.ch'], 'www.swissinfo.ch'), (['I', \"'m\", 'interested', 'in', 'www.swissinfo.ch'], 'www.swissinfo.ch'), (['Can', 'you', 'provide', 'www.swissinfo.ch'], 'www.swissinfo.ch'), (['Tell', 'me', 'more', 'about', 'www.swissinfo.ch'], 'www.swissinfo.ch'), (['Share', 'www.swissinfo.ch'], 'www.swissinfo.ch'), (['www.swissinfo.ch'], 'www.swissinfo.ch'), (['Get', 'me', 'the', 'latest', 'www.srgssr.ch'], 'www.srgssr.ch'), (['Tell', 'me', 'about', 'www.srgssr.ch'], 'www.srgssr.ch'), (['What', \"'s\", 'happening', 'in', 'www.srgssr.ch'], 'www.srgssr.ch'), (['Give', 'me', 'updates', 'on', 'www.srgssr.ch'], 'www.srgssr.ch'), (['I', \"'m\", 'interested', 'in', 'www.srgssr.ch'], 'www.srgssr.ch'), (['Can', 'you', 'provide', 'www.srgssr.ch'], 'www.srgssr.ch'), (['Tell', 'me', 'more', 'about', 'www.srgssr.ch'], 'www.srgssr.ch'), (['Share', 'www.srgssr.ch'], 'www.srgssr.ch'), (['www.srgssr.ch'], 'www.srgssr.ch'), (['Get', 'me', 'the', 'latest', 'www.radioswissjazz.ch'], 'www.radioswissjazz.ch'), (['Tell', 'me', 'about', 'www.radioswissjazz.ch'], 'www.radioswissjazz.ch'), (['What', \"'s\", 'happening', 'in', 'www.radioswissjazz.ch'], 'www.radioswissjazz.ch'), (['Give', 'me', 'updates', 'on', 'www.radioswissjazz.ch'], 'www.radioswissjazz.ch'), (['I', \"'m\", 'interested', 'in', 'www.radioswissjazz.ch'], 'www.radioswissjazz.ch'), (['Can', 'you', 'provide', 'www.radioswissjazz.ch'], 'www.radioswissjazz.ch'), (['Tell', 'me', 'more', 'about', 'www.radioswissjazz.ch'], 'www.radioswissjazz.ch'), (['Share', 'www.radioswissjazz.ch'], 'www.radioswissjazz.ch'), (['www.radioswissjazz.ch'], 'www.radioswissjazz.ch'), (['Get', 'me', 'the', 'latest', 'www.rsi.ch'], 'www.rsi.ch'), (['Tell', 'me', 'about', 'www.rsi.ch'], 'www.rsi.ch'), (['What', \"'s\", 'happening', 'in', 'www.rsi.ch'], 'www.rsi.ch'), (['Give', 'me', 'updates', 'on', 'www.rsi.ch'], 'www.rsi.ch'), (['I', \"'m\", 'interested', 'in', 'www.rsi.ch'], 'www.rsi.ch'), (['Can', 'you', 'provide', 'www.rsi.ch'], 'www.rsi.ch'), (['Tell', 'me', 'more', 'about', 'www.rsi.ch'], 'www.rsi.ch'), (['Share', 'www.rsi.ch'], 'www.rsi.ch'), (['www.rsi.ch'], 'www.rsi.ch'), (['Get', 'me', 'the', 'latest', 'literatur'], 'literatur'), (['Tell', 'me', 'about', 'literatur'], 'literatur'), (['What', \"'s\", 'happening', 'in', 'literatur'], 'literatur'), (['Give', 'me', 'updates', 'on', 'literatur'], 'literatur'), (['I', \"'m\", 'interested', 'in', 'literatur'], 'literatur'), (['Can', 'you', 'provide', 'literatur'], 'literatur'), (['Tell', 'me', 'more', 'about', 'literatur'], 'literatur'), (['Share', 'literatur'], 'literatur'), (['literatur'], 'literatur'), (['Get', 'me', 'the', 'latest', 'gesellschaft-religion'], 'gesellschaft-religion'), (['Tell', 'me', 'about', 'gesellschaft-religion'], 'gesellschaft-religion'), (['What', \"'s\", 'happening', 'in', 'gesellschaft-religion'], 'gesellschaft-religion'), (['Give', 'me', 'updates', 'on', 'gesellschaft-religion'], 'gesellschaft-religion'), (['I', \"'m\", 'interested', 'in', 'gesellschaft-religion'], 'gesellschaft-religion'), (['Can', 'you', 'provide', 'gesellschaft-religion'], 'gesellschaft-religion'), (['Tell', 'me', 'more', 'about', 'gesellschaft-religion'], 'gesellschaft-religion'), (['Share', 'gesellschaft-religion'], 'gesellschaft-religion'), (['gesellschaft-religion'], 'gesellschaft-religion'), (['Get', 'me', 'the', 'latest', 'jobs.srf.ch'], 'jobs.srf.ch'), (['Tell', 'me', 'about', 'jobs.srf.ch'], 'jobs.srf.ch'), (['What', \"'s\", 'happening', 'in', 'jobs.srf.ch'], 'jobs.srf.ch'), (['Give', 'me', 'updates', 'on', 'jobs.srf.ch'], 'jobs.srf.ch'), (['I', \"'m\", 'interested', 'in', 'jobs.srf.ch'], 'jobs.srf.ch'), (['Can', 'you', 'provide', 'jobs.srf.ch'], 'jobs.srf.ch'), (['Tell', 'me', 'more', 'about', 'jobs.srf.ch'], 'jobs.srf.ch'), (['Share', 'jobs.srf.ch'], 'jobs.srf.ch'), (['jobs.srf.ch'], 'jobs.srf.ch'), (['Get', 'me', 'the', 'latest', 'mehr-sport'], 'mehr-sport'), (['Tell', 'me', 'about', 'mehr-sport'], 'mehr-sport'), (['What', \"'s\", 'happening', 'in', 'mehr-sport'], 'mehr-sport'), (['Give', 'me', 'updates', 'on', 'mehr-sport'], 'mehr-sport'), (['I', \"'m\", 'interested', 'in', 'mehr-sport'], 'mehr-sport'), (['Can', 'you', 'provide', 'mehr-sport'], 'mehr-sport'), (['Tell', 'me', 'more', 'about', 'mehr-sport'], 'mehr-sport'), (['Share', 'mehr-sport'], 'mehr-sport'), (['mehr-sport'], 'mehr-sport'), (['Get', 'me', 'the', 'latest', 'film-serien'], 'film-serien'), (['Tell', 'me', 'about', 'film-serien'], 'film-serien'), (['What', \"'s\", 'happening', 'in', 'film-serien'], 'film-serien'), (['Give', 'me', 'updates', 'on', 'film-serien'], 'film-serien'), (['I', \"'m\", 'interested', 'in', 'film-serien'], 'film-serien'), (['Can', 'you', 'provide', 'film-serien'], 'film-serien'), (['Tell', 'me', 'more', 'about', 'film-serien'], 'film-serien'), (['Share', 'film-serien'], 'film-serien'), (['film-serien'], 'film-serien'), (['Get', 'me', 'the', 'latest', 'gesichterundgeschichten'], 'gesichterundgeschichten'), (['Tell', 'me', 'about', 'gesichterundgeschichten'], 'gesichterundgeschichten'), (['What', \"'s\", 'happening', 'in', 'gesichterundgeschichten'], 'gesichterundgeschichten'), (['Give', 'me', 'updates', 'on', 'gesichterundgeschichten'], 'gesichterundgeschichten'), (['I', \"'m\", 'interested', 'in', 'gesichterundgeschichten'], 'gesichterundgeschichten'), (['Can', 'you', 'provide', 'gesichterundgeschichten'], 'gesichterundgeschichten'), (['Tell', 'me', 'more', 'about', 'gesichterundgeschichten'], 'gesichterundgeschichten'), (['Share', 'gesichterundgeschichten'], 'gesichterundgeschichten'), (['gesichterundgeschichten'], 'gesichterundgeschichten'), (['Get', 'me', 'the', 'latest', 'wetter'], 'wetter'), (['Tell', 'me', 'about', 'wetter'], 'wetter'), (['What', \"'s\", 'happening', 'in', 'wetter'], 'wetter'), (['Give', 'me', 'updates', 'on', 'wetter'], 'wetter'), (['I', \"'m\", 'interested', 'in', 'wetter'], 'wetter'), (['Can', 'you', 'provide', 'wetter'], 'wetter'), (['Tell', 'me', 'more', 'about', 'wetter'], 'wetter'), (['Share', 'wetter'], 'wetter'), (['wetter'], 'wetter'), (['Get', 'me', 'the', 'latest', 'schweiz'], 'schweiz'), (['Tell', 'me', 'about', 'schweiz'], 'schweiz'), (['What', \"'s\", 'happening', 'in', 'schweiz'], 'schweiz'), (['Give', 'me', 'updates', 'on', 'schweiz'], 'schweiz'), (['I', \"'m\", 'interested', 'in', 'schweiz'], 'schweiz'), (['Can', 'you', 'provide', 'schweiz'], 'schweiz'), (['Tell', 'me', 'more', 'about', 'schweiz'], 'schweiz'), (['Share', 'schweiz'], 'schweiz'), (['schweiz'], 'schweiz'), (['Get', 'me', 'the', 'latest', 'website-und-apps'], 'website-und-apps'), (['Tell', 'me', 'about', 'website-und-apps'], 'website-und-apps'), (['What', \"'s\", 'happening', 'in', 'website-und-apps'], 'website-und-apps'), (['Give', 'me', 'updates', 'on', 'website-und-apps'], 'website-und-apps'), (['I', \"'m\", 'interested', 'in', 'website-und-apps'], 'website-und-apps'), (['Can', 'you', 'provide', 'website-und-apps'], 'website-und-apps'), (['Tell', 'me', 'more', 'about', 'website-und-apps'], 'website-und-apps'), (['Share', 'website-und-apps'], 'website-und-apps'), (['website-und-apps'], 'website-und-apps'), (['Get', 'me', 'the', 'latest', 'kunst'], 'kunst'), (['Tell', 'me', 'about', 'kunst'], 'kunst'), (['What', \"'s\", 'happening', 'in', 'kunst'], 'kunst'), (['Give', 'me', 'updates', 'on', 'kunst'], 'kunst'), (['I', \"'m\", 'interested', 'in', 'kunst'], 'kunst'), (['Can', 'you', 'provide', 'kunst'], 'kunst'), (['Tell', 'me', 'more', 'about', 'kunst'], 'kunst'), (['Share', 'kunst'], 'kunst'), (['kunst'], 'kunst'), (['Get', 'me', 'the', 'latest', 'www.rtr.ch'], 'www.rtr.ch'), (['Tell', 'me', 'about', 'www.rtr.ch'], 'www.rtr.ch'), (['What', \"'s\", 'happening', 'in', 'www.rtr.ch'], 'www.rtr.ch'), (['Give', 'me', 'updates', 'on', 'www.rtr.ch'], 'www.rtr.ch'), (['I', \"'m\", 'interested', 'in', 'www.rtr.ch'], 'www.rtr.ch'), (['Can', 'you', 'provide', 'www.rtr.ch'], 'www.rtr.ch'), (['Tell', 'me', 'more', 'about', 'www.rtr.ch'], 'www.rtr.ch'), (['Share', 'www.rtr.ch'], 'www.rtr.ch'), (['www.rtr.ch'], 'www.rtr.ch'), (['Get', 'me', 'the', 'latest', 'startseite'], 'startseite'), (['Tell', 'me', 'about', 'startseite'], 'startseite'), (['What', \"'s\", 'happening', 'in', 'startseite'], 'startseite'), (['Give', 'me', 'updates', 'on', 'startseite'], 'startseite'), (['I', \"'m\", 'interested', 'in', 'startseite'], 'startseite'), (['Can', 'you', 'provide', 'startseite'], 'startseite'), (['Tell', 'me', 'more', 'about', 'startseite'], 'startseite'), (['Share', 'startseite'], 'startseite'), (['startseite'], 'startseite'), (['Get', 'me', 'the', 'latest', 'international'], 'international'), (['Tell', 'me', 'about', 'international'], 'international'), (['What', \"'s\", 'happening', 'in', 'international'], 'international'), (['Give', 'me', 'updates', 'on', 'international'], 'international'), (['I', \"'m\", 'interested', 'in', 'international'], 'international'), (['Can', 'you', 'provide', 'international'], 'international'), (['Tell', 'me', 'more', 'about', 'international'], 'international'), (['Share', 'international'], 'international'), (['international'], 'international'), (['Get', 'me', 'the', 'latest', 'ski-alpin'], 'ski-alpin'), (['Tell', 'me', 'about', 'ski-alpin'], 'ski-alpin'), (['What', \"'s\", 'happening', 'in', 'ski-alpin'], 'ski-alpin'), (['Give', 'me', 'updates', 'on', 'ski-alpin'], 'ski-alpin'), (['I', \"'m\", 'interested', 'in', 'ski-alpin'], 'ski-alpin'), (['Can', 'you', 'provide', 'ski-alpin'], 'ski-alpin'), (['Tell', 'me', 'more', 'about', 'ski-alpin'], 'ski-alpin'), (['Share', 'ski-alpin'], 'ski-alpin'), (['ski-alpin'], 'ski-alpin'), (['Get', 'me', 'the', 'latest', 'decodar-nossa-cultura'], 'decodar-nossa-cultura'), (['Tell', 'me', 'about', 'decodar-nossa-cultura'], 'decodar-nossa-cultura'), (['What', \"'s\", 'happening', 'in', 'decodar-nossa-cultura'], 'decodar-nossa-cultura'), (['Give', 'me', 'updates', 'on', 'decodar-nossa-cultura'], 'decodar-nossa-cultura'), (['I', \"'m\", 'interested', 'in', 'decodar-nossa-cultura'], 'decodar-nossa-cultura'), (['Can', 'you', 'provide', 'decodar-nossa-cultura'], 'decodar-nossa-cultura'), (['Tell', 'me', 'more', 'about', 'decodar-nossa-cultura'], 'decodar-nossa-cultura'), (['Share', 'decodar-nossa-cultura'], 'decodar-nossa-cultura'), (['decodar-nossa-cultura'], 'decodar-nossa-cultura'), (['Get', 'me', 'the', 'latest', 'www.radioswisspop.ch'], 'www.radioswisspop.ch'), (['Tell', 'me', 'about', 'www.radioswisspop.ch'], 'www.radioswisspop.ch'), (['What', \"'s\", 'happening', 'in', 'www.radioswisspop.ch'], 'www.radioswisspop.ch'), (['Give', 'me', 'updates', 'on', 'www.radioswisspop.ch'], 'www.radioswisspop.ch'), (['I', \"'m\", 'interested', 'in', 'www.radioswisspop.ch'], 'www.radioswisspop.ch'), (['Can', 'you', 'provide', 'www.radioswisspop.ch'], 'www.radioswisspop.ch'), (['Tell', 'me', 'more', 'about', 'www.radioswisspop.ch'], 'www.radioswisspop.ch'), (['Share', 'www.radioswisspop.ch'], 'www.radioswisspop.ch'), (['www.radioswisspop.ch'], 'www.radioswisspop.ch'), (['Get', 'me', 'the', 'latest', 'wirtschaft'], 'wirtschaft'), (['Tell', 'me', 'about', 'wirtschaft'], 'wirtschaft'), (['What', \"'s\", 'happening', 'in', 'wirtschaft'], 'wirtschaft'), (['Give', 'me', 'updates', 'on', 'wirtschaft'], 'wirtschaft'), (['I', \"'m\", 'interested', 'in', 'wirtschaft'], 'wirtschaft'), (['Can', 'you', 'provide', 'wirtschaft'], 'wirtschaft'), (['Tell', 'me', 'more', 'about', 'wirtschaft'], 'wirtschaft'), (['Share', 'wirtschaft'], 'wirtschaft'), (['wirtschaft'], 'wirtschaft'), (['Get', 'me', 'the', 'latest', 'dialog'], 'dialog'), (['Tell', 'me', 'about', 'dialog'], 'dialog'), (['What', \"'s\", 'happening', 'in', 'dialog'], 'dialog'), (['Give', 'me', 'updates', 'on', 'dialog'], 'dialog'), (['I', \"'m\", 'interested', 'in', 'dialog'], 'dialog'), (['Can', 'you', 'provide', 'dialog'], 'dialog'), (['Tell', 'me', 'more', 'about', 'dialog'], 'dialog'), (['Share', 'dialog'], 'dialog'), (['dialog'], 'dialog'), (['Get', 'me', 'the', 'latest', 'fussball'], 'fussball'), (['Tell', 'me', 'about', 'fussball'], 'fussball'), (['What', \"'s\", 'happening', 'in', 'fussball'], 'fussball'), (['Give', 'me', 'updates', 'on', 'fussball'], 'fussball'), (['I', \"'m\", 'interested', 'in', 'fussball'], 'fussball'), (['Can', 'you', 'provide', 'fussball'], 'fussball'), (['Tell', 'me', 'more', 'about', 'fussball'], 'fussball'), (['Share', 'fussball'], 'fussball'), (['fussball'], 'fussball'), (['Get', 'me', 'the', 'latest', 'radio'], 'radio'), (['Tell', 'me', 'about', 'radio'], 'radio'), (['What', \"'s\", 'happening', 'in', 'radio'], 'radio'), (['Give', 'me', 'updates', 'on', 'radio'], 'radio'), (['I', \"'m\", 'interested', 'in', 'radio'], 'radio'), (['Can', 'you', 'provide', 'radio'], 'radio'), (['Tell', 'me', 'more', 'about', 'radio'], 'radio'), (['Share', 'radio'], 'radio'), (['radio'], 'radio'), (['Get', 'me', 'the', 'latest', 'mensch'], 'mensch'), (['Tell', 'me', 'about', 'mensch'], 'mensch'), (['What', \"'s\", 'happening', 'in', 'mensch'], 'mensch'), (['Give', 'me', 'updates', 'on', 'mensch'], 'mensch'), (['I', \"'m\", 'interested', 'in', 'mensch'], 'mensch'), (['Can', 'you', 'provide', 'mensch'], 'mensch'), (['Tell', 'me', 'more', 'about', 'mensch'], 'mensch'), (['Share', 'mensch'], 'mensch'), (['mensch'], 'mensch'), (['Get', 'me', 'the', 'latest', 'gesundheit'], 'gesundheit'), (['Tell', 'me', 'about', 'gesundheit'], 'gesundheit'), (['What', \"'s\", 'happening', 'in', 'gesundheit'], 'gesundheit'), (['Give', 'me', 'updates', 'on', 'gesundheit'], 'gesundheit'), (['I', \"'m\", 'interested', 'in', 'gesundheit'], 'gesundheit'), (['Can', 'you', 'provide', 'gesundheit'], 'gesundheit'), (['Tell', 'me', 'more', 'about', 'gesundheit'], 'gesundheit'), (['Share', 'gesundheit'], 'gesundheit'), (['gesundheit'], 'gesundheit'), (['Get', 'me', 'the', 'latest', 'www.radioswissclassic.ch'], 'www.radioswissclassic.ch'), (['Tell', 'me', 'about', 'www.radioswissclassic.ch'], 'www.radioswissclassic.ch'), (['What', \"'s\", 'happening', 'in', 'www.radioswissclassic.ch'], 'www.radioswissclassic.ch'), (['Give', 'me', 'updates', 'on', 'www.radioswissclassic.ch'], 'www.radioswissclassic.ch'), (['I', \"'m\", 'interested', 'in', 'www.radioswissclassic.ch'], 'www.radioswissclassic.ch'), (['Can', 'you', 'provide', 'www.radioswissclassic.ch'], 'www.radioswissclassic.ch'), (['Tell', 'me', 'more', 'about', 'www.radioswissclassic.ch'], 'www.radioswissclassic.ch'), (['Share', 'www.radioswissclassic.ch'], 'www.radioswissclassic.ch'), (['www.radioswissclassic.ch'], 'www.radioswissclassic.ch'), (['Get', 'me', 'the', 'latest', 'eishockey'], 'eishockey'), (['Tell', 'me', 'about', 'eishockey'], 'eishockey'), (['What', \"'s\", 'happening', 'in', 'eishockey'], 'eishockey'), (['Give', 'me', 'updates', 'on', 'eishockey'], 'eishockey'), (['I', \"'m\", 'interested', 'in', 'eishockey'], 'eishockey'), (['Can', 'you', 'provide', 'eishockey'], 'eishockey'), (['Tell', 'me', 'more', 'about', 'eishockey'], 'eishockey'), (['Share', 'eishockey'], 'eishockey'), (['eishockey'], 'eishockey'), (['Get', 'me', 'the', 'latest', 'tv'], 'tv'), (['Tell', 'me', 'about', 'tv'], 'tv'), (['What', \"'s\", 'happening', 'in', 'tv'], 'tv'), (['Give', 'me', 'updates', 'on', 'tv'], 'tv'), (['I', \"'m\", 'interested', 'in', 'tv'], 'tv'), (['Can', 'you', 'provide', 'tv'], 'tv'), (['Tell', 'me', 'more', 'about', 'tv'], 'tv'), (['Share', 'tv'], 'tv'), (['tv'], 'tv'), (['Get', 'me', 'the', 'latest', 'woerterbuch'], 'woerterbuch'), (['Tell', 'me', 'about', 'woerterbuch'], 'woerterbuch'), (['What', \"'s\", 'happening', 'in', 'woerterbuch'], 'woerterbuch'), (['Give', 'me', 'updates', 'on', 'woerterbuch'], 'woerterbuch'), (['I', \"'m\", 'interested', 'in', 'woerterbuch'], 'woerterbuch'), (['Can', 'you', 'provide', 'woerterbuch'], 'woerterbuch'), (['Tell', 'me', 'more', 'about', 'woerterbuch'], 'woerterbuch'), (['Share', 'woerterbuch'], 'woerterbuch'), (['woerterbuch'], 'woerterbuch'), (['Get', 'me', 'the', 'latest', 'www.rts.ch'], 'www.rts.ch'), (['Tell', 'me', 'about', 'www.rts.ch'], 'www.rts.ch'), (['What', \"'s\", 'happening', 'in', 'www.rts.ch'], 'www.rts.ch'), (['Give', 'me', 'updates', 'on', 'www.rts.ch'], 'www.rts.ch'), (['I', \"'m\", 'interested', 'in', 'www.rts.ch'], 'www.rts.ch'), (['Can', 'you', 'provide', 'www.rts.ch'], 'www.rts.ch'), (['Tell', 'me', 'more', 'about', 'www.rts.ch'], 'www.rts.ch'), (['Share', 'www.rts.ch'], 'www.rts.ch'), (['www.rts.ch'], 'www.rts.ch'), (['Get', 'me', 'the', 'latest', 'musik'], 'musik'), (['Tell', 'me', 'about', 'musik'], 'musik'), (['What', \"'s\", 'happening', 'in', 'musik'], 'musik'), (['Give', 'me', 'updates', 'on', 'musik'], 'musik'), (['I', \"'m\", 'interested', 'in', 'musik'], 'musik'), (['Can', 'you', 'provide', 'musik'], 'musik'), (['Tell', 'me', 'more', 'about', 'musik'], 'musik'), (['Share', 'musik'], 'musik'), (['musik'], 'musik'), (['Get', 'me', 'the', 'latest', 'allgemein'], 'allgemein'), (['Tell', 'me', 'about', 'allgemein'], 'allgemein'), (['What', \"'s\", 'happening', 'in', 'allgemein'], 'allgemein'), (['Give', 'me', 'updates', 'on', 'allgemein'], 'allgemein'), (['I', \"'m\", 'interested', 'in', 'allgemein'], 'allgemein'), (['Can', 'you', 'provide', 'allgemein'], 'allgemein'), (['Tell', 'me', 'more', 'about', 'allgemein'], 'allgemein'), (['Share', 'allgemein'], 'allgemein'), (['allgemein'], 'allgemein'), (['Get', 'me', 'the', 'latest', 'kassensturz-espresso'], 'kassensturz-espresso'), (['Tell', 'me', 'about', 'kassensturz-espresso'], 'kassensturz-espresso'), (['What', \"'s\", 'happening', 'in', 'kassensturz-espresso'], 'kassensturz-espresso'), (['Give', 'me', 'updates', 'on', 'kassensturz-espresso'], 'kassensturz-espresso'), (['I', \"'m\", 'interested', 'in', 'kassensturz-espresso'], 'kassensturz-espresso'), (['Can', 'you', 'provide', 'kassensturz-espresso'], 'kassensturz-espresso'), (['Tell', 'me', 'more', 'about', 'kassensturz-espresso'], 'kassensturz-espresso'), (['Share', 'kassensturz-espresso'], 'kassensturz-espresso'), (['kassensturz-espresso'], 'kassensturz-espresso'), (['Get', 'me', 'the', 'latest', 'video'], 'video'), (['Tell', 'me', 'about', 'video'], 'video'), (['What', \"'s\", 'happening', 'in', 'video'], 'video'), (['Give', 'me', 'updates', 'on', 'video'], 'video'), (['I', \"'m\", 'interested', 'in', 'video'], 'video'), (['Can', 'you', 'provide', 'video'], 'video'), (['Tell', 'me', 'more', 'about', 'video'], 'video'), (['Share', 'video'], 'video'), (['video'], 'video'), (['Get', 'me', 'the', 'latest', 'themen'], 'themen'), (['Tell', 'me', 'about', 'themen'], 'themen'), (['What', \"'s\", 'happening', 'in', 'themen'], 'themen'), (['Give', 'me', 'updates', 'on', 'themen'], 'themen'), (['I', \"'m\", 'interested', 'in', 'themen'], 'themen'), (['Can', 'you', 'provide', 'themen'], 'themen'), (['Tell', 'me', 'more', 'about', 'themen'], 'themen'), (['Share', 'themen'], 'themen'), (['themen'], 'themen')]\n"
     ]
    }
   ],
   "source": [
    "all_words = []\n",
    "tags = []\n",
    "xy = []\n",
    "# loop through each sentence in our intents patterns\n",
    "for intent in intents[\"intents\"]:\n",
    "    tag = intent[\"tag\"]\n",
    "    # add to tag list\n",
    "    tags.append(tag)\n",
    "    for pattern in intent[\"patterns\"]:\n",
    "        # tokenize each word in the sentence\n",
    "        w = tokenize(pattern)\n",
    "        # add to our words list\n",
    "        all_words.extend(w)\n",
    "        # add to xy pair\n",
    "        xy.append((w, tag))\n",
    "\n",
    "print(all_words)\n",
    "print(tags)\n",
    "print(xy)"
   ]
  },
  {
   "cell_type": "markdown",
   "metadata": {},
   "source": [
    "# 3 Bert Tokenizer"
   ]
  },
  {
   "cell_type": "code",
   "execution_count": 5,
   "metadata": {},
   "outputs": [],
   "source": [
    "# Assume 'tags' and 'xy' are predefined\n",
    "# Bert Tokenizer\n",
    "tokenizer = BertTokenizer.from_pretrained('bert-base-uncased')\n",
    "\n",
    "# Init model\n",
    "model = BertModel.from_pretrained('bert-base-uncased', len(tags))\n",
    "\n",
    "# encode xy pairs\n",
    "X_train = []\n",
    "y_train = []\n",
    "\n",
    "for (pattern_sentence, tag) in xy:\n",
    "    # encode sentence\n",
    "    encoded_sentence = tokenizer(\n",
    "        ' '.join(pattern_sentence),\n",
    "        max_length=16,\n",
    "        padding='max_length',\n",
    "        return_tensors='pt',\n",
    "        truncation=True\n",
    "    )\n",
    "\n",
    "    # Append only the required tensors\n",
    "    X_train.append((encoded_sentence['input_ids'].squeeze(0), encoded_sentence['attention_mask'].squeeze(0)))\n",
    "    y_train.append(tags.index(tag))\n",
    "\n",
    "# create dataloaders\n",
    "train_data = list(zip(X_train, y_train))\n",
    "train_loader = DataLoader(train_data, batch_size=16, num_workers=0)"
   ]
  },
  {
   "cell_type": "code",
   "execution_count": 6,
   "metadata": {},
   "outputs": [
    {
     "name": "stdout",
     "output_type": "stream",
     "text": [
      "Using device: cpu\n",
      "\n"
     ]
    }
   ],
   "source": [
    "# Move model to GPU if available\n",
    "device = torch.device('cuda' if torch.cuda.is_available() else 'cpu')\n",
    "model.to(device)\n",
    "\n",
    "# setting device on GPU if available, else CPU\n",
    "device = torch.device('cuda' if torch.cuda.is_available() else 'cpu')\n",
    "print('Using device:', device)\n",
    "print()\n",
    "\n",
    "#Additional Info when using cuda\n",
    "if device.type == 'cuda':\n",
    "    print(torch.cuda.get_device_name(0))\n",
    "    print('Memory Usage:')\n",
    "    print('Allocated:', round(torch.cuda.memory_allocated(0)/1024**3,1), 'GB')\n",
    "    print('Cached:   ', round(torch.cuda.memory_reserved(0)/1024**3,1), 'GB')"
   ]
  },
  {
   "cell_type": "code",
   "execution_count": 7,
   "metadata": {},
   "outputs": [],
   "source": [
    "class BertClassifier(nn.Module):\n",
    "    def __init__(self, bert_model, num_classes):\n",
    "        super(BertClassifier, self).__init__()\n",
    "        self.bert = bert_model\n",
    "        self.classifier = nn.Linear(self.bert.config.hidden_size, num_classes)\n",
    "\n",
    "    def forward(self, input_ids, attention_mask):\n",
    "        outputs = self.bert(input_ids=input_ids, attention_mask=attention_mask)\n",
    "        pooled_output = outputs.pooler_output\n",
    "        return self.classifier(pooled_output)\n",
    "\n",
    "# Assuming 'tags' is a list of unique classes\n",
    "model = BertClassifier(BertModel.from_pretrained('bert-base-uncased'), len(tags))"
   ]
  },
  {
   "cell_type": "code",
   "execution_count": 10,
   "metadata": {},
   "outputs": [],
   "source": [
    "criterion = nn.CrossEntropyLoss()\n",
    "optimizer = Adam(model.parameters(), lr=1e-5)\n",
    "num_epochs = 10"
   ]
  },
  {
   "cell_type": "code",
   "execution_count": 11,
   "metadata": {},
   "outputs": [
    {
     "name": "stderr",
     "output_type": "stream",
     "text": [
      "Epoch [1/10]: 100%|██████████| 29/29 [01:08<00:00,  2.36s/it, loss=3.38]\n",
      "Epoch [2/10]: 100%|██████████| 29/29 [01:02<00:00,  2.16s/it, loss=3.37]\n",
      "Epoch [3/10]: 100%|██████████| 29/29 [01:03<00:00,  2.18s/it, loss=3.36]\n",
      "Epoch [4/10]: 100%|██████████| 29/29 [01:03<00:00,  2.19s/it, loss=3.36]\n",
      "Epoch [5/10]: 100%|██████████| 29/29 [01:03<00:00,  2.20s/it, loss=3.34]\n",
      "Epoch [6/10]: 100%|██████████| 29/29 [01:08<00:00,  2.36s/it, loss=3.34]\n",
      "Epoch [7/10]: 100%|██████████| 29/29 [01:02<00:00,  2.17s/it, loss=3.34]\n",
      "Epoch [8/10]: 100%|██████████| 29/29 [01:03<00:00,  2.18s/it, loss=3.32]\n",
      "Epoch [9/10]: 100%|██████████| 29/29 [01:03<00:00,  2.18s/it, loss=3.31]\n",
      "Epoch [10/10]: 100%|██████████| 29/29 [01:02<00:00,  2.16s/it, loss=3.31]\n"
     ]
    }
   ],
   "source": [
    "# Training loop\n",
    "model.train()\n",
    "for epoch in range(num_epochs):  # num_epochs should be defined by you\n",
    "    # Initialize tqdm progress bar\n",
    "    loop = tqdm(train_loader, leave=True)\n",
    "    for batch in loop:\n",
    "        # Unpack the batch\n",
    "        (input_ids, attention_mask), labels = batch\n",
    "\n",
    "        # Move tensors to the appropriate device\n",
    "        input_ids = input_ids.to(device)\n",
    "        attention_mask = attention_mask.to(device)\n",
    "        labels = labels.to(device)\n",
    "\n",
    "        # Forward pass\n",
    "        outputs = model(input_ids, attention_mask)\n",
    "        loss = criterion(outputs, labels)\n",
    "\n",
    "        # Backward and optimize\n",
    "        optimizer.zero_grad()\n",
    "        loss.backward()\n",
    "        optimizer.step()\n",
    "\n",
    "        # Update progress bar\n",
    "        loop.set_description(f'Epoch [{epoch+1}/{num_epochs}]')\n",
    "        loop.set_postfix(loss=loss.item())\n",
    "\n",
    "    loop.close()\n"
   ]
  },
  {
   "cell_type": "markdown",
   "metadata": {},
   "source": [
    "# 4 Save Model"
   ]
  },
  {
   "cell_type": "code",
   "execution_count": 12,
   "metadata": {},
   "outputs": [
    {
     "name": "stdout",
     "output_type": "stream",
     "text": [
      "training complete. file saved to model/bert_model.pth\n"
     ]
    }
   ],
   "source": [
    "# save model\n",
    "MODEL_PATH = 'model/bert_model.pth'\n",
    "torch.save(model.state_dict(), MODEL_PATH)\n",
    "print(f'training complete. file saved to {MODEL_PATH}')"
   ]
  },
  {
   "cell_type": "markdown",
   "metadata": {},
   "source": [
    "# 5 Load Model"
   ]
  },
  {
   "cell_type": "code",
   "execution_count": 13,
   "metadata": {},
   "outputs": [
    {
     "data": {
      "text/plain": [
       "BertClassifier(\n",
       "  (bert): BertModel(\n",
       "    (embeddings): BertEmbeddings(\n",
       "      (word_embeddings): Embedding(30522, 768, padding_idx=0)\n",
       "      (position_embeddings): Embedding(512, 768)\n",
       "      (token_type_embeddings): Embedding(2, 768)\n",
       "      (LayerNorm): LayerNorm((768,), eps=1e-12, elementwise_affine=True)\n",
       "      (dropout): Dropout(p=0.1, inplace=False)\n",
       "    )\n",
       "    (encoder): BertEncoder(\n",
       "      (layer): ModuleList(\n",
       "        (0-11): 12 x BertLayer(\n",
       "          (attention): BertAttention(\n",
       "            (self): BertSelfAttention(\n",
       "              (query): Linear(in_features=768, out_features=768, bias=True)\n",
       "              (key): Linear(in_features=768, out_features=768, bias=True)\n",
       "              (value): Linear(in_features=768, out_features=768, bias=True)\n",
       "              (dropout): Dropout(p=0.1, inplace=False)\n",
       "            )\n",
       "            (output): BertSelfOutput(\n",
       "              (dense): Linear(in_features=768, out_features=768, bias=True)\n",
       "              (LayerNorm): LayerNorm((768,), eps=1e-12, elementwise_affine=True)\n",
       "              (dropout): Dropout(p=0.1, inplace=False)\n",
       "            )\n",
       "          )\n",
       "          (intermediate): BertIntermediate(\n",
       "            (dense): Linear(in_features=768, out_features=3072, bias=True)\n",
       "            (intermediate_act_fn): GELUActivation()\n",
       "          )\n",
       "          (output): BertOutput(\n",
       "            (dense): Linear(in_features=3072, out_features=768, bias=True)\n",
       "            (LayerNorm): LayerNorm((768,), eps=1e-12, elementwise_affine=True)\n",
       "            (dropout): Dropout(p=0.1, inplace=False)\n",
       "          )\n",
       "        )\n",
       "      )\n",
       "    )\n",
       "    (pooler): BertPooler(\n",
       "      (dense): Linear(in_features=768, out_features=768, bias=True)\n",
       "      (activation): Tanh()\n",
       "    )\n",
       "  )\n",
       "  (classifier): Linear(in_features=768, out_features=48, bias=True)\n",
       ")"
      ]
     },
     "execution_count": 13,
     "metadata": {},
     "output_type": "execute_result"
    }
   ],
   "source": [
    "# Load Model\n",
    "model = BertClassifier(BertModel.from_pretrained('bert-base-uncased'), len(tags))\n",
    "model.load_state_dict(torch.load(MODEL_PATH))\n",
    "model.eval()\n"
   ]
  },
  {
   "cell_type": "markdown",
   "metadata": {},
   "source": [
    "# 6 Predict Intent and get Response"
   ]
  },
  {
   "cell_type": "code",
   "execution_count": 14,
   "metadata": {},
   "outputs": [
    {
     "name": "stdout",
     "output_type": "stream",
     "text": [
      "Heutige News Topic: {'school', 'podcasts', 'www.srf.ch', 'gesellschaft', 'www.swissinfo.ch', 'www.srgssr.ch', 'www.radioswissjazz.ch', 'www.rsi.ch', 'literatur', 'gesellschaft-religion', 'jobs.srf.ch', 'mehr-sport', 'film-serien', 'gesichterundgeschichten', 'wetter', 'schweiz', 'website-und-apps', 'kunst', 'www.rtr.ch', 'startseite', 'international', 'ski-alpin', 'decodar-nossa-cultura', 'www.radioswisspop.ch', 'wirtschaft', 'dialog', 'fussball', 'radio', 'mensch', 'gesundheit', 'www.radioswissclassic.ch', 'eishockey', 'tv', 'woerterbuch', 'www.rts.ch', 'musik', 'allgemein', 'kassensturz-espresso', 'video', 'themen'}\n"
     ]
    }
   ],
   "source": [
    "print(\"Heutige News Topic:\", scrape_srf_links(url))"
   ]
  },
  {
   "cell_type": "code",
   "execution_count": 15,
   "metadata": {},
   "outputs": [],
   "source": [
    "def predict_intent(sentence):\n",
    "    \"\"\"\n",
    "    Predicts the intent of a sentence using the trained model.\n",
    "    \"\"\"\n",
    "    # Encode the sentence\n",
    "    encoded_sentence = tokenizer(\n",
    "        sentence,\n",
    "        max_length=16,\n",
    "        padding='max_length',\n",
    "        return_tensors='pt',\n",
    "        truncation=True\n",
    "    )\n",
    "    input_ids = encoded_sentence['input_ids'].squeeze(0)\n",
    "    attention_mask = encoded_sentence['attention_mask'].squeeze(0)\n",
    "\n",
    "    # Make prediction\n",
    "    with torch.no_grad():\n",
    "        outputs = model(input_ids.unsqueeze(0), attention_mask.unsqueeze(0))\n",
    "    prediction = torch.argmax(outputs, dim=1)\n",
    "    # give me a random answer based in the prediction\n",
    "    reponse = np.random.choice(intents[\"intents\"][prediction.item()][\"responses\"])\n",
    "\n",
    "    return reponse"
   ]
  },
  {
   "cell_type": "markdown",
   "metadata": {},
   "source": [
    "# 7 Chatbot"
   ]
  },
  {
   "cell_type": "code",
   "execution_count": 16,
   "metadata": {},
   "outputs": [
    {
     "name": "stdout",
     "output_type": "stream",
     "text": [
      "User Input: school\n",
      "News Assisstent Bot: Farewell!\n",
      "User Input: hi\n",
      "News Assisstent Bot: Bye! See you later.\n",
      "User Input: \n",
      "News Assisstent Bot: Bye! Have a nice day.\n",
      "User Input: bye\n",
      "News Assisstent Bot: See you later, thanks for visiting\n",
      "User Input: Hey how are you?\n",
      "News Assisstent Bot: Farewell!\n",
      "User Input: hi\n",
      "News Assisstent Bot: Farewell!\n",
      "User Input: quit\n"
     ]
    }
   ],
   "source": [
    "bot_name = \"News Assisstent Bot\"\n",
    "while True:\n",
    "    sentence = input(\"You: \")\n",
    "    print(\"User Input:\", sentence)\n",
    "    if sentence == \"quit\":\n",
    "        break\n",
    "\n",
    "    # get response\n",
    "    response = predict_intent(sentence)\n",
    "    print(f\"{bot_name}: {response}\")"
   ]
  }
 ],
 "metadata": {
  "kernelspec": {
   "display_name": "scratchbot",
   "language": "python",
   "name": "python3"
  },
  "language_info": {
   "codemirror_mode": {
    "name": "ipython",
    "version": 3
   },
   "file_extension": ".py",
   "mimetype": "text/x-python",
   "name": "python",
   "nbconvert_exporter": "python",
   "pygments_lexer": "ipython3",
   "version": "3.9.7"
  }
 },
 "nbformat": 4,
 "nbformat_minor": 2
}
