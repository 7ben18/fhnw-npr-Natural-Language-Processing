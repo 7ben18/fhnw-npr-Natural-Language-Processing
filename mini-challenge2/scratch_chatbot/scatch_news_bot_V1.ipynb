{
 "cells": [
  {
   "cell_type": "markdown",
   "metadata": {},
   "source": [
    "<div style=\"width: 30%; float: right; margin: 10px; margin-right: 5%;\">\n",
    "    <img src=\"https://upload.wikimedia.org/wikipedia/commons/thumb/d/d3/FHNW_Logo.svg/2560px-FHNW_Logo.svg.png\" width=\"500\" style=\"float: left; filter: invert(50%);\"/>\n",
    "</div>\n",
    "\n",
    "<h1 style=\"text-align: left; margin-top: 10px; float: left; width: 60%;\">\n",
    "    npr Mini-Challenge 2 <br> \n",
    "</h1>\n",
    "\n",
    "<p style=\"clear: both; text-align: left;\">\n",
    "    Bearbeitet durch Si Ben Tran, Yannic Lais, Rami Tarabishi im HS 2023.<br>Bachelor of Science FHNW in Data Science.\n",
    "</p>\n",
    "\n",
    "\n",
    "# Aufgabe aus dem Space\n",
    "Mini-Challenge 2-C (LE6):\n",
    "Chatbot\n",
    "\n",
    "You build a simple chatbot for hotel recommendation (here you can combine with npr and webscraping challenge) or extend the chatbot from the library (auxilio, please take contact with me), with rasa or dialogflow. You can also propose a use case. Important is the way intent are recognized and NER or variables are extracted. Delivery is a report on the use case, interactions and how intents are recognized and variables extracted. Also an error analysis on concrete conversations (confidence of models, explanation of predictions, etc.) should be undertaken. The submission can be done in a group of 2 or 3.\n"
   ]
  },
  {
   "cell_type": "markdown",
   "metadata": {},
   "source": [
    "# 1 Libraries"
   ]
  },
  {
   "cell_type": "code",
   "execution_count": null,
   "metadata": {},
   "outputs": [],
   "source": [
    "%load_ext autoreload\n",
    "%autoreload 2\n",
    "from src.preprocessing import tokenize, stem, bag_of_words\n",
    "from src.news_scraper import scrape_srf_links, get_data_for_topics\n",
    "from src.json_concat import concat_json_files\n",
    "from src.neuralmodel import NeuralNet \n",
    "\n",
    "import numpy as np\n",
    "import json\n",
    "from tqdm import tqdm \n",
    "\n",
    "\n",
    "import nltk\n",
    "# nltk.download('punkt')\n",
    "\n",
    "import torch\n",
    "import torch.nn as nn\n",
    "from torch.utils.data import Dataset, DataLoader\n"
   ]
  },
  {
   "cell_type": "markdown",
   "metadata": {},
   "source": [
    "# 2 Preprocessor "
   ]
  },
  {
   "cell_type": "markdown",
   "metadata": {},
   "source": [
    "## 2.1 Test Tokenizer"
   ]
  },
  {
   "cell_type": "code",
   "execution_count": null,
   "metadata": {},
   "outputs": [],
   "source": [
    "word_list = [\"believe\", \"believed\", \"believes\", \"believing\", \"believer\"]\n",
    "print(word_list)\n",
    "stemmed_words = [stem(w) for w in word_list]\n",
    "print(stemmed_words)"
   ]
  },
  {
   "cell_type": "markdown",
   "metadata": {},
   "source": [
    "## 2.2 Test Stemmer"
   ]
  },
  {
   "cell_type": "code",
   "execution_count": null,
   "metadata": {},
   "outputs": [],
   "source": [
    "word_list = [\"believe\", \"believed\", \"believes\", \"believing\", \"believer\"]\n",
    "print(word_list)\n",
    "stemmed_words = [stem(w) for w in word_list]\n",
    "print(stemmed_words)"
   ]
  },
  {
   "cell_type": "markdown",
   "metadata": {},
   "source": [
    "## 2.3 Bag of Words"
   ]
  },
  {
   "cell_type": "code",
   "execution_count": null,
   "metadata": {},
   "outputs": [],
   "source": [
    "sentence = [\"hello\", \"how\", \"are\", \"you\"]\n",
    "words = [\"hi\", \"hello\", \"I\", \"you\", \"bye\", \"thank\", \"cool\"]\n",
    "bag = bag_of_words(sentence, words)\n",
    "print(bag)"
   ]
  },
  {
   "cell_type": "markdown",
   "metadata": {},
   "source": [
    "# 3 Create and Load Data"
   ]
  },
  {
   "cell_type": "code",
   "execution_count": 35,
   "metadata": {},
   "outputs": [
    {
     "name": "stdout",
     "output_type": "stream",
     "text": [
      "Combined JSON file 'data/intents_news.json' created successfully for all topics.\n"
     ]
    }
   ],
   "source": [
    "# Scrape srf webpage\n",
    "url = \"https://www.srf.ch\"\n",
    "topic_list = scrape_srf_links(url)\n",
    "\n",
    "# create data \n",
    "get_data_for_topics(topic_list)"
   ]
  },
  {
   "cell_type": "code",
   "execution_count": 36,
   "metadata": {},
   "outputs": [],
   "source": [
    "with open('data/intents_news.json', 'r') as f:\n",
    "    intents_news = json.load(f)\n",
    "with open('data/intents-scratch.json', 'r') as f:\n",
    "    intents = json.load(f)\n",
    "\n",
    "# combine intents_news with intens\n",
    "intents[\"intents\"].extend(intents_news[\"intents\"])\n",
    "# export intents formmated as json\n",
    "with open('data/intents.json', 'w') as outfile:\n",
    "    json.dump(intents, outfile, indent=4)"
   ]
  },
  {
   "cell_type": "code",
   "execution_count": 37,
   "metadata": {},
   "outputs": [
    {
     "name": "stdout",
     "output_type": "stream",
     "text": [
      "['Hi', 'Hey', 'How', 'are', 'you', 'Is', 'anyone', 'there', '?', 'Hello', 'Good', 'day', 'Whats', 'up', 'How', 'are', 'you', 'doing', 'Howdy', 'Hi', 'there', 'Hola', 'Good', 'morning', 'Good', 'afternoon', 'Good', 'evening', 'It', 'is', 'nice', 'to', 'meet', 'you', 'Bye', 'See', 'you', 'later', 'Goodbye', 'Nice', 'chatting', 'to', 'you', ',', 'bye', 'Till', 'next', 'time', 'Have', 'a', 'nice', 'day', 'See', 'you', '!', 'Later', '!', 'Goodbye', '!', 'I', \"'m\", 'off', '!', 'That', \"'s\", 'all', 'for', 'now', '.', 'See', 'you', 'soon', '!', 'I', \"'ve\", 'got', 'to', 'get', 'going', '.', 'Bye', '!', 'It', 'was', 'nice', 'talking', 'to', 'you', '.', 'See', 'you', 'soon', '.', 'I', \"'ve\", 'got', 'to', 'get', 'going', '.', 'Have', 'a', 'great', 'day', '!', 'It', 'was', 'nice', 'talking', 'to', 'you', '.', 'Have', 'a', 'great', 'day', '!', 'I', \"'ve\", 'got', 'to', 'get', 'going', '.', 'Have', 'a', 'nice', 'day', '!', 'It', 'was', 'nice', 'talking', 'to', 'you', '.', 'Have', 'a', 'nice', 'day', '!', 'I', \"'ve\", 'got', 'to', 'get', 'going', '.', 'See', 'you', 'later', '!', 'Thanks', 'Thank', 'you', 'That', \"'s\", 'helpful', 'Thank', \"'s\", 'a', 'lot', '!', 'Thanks', 'for', 'helping', 'me', 'Awesome', ',', 'thanks', 'Thanks', 'for', 'the', 'help', 'Thanks', 'a', 'bunch', 'Thanks', 'for', 'everything', 'Thanks', 'for', 'the', 'chat', 'Thanks', 'for', 'the', 'conversation', 'Thanks', 'for', 'the', 'info', 'Do', 'you', 'take', 'credit', 'cards', '?', 'Do', 'you', 'accept', 'Mastercard', '?', 'Can', 'I', 'pay', 'with', 'Paypal', '?', 'Are', 'you', 'cash', 'only', '?', 'Do', 'you', 'accept', 'VISA', '?', 'Do', 'you', 'accept', 'AMEX', '?', 'Do', 'you', 'accept', 'Discover', 'Card', '?', 'Do', 'you', 'accept', 'Apple', 'Pay', '?', 'Do', 'you', 'accept', 'Google', 'Pay', '?', 'Do', 'you', 'accept', 'Samsung', 'Pay', '?', 'Do', 'you', 'accept', 'Bitcoin', '?', 'Do', 'you', 'accept', 'cryptocurrency', '?', 'Do', 'you', 'accept', 'crypto', '?', 'Do', 'you', 'accept', 'Dogecoin', '?', 'Do', 'you', 'accept', 'Ethereum', '?', 'Tell', 'me', 'a', 'joke', '!', 'Tell', 'me', 'something', 'funny', '!', 'Do', 'you', 'know', 'a', 'joke', '?', 'Do', 'you', 'know', 'any', 'jokes', '?', 'Do', 'you', 'know', 'any', 'funny', 'jokes', '?', 'Get', 'me', 'the', 'latest', 'meteo-stories', 'Tell', 'me', 'about', 'meteo-stories', 'What', \"'s\", 'happening', 'in', 'meteo-stories', 'Give', 'me', 'updates', 'on', 'meteo-stories', 'I', \"'m\", 'interested', 'in', 'meteo-stories', 'Can', 'you', 'provide', 'meteo-stories', 'Tell', 'me', 'more', 'about', 'meteo-stories', 'Share', 'meteo-stories', 'meteo-stories', 'Get', 'me', 'the', 'latest', 'www.radioswisspop.ch', 'Tell', 'me', 'about', 'www.radioswisspop.ch', 'What', \"'s\", 'happening', 'in', 'www.radioswisspop.ch', 'Give', 'me', 'updates', 'on', 'www.radioswisspop.ch', 'I', \"'m\", 'interested', 'in', 'www.radioswisspop.ch', 'Can', 'you', 'provide', 'www.radioswisspop.ch', 'Tell', 'me', 'more', 'about', 'www.radioswisspop.ch', 'Share', 'www.radioswisspop.ch', 'www.radioswisspop.ch', 'Get', 'me', 'the', 'latest', 'kunst', 'Tell', 'me', 'about', 'kunst', 'What', \"'s\", 'happening', 'in', 'kunst', 'Give', 'me', 'updates', 'on', 'kunst', 'I', \"'m\", 'interested', 'in', 'kunst', 'Can', 'you', 'provide', 'kunst', 'Tell', 'me', 'more', 'about', 'kunst', 'Share', 'kunst', 'kunst', 'Get', 'me', 'the', 'latest', 'jobs.srf.ch', 'Tell', 'me', 'about', 'jobs.srf.ch', 'What', \"'s\", 'happening', 'in', 'jobs.srf.ch', 'Give', 'me', 'updates', 'on', 'jobs.srf.ch', 'I', \"'m\", 'interested', 'in', 'jobs.srf.ch', 'Can', 'you', 'provide', 'jobs.srf.ch', 'Tell', 'me', 'more', 'about', 'jobs.srf.ch', 'Share', 'jobs.srf.ch', 'jobs.srf.ch', 'Get', 'me', 'the', 'latest', 'literatur', 'Tell', 'me', 'about', 'literatur', 'What', \"'s\", 'happening', 'in', 'literatur', 'Give', 'me', 'updates', 'on', 'literatur', 'I', \"'m\", 'interested', 'in', 'literatur', 'Can', 'you', 'provide', 'literatur', 'Tell', 'me', 'more', 'about', 'literatur', 'Share', 'literatur', 'literatur', 'Get', 'me', 'the', 'latest', 'musik', 'Tell', 'me', 'about', 'musik', 'What', \"'s\", 'happening', 'in', 'musik', 'Give', 'me', 'updates', 'on', 'musik', 'I', \"'m\", 'interested', 'in', 'musik', 'Can', 'you', 'provide', 'musik', 'Tell', 'me', 'more', 'about', 'musik', 'Share', 'musik', 'musik', 'Get', 'me', 'the', 'latest', 'ski-alpin', 'Tell', 'me', 'about', 'ski-alpin', 'What', \"'s\", 'happening', 'in', 'ski-alpin', 'Give', 'me', 'updates', 'on', 'ski-alpin', 'I', \"'m\", 'interested', 'in', 'ski-alpin', 'Can', 'you', 'provide', 'ski-alpin', 'Tell', 'me', 'more', 'about', 'ski-alpin', 'Share', 'ski-alpin', 'ski-alpin', 'Get', 'me', 'the', 'latest', 'www.rsi.ch', 'Tell', 'me', 'about', 'www.rsi.ch', 'What', \"'s\", 'happening', 'in', 'www.rsi.ch', 'Give', 'me', 'updates', 'on', 'www.rsi.ch', 'I', \"'m\", 'interested', 'in', 'www.rsi.ch', 'Can', 'you', 'provide', 'www.rsi.ch', 'Tell', 'me', 'more', 'about', 'www.rsi.ch', 'Share', 'www.rsi.ch', 'www.rsi.ch', 'Get', 'me', 'the', 'latest', 'decodar-nossa-cultura', 'Tell', 'me', 'about', 'decodar-nossa-cultura', 'What', \"'s\", 'happening', 'in', 'decodar-nossa-cultura', 'Give', 'me', 'updates', 'on', 'decodar-nossa-cultura', 'I', \"'m\", 'interested', 'in', 'decodar-nossa-cultura', 'Can', 'you', 'provide', 'decodar-nossa-cultura', 'Tell', 'me', 'more', 'about', 'decodar-nossa-cultura', 'Share', 'decodar-nossa-cultura', 'decodar-nossa-cultura', 'Get', 'me', 'the', 'latest', 'startseite', 'Tell', 'me', 'about', 'startseite', 'What', \"'s\", 'happening', 'in', 'startseite', 'Give', 'me', 'updates', 'on', 'startseite', 'I', \"'m\", 'interested', 'in', 'startseite', 'Can', 'you', 'provide', 'startseite', 'Tell', 'me', 'more', 'about', 'startseite', 'Share', 'startseite', 'startseite', 'Get', 'me', 'the', 'latest', 'arbeitsrecht', 'Tell', 'me', 'about', 'arbeitsrecht', 'What', \"'s\", 'happening', 'in', 'arbeitsrecht', 'Give', 'me', 'updates', 'on', 'arbeitsrecht', 'I', \"'m\", 'interested', 'in', 'arbeitsrecht', 'Can', 'you', 'provide', 'arbeitsrecht', 'Tell', 'me', 'more', 'about', 'arbeitsrecht', 'Share', 'arbeitsrecht', 'arbeitsrecht', 'Get', 'me', 'the', 'latest', 'radio', 'Tell', 'me', 'about', 'radio', 'What', \"'s\", 'happening', 'in', 'radio', 'Give', 'me', 'updates', 'on', 'radio', 'I', \"'m\", 'interested', 'in', 'radio', 'Can', 'you', 'provide', 'radio', 'Tell', 'me', 'more', 'about', 'radio', 'Share', 'radio', 'radio', 'Get', 'me', 'the', 'latest', 'www.srf.ch', 'Tell', 'me', 'about', 'www.srf.ch', 'What', \"'s\", 'happening', 'in', 'www.srf.ch', 'Give', 'me', 'updates', 'on', 'www.srf.ch', 'I', \"'m\", 'interested', 'in', 'www.srf.ch', 'Can', 'you', 'provide', 'www.srf.ch', 'Tell', 'me', 'more', 'about', 'www.srf.ch', 'Share', 'www.srf.ch', 'www.srf.ch', 'Get', 'me', 'the', 'latest', 'tennis', 'Tell', 'me', 'about', 'tennis', 'What', \"'s\", 'happening', 'in', 'tennis', 'Give', 'me', 'updates', 'on', 'tennis', 'I', \"'m\", 'interested', 'in', 'tennis', 'Can', 'you', 'provide', 'tennis', 'Tell', 'me', 'more', 'about', 'tennis', 'Share', 'tennis', 'tennis', 'Get', 'me', 'the', 'latest', 'www.radioswissclassic.ch', 'Tell', 'me', 'about', 'www.radioswissclassic.ch', 'What', \"'s\", 'happening', 'in', 'www.radioswissclassic.ch', 'Give', 'me', 'updates', 'on', 'www.radioswissclassic.ch', 'I', \"'m\", 'interested', 'in', 'www.radioswissclassic.ch', 'Can', 'you', 'provide', 'www.radioswissclassic.ch', 'Tell', 'me', 'more', 'about', 'www.radioswissclassic.ch', 'Share', 'www.radioswissclassic.ch', 'www.radioswissclassic.ch', 'Get', 'me', 'the', 'latest', 'fussball', 'Tell', 'me', 'about', 'fussball', 'What', \"'s\", 'happening', 'in', 'fussball', 'Give', 'me', 'updates', 'on', 'fussball', 'I', \"'m\", 'interested', 'in', 'fussball', 'Can', 'you', 'provide', 'fussball', 'Tell', 'me', 'more', 'about', 'fussball', 'Share', 'fussball', 'fussball', 'Get', 'me', 'the', 'latest', 'international', 'Tell', 'me', 'about', 'international', 'What', \"'s\", 'happening', 'in', 'international', 'Give', 'me', 'updates', 'on', 'international', 'I', \"'m\", 'interested', 'in', 'international', 'Can', 'you', 'provide', 'international', 'Tell', 'me', 'more', 'about', 'international', 'Share', 'international', 'international', 'Get', 'me', 'the', 'latest', 'kassensturz-espresso', 'Tell', 'me', 'about', 'kassensturz-espresso', 'What', \"'s\", 'happening', 'in', 'kassensturz-espresso', 'Give', 'me', 'updates', 'on', 'kassensturz-espresso', 'I', \"'m\", 'interested', 'in', 'kassensturz-espresso', 'Can', 'you', 'provide', 'kassensturz-espresso', 'Tell', 'me', 'more', 'about', 'kassensturz-espresso', 'Share', 'kassensturz-espresso', 'kassensturz-espresso', 'Get', 'me', 'the', 'latest', 'woerterbuch', 'Tell', 'me', 'about', 'woerterbuch', 'What', \"'s\", 'happening', 'in', 'woerterbuch', 'Give', 'me', 'updates', 'on', 'woerterbuch', 'I', \"'m\", 'interested', 'in', 'woerterbuch', 'Can', 'you', 'provide', 'woerterbuch', 'Tell', 'me', 'more', 'about', 'woerterbuch', 'Share', 'woerterbuch', 'woerterbuch', 'Get', 'me', 'the', 'latest', 'dialog', 'Tell', 'me', 'about', 'dialog', 'What', \"'s\", 'happening', 'in', 'dialog', 'Give', 'me', 'updates', 'on', 'dialog', 'I', \"'m\", 'interested', 'in', 'dialog', 'Can', 'you', 'provide', 'dialog', 'Tell', 'me', 'more', 'about', 'dialog', 'Share', 'dialog', 'dialog', 'Get', 'me', 'the', 'latest', 'gesundheit', 'Tell', 'me', 'about', 'gesundheit', 'What', \"'s\", 'happening', 'in', 'gesundheit', 'Give', 'me', 'updates', 'on', 'gesundheit', 'I', \"'m\", 'interested', 'in', 'gesundheit', 'Can', 'you', 'provide', 'gesundheit', 'Tell', 'me', 'more', 'about', 'gesundheit', 'Share', 'gesundheit', 'gesundheit', 'Get', 'me', 'the', 'latest', 'tv', 'Tell', 'me', 'about', 'tv', 'What', \"'s\", 'happening', 'in', 'tv', 'Give', 'me', 'updates', 'on', 'tv', 'I', \"'m\", 'interested', 'in', 'tv', 'Can', 'you', 'provide', 'tv', 'Tell', 'me', 'more', 'about', 'tv', 'Share', 'tv', 'tv', 'Get', 'me', 'the', 'latest', 'www.swissinfo.ch', 'Tell', 'me', 'about', 'www.swissinfo.ch', 'What', \"'s\", 'happening', 'in', 'www.swissinfo.ch', 'Give', 'me', 'updates', 'on', 'www.swissinfo.ch', 'I', \"'m\", 'interested', 'in', 'www.swissinfo.ch', 'Can', 'you', 'provide', 'www.swissinfo.ch', 'Tell', 'me', 'more', 'about', 'www.swissinfo.ch', 'Share', 'www.swissinfo.ch', 'www.swissinfo.ch', 'Get', 'me', 'the', 'latest', 'schweiz', 'Tell', 'me', 'about', 'schweiz', 'What', \"'s\", 'happening', 'in', 'schweiz', 'Give', 'me', 'updates', 'on', 'schweiz', 'I', \"'m\", 'interested', 'in', 'schweiz', 'Can', 'you', 'provide', 'schweiz', 'Tell', 'me', 'more', 'about', 'schweiz', 'Share', 'schweiz', 'schweiz', 'Get', 'me', 'the', 'latest', 'wirtschaft', 'Tell', 'me', 'about', 'wirtschaft', 'What', \"'s\", 'happening', 'in', 'wirtschaft', 'Give', 'me', 'updates', 'on', 'wirtschaft', 'I', \"'m\", 'interested', 'in', 'wirtschaft', 'Can', 'you', 'provide', 'wirtschaft', 'Tell', 'me', 'more', 'about', 'wirtschaft', 'Share', 'wirtschaft', 'wirtschaft', 'Get', 'me', 'the', 'latest', 'www.radioswissjazz.ch', 'Tell', 'me', 'about', 'www.radioswissjazz.ch', 'What', \"'s\", 'happening', 'in', 'www.radioswissjazz.ch', 'Give', 'me', 'updates', 'on', 'www.radioswissjazz.ch', 'I', \"'m\", 'interested', 'in', 'www.radioswissjazz.ch', 'Can', 'you', 'provide', 'www.radioswissjazz.ch', 'Tell', 'me', 'more', 'about', 'www.radioswissjazz.ch', 'Share', 'www.radioswissjazz.ch', 'www.radioswissjazz.ch', 'Get', 'me', 'the', 'latest', 'resultcenter', 'Tell', 'me', 'about', 'resultcenter', 'What', \"'s\", 'happening', 'in', 'resultcenter', 'Give', 'me', 'updates', 'on', 'resultcenter', 'I', \"'m\", 'interested', 'in', 'resultcenter', 'Can', 'you', 'provide', 'resultcenter', 'Tell', 'me', 'more', 'about', 'resultcenter', 'Share', 'resultcenter', 'resultcenter', 'Get', 'me', 'the', 'latest', 'video', 'Tell', 'me', 'about', 'video', 'What', \"'s\", 'happening', 'in', 'video', 'Give', 'me', 'updates', 'on', 'video', 'I', \"'m\", 'interested', 'in', 'video', 'Can', 'you', 'provide', 'video', 'Tell', 'me', 'more', 'about', 'video', 'Share', 'video', 'video', 'Get', 'me', 'the', 'latest', 'www.rts.ch', 'Tell', 'me', 'about', 'www.rts.ch', 'What', \"'s\", 'happening', 'in', 'www.rts.ch', 'Give', 'me', 'updates', 'on', 'www.rts.ch', 'I', \"'m\", 'interested', 'in', 'www.rts.ch', 'Can', 'you', 'provide', 'www.rts.ch', 'Tell', 'me', 'more', 'about', 'www.rts.ch', 'Share', 'www.rts.ch', 'www.rts.ch', 'Get', 'me', 'the', 'latest', 'mehr-sport', 'Tell', 'me', 'about', 'mehr-sport', 'What', \"'s\", 'happening', 'in', 'mehr-sport', 'Give', 'me', 'updates', 'on', 'mehr-sport', 'I', \"'m\", 'interested', 'in', 'mehr-sport', 'Can', 'you', 'provide', 'mehr-sport', 'Tell', 'me', 'more', 'about', 'mehr-sport', 'Share', 'mehr-sport', 'mehr-sport', 'Get', 'me', 'the', 'latest', 'live', 'Tell', 'me', 'about', 'live', 'What', \"'s\", 'happening', 'in', 'live', 'Give', 'me', 'updates', 'on', 'live', 'I', \"'m\", 'interested', 'in', 'live', 'Can', 'you', 'provide', 'live', 'Tell', 'me', 'more', 'about', 'live', 'Share', 'live', 'live', 'Get', 'me', 'the', 'latest', 'www.rtr.ch', 'Tell', 'me', 'about', 'www.rtr.ch', 'What', \"'s\", 'happening', 'in', 'www.rtr.ch', 'Give', 'me', 'updates', 'on', 'www.rtr.ch', 'I', \"'m\", 'interested', 'in', 'www.rtr.ch', 'Can', 'you', 'provide', 'www.rtr.ch', 'Tell', 'me', 'more', 'about', 'www.rtr.ch', 'Share', 'www.rtr.ch', 'www.rtr.ch', 'Get', 'me', 'the', 'latest', 'www.srgssr.ch', 'Tell', 'me', 'about', 'www.srgssr.ch', 'What', \"'s\", 'happening', 'in', 'www.srgssr.ch', 'Give', 'me', 'updates', 'on', 'www.srgssr.ch', 'I', \"'m\", 'interested', 'in', 'www.srgssr.ch', 'Can', 'you', 'provide', 'www.srgssr.ch', 'Tell', 'me', 'more', 'about', 'www.srgssr.ch', 'Share', 'www.srgssr.ch', 'www.srgssr.ch', 'Get', 'me', 'the', 'latest', 'school', 'Tell', 'me', 'about', 'school', 'What', \"'s\", 'happening', 'in', 'school', 'Give', 'me', 'updates', 'on', 'school', 'I', \"'m\", 'interested', 'in', 'school', 'Can', 'you', 'provide', 'school', 'Tell', 'me', 'more', 'about', 'school', 'Share', 'school', 'school', 'Get', 'me', 'the', 'latest', 'eishockey', 'Tell', 'me', 'about', 'eishockey', 'What', \"'s\", 'happening', 'in', 'eishockey', 'Give', 'me', 'updates', 'on', 'eishockey', 'I', \"'m\", 'interested', 'in', 'eishockey', 'Can', 'you', 'provide', 'eishockey', 'Tell', 'me', 'more', 'about', 'eishockey', 'Share', 'eishockey', 'eishockey', 'Get', 'me', 'the', 'latest', 'wetter', 'Tell', 'me', 'about', 'wetter', 'What', \"'s\", 'happening', 'in', 'wetter', 'Give', 'me', 'updates', 'on', 'wetter', 'I', \"'m\", 'interested', 'in', 'wetter', 'Can', 'you', 'provide', 'wetter', 'Tell', 'me', 'more', 'about', 'wetter', 'Share', 'wetter', 'wetter', 'Get', 'me', 'the', 'latest', 'gesellschaft', 'Tell', 'me', 'about', 'gesellschaft', 'What', \"'s\", 'happening', 'in', 'gesellschaft', 'Give', 'me', 'updates', 'on', 'gesellschaft', 'I', \"'m\", 'interested', 'in', 'gesellschaft', 'Can', 'you', 'provide', 'gesellschaft', 'Tell', 'me', 'more', 'about', 'gesellschaft', 'Share', 'gesellschaft', 'gesellschaft', 'Get', 'me', 'the', 'latest', 'website-und-apps', 'Tell', 'me', 'about', 'website-und-apps', 'What', \"'s\", 'happening', 'in', 'website-und-apps', 'Give', 'me', 'updates', 'on', 'website-und-apps', 'I', \"'m\", 'interested', 'in', 'website-und-apps', 'Can', 'you', 'provide', 'website-und-apps', 'Tell', 'me', 'more', 'about', 'website-und-apps', 'Share', 'website-und-apps', 'website-und-apps', 'Get', 'me', 'the', 'latest', 'themen', 'Tell', 'me', 'about', 'themen', 'What', \"'s\", 'happening', 'in', 'themen', 'Give', 'me', 'updates', 'on', 'themen', 'I', \"'m\", 'interested', 'in', 'themen', 'Can', 'you', 'provide', 'themen', 'Tell', 'me', 'more', 'about', 'themen', 'Share', 'themen', 'themen']\n",
      "['greeting', 'goodbye', 'thanks', 'payments', 'funny', 'meteo-stories', 'www.radioswisspop.ch', 'kunst', 'jobs.srf.ch', 'literatur', 'musik', 'ski-alpin', 'www.rsi.ch', 'decodar-nossa-cultura', 'startseite', 'arbeitsrecht', 'radio', 'www.srf.ch', 'tennis', 'www.radioswissclassic.ch', 'fussball', 'international', 'kassensturz-espresso', 'woerterbuch', 'dialog', 'gesundheit', 'tv', 'www.swissinfo.ch', 'schweiz', 'wirtschaft', 'www.radioswissjazz.ch', 'resultcenter', 'video', 'www.rts.ch', 'mehr-sport', 'live', 'www.rtr.ch', 'www.srgssr.ch', 'school', 'eishockey', 'wetter', 'gesellschaft', 'website-und-apps', 'themen']\n",
      "[(['Hi'], 'greeting'), (['Hey'], 'greeting'), (['How', 'are', 'you'], 'greeting'), (['Is', 'anyone', 'there', '?'], 'greeting'), (['Hello'], 'greeting'), (['Good', 'day'], 'greeting'), (['Whats', 'up'], 'greeting'), (['How', 'are', 'you', 'doing'], 'greeting'), (['Howdy'], 'greeting'), (['Hi', 'there'], 'greeting'), (['Hola'], 'greeting'), (['Good', 'morning'], 'greeting'), (['Good', 'afternoon'], 'greeting'), (['Good', 'evening'], 'greeting'), (['It', 'is', 'nice', 'to', 'meet', 'you'], 'greeting'), (['Bye'], 'goodbye'), (['See', 'you', 'later'], 'goodbye'), (['Goodbye'], 'goodbye'), (['Nice', 'chatting', 'to', 'you', ',', 'bye'], 'goodbye'), (['Till', 'next', 'time'], 'goodbye'), (['Have', 'a', 'nice', 'day'], 'goodbye'), (['See', 'you', '!'], 'goodbye'), (['Later', '!'], 'goodbye'), (['Goodbye', '!'], 'goodbye'), (['I', \"'m\", 'off', '!'], 'goodbye'), (['That', \"'s\", 'all', 'for', 'now', '.', 'See', 'you', 'soon', '!'], 'goodbye'), (['I', \"'ve\", 'got', 'to', 'get', 'going', '.', 'Bye', '!'], 'goodbye'), (['It', 'was', 'nice', 'talking', 'to', 'you', '.', 'See', 'you', 'soon', '.'], 'goodbye'), (['I', \"'ve\", 'got', 'to', 'get', 'going', '.', 'Have', 'a', 'great', 'day', '!'], 'goodbye'), (['It', 'was', 'nice', 'talking', 'to', 'you', '.', 'Have', 'a', 'great', 'day', '!'], 'goodbye'), (['I', \"'ve\", 'got', 'to', 'get', 'going', '.', 'Have', 'a', 'nice', 'day', '!'], 'goodbye'), (['It', 'was', 'nice', 'talking', 'to', 'you', '.', 'Have', 'a', 'nice', 'day', '!'], 'goodbye'), (['I', \"'ve\", 'got', 'to', 'get', 'going', '.', 'See', 'you', 'later', '!'], 'goodbye'), (['Thanks'], 'thanks'), (['Thank', 'you'], 'thanks'), (['That', \"'s\", 'helpful'], 'thanks'), (['Thank', \"'s\", 'a', 'lot', '!'], 'thanks'), (['Thanks', 'for', 'helping', 'me'], 'thanks'), (['Awesome', ',', 'thanks'], 'thanks'), (['Thanks', 'for', 'the', 'help'], 'thanks'), (['Thanks', 'a', 'bunch'], 'thanks'), (['Thanks', 'for', 'everything'], 'thanks'), (['Thanks', 'for', 'the', 'chat'], 'thanks'), (['Thanks', 'for', 'the', 'conversation'], 'thanks'), (['Thanks', 'for', 'the', 'info'], 'thanks'), (['Do', 'you', 'take', 'credit', 'cards', '?'], 'payments'), (['Do', 'you', 'accept', 'Mastercard', '?'], 'payments'), (['Can', 'I', 'pay', 'with', 'Paypal', '?'], 'payments'), (['Are', 'you', 'cash', 'only', '?'], 'payments'), (['Do', 'you', 'accept', 'VISA', '?'], 'payments'), (['Do', 'you', 'accept', 'AMEX', '?'], 'payments'), (['Do', 'you', 'accept', 'Discover', 'Card', '?'], 'payments'), (['Do', 'you', 'accept', 'Apple', 'Pay', '?'], 'payments'), (['Do', 'you', 'accept', 'Google', 'Pay', '?'], 'payments'), (['Do', 'you', 'accept', 'Samsung', 'Pay', '?'], 'payments'), (['Do', 'you', 'accept', 'Bitcoin', '?'], 'payments'), (['Do', 'you', 'accept', 'cryptocurrency', '?'], 'payments'), (['Do', 'you', 'accept', 'crypto', '?'], 'payments'), (['Do', 'you', 'accept', 'Dogecoin', '?'], 'payments'), (['Do', 'you', 'accept', 'Ethereum', '?'], 'payments'), (['Tell', 'me', 'a', 'joke', '!'], 'funny'), (['Tell', 'me', 'something', 'funny', '!'], 'funny'), (['Do', 'you', 'know', 'a', 'joke', '?'], 'funny'), (['Do', 'you', 'know', 'any', 'jokes', '?'], 'funny'), (['Do', 'you', 'know', 'any', 'funny', 'jokes', '?'], 'funny'), (['Get', 'me', 'the', 'latest', 'meteo-stories'], 'meteo-stories'), (['Tell', 'me', 'about', 'meteo-stories'], 'meteo-stories'), (['What', \"'s\", 'happening', 'in', 'meteo-stories'], 'meteo-stories'), (['Give', 'me', 'updates', 'on', 'meteo-stories'], 'meteo-stories'), (['I', \"'m\", 'interested', 'in', 'meteo-stories'], 'meteo-stories'), (['Can', 'you', 'provide', 'meteo-stories'], 'meteo-stories'), (['Tell', 'me', 'more', 'about', 'meteo-stories'], 'meteo-stories'), (['Share', 'meteo-stories'], 'meteo-stories'), (['meteo-stories'], 'meteo-stories'), (['Get', 'me', 'the', 'latest', 'www.radioswisspop.ch'], 'www.radioswisspop.ch'), (['Tell', 'me', 'about', 'www.radioswisspop.ch'], 'www.radioswisspop.ch'), (['What', \"'s\", 'happening', 'in', 'www.radioswisspop.ch'], 'www.radioswisspop.ch'), (['Give', 'me', 'updates', 'on', 'www.radioswisspop.ch'], 'www.radioswisspop.ch'), (['I', \"'m\", 'interested', 'in', 'www.radioswisspop.ch'], 'www.radioswisspop.ch'), (['Can', 'you', 'provide', 'www.radioswisspop.ch'], 'www.radioswisspop.ch'), (['Tell', 'me', 'more', 'about', 'www.radioswisspop.ch'], 'www.radioswisspop.ch'), (['Share', 'www.radioswisspop.ch'], 'www.radioswisspop.ch'), (['www.radioswisspop.ch'], 'www.radioswisspop.ch'), (['Get', 'me', 'the', 'latest', 'kunst'], 'kunst'), (['Tell', 'me', 'about', 'kunst'], 'kunst'), (['What', \"'s\", 'happening', 'in', 'kunst'], 'kunst'), (['Give', 'me', 'updates', 'on', 'kunst'], 'kunst'), (['I', \"'m\", 'interested', 'in', 'kunst'], 'kunst'), (['Can', 'you', 'provide', 'kunst'], 'kunst'), (['Tell', 'me', 'more', 'about', 'kunst'], 'kunst'), (['Share', 'kunst'], 'kunst'), (['kunst'], 'kunst'), (['Get', 'me', 'the', 'latest', 'jobs.srf.ch'], 'jobs.srf.ch'), (['Tell', 'me', 'about', 'jobs.srf.ch'], 'jobs.srf.ch'), (['What', \"'s\", 'happening', 'in', 'jobs.srf.ch'], 'jobs.srf.ch'), (['Give', 'me', 'updates', 'on', 'jobs.srf.ch'], 'jobs.srf.ch'), (['I', \"'m\", 'interested', 'in', 'jobs.srf.ch'], 'jobs.srf.ch'), (['Can', 'you', 'provide', 'jobs.srf.ch'], 'jobs.srf.ch'), (['Tell', 'me', 'more', 'about', 'jobs.srf.ch'], 'jobs.srf.ch'), (['Share', 'jobs.srf.ch'], 'jobs.srf.ch'), (['jobs.srf.ch'], 'jobs.srf.ch'), (['Get', 'me', 'the', 'latest', 'literatur'], 'literatur'), (['Tell', 'me', 'about', 'literatur'], 'literatur'), (['What', \"'s\", 'happening', 'in', 'literatur'], 'literatur'), (['Give', 'me', 'updates', 'on', 'literatur'], 'literatur'), (['I', \"'m\", 'interested', 'in', 'literatur'], 'literatur'), (['Can', 'you', 'provide', 'literatur'], 'literatur'), (['Tell', 'me', 'more', 'about', 'literatur'], 'literatur'), (['Share', 'literatur'], 'literatur'), (['literatur'], 'literatur'), (['Get', 'me', 'the', 'latest', 'musik'], 'musik'), (['Tell', 'me', 'about', 'musik'], 'musik'), (['What', \"'s\", 'happening', 'in', 'musik'], 'musik'), (['Give', 'me', 'updates', 'on', 'musik'], 'musik'), (['I', \"'m\", 'interested', 'in', 'musik'], 'musik'), (['Can', 'you', 'provide', 'musik'], 'musik'), (['Tell', 'me', 'more', 'about', 'musik'], 'musik'), (['Share', 'musik'], 'musik'), (['musik'], 'musik'), (['Get', 'me', 'the', 'latest', 'ski-alpin'], 'ski-alpin'), (['Tell', 'me', 'about', 'ski-alpin'], 'ski-alpin'), (['What', \"'s\", 'happening', 'in', 'ski-alpin'], 'ski-alpin'), (['Give', 'me', 'updates', 'on', 'ski-alpin'], 'ski-alpin'), (['I', \"'m\", 'interested', 'in', 'ski-alpin'], 'ski-alpin'), (['Can', 'you', 'provide', 'ski-alpin'], 'ski-alpin'), (['Tell', 'me', 'more', 'about', 'ski-alpin'], 'ski-alpin'), (['Share', 'ski-alpin'], 'ski-alpin'), (['ski-alpin'], 'ski-alpin'), (['Get', 'me', 'the', 'latest', 'www.rsi.ch'], 'www.rsi.ch'), (['Tell', 'me', 'about', 'www.rsi.ch'], 'www.rsi.ch'), (['What', \"'s\", 'happening', 'in', 'www.rsi.ch'], 'www.rsi.ch'), (['Give', 'me', 'updates', 'on', 'www.rsi.ch'], 'www.rsi.ch'), (['I', \"'m\", 'interested', 'in', 'www.rsi.ch'], 'www.rsi.ch'), (['Can', 'you', 'provide', 'www.rsi.ch'], 'www.rsi.ch'), (['Tell', 'me', 'more', 'about', 'www.rsi.ch'], 'www.rsi.ch'), (['Share', 'www.rsi.ch'], 'www.rsi.ch'), (['www.rsi.ch'], 'www.rsi.ch'), (['Get', 'me', 'the', 'latest', 'decodar-nossa-cultura'], 'decodar-nossa-cultura'), (['Tell', 'me', 'about', 'decodar-nossa-cultura'], 'decodar-nossa-cultura'), (['What', \"'s\", 'happening', 'in', 'decodar-nossa-cultura'], 'decodar-nossa-cultura'), (['Give', 'me', 'updates', 'on', 'decodar-nossa-cultura'], 'decodar-nossa-cultura'), (['I', \"'m\", 'interested', 'in', 'decodar-nossa-cultura'], 'decodar-nossa-cultura'), (['Can', 'you', 'provide', 'decodar-nossa-cultura'], 'decodar-nossa-cultura'), (['Tell', 'me', 'more', 'about', 'decodar-nossa-cultura'], 'decodar-nossa-cultura'), (['Share', 'decodar-nossa-cultura'], 'decodar-nossa-cultura'), (['decodar-nossa-cultura'], 'decodar-nossa-cultura'), (['Get', 'me', 'the', 'latest', 'startseite'], 'startseite'), (['Tell', 'me', 'about', 'startseite'], 'startseite'), (['What', \"'s\", 'happening', 'in', 'startseite'], 'startseite'), (['Give', 'me', 'updates', 'on', 'startseite'], 'startseite'), (['I', \"'m\", 'interested', 'in', 'startseite'], 'startseite'), (['Can', 'you', 'provide', 'startseite'], 'startseite'), (['Tell', 'me', 'more', 'about', 'startseite'], 'startseite'), (['Share', 'startseite'], 'startseite'), (['startseite'], 'startseite'), (['Get', 'me', 'the', 'latest', 'arbeitsrecht'], 'arbeitsrecht'), (['Tell', 'me', 'about', 'arbeitsrecht'], 'arbeitsrecht'), (['What', \"'s\", 'happening', 'in', 'arbeitsrecht'], 'arbeitsrecht'), (['Give', 'me', 'updates', 'on', 'arbeitsrecht'], 'arbeitsrecht'), (['I', \"'m\", 'interested', 'in', 'arbeitsrecht'], 'arbeitsrecht'), (['Can', 'you', 'provide', 'arbeitsrecht'], 'arbeitsrecht'), (['Tell', 'me', 'more', 'about', 'arbeitsrecht'], 'arbeitsrecht'), (['Share', 'arbeitsrecht'], 'arbeitsrecht'), (['arbeitsrecht'], 'arbeitsrecht'), (['Get', 'me', 'the', 'latest', 'radio'], 'radio'), (['Tell', 'me', 'about', 'radio'], 'radio'), (['What', \"'s\", 'happening', 'in', 'radio'], 'radio'), (['Give', 'me', 'updates', 'on', 'radio'], 'radio'), (['I', \"'m\", 'interested', 'in', 'radio'], 'radio'), (['Can', 'you', 'provide', 'radio'], 'radio'), (['Tell', 'me', 'more', 'about', 'radio'], 'radio'), (['Share', 'radio'], 'radio'), (['radio'], 'radio'), (['Get', 'me', 'the', 'latest', 'www.srf.ch'], 'www.srf.ch'), (['Tell', 'me', 'about', 'www.srf.ch'], 'www.srf.ch'), (['What', \"'s\", 'happening', 'in', 'www.srf.ch'], 'www.srf.ch'), (['Give', 'me', 'updates', 'on', 'www.srf.ch'], 'www.srf.ch'), (['I', \"'m\", 'interested', 'in', 'www.srf.ch'], 'www.srf.ch'), (['Can', 'you', 'provide', 'www.srf.ch'], 'www.srf.ch'), (['Tell', 'me', 'more', 'about', 'www.srf.ch'], 'www.srf.ch'), (['Share', 'www.srf.ch'], 'www.srf.ch'), (['www.srf.ch'], 'www.srf.ch'), (['Get', 'me', 'the', 'latest', 'tennis'], 'tennis'), (['Tell', 'me', 'about', 'tennis'], 'tennis'), (['What', \"'s\", 'happening', 'in', 'tennis'], 'tennis'), (['Give', 'me', 'updates', 'on', 'tennis'], 'tennis'), (['I', \"'m\", 'interested', 'in', 'tennis'], 'tennis'), (['Can', 'you', 'provide', 'tennis'], 'tennis'), (['Tell', 'me', 'more', 'about', 'tennis'], 'tennis'), (['Share', 'tennis'], 'tennis'), (['tennis'], 'tennis'), (['Get', 'me', 'the', 'latest', 'www.radioswissclassic.ch'], 'www.radioswissclassic.ch'), (['Tell', 'me', 'about', 'www.radioswissclassic.ch'], 'www.radioswissclassic.ch'), (['What', \"'s\", 'happening', 'in', 'www.radioswissclassic.ch'], 'www.radioswissclassic.ch'), (['Give', 'me', 'updates', 'on', 'www.radioswissclassic.ch'], 'www.radioswissclassic.ch'), (['I', \"'m\", 'interested', 'in', 'www.radioswissclassic.ch'], 'www.radioswissclassic.ch'), (['Can', 'you', 'provide', 'www.radioswissclassic.ch'], 'www.radioswissclassic.ch'), (['Tell', 'me', 'more', 'about', 'www.radioswissclassic.ch'], 'www.radioswissclassic.ch'), (['Share', 'www.radioswissclassic.ch'], 'www.radioswissclassic.ch'), (['www.radioswissclassic.ch'], 'www.radioswissclassic.ch'), (['Get', 'me', 'the', 'latest', 'fussball'], 'fussball'), (['Tell', 'me', 'about', 'fussball'], 'fussball'), (['What', \"'s\", 'happening', 'in', 'fussball'], 'fussball'), (['Give', 'me', 'updates', 'on', 'fussball'], 'fussball'), (['I', \"'m\", 'interested', 'in', 'fussball'], 'fussball'), (['Can', 'you', 'provide', 'fussball'], 'fussball'), (['Tell', 'me', 'more', 'about', 'fussball'], 'fussball'), (['Share', 'fussball'], 'fussball'), (['fussball'], 'fussball'), (['Get', 'me', 'the', 'latest', 'international'], 'international'), (['Tell', 'me', 'about', 'international'], 'international'), (['What', \"'s\", 'happening', 'in', 'international'], 'international'), (['Give', 'me', 'updates', 'on', 'international'], 'international'), (['I', \"'m\", 'interested', 'in', 'international'], 'international'), (['Can', 'you', 'provide', 'international'], 'international'), (['Tell', 'me', 'more', 'about', 'international'], 'international'), (['Share', 'international'], 'international'), (['international'], 'international'), (['Get', 'me', 'the', 'latest', 'kassensturz-espresso'], 'kassensturz-espresso'), (['Tell', 'me', 'about', 'kassensturz-espresso'], 'kassensturz-espresso'), (['What', \"'s\", 'happening', 'in', 'kassensturz-espresso'], 'kassensturz-espresso'), (['Give', 'me', 'updates', 'on', 'kassensturz-espresso'], 'kassensturz-espresso'), (['I', \"'m\", 'interested', 'in', 'kassensturz-espresso'], 'kassensturz-espresso'), (['Can', 'you', 'provide', 'kassensturz-espresso'], 'kassensturz-espresso'), (['Tell', 'me', 'more', 'about', 'kassensturz-espresso'], 'kassensturz-espresso'), (['Share', 'kassensturz-espresso'], 'kassensturz-espresso'), (['kassensturz-espresso'], 'kassensturz-espresso'), (['Get', 'me', 'the', 'latest', 'woerterbuch'], 'woerterbuch'), (['Tell', 'me', 'about', 'woerterbuch'], 'woerterbuch'), (['What', \"'s\", 'happening', 'in', 'woerterbuch'], 'woerterbuch'), (['Give', 'me', 'updates', 'on', 'woerterbuch'], 'woerterbuch'), (['I', \"'m\", 'interested', 'in', 'woerterbuch'], 'woerterbuch'), (['Can', 'you', 'provide', 'woerterbuch'], 'woerterbuch'), (['Tell', 'me', 'more', 'about', 'woerterbuch'], 'woerterbuch'), (['Share', 'woerterbuch'], 'woerterbuch'), (['woerterbuch'], 'woerterbuch'), (['Get', 'me', 'the', 'latest', 'dialog'], 'dialog'), (['Tell', 'me', 'about', 'dialog'], 'dialog'), (['What', \"'s\", 'happening', 'in', 'dialog'], 'dialog'), (['Give', 'me', 'updates', 'on', 'dialog'], 'dialog'), (['I', \"'m\", 'interested', 'in', 'dialog'], 'dialog'), (['Can', 'you', 'provide', 'dialog'], 'dialog'), (['Tell', 'me', 'more', 'about', 'dialog'], 'dialog'), (['Share', 'dialog'], 'dialog'), (['dialog'], 'dialog'), (['Get', 'me', 'the', 'latest', 'gesundheit'], 'gesundheit'), (['Tell', 'me', 'about', 'gesundheit'], 'gesundheit'), (['What', \"'s\", 'happening', 'in', 'gesundheit'], 'gesundheit'), (['Give', 'me', 'updates', 'on', 'gesundheit'], 'gesundheit'), (['I', \"'m\", 'interested', 'in', 'gesundheit'], 'gesundheit'), (['Can', 'you', 'provide', 'gesundheit'], 'gesundheit'), (['Tell', 'me', 'more', 'about', 'gesundheit'], 'gesundheit'), (['Share', 'gesundheit'], 'gesundheit'), (['gesundheit'], 'gesundheit'), (['Get', 'me', 'the', 'latest', 'tv'], 'tv'), (['Tell', 'me', 'about', 'tv'], 'tv'), (['What', \"'s\", 'happening', 'in', 'tv'], 'tv'), (['Give', 'me', 'updates', 'on', 'tv'], 'tv'), (['I', \"'m\", 'interested', 'in', 'tv'], 'tv'), (['Can', 'you', 'provide', 'tv'], 'tv'), (['Tell', 'me', 'more', 'about', 'tv'], 'tv'), (['Share', 'tv'], 'tv'), (['tv'], 'tv'), (['Get', 'me', 'the', 'latest', 'www.swissinfo.ch'], 'www.swissinfo.ch'), (['Tell', 'me', 'about', 'www.swissinfo.ch'], 'www.swissinfo.ch'), (['What', \"'s\", 'happening', 'in', 'www.swissinfo.ch'], 'www.swissinfo.ch'), (['Give', 'me', 'updates', 'on', 'www.swissinfo.ch'], 'www.swissinfo.ch'), (['I', \"'m\", 'interested', 'in', 'www.swissinfo.ch'], 'www.swissinfo.ch'), (['Can', 'you', 'provide', 'www.swissinfo.ch'], 'www.swissinfo.ch'), (['Tell', 'me', 'more', 'about', 'www.swissinfo.ch'], 'www.swissinfo.ch'), (['Share', 'www.swissinfo.ch'], 'www.swissinfo.ch'), (['www.swissinfo.ch'], 'www.swissinfo.ch'), (['Get', 'me', 'the', 'latest', 'schweiz'], 'schweiz'), (['Tell', 'me', 'about', 'schweiz'], 'schweiz'), (['What', \"'s\", 'happening', 'in', 'schweiz'], 'schweiz'), (['Give', 'me', 'updates', 'on', 'schweiz'], 'schweiz'), (['I', \"'m\", 'interested', 'in', 'schweiz'], 'schweiz'), (['Can', 'you', 'provide', 'schweiz'], 'schweiz'), (['Tell', 'me', 'more', 'about', 'schweiz'], 'schweiz'), (['Share', 'schweiz'], 'schweiz'), (['schweiz'], 'schweiz'), (['Get', 'me', 'the', 'latest', 'wirtschaft'], 'wirtschaft'), (['Tell', 'me', 'about', 'wirtschaft'], 'wirtschaft'), (['What', \"'s\", 'happening', 'in', 'wirtschaft'], 'wirtschaft'), (['Give', 'me', 'updates', 'on', 'wirtschaft'], 'wirtschaft'), (['I', \"'m\", 'interested', 'in', 'wirtschaft'], 'wirtschaft'), (['Can', 'you', 'provide', 'wirtschaft'], 'wirtschaft'), (['Tell', 'me', 'more', 'about', 'wirtschaft'], 'wirtschaft'), (['Share', 'wirtschaft'], 'wirtschaft'), (['wirtschaft'], 'wirtschaft'), (['Get', 'me', 'the', 'latest', 'www.radioswissjazz.ch'], 'www.radioswissjazz.ch'), (['Tell', 'me', 'about', 'www.radioswissjazz.ch'], 'www.radioswissjazz.ch'), (['What', \"'s\", 'happening', 'in', 'www.radioswissjazz.ch'], 'www.radioswissjazz.ch'), (['Give', 'me', 'updates', 'on', 'www.radioswissjazz.ch'], 'www.radioswissjazz.ch'), (['I', \"'m\", 'interested', 'in', 'www.radioswissjazz.ch'], 'www.radioswissjazz.ch'), (['Can', 'you', 'provide', 'www.radioswissjazz.ch'], 'www.radioswissjazz.ch'), (['Tell', 'me', 'more', 'about', 'www.radioswissjazz.ch'], 'www.radioswissjazz.ch'), (['Share', 'www.radioswissjazz.ch'], 'www.radioswissjazz.ch'), (['www.radioswissjazz.ch'], 'www.radioswissjazz.ch'), (['Get', 'me', 'the', 'latest', 'resultcenter'], 'resultcenter'), (['Tell', 'me', 'about', 'resultcenter'], 'resultcenter'), (['What', \"'s\", 'happening', 'in', 'resultcenter'], 'resultcenter'), (['Give', 'me', 'updates', 'on', 'resultcenter'], 'resultcenter'), (['I', \"'m\", 'interested', 'in', 'resultcenter'], 'resultcenter'), (['Can', 'you', 'provide', 'resultcenter'], 'resultcenter'), (['Tell', 'me', 'more', 'about', 'resultcenter'], 'resultcenter'), (['Share', 'resultcenter'], 'resultcenter'), (['resultcenter'], 'resultcenter'), (['Get', 'me', 'the', 'latest', 'video'], 'video'), (['Tell', 'me', 'about', 'video'], 'video'), (['What', \"'s\", 'happening', 'in', 'video'], 'video'), (['Give', 'me', 'updates', 'on', 'video'], 'video'), (['I', \"'m\", 'interested', 'in', 'video'], 'video'), (['Can', 'you', 'provide', 'video'], 'video'), (['Tell', 'me', 'more', 'about', 'video'], 'video'), (['Share', 'video'], 'video'), (['video'], 'video'), (['Get', 'me', 'the', 'latest', 'www.rts.ch'], 'www.rts.ch'), (['Tell', 'me', 'about', 'www.rts.ch'], 'www.rts.ch'), (['What', \"'s\", 'happening', 'in', 'www.rts.ch'], 'www.rts.ch'), (['Give', 'me', 'updates', 'on', 'www.rts.ch'], 'www.rts.ch'), (['I', \"'m\", 'interested', 'in', 'www.rts.ch'], 'www.rts.ch'), (['Can', 'you', 'provide', 'www.rts.ch'], 'www.rts.ch'), (['Tell', 'me', 'more', 'about', 'www.rts.ch'], 'www.rts.ch'), (['Share', 'www.rts.ch'], 'www.rts.ch'), (['www.rts.ch'], 'www.rts.ch'), (['Get', 'me', 'the', 'latest', 'mehr-sport'], 'mehr-sport'), (['Tell', 'me', 'about', 'mehr-sport'], 'mehr-sport'), (['What', \"'s\", 'happening', 'in', 'mehr-sport'], 'mehr-sport'), (['Give', 'me', 'updates', 'on', 'mehr-sport'], 'mehr-sport'), (['I', \"'m\", 'interested', 'in', 'mehr-sport'], 'mehr-sport'), (['Can', 'you', 'provide', 'mehr-sport'], 'mehr-sport'), (['Tell', 'me', 'more', 'about', 'mehr-sport'], 'mehr-sport'), (['Share', 'mehr-sport'], 'mehr-sport'), (['mehr-sport'], 'mehr-sport'), (['Get', 'me', 'the', 'latest', 'live'], 'live'), (['Tell', 'me', 'about', 'live'], 'live'), (['What', \"'s\", 'happening', 'in', 'live'], 'live'), (['Give', 'me', 'updates', 'on', 'live'], 'live'), (['I', \"'m\", 'interested', 'in', 'live'], 'live'), (['Can', 'you', 'provide', 'live'], 'live'), (['Tell', 'me', 'more', 'about', 'live'], 'live'), (['Share', 'live'], 'live'), (['live'], 'live'), (['Get', 'me', 'the', 'latest', 'www.rtr.ch'], 'www.rtr.ch'), (['Tell', 'me', 'about', 'www.rtr.ch'], 'www.rtr.ch'), (['What', \"'s\", 'happening', 'in', 'www.rtr.ch'], 'www.rtr.ch'), (['Give', 'me', 'updates', 'on', 'www.rtr.ch'], 'www.rtr.ch'), (['I', \"'m\", 'interested', 'in', 'www.rtr.ch'], 'www.rtr.ch'), (['Can', 'you', 'provide', 'www.rtr.ch'], 'www.rtr.ch'), (['Tell', 'me', 'more', 'about', 'www.rtr.ch'], 'www.rtr.ch'), (['Share', 'www.rtr.ch'], 'www.rtr.ch'), (['www.rtr.ch'], 'www.rtr.ch'), (['Get', 'me', 'the', 'latest', 'www.srgssr.ch'], 'www.srgssr.ch'), (['Tell', 'me', 'about', 'www.srgssr.ch'], 'www.srgssr.ch'), (['What', \"'s\", 'happening', 'in', 'www.srgssr.ch'], 'www.srgssr.ch'), (['Give', 'me', 'updates', 'on', 'www.srgssr.ch'], 'www.srgssr.ch'), (['I', \"'m\", 'interested', 'in', 'www.srgssr.ch'], 'www.srgssr.ch'), (['Can', 'you', 'provide', 'www.srgssr.ch'], 'www.srgssr.ch'), (['Tell', 'me', 'more', 'about', 'www.srgssr.ch'], 'www.srgssr.ch'), (['Share', 'www.srgssr.ch'], 'www.srgssr.ch'), (['www.srgssr.ch'], 'www.srgssr.ch'), (['Get', 'me', 'the', 'latest', 'school'], 'school'), (['Tell', 'me', 'about', 'school'], 'school'), (['What', \"'s\", 'happening', 'in', 'school'], 'school'), (['Give', 'me', 'updates', 'on', 'school'], 'school'), (['I', \"'m\", 'interested', 'in', 'school'], 'school'), (['Can', 'you', 'provide', 'school'], 'school'), (['Tell', 'me', 'more', 'about', 'school'], 'school'), (['Share', 'school'], 'school'), (['school'], 'school'), (['Get', 'me', 'the', 'latest', 'eishockey'], 'eishockey'), (['Tell', 'me', 'about', 'eishockey'], 'eishockey'), (['What', \"'s\", 'happening', 'in', 'eishockey'], 'eishockey'), (['Give', 'me', 'updates', 'on', 'eishockey'], 'eishockey'), (['I', \"'m\", 'interested', 'in', 'eishockey'], 'eishockey'), (['Can', 'you', 'provide', 'eishockey'], 'eishockey'), (['Tell', 'me', 'more', 'about', 'eishockey'], 'eishockey'), (['Share', 'eishockey'], 'eishockey'), (['eishockey'], 'eishockey'), (['Get', 'me', 'the', 'latest', 'wetter'], 'wetter'), (['Tell', 'me', 'about', 'wetter'], 'wetter'), (['What', \"'s\", 'happening', 'in', 'wetter'], 'wetter'), (['Give', 'me', 'updates', 'on', 'wetter'], 'wetter'), (['I', \"'m\", 'interested', 'in', 'wetter'], 'wetter'), (['Can', 'you', 'provide', 'wetter'], 'wetter'), (['Tell', 'me', 'more', 'about', 'wetter'], 'wetter'), (['Share', 'wetter'], 'wetter'), (['wetter'], 'wetter'), (['Get', 'me', 'the', 'latest', 'gesellschaft'], 'gesellschaft'), (['Tell', 'me', 'about', 'gesellschaft'], 'gesellschaft'), (['What', \"'s\", 'happening', 'in', 'gesellschaft'], 'gesellschaft'), (['Give', 'me', 'updates', 'on', 'gesellschaft'], 'gesellschaft'), (['I', \"'m\", 'interested', 'in', 'gesellschaft'], 'gesellschaft'), (['Can', 'you', 'provide', 'gesellschaft'], 'gesellschaft'), (['Tell', 'me', 'more', 'about', 'gesellschaft'], 'gesellschaft'), (['Share', 'gesellschaft'], 'gesellschaft'), (['gesellschaft'], 'gesellschaft'), (['Get', 'me', 'the', 'latest', 'website-und-apps'], 'website-und-apps'), (['Tell', 'me', 'about', 'website-und-apps'], 'website-und-apps'), (['What', \"'s\", 'happening', 'in', 'website-und-apps'], 'website-und-apps'), (['Give', 'me', 'updates', 'on', 'website-und-apps'], 'website-und-apps'), (['I', \"'m\", 'interested', 'in', 'website-und-apps'], 'website-und-apps'), (['Can', 'you', 'provide', 'website-und-apps'], 'website-und-apps'), (['Tell', 'me', 'more', 'about', 'website-und-apps'], 'website-und-apps'), (['Share', 'website-und-apps'], 'website-und-apps'), (['website-und-apps'], 'website-und-apps'), (['Get', 'me', 'the', 'latest', 'themen'], 'themen'), (['Tell', 'me', 'about', 'themen'], 'themen'), (['What', \"'s\", 'happening', 'in', 'themen'], 'themen'), (['Give', 'me', 'updates', 'on', 'themen'], 'themen'), (['I', \"'m\", 'interested', 'in', 'themen'], 'themen'), (['Can', 'you', 'provide', 'themen'], 'themen'), (['Tell', 'me', 'more', 'about', 'themen'], 'themen'), (['Share', 'themen'], 'themen'), (['themen'], 'themen')]\n"
     ]
    }
   ],
   "source": [
    "all_words = []\n",
    "tags = []\n",
    "xy = []\n",
    "# loop through each sentence in our intents patterns\n",
    "for intent in intents[\"intents\"]:\n",
    "    tag = intent[\"tag\"]\n",
    "    # add to tag list\n",
    "    tags.append(tag)\n",
    "    for pattern in intent[\"patterns\"]:\n",
    "        # tokenize each word in the sentence\n",
    "        w = tokenize(pattern)\n",
    "        # add to our words list\n",
    "        all_words.extend(w)\n",
    "        # add to xy pair\n",
    "        xy.append((w, tag))\n",
    "\n",
    "print(all_words)\n",
    "print(tags)\n",
    "print(xy)"
   ]
  },
  {
   "cell_type": "markdown",
   "metadata": {},
   "source": [
    "# 3.1 Preprocessing Intent Data"
   ]
  },
  {
   "cell_type": "code",
   "execution_count": 38,
   "metadata": {},
   "outputs": [
    {
     "name": "stdout",
     "output_type": "stream",
     "text": [
      "416 patterns\n",
      "44 tags: ['arbeitsrecht', 'decodar-nossa-cultura', 'dialog', 'eishockey', 'funny', 'fussball', 'gesellschaft', 'gesundheit', 'goodbye', 'greeting', 'international', 'jobs.srf.ch', 'kassensturz-espresso', 'kunst', 'literatur', 'live', 'mehr-sport', 'meteo-stories', 'musik', 'payments', 'radio', 'resultcenter', 'school', 'schweiz', 'ski-alpin', 'startseite', 'tennis', 'thanks', 'themen', 'tv', 'video', 'website-und-apps', 'wetter', 'wirtschaft', 'woerterbuch', 'www.radioswissclassic.ch', 'www.radioswissjazz.ch', 'www.radioswisspop.ch', 'www.rsi.ch', 'www.rtr.ch', 'www.rts.ch', 'www.srf.ch', 'www.srgssr.ch', 'www.swissinfo.ch']\n",
      "137 unique stemmed words: [\"'m\", \"'s\", \"'ve\", 'a', 'about', 'accept', 'afternoon', 'all', 'amex', 'ani', 'anyon', 'appl', 'arbeitsrecht', 'are', 'awesom', 'bitcoin', 'bunch', 'bye', 'can', 'card', 'cash', 'chat', 'convers', 'credit', 'crypto', 'cryptocurr', 'day', 'decodar-nossa-cultura', 'dialog', 'discov', 'do', 'dogecoin', 'eishockey', 'ethereum', 'even', 'everyth', 'for', 'funni', 'fussbal', 'gesellschaft', 'gesundheit', 'get', 'give', 'go', 'good', 'goodby', 'googl', 'got', 'great', 'happen', 'have', 'hello', 'help', 'hey', 'hi', 'hola', 'how', 'howdi', 'i', 'in', 'info', 'interest', 'intern', 'is', 'it', 'jobs.srf.ch', 'joke', 'kassensturz-espresso', 'know', 'kunst', 'later', 'latest', 'literatur', 'live', 'lot', 'mastercard', 'me', 'meet', 'mehr-sport', 'meteo-stori', 'more', 'morn', 'musik', 'next', 'nice', 'now', 'off', 'on', 'onli', 'pay', 'paypal', 'provid', 'radio', 'resultcent', 'samsung', 'school', 'schweiz', 'see', 'share', 'ski-alpin', 'someth', 'soon', 'startseit', 'take', 'talk', 'tell', 'tenni', 'thank', 'that', 'the', 'themen', 'there', 'till', 'time', 'to', 'tv', 'up', 'updat', 'video', 'visa', 'wa', 'website-und-app', 'wetter', 'what', 'wirtschaft', 'with', 'woerterbuch', 'www.radioswissclassic.ch', 'www.radioswissjazz.ch', 'www.radioswisspop.ch', 'www.rsi.ch', 'www.rtr.ch', 'www.rts.ch', 'www.srf.ch', 'www.srgssr.ch', 'www.swissinfo.ch', 'you']\n"
     ]
    }
   ],
   "source": [
    "# stem and lower each word and remove duplicates and sort\n",
    "ignore_words = [\"?\", \"!\", \".\", \",\"]\n",
    "all_words = [stem(w) for w in all_words if w not in ignore_words]\n",
    "all_words = sorted(set(all_words))\n",
    "tags = sorted(set(tags))\n",
    "\n",
    "print(len(xy), \"patterns\")\n",
    "print(len(tags), \"tags:\", tags)\n",
    "print(len(all_words), \"unique stemmed words:\", all_words)"
   ]
  },
  {
   "cell_type": "markdown",
   "metadata": {},
   "source": [
    "## 3.2 Train and Test Data"
   ]
  },
  {
   "cell_type": "code",
   "execution_count": 39,
   "metadata": {},
   "outputs": [
    {
     "name": "stdout",
     "output_type": "stream",
     "text": [
      "(416, 137)\n",
      "[[0. 0. 0. ... 0. 0. 0.]\n",
      " [0. 0. 0. ... 0. 0. 0.]\n",
      " [0. 0. 0. ... 0. 0. 1.]\n",
      " ...\n",
      " [0. 0. 0. ... 0. 0. 0.]\n",
      " [0. 0. 0. ... 0. 0. 0.]\n",
      " [0. 0. 0. ... 0. 0. 0.]]\n",
      "(416,)\n",
      "[ 9  9  9  9  9  9  9  9  9  9  9  9  9  9  9  8  8  8  8  8  8  8  8  8\n",
      "  8  8  8  8  8  8  8  8  8 27 27 27 27 27 27 27 27 27 27 27 27 19 19 19\n",
      " 19 19 19 19 19 19 19 19 19 19 19 19  4  4  4  4  4 17 17 17 17 17 17 17\n",
      " 17 17 37 37 37 37 37 37 37 37 37 13 13 13 13 13 13 13 13 13 11 11 11 11\n",
      " 11 11 11 11 11 14 14 14 14 14 14 14 14 14 18 18 18 18 18 18 18 18 18 24\n",
      " 24 24 24 24 24 24 24 24 38 38 38 38 38 38 38 38 38  1  1  1  1  1  1  1\n",
      "  1  1 25 25 25 25 25 25 25 25 25  0  0  0  0  0  0  0  0  0 20 20 20 20\n",
      " 20 20 20 20 20 41 41 41 41 41 41 41 41 41 26 26 26 26 26 26 26 26 26 35\n",
      " 35 35 35 35 35 35 35 35  5  5  5  5  5  5  5  5  5 10 10 10 10 10 10 10\n",
      " 10 10 12 12 12 12 12 12 12 12 12 34 34 34 34 34 34 34 34 34  2  2  2  2\n",
      "  2  2  2  2  2  7  7  7  7  7  7  7  7  7 29 29 29 29 29 29 29 29 29 43\n",
      " 43 43 43 43 43 43 43 43 23 23 23 23 23 23 23 23 23 33 33 33 33 33 33 33\n",
      " 33 33 36 36 36 36 36 36 36 36 36 21 21 21 21 21 21 21 21 21 30 30 30 30\n",
      " 30 30 30 30 30 40 40 40 40 40 40 40 40 40 16 16 16 16 16 16 16 16 16 15\n",
      " 15 15 15 15 15 15 15 15 39 39 39 39 39 39 39 39 39 42 42 42 42 42 42 42\n",
      " 42 42 22 22 22 22 22 22 22 22 22  3  3  3  3  3  3  3  3  3 32 32 32 32\n",
      " 32 32 32 32 32  6  6  6  6  6  6  6  6  6 31 31 31 31 31 31 31 31 31 28\n",
      " 28 28 28 28 28 28 28 28]\n"
     ]
    }
   ],
   "source": [
    "X_train = []\n",
    "y_train = []\n",
    "\n",
    "for pattern_sentence, tag in xy:\n",
    "    # X: bag of words for each pattern_sentence\n",
    "    bag = bag_of_words(pattern_sentence, all_words)\n",
    "    X_train.append(bag)\n",
    "    # y: PyTorch CrossEntropyLoss needs only class labels, not one-hot\n",
    "    label = tags.index(tag)\n",
    "    y_train.append(label)\n",
    "\n",
    "X_train = np.array(X_train)\n",
    "y_train = np.array(y_train)\n",
    "\n",
    "print(X_train.shape)\n",
    "print(X_train)\n",
    "print(y_train.shape)\n",
    "print(y_train)"
   ]
  },
  {
   "cell_type": "markdown",
   "metadata": {},
   "source": [
    "## 3.3 Create DataLoader "
   ]
  },
  {
   "cell_type": "code",
   "execution_count": 40,
   "metadata": {},
   "outputs": [],
   "source": [
    "class ChatDataset(Dataset):\n",
    "    def __init__(self, X_train, y_train):\n",
    "        self.n_samples = len(X_train)\n",
    "        self.x_data = X_train\n",
    "        self.y_data = y_train\n",
    "\n",
    "    # support indexing such that dataset[i] can be used to get i-th sample\n",
    "    def __getitem__(self, index):\n",
    "        return self.x_data[index], self.y_data[index]\n",
    "\n",
    "    # we can call len(dataset) to return the size\n",
    "    def __len__(self):\n",
    "        return self.n_samples"
   ]
  },
  {
   "cell_type": "code",
   "execution_count": 41,
   "metadata": {},
   "outputs": [
    {
     "name": "stdout",
     "output_type": "stream",
     "text": [
      "416\n",
      "[[0. 0. 0. ... 0. 0. 0.]\n",
      " [0. 0. 0. ... 0. 0. 0.]\n",
      " [0. 0. 0. ... 0. 0. 1.]\n",
      " ...\n",
      " [0. 0. 0. ... 0. 0. 0.]\n",
      " [0. 0. 0. ... 0. 0. 0.]\n",
      " [0. 0. 0. ... 0. 0. 0.]]\n",
      "[ 9  9  9  9  9  9  9  9  9  9  9  9  9  9  9  8  8  8  8  8  8  8  8  8\n",
      "  8  8  8  8  8  8  8  8  8 27 27 27 27 27 27 27 27 27 27 27 27 19 19 19\n",
      " 19 19 19 19 19 19 19 19 19 19 19 19  4  4  4  4  4 17 17 17 17 17 17 17\n",
      " 17 17 37 37 37 37 37 37 37 37 37 13 13 13 13 13 13 13 13 13 11 11 11 11\n",
      " 11 11 11 11 11 14 14 14 14 14 14 14 14 14 18 18 18 18 18 18 18 18 18 24\n",
      " 24 24 24 24 24 24 24 24 38 38 38 38 38 38 38 38 38  1  1  1  1  1  1  1\n",
      "  1  1 25 25 25 25 25 25 25 25 25  0  0  0  0  0  0  0  0  0 20 20 20 20\n",
      " 20 20 20 20 20 41 41 41 41 41 41 41 41 41 26 26 26 26 26 26 26 26 26 35\n",
      " 35 35 35 35 35 35 35 35  5  5  5  5  5  5  5  5  5 10 10 10 10 10 10 10\n",
      " 10 10 12 12 12 12 12 12 12 12 12 34 34 34 34 34 34 34 34 34  2  2  2  2\n",
      "  2  2  2  2  2  7  7  7  7  7  7  7  7  7 29 29 29 29 29 29 29 29 29 43\n",
      " 43 43 43 43 43 43 43 43 23 23 23 23 23 23 23 23 23 33 33 33 33 33 33 33\n",
      " 33 33 36 36 36 36 36 36 36 36 36 21 21 21 21 21 21 21 21 21 30 30 30 30\n",
      " 30 30 30 30 30 40 40 40 40 40 40 40 40 40 16 16 16 16 16 16 16 16 16 15\n",
      " 15 15 15 15 15 15 15 15 39 39 39 39 39 39 39 39 39 42 42 42 42 42 42 42\n",
      " 42 42 22 22 22 22 22 22 22 22 22  3  3  3  3  3  3  3  3  3 32 32 32 32\n",
      " 32 32 32 32 32  6  6  6  6  6  6  6  6  6 31 31 31 31 31 31 31 31 31 28\n",
      " 28 28 28 28 28 28 28 28]\n",
      "tensor([[1., 0., 0., 0., 0., 0., 0., 0., 0., 0., 0., 0., 0., 0., 0., 0., 0., 0.,\n",
      "         0., 0., 0., 0., 0., 0., 0., 0., 0., 0., 0., 0., 0., 0., 0., 0., 0., 0.,\n",
      "         0., 0., 0., 0., 0., 0., 0., 0., 0., 0., 0., 0., 0., 0., 0., 0., 0., 0.,\n",
      "         0., 0., 0., 0., 1., 1., 0., 1., 0., 0., 0., 0., 0., 0., 0., 0., 0., 0.,\n",
      "         0., 0., 0., 0., 0., 0., 0., 0., 0., 0., 0., 0., 0., 0., 0., 0., 0., 0.,\n",
      "         0., 0., 0., 0., 0., 0., 0., 0., 0., 0., 0., 0., 0., 0., 0., 0., 0., 0.,\n",
      "         0., 0., 0., 0., 0., 0., 0., 0., 0., 0., 0., 0., 0., 0., 0., 0., 0., 0.,\n",
      "         0., 0., 1., 0., 0., 0., 0., 0., 0., 0., 0.],\n",
      "        [0., 1., 0., 0., 0., 0., 0., 0., 0., 0., 0., 0., 0., 0., 0., 0., 0., 0.,\n",
      "         0., 0., 0., 0., 0., 0., 0., 0., 0., 0., 0., 0., 0., 0., 0., 0., 0., 0.,\n",
      "         0., 0., 0., 0., 0., 0., 0., 0., 0., 0., 0., 0., 0., 1., 0., 0., 0., 0.,\n",
      "         0., 0., 0., 0., 0., 1., 0., 0., 0., 0., 0., 0., 0., 0., 0., 0., 0., 0.,\n",
      "         0., 0., 0., 0., 0., 0., 0., 0., 0., 0., 0., 0., 0., 0., 0., 0., 0., 0.,\n",
      "         0., 0., 0., 0., 0., 0., 0., 0., 0., 0., 0., 0., 0., 0., 0., 0., 0., 0.,\n",
      "         0., 0., 0., 0., 0., 0., 0., 0., 0., 0., 0., 0., 0., 0., 0., 1., 0., 0.,\n",
      "         0., 0., 0., 0., 0., 0., 0., 0., 1., 0., 0.]])\n",
      "tensor([36, 42], dtype=torch.int32)\n"
     ]
    }
   ],
   "source": [
    "# define Batch size\n",
    "batch_size = 2\n",
    "\n",
    "dataset = ChatDataset(X_train=X_train, y_train=y_train)\n",
    "\n",
    "print(dataset.n_samples)\n",
    "print(dataset.x_data)\n",
    "print(dataset.y_data)\n",
    "\n",
    "# create DataLoader\n",
    "train_loader = DataLoader(\n",
    "    dataset=dataset, batch_size=batch_size, shuffle=True, num_workers=0\n",
    ")\n",
    "\n",
    "# get first batch\n",
    "for first_batch in train_loader:\n",
    "    break\n",
    "# get first training batch\n",
    "first_batch_inputs = first_batch[0]\n",
    "first_batch_labels = first_batch[1]\n",
    "print(first_batch_inputs)\n",
    "print(first_batch_labels)\n",
    "\n",
    "\n",
    "\n",
    "device = torch.device(\"cuda\" if torch.cuda.is_available() else \"cpu\")"
   ]
  },
  {
   "cell_type": "markdown",
   "metadata": {},
   "source": [
    "# 4 Model\n",
    "\n",
    "Hier in diesem Abschnitt importieren wir unsere unterschiedlichen Modelle die wir für die Klassifizierung der Intents verwenden wollen."
   ]
  },
  {
   "cell_type": "markdown",
   "metadata": {},
   "source": [
    "# 4.1 Define Hyperparameters"
   ]
  },
  {
   "cell_type": "code",
   "execution_count": 42,
   "metadata": {},
   "outputs": [
    {
     "name": "stdout",
     "output_type": "stream",
     "text": [
      "137 44\n"
     ]
    }
   ],
   "source": [
    "# Hyper-parameters\n",
    "batch_size = batch_size\n",
    "num_epochs = 100\n",
    "learning_rate = 0.001\n",
    "input_size = len(X_train[0])\n",
    "hidden_size = 20\n",
    "output_size = len(tags)\n",
    "print(input_size, output_size)\n"
   ]
  },
  {
   "cell_type": "markdown",
   "metadata": {},
   "source": [
    "## 4.2 Model Instanzieren"
   ]
  },
  {
   "cell_type": "code",
   "execution_count": 43,
   "metadata": {},
   "outputs": [],
   "source": [
    "neural_net = NeuralNet(input_size, hidden_size, output_size).to(device)\n",
    "\n",
    "# Loss and optimizer\n",
    "criterion = nn.CrossEntropyLoss()\n",
    "optimizer = torch.optim.Adam(neural_net.parameters(), lr=learning_rate)"
   ]
  },
  {
   "cell_type": "markdown",
   "metadata": {},
   "source": [
    "# 5 Train Model"
   ]
  },
  {
   "cell_type": "code",
   "execution_count": 44,
   "metadata": {},
   "outputs": [
    {
     "name": "stderr",
     "output_type": "stream",
     "text": [
      "Training Progress:  10%|█         | 10/100 [00:04<00:42,  2.12epoch/s]"
     ]
    },
    {
     "name": "stdout",
     "output_type": "stream",
     "text": [
      "Epoch [10/100], Loss: 0.13179389\n"
     ]
    },
    {
     "name": "stderr",
     "output_type": "stream",
     "text": [
      "Training Progress:  20%|██        | 20/100 [00:09<00:47,  1.69epoch/s]"
     ]
    },
    {
     "name": "stdout",
     "output_type": "stream",
     "text": [
      "Epoch [20/100], Loss: 0.01240154\n"
     ]
    },
    {
     "name": "stderr",
     "output_type": "stream",
     "text": [
      "Training Progress:  30%|███       | 30/100 [00:18<00:45,  1.53epoch/s]"
     ]
    },
    {
     "name": "stdout",
     "output_type": "stream",
     "text": [
      "Epoch [30/100], Loss: 0.00162601\n"
     ]
    },
    {
     "name": "stderr",
     "output_type": "stream",
     "text": [
      "Training Progress:  40%|████      | 40/100 [00:23<00:27,  2.20epoch/s]"
     ]
    },
    {
     "name": "stdout",
     "output_type": "stream",
     "text": [
      "Epoch [40/100], Loss: 0.00044449\n"
     ]
    },
    {
     "name": "stderr",
     "output_type": "stream",
     "text": [
      "Training Progress:  50%|█████     | 50/100 [00:27<00:23,  2.09epoch/s]"
     ]
    },
    {
     "name": "stdout",
     "output_type": "stream",
     "text": [
      "Epoch [50/100], Loss: 0.00011044\n"
     ]
    },
    {
     "name": "stderr",
     "output_type": "stream",
     "text": [
      "Training Progress:  60%|██████    | 60/100 [00:32<00:16,  2.46epoch/s]"
     ]
    },
    {
     "name": "stdout",
     "output_type": "stream",
     "text": [
      "Epoch [60/100], Loss: 0.00003469\n"
     ]
    },
    {
     "name": "stderr",
     "output_type": "stream",
     "text": [
      "Training Progress:  70%|███████   | 70/100 [00:36<00:11,  2.54epoch/s]"
     ]
    },
    {
     "name": "stdout",
     "output_type": "stream",
     "text": [
      "Epoch [70/100], Loss: 0.00000447\n"
     ]
    },
    {
     "name": "stderr",
     "output_type": "stream",
     "text": [
      "Training Progress:  80%|████████  | 80/100 [00:40<00:08,  2.39epoch/s]"
     ]
    },
    {
     "name": "stdout",
     "output_type": "stream",
     "text": [
      "Epoch [80/100], Loss: 0.00000197\n"
     ]
    },
    {
     "name": "stderr",
     "output_type": "stream",
     "text": [
      "Training Progress:  90%|█████████ | 90/100 [00:44<00:03,  2.51epoch/s]"
     ]
    },
    {
     "name": "stdout",
     "output_type": "stream",
     "text": [
      "Epoch [90/100], Loss: 0.00000083\n"
     ]
    },
    {
     "name": "stderr",
     "output_type": "stream",
     "text": [
      "Training Progress: 100%|██████████| 100/100 [00:51<00:00,  1.96epoch/s]"
     ]
    },
    {
     "name": "stdout",
     "output_type": "stream",
     "text": [
      "Epoch [100/100], Loss: 0.00000083\n",
      "final loss: 0.00000083\n"
     ]
    },
    {
     "name": "stderr",
     "output_type": "stream",
     "text": [
      "\n"
     ]
    }
   ],
   "source": [
    "# Train the model\n",
    "for epoch in tqdm(range(num_epochs), desc=\"Training Progress\", unit=\"epoch\"):\n",
    "    # Wrap the train_loader with tqdm to create a progress bar\n",
    "    for words, labels in train_loader:\n",
    "        words = words.to(device)\n",
    "        labels = labels.to(dtype=torch.long).to(device)\n",
    "\n",
    "        # Forward pass\n",
    "        outputs = neural_net(words)\n",
    "        loss = criterion(outputs, labels)\n",
    "\n",
    "        # Backward and optimize\n",
    "        optimizer.zero_grad()\n",
    "        loss.backward()\n",
    "        optimizer.step()\n",
    "\n",
    "    if (epoch + 1) % 10 == 0:  # Print loss after every 10 epochs\n",
    "        print(f\"Epoch [{epoch+1}/{num_epochs}], Loss: {loss.item():.8f}\")\n",
    "\n",
    "\n",
    "print(f\"final loss: {loss.item():.8f}\")\n"
   ]
  },
  {
   "cell_type": "markdown",
   "metadata": {},
   "source": [
    "## 5.1 Save Model"
   ]
  },
  {
   "cell_type": "code",
   "execution_count": 45,
   "metadata": {},
   "outputs": [
    {
     "name": "stdout",
     "output_type": "stream",
     "text": [
      "training complete. file saved to model/mlp_weights.pth\n"
     ]
    }
   ],
   "source": [
    "data = {\n",
    "    \"model_state\": neural_net.state_dict(),\n",
    "    \"input_size\": input_size,\n",
    "    \"hidden_size\": hidden_size,\n",
    "    \"output_size\": output_size,\n",
    "    \"all_words\": all_words,\n",
    "    \"tags\": tags,\n",
    "}\n",
    "\n",
    "FILE = \"model/mlp_weights.pth\"\n",
    "torch.save(data, FILE)\n",
    "\n",
    "print(f\"training complete. file saved to {FILE}\")"
   ]
  },
  {
   "cell_type": "markdown",
   "metadata": {},
   "source": [
    "# 6 Load Model"
   ]
  },
  {
   "cell_type": "code",
   "execution_count": 47,
   "metadata": {},
   "outputs": [
    {
     "name": "stdout",
     "output_type": "stream",
     "text": [
      "Let's chat! type 'quit' to exit\n"
     ]
    }
   ],
   "source": [
    "data = torch.load(FILE)\n",
    "\n",
    "input_size = data[\"input_size\"]\n",
    "hidden_size = data[\"hidden_size\"]\n",
    "output_size = data[\"output_size\"]\n",
    "all_words = data[\"all_words\"]\n",
    "tags = data[\"tags\"]\n",
    "model_state = data[\"model_state\"]\n",
    "\n",
    "neural_net = NeuralNet(input_size, hidden_size, output_size).to(device)\n",
    "neural_net.load_state_dict(model_state)\n",
    "neural_net.eval()\n",
    "\n",
    "bot_name = \"Stupid Bounty Hunter Bot\"\n",
    "print(\"Let's chat! type 'quit' to exit\")\n",
    "while True:\n",
    "    # sentence = \"do you use credit cards?\"\n",
    "    sentence = input(\"You: \")\n",
    "    if sentence == \"quit\":\n",
    "        break\n",
    "\n",
    "    sentence = tokenize(sentence)\n",
    "    X = bag_of_words(sentence, all_words)\n",
    "    X = X.reshape(1, X.shape[0])\n",
    "    X = torch.from_numpy(X).to(device)\n",
    "\n",
    "    output = neural_net(X)\n",
    "    _, predicted = torch.max(output, dim=1)\n",
    "\n",
    "    tag = tags[predicted.item()]\n",
    "\n",
    "    probs = torch.softmax(output, dim=1)\n",
    "    prob = probs[0][predicted.item()]\n",
    "\n",
    "    if prob.item() > 0.75:\n",
    "        for intent in intents[\"intents\"]:\n",
    "            if tag == intent[\"tag\"]:\n",
    "                print(f\"{bot_name}: {np.random.choice(intent['responses'])}\")\n",
    "    else:\n",
    "        print(f\"{bot_name}: I do not understand...\")"
   ]
  }
 ],
 "metadata": {
  "kernelspec": {
   "display_name": "scratchbot",
   "language": "python",
   "name": "python3"
  },
  "language_info": {
   "codemirror_mode": {
    "name": "ipython",
    "version": 3
   },
   "file_extension": ".py",
   "mimetype": "text/x-python",
   "name": "python",
   "nbconvert_exporter": "python",
   "pygments_lexer": "ipython3",
   "version": "3.9.7"
  }
 },
 "nbformat": 4,
 "nbformat_minor": 2
}
