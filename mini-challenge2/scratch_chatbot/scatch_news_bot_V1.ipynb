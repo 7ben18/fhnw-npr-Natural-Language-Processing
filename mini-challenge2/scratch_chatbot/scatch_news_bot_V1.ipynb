{
 "cells": [
  {
   "cell_type": "markdown",
   "metadata": {},
   "source": [
    "<div style=\"width: 30%; float: right; margin: 10px; margin-right: 5%;\">\n",
    "    <img src=\"https://upload.wikimedia.org/wikipedia/commons/thumb/d/d3/FHNW_Logo.svg/2560px-FHNW_Logo.svg.png\" width=\"500\" style=\"float: left; filter: invert(50%);\"/>\n",
    "</div>\n",
    "\n",
    "<h1 style=\"text-align: left; margin-top: 10px; float: left; width: 60%;\">\n",
    "    npr Mini-Challenge 2 <br> \n",
    "</h1>\n",
    "\n",
    "<p style=\"clear: both; text-align: left;\">\n",
    "    Bearbeitet durch Si Ben Tran, Yannic Lais, Rami Tarabishi im HS 2023.<br>Bachelor of Science FHNW in Data Science.\n",
    "</p>\n",
    "\n",
    "\n",
    "# Aufgabe aus dem Space\n",
    "Mini-Challenge 2-C (LE6):\n",
    "Chatbot\n",
    "\n",
    "You build a simple chatbot for hotel recommendation (here you can combine with npr and webscraping challenge) or extend the chatbot from the library (auxilio, please take contact with me), with rasa or dialogflow. You can also propose a use case. Important is the way intent are recognized and NER or variables are extracted. Delivery is a report on the use case, interactions and how intents are recognized and variables extracted. Also an error analysis on concrete conversations (confidence of models, explanation of predictions, etc.) should be undertaken. The submission can be done in a group of 2 or 3.\n"
   ]
  },
  {
   "cell_type": "markdown",
   "metadata": {},
   "source": [
    "# 1 Libraries"
   ]
  },
  {
   "cell_type": "code",
   "execution_count": 1,
   "metadata": {},
   "outputs": [
    {
     "name": "stdout",
     "output_type": "stream",
     "text": [
      "One or more input files not found.\n"
     ]
    }
   ],
   "source": [
    "%load_ext autoreload\n",
    "%autoreload 2\n",
    "from src.preprocessing import tokenize, stem, bag_of_words\n",
    "from src.news_scraper import scrape_srf_links, get_data_for_topics\n",
    "from src.json_concat import concat_json_files\n",
    "from src.neuralmodel import NeuralNet \n",
    "\n",
    "import numpy as np\n",
    "import json\n",
    "from tqdm import tqdm \n",
    "\n",
    "\n",
    "import nltk\n",
    "# nltk.download('punkt')\n",
    "\n",
    "import torch\n",
    "import torch.nn as nn\n",
    "from torch.utils.data import Dataset, DataLoader\n"
   ]
  },
  {
   "cell_type": "markdown",
   "metadata": {},
   "source": [
    "# 2 Preprocessor "
   ]
  },
  {
   "cell_type": "markdown",
   "metadata": {},
   "source": [
    "## 2.1 Test Tokenizer"
   ]
  },
  {
   "cell_type": "code",
   "execution_count": 2,
   "metadata": {},
   "outputs": [
    {
     "name": "stdout",
     "output_type": "stream",
     "text": [
      "['believe', 'believed', 'believes', 'believing', 'believer']\n",
      "['believ', 'believ', 'believ', 'believ', 'believ']\n"
     ]
    }
   ],
   "source": [
    "word_list = [\"believe\", \"believed\", \"believes\", \"believing\", \"believer\"]\n",
    "print(word_list)\n",
    "stemmed_words = [stem(w) for w in word_list]\n",
    "print(stemmed_words)"
   ]
  },
  {
   "cell_type": "markdown",
   "metadata": {},
   "source": [
    "## 2.2 Test Stemmer"
   ]
  },
  {
   "cell_type": "code",
   "execution_count": 3,
   "metadata": {},
   "outputs": [
    {
     "name": "stdout",
     "output_type": "stream",
     "text": [
      "['believe', 'believed', 'believes', 'believing', 'believer']\n",
      "['believ', 'believ', 'believ', 'believ', 'believ']\n"
     ]
    }
   ],
   "source": [
    "word_list = [\"believe\", \"believed\", \"believes\", \"believing\", \"believer\"]\n",
    "print(word_list)\n",
    "stemmed_words = [stem(w) for w in word_list]\n",
    "print(stemmed_words)"
   ]
  },
  {
   "cell_type": "markdown",
   "metadata": {},
   "source": [
    "## 2.3 Bag of Words"
   ]
  },
  {
   "cell_type": "code",
   "execution_count": 4,
   "metadata": {},
   "outputs": [
    {
     "name": "stdout",
     "output_type": "stream",
     "text": [
      "[0. 1. 0. 1. 0. 0. 0.]\n"
     ]
    }
   ],
   "source": [
    "sentence = [\"hello\", \"how\", \"are\", \"you\"]\n",
    "words = [\"hi\", \"hello\", \"I\", \"you\", \"bye\", \"thank\", \"cool\"]\n",
    "bag = bag_of_words(sentence, words)\n",
    "print(bag)"
   ]
  },
  {
   "cell_type": "markdown",
   "metadata": {},
   "source": [
    "# 3 Create and Load Data"
   ]
  },
  {
   "cell_type": "code",
   "execution_count": 5,
   "metadata": {},
   "outputs": [
    {
     "name": "stdout",
     "output_type": "stream",
     "text": [
      "Combined JSON file 'data/intents_news.json' created successfully for all topics.\n"
     ]
    }
   ],
   "source": [
    "# Scrape srf webpage\n",
    "url = \"https://www.srf.ch\"\n",
    "topic_list = scrape_srf_links(url)\n",
    "\n",
    "# create data \n",
    "get_data_for_topics(topic_list)"
   ]
  },
  {
   "cell_type": "code",
   "execution_count": 6,
   "metadata": {},
   "outputs": [],
   "source": [
    "with open('data/intents_news.json', 'r') as f:\n",
    "    intents_news = json.load(f)\n",
    "with open('data/intents-scratch.json', 'r') as f:\n",
    "    intents = json.load(f)\n",
    "\n",
    "# combine intents_news with intens\n",
    "intents[\"intents\"].extend(intents_news[\"intents\"])\n",
    "# export intents formmated as json\n",
    "with open('data/intents.json', 'w') as outfile:\n",
    "    json.dump(intents, outfile, indent=4)"
   ]
  },
  {
   "cell_type": "code",
   "execution_count": 7,
   "metadata": {},
   "outputs": [
    {
     "name": "stdout",
     "output_type": "stream",
     "text": [
      "['Hello', ',', 'my', 'name', 'is', 'Hi', ',', 'I', \"'m\", 'Hey', ',', 'I', 'go', 'by', 'I', 'am', 'Greetings', ',', 'call', 'me', 'You', 'can', 'call', 'me', 'They', 'call', 'me', 'My', 'name', \"'s\", 'I', \"'d\", 'like', 'to', 'introduce', 'myself', ',', 'I', \"'m\", 'Allow', 'me', 'to', 'introduce', 'myself', ',', 'I', 'am', 'I', 'go', 'by', 'the', 'name', 'People', 'know', 'me', 'as', 'Hi', 'Hey', 'How', 'are', 'you', 'Is', 'anyone', 'there', '?', 'Hello', 'Good', 'day', 'Whats', 'up', 'How', 'are', 'you', 'doing', 'Howdy', 'Hi', 'there', 'Hola', 'Good', 'morning', 'Good', 'afternoon', 'Good', 'evening', 'It', 'is', 'nice', 'to', 'meet', 'you', 'Bye', 'See', 'you', 'later', 'Goodbye', 'Nice', 'chatting', 'to', 'you', ',', 'bye', 'Till', 'next', 'time', 'Have', 'a', 'nice', 'day', 'See', 'you', '!', 'Later', '!', 'Goodbye', '!', 'I', \"'m\", 'off', '!', 'That', \"'s\", 'all', 'for', 'now', '.', 'See', 'you', 'soon', '!', 'I', \"'ve\", 'got', 'to', 'get', 'going', '.', 'Bye', '!', 'It', 'was', 'nice', 'talking', 'to', 'you', '.', 'See', 'you', 'soon', '.', 'I', \"'ve\", 'got', 'to', 'get', 'going', '.', 'Have', 'a', 'great', 'day', '!', 'It', 'was', 'nice', 'talking', 'to', 'you', '.', 'Have', 'a', 'great', 'day', '!', 'I', \"'ve\", 'got', 'to', 'get', 'going', '.', 'Have', 'a', 'nice', 'day', '!', 'It', 'was', 'nice', 'talking', 'to', 'you', '.', 'Have', 'a', 'nice', 'day', '!', 'I', \"'ve\", 'got', 'to', 'get', 'going', '.', 'See', 'you', 'later', '!', 'Thanks', 'Thank', 'you', 'That', \"'s\", 'helpful', 'Thank', \"'s\", 'a', 'lot', '!', 'Thanks', 'for', 'helping', 'me', 'Awesome', ',', 'thanks', 'Thanks', 'for', 'the', 'help', 'Thanks', 'a', 'bunch', 'Thanks', 'for', 'everything', 'Thanks', 'for', 'the', 'chat', 'Thanks', 'for', 'the', 'conversation', 'Thanks', 'for', 'the', 'info', 'Which', 'items', 'do', 'you', 'have', '?', 'What', 'kinds', 'of', 'items', 'are', 'there', '?', 'What', 'do', 'you', 'sell', '?', 'What', 'are', 'your', 'items', '?', 'What', 'do', 'you', 'have', '?', 'What', 'are', 'you', 'selling', '?', 'What', 'do', 'you', 'offer', '?', 'What', 'do', 'you', 'have', 'for', 'sale', '?', 'What', 'do', 'you', 'have', 'in', 'stock', '?', 'What', 'are', 'your', 'products', '?', 'Do', 'you', 'take', 'credit', 'cards', '?', 'Do', 'you', 'accept', 'Mastercard', '?', 'Can', 'I', 'pay', 'with', 'Paypal', '?', 'Are', 'you', 'cash', 'only', '?', 'Do', 'you', 'accept', 'VISA', '?', 'Do', 'you', 'accept', 'AMEX', '?', 'Do', 'you', 'accept', 'Discover', 'Card', '?', 'Do', 'you', 'accept', 'Apple', 'Pay', '?', 'Do', 'you', 'accept', 'Google', 'Pay', '?', 'Do', 'you', 'accept', 'Samsung', 'Pay', '?', 'Do', 'you', 'accept', 'Bitcoin', '?', 'Do', 'you', 'accept', 'cryptocurrency', '?', 'Do', 'you', 'accept', 'crypto', '?', 'Do', 'you', 'accept', 'Dogecoin', '?', 'Do', 'you', 'accept', 'Ethereum', '?', 'How', 'long', 'does', 'delivery', 'take', '?', 'How', 'long', 'does', 'shipping', 'take', '?', 'When', 'do', 'I', 'get', 'my', 'delivery', '?', 'When', 'do', 'I', 'get', 'my', 'order', '?', 'When', 'do', 'I', 'get', 'my', 'package', '?', 'When', 'do', 'I', 'get', 'my', 'shipment', '?', 'When', 'do', 'I', 'get', 'my', 'item', '?', 'Tell', 'me', 'a', 'joke', '!', 'Tell', 'me', 'something', 'funny', '!', 'Do', 'you', 'know', 'a', 'joke', '?', 'Do', 'you', 'know', 'any', 'jokes', '?', 'Do', 'you', 'know', 'any', 'funny', 'jokes', '?', 'Get', 'me', 'the', 'latest', 'fussball', 'Tell', 'me', 'about', 'fussball', 'What', \"'s\", 'happening', 'in', 'fussball', 'Give', 'me', 'updates', 'on', 'fussball', 'I', \"'m\", 'interested', 'in', 'fussball', 'Can', 'you', 'provide', 'fussball', 'Tell', 'me', 'more', 'about', 'fussball', 'Share', 'fussball', 'fussball', 'Get', 'me', 'the', 'latest', 'resultcenter', 'Tell', 'me', 'about', 'resultcenter', 'What', \"'s\", 'happening', 'in', 'resultcenter', 'Give', 'me', 'updates', 'on', 'resultcenter', 'I', \"'m\", 'interested', 'in', 'resultcenter', 'Can', 'you', 'provide', 'resultcenter', 'Tell', 'me', 'more', 'about', 'resultcenter', 'Share', 'resultcenter', 'resultcenter', 'Get', 'me', 'the', 'latest', 'wirtschaft', 'Tell', 'me', 'about', 'wirtschaft', 'What', \"'s\", 'happening', 'in', 'wirtschaft', 'Give', 'me', 'updates', 'on', 'wirtschaft', 'I', \"'m\", 'interested', 'in', 'wirtschaft', 'Can', 'you', 'provide', 'wirtschaft', 'Tell', 'me', 'more', 'about', 'wirtschaft', 'Share', 'wirtschaft', 'wirtschaft', 'Get', 'me', 'the', 'latest', 'www.srgssr.ch', 'Tell', 'me', 'about', 'www.srgssr.ch', 'What', \"'s\", 'happening', 'in', 'www.srgssr.ch', 'Give', 'me', 'updates', 'on', 'www.srgssr.ch', 'I', \"'m\", 'interested', 'in', 'www.srgssr.ch', 'Can', 'you', 'provide', 'www.srgssr.ch', 'Tell', 'me', 'more', 'about', 'www.srgssr.ch', 'Share', 'www.srgssr.ch', 'www.srgssr.ch', 'Get', 'me', 'the', 'latest', 'video', 'Tell', 'me', 'about', 'video', 'What', \"'s\", 'happening', 'in', 'video', 'Give', 'me', 'updates', 'on', 'video', 'I', \"'m\", 'interested', 'in', 'video', 'Can', 'you', 'provide', 'video', 'Tell', 'me', 'more', 'about', 'video', 'Share', 'video', 'video', 'Get', 'me', 'the', 'latest', 'dialog', 'Tell', 'me', 'about', 'dialog', 'What', \"'s\", 'happening', 'in', 'dialog', 'Give', 'me', 'updates', 'on', 'dialog', 'I', \"'m\", 'interested', 'in', 'dialog', 'Can', 'you', 'provide', 'dialog', 'Tell', 'me', 'more', 'about', 'dialog', 'Share', 'dialog', 'dialog', 'Get', 'me', 'the', 'latest', 'kassensturz-espresso', 'Tell', 'me', 'about', 'kassensturz-espresso', 'What', \"'s\", 'happening', 'in', 'kassensturz-espresso', 'Give', 'me', 'updates', 'on', 'kassensturz-espresso', 'I', \"'m\", 'interested', 'in', 'kassensturz-espresso', 'Can', 'you', 'provide', 'kassensturz-espresso', 'Tell', 'me', 'more', 'about', 'kassensturz-espresso', 'Share', 'kassensturz-espresso', 'kassensturz-espresso', 'Get', 'me', 'the', 'latest', 'www.radioswissjazz.ch', 'Tell', 'me', 'about', 'www.radioswissjazz.ch', 'What', \"'s\", 'happening', 'in', 'www.radioswissjazz.ch', 'Give', 'me', 'updates', 'on', 'www.radioswissjazz.ch', 'I', \"'m\", 'interested', 'in', 'www.radioswissjazz.ch', 'Can', 'you', 'provide', 'www.radioswissjazz.ch', 'Tell', 'me', 'more', 'about', 'www.radioswissjazz.ch', 'Share', 'www.radioswissjazz.ch', 'www.radioswissjazz.ch', 'Get', 'me', 'the', 'latest', 'www.rsi.ch', 'Tell', 'me', 'about', 'www.rsi.ch', 'What', \"'s\", 'happening', 'in', 'www.rsi.ch', 'Give', 'me', 'updates', 'on', 'www.rsi.ch', 'I', \"'m\", 'interested', 'in', 'www.rsi.ch', 'Can', 'you', 'provide', 'www.rsi.ch', 'Tell', 'me', 'more', 'about', 'www.rsi.ch', 'Share', 'www.rsi.ch', 'www.rsi.ch', 'Get', 'me', 'the', 'latest', 'tv', 'Tell', 'me', 'about', 'tv', 'What', \"'s\", 'happening', 'in', 'tv', 'Give', 'me', 'updates', 'on', 'tv', 'I', \"'m\", 'interested', 'in', 'tv', 'Can', 'you', 'provide', 'tv', 'Tell', 'me', 'more', 'about', 'tv', 'Share', 'tv', 'tv', 'Get', 'me', 'the', 'latest', 'school', 'Tell', 'me', 'about', 'school', 'What', \"'s\", 'happening', 'in', 'school', 'Give', 'me', 'updates', 'on', 'school', 'I', \"'m\", 'interested', 'in', 'school', 'Can', 'you', 'provide', 'school', 'Tell', 'me', 'more', 'about', 'school', 'Share', 'school', 'school', 'Get', 'me', 'the', 'latest', 'international', 'Tell', 'me', 'about', 'international', 'What', \"'s\", 'happening', 'in', 'international', 'Give', 'me', 'updates', 'on', 'international', 'I', \"'m\", 'interested', 'in', 'international', 'Can', 'you', 'provide', 'international', 'Tell', 'me', 'more', 'about', 'international', 'Share', 'international', 'international', 'Get', 'me', 'the', 'latest', 'kunst', 'Tell', 'me', 'about', 'kunst', 'What', \"'s\", 'happening', 'in', 'kunst', 'Give', 'me', 'updates', 'on', 'kunst', 'I', \"'m\", 'interested', 'in', 'kunst', 'Can', 'you', 'provide', 'kunst', 'Tell', 'me', 'more', 'about', 'kunst', 'Share', 'kunst', 'kunst', 'Get', 'me', 'the', 'latest', 'literatur', 'Tell', 'me', 'about', 'literatur', 'What', \"'s\", 'happening', 'in', 'literatur', 'Give', 'me', 'updates', 'on', 'literatur', 'I', \"'m\", 'interested', 'in', 'literatur', 'Can', 'you', 'provide', 'literatur', 'Tell', 'me', 'more', 'about', 'literatur', 'Share', 'literatur', 'literatur', 'Get', 'me', 'the', 'latest', 'musik', 'Tell', 'me', 'about', 'musik', 'What', \"'s\", 'happening', 'in', 'musik', 'Give', 'me', 'updates', 'on', 'musik', 'I', \"'m\", 'interested', 'in', 'musik', 'Can', 'you', 'provide', 'musik', 'Tell', 'me', 'more', 'about', 'musik', 'Share', 'musik', 'musik', 'Get', 'me', 'the', 'latest', 'meteo-stories', 'Tell', 'me', 'about', 'meteo-stories', 'What', \"'s\", 'happening', 'in', 'meteo-stories', 'Give', 'me', 'updates', 'on', 'meteo-stories', 'I', \"'m\", 'interested', 'in', 'meteo-stories', 'Can', 'you', 'provide', 'meteo-stories', 'Tell', 'me', 'more', 'about', 'meteo-stories', 'Share', 'meteo-stories', 'meteo-stories', 'Get', 'me', 'the', 'latest', 'www.radioswisspop.ch', 'Tell', 'me', 'about', 'www.radioswisspop.ch', 'What', \"'s\", 'happening', 'in', 'www.radioswisspop.ch', 'Give', 'me', 'updates', 'on', 'www.radioswisspop.ch', 'I', \"'m\", 'interested', 'in', 'www.radioswisspop.ch', 'Can', 'you', 'provide', 'www.radioswisspop.ch', 'Tell', 'me', 'more', 'about', 'www.radioswisspop.ch', 'Share', 'www.radioswisspop.ch', 'www.radioswisspop.ch', 'Get', 'me', 'the', 'latest', 'startseite', 'Tell', 'me', 'about', 'startseite', 'What', \"'s\", 'happening', 'in', 'startseite', 'Give', 'me', 'updates', 'on', 'startseite', 'I', \"'m\", 'interested', 'in', 'startseite', 'Can', 'you', 'provide', 'startseite', 'Tell', 'me', 'more', 'about', 'startseite', 'Share', 'startseite', 'startseite', 'Get', 'me', 'the', 'latest', 'www.rtr.ch', 'Tell', 'me', 'about', 'www.rtr.ch', 'What', \"'s\", 'happening', 'in', 'www.rtr.ch', 'Give', 'me', 'updates', 'on', 'www.rtr.ch', 'I', \"'m\", 'interested', 'in', 'www.rtr.ch', 'Can', 'you', 'provide', 'www.rtr.ch', 'Tell', 'me', 'more', 'about', 'www.rtr.ch', 'Share', 'www.rtr.ch', 'www.rtr.ch', 'Get', 'me', 'the', 'latest', 'jobs.srf.ch', 'Tell', 'me', 'about', 'jobs.srf.ch', 'What', \"'s\", 'happening', 'in', 'jobs.srf.ch', 'Give', 'me', 'updates', 'on', 'jobs.srf.ch', 'I', \"'m\", 'interested', 'in', 'jobs.srf.ch', 'Can', 'you', 'provide', 'jobs.srf.ch', 'Tell', 'me', 'more', 'about', 'jobs.srf.ch', 'Share', 'jobs.srf.ch', 'jobs.srf.ch', 'Get', 'me', 'the', 'latest', 'gesellschaft', 'Tell', 'me', 'about', 'gesellschaft', 'What', \"'s\", 'happening', 'in', 'gesellschaft', 'Give', 'me', 'updates', 'on', 'gesellschaft', 'I', \"'m\", 'interested', 'in', 'gesellschaft', 'Can', 'you', 'provide', 'gesellschaft', 'Tell', 'me', 'more', 'about', 'gesellschaft', 'Share', 'gesellschaft', 'gesellschaft', 'Get', 'me', 'the', 'latest', 'www.swissinfo.ch', 'Tell', 'me', 'about', 'www.swissinfo.ch', 'What', \"'s\", 'happening', 'in', 'www.swissinfo.ch', 'Give', 'me', 'updates', 'on', 'www.swissinfo.ch', 'I', \"'m\", 'interested', 'in', 'www.swissinfo.ch', 'Can', 'you', 'provide', 'www.swissinfo.ch', 'Tell', 'me', 'more', 'about', 'www.swissinfo.ch', 'Share', 'www.swissinfo.ch', 'www.swissinfo.ch', 'Get', 'me', 'the', 'latest', 'www.rts.ch', 'Tell', 'me', 'about', 'www.rts.ch', 'What', \"'s\", 'happening', 'in', 'www.rts.ch', 'Give', 'me', 'updates', 'on', 'www.rts.ch', 'I', \"'m\", 'interested', 'in', 'www.rts.ch', 'Can', 'you', 'provide', 'www.rts.ch', 'Tell', 'me', 'more', 'about', 'www.rts.ch', 'Share', 'www.rts.ch', 'www.rts.ch', 'Get', 'me', 'the', 'latest', 'www.srf.ch', 'Tell', 'me', 'about', 'www.srf.ch', 'What', \"'s\", 'happening', 'in', 'www.srf.ch', 'Give', 'me', 'updates', 'on', 'www.srf.ch', 'I', \"'m\", 'interested', 'in', 'www.srf.ch', 'Can', 'you', 'provide', 'www.srf.ch', 'Tell', 'me', 'more', 'about', 'www.srf.ch', 'Share', 'www.srf.ch', 'www.srf.ch', 'Get', 'me', 'the', 'latest', 'ski-alpin', 'Tell', 'me', 'about', 'ski-alpin', 'What', \"'s\", 'happening', 'in', 'ski-alpin', 'Give', 'me', 'updates', 'on', 'ski-alpin', 'I', \"'m\", 'interested', 'in', 'ski-alpin', 'Can', 'you', 'provide', 'ski-alpin', 'Tell', 'me', 'more', 'about', 'ski-alpin', 'Share', 'ski-alpin', 'ski-alpin', 'Get', 'me', 'the', 'latest', 'live', 'Tell', 'me', 'about', 'live', 'What', \"'s\", 'happening', 'in', 'live', 'Give', 'me', 'updates', 'on', 'live', 'I', \"'m\", 'interested', 'in', 'live', 'Can', 'you', 'provide', 'live', 'Tell', 'me', 'more', 'about', 'live', 'Share', 'live', 'live', 'Get', 'me', 'the', 'latest', 'www.radioswissclassic.ch', 'Tell', 'me', 'about', 'www.radioswissclassic.ch', 'What', \"'s\", 'happening', 'in', 'www.radioswissclassic.ch', 'Give', 'me', 'updates', 'on', 'www.radioswissclassic.ch', 'I', \"'m\", 'interested', 'in', 'www.radioswissclassic.ch', 'Can', 'you', 'provide', 'www.radioswissclassic.ch', 'Tell', 'me', 'more', 'about', 'www.radioswissclassic.ch', 'Share', 'www.radioswissclassic.ch', 'www.radioswissclassic.ch', 'Get', 'me', 'the', 'latest', 'radio', 'Tell', 'me', 'about', 'radio', 'What', \"'s\", 'happening', 'in', 'radio', 'Give', 'me', 'updates', 'on', 'radio', 'I', \"'m\", 'interested', 'in', 'radio', 'Can', 'you', 'provide', 'radio', 'Tell', 'me', 'more', 'about', 'radio', 'Share', 'radio', 'radio', 'Get', 'me', 'the', 'latest', 'schweiz', 'Tell', 'me', 'about', 'schweiz', 'What', \"'s\", 'happening', 'in', 'schweiz', 'Give', 'me', 'updates', 'on', 'schweiz', 'I', \"'m\", 'interested', 'in', 'schweiz', 'Can', 'you', 'provide', 'schweiz', 'Tell', 'me', 'more', 'about', 'schweiz', 'Share', 'schweiz', 'schweiz', 'Get', 'me', 'the', 'latest', 'website-und-apps', 'Tell', 'me', 'about', 'website-und-apps', 'What', \"'s\", 'happening', 'in', 'website-und-apps', 'Give', 'me', 'updates', 'on', 'website-und-apps', 'I', \"'m\", 'interested', 'in', 'website-und-apps', 'Can', 'you', 'provide', 'website-und-apps', 'Tell', 'me', 'more', 'about', 'website-und-apps', 'Share', 'website-und-apps', 'website-und-apps', 'Get', 'me', 'the', 'latest', 'wetter', 'Tell', 'me', 'about', 'wetter', 'What', \"'s\", 'happening', 'in', 'wetter', 'Give', 'me', 'updates', 'on', 'wetter', 'I', \"'m\", 'interested', 'in', 'wetter', 'Can', 'you', 'provide', 'wetter', 'Tell', 'me', 'more', 'about', 'wetter', 'Share', 'wetter', 'wetter', 'Get', 'me', 'the', 'latest', 'arbeitsrecht', 'Tell', 'me', 'about', 'arbeitsrecht', 'What', \"'s\", 'happening', 'in', 'arbeitsrecht', 'Give', 'me', 'updates', 'on', 'arbeitsrecht', 'I', \"'m\", 'interested', 'in', 'arbeitsrecht', 'Can', 'you', 'provide', 'arbeitsrecht', 'Tell', 'me', 'more', 'about', 'arbeitsrecht', 'Share', 'arbeitsrecht', 'arbeitsrecht', 'Get', 'me', 'the', 'latest', 'woerterbuch', 'Tell', 'me', 'about', 'woerterbuch', 'What', \"'s\", 'happening', 'in', 'woerterbuch', 'Give', 'me', 'updates', 'on', 'woerterbuch', 'I', \"'m\", 'interested', 'in', 'woerterbuch', 'Can', 'you', 'provide', 'woerterbuch', 'Tell', 'me', 'more', 'about', 'woerterbuch', 'Share', 'woerterbuch', 'woerterbuch', 'Get', 'me', 'the', 'latest', 'gesundheit', 'Tell', 'me', 'about', 'gesundheit', 'What', \"'s\", 'happening', 'in', 'gesundheit', 'Give', 'me', 'updates', 'on', 'gesundheit', 'I', \"'m\", 'interested', 'in', 'gesundheit', 'Can', 'you', 'provide', 'gesundheit', 'Tell', 'me', 'more', 'about', 'gesundheit', 'Share', 'gesundheit', 'gesundheit', 'Get', 'me', 'the', 'latest', 'decodar-nossa-cultura', 'Tell', 'me', 'about', 'decodar-nossa-cultura', 'What', \"'s\", 'happening', 'in', 'decodar-nossa-cultura', 'Give', 'me', 'updates', 'on', 'decodar-nossa-cultura', 'I', \"'m\", 'interested', 'in', 'decodar-nossa-cultura', 'Can', 'you', 'provide', 'decodar-nossa-cultura', 'Tell', 'me', 'more', 'about', 'decodar-nossa-cultura', 'Share', 'decodar-nossa-cultura', 'decodar-nossa-cultura', 'Get', 'me', 'the', 'latest', 'mehr-sport', 'Tell', 'me', 'about', 'mehr-sport', 'What', \"'s\", 'happening', 'in', 'mehr-sport', 'Give', 'me', 'updates', 'on', 'mehr-sport', 'I', \"'m\", 'interested', 'in', 'mehr-sport', 'Can', 'you', 'provide', 'mehr-sport', 'Tell', 'me', 'more', 'about', 'mehr-sport', 'Share', 'mehr-sport', 'mehr-sport', 'Get', 'me', 'the', 'latest', 'themen', 'Tell', 'me', 'about', 'themen', 'What', \"'s\", 'happening', 'in', 'themen', 'Give', 'me', 'updates', 'on', 'themen', 'I', \"'m\", 'interested', 'in', 'themen', 'Can', 'you', 'provide', 'themen', 'Tell', 'me', 'more', 'about', 'themen', 'Share', 'themen', 'themen']\n",
      "['introduction', 'greeting', 'goodbye', 'thanks', 'items', 'payments', 'delivery', 'funny', 'fussball', 'resultcenter', 'wirtschaft', 'www.srgssr.ch', 'video', 'dialog', 'kassensturz-espresso', 'www.radioswissjazz.ch', 'www.rsi.ch', 'tv', 'school', 'international', 'kunst', 'literatur', 'musik', 'meteo-stories', 'www.radioswisspop.ch', 'startseite', 'www.rtr.ch', 'jobs.srf.ch', 'gesellschaft', 'www.swissinfo.ch', 'www.rts.ch', 'www.srf.ch', 'ski-alpin', 'live', 'www.radioswissclassic.ch', 'radio', 'schweiz', 'website-und-apps', 'wetter', 'arbeitsrecht', 'woerterbuch', 'gesundheit', 'decodar-nossa-cultura', 'mehr-sport', 'themen']\n",
      "[(['Hello', ',', 'my', 'name', 'is'], 'introduction'), (['Hi', ',', 'I', \"'m\"], 'introduction'), (['Hey', ',', 'I', 'go', 'by'], 'introduction'), (['I', 'am'], 'introduction'), (['Greetings', ',', 'call', 'me'], 'introduction'), (['You', 'can', 'call', 'me'], 'introduction'), (['They', 'call', 'me'], 'introduction'), (['My', 'name', \"'s\"], 'introduction'), (['I', \"'d\", 'like', 'to', 'introduce', 'myself', ',', 'I', \"'m\"], 'introduction'), (['Allow', 'me', 'to', 'introduce', 'myself', ',', 'I', 'am'], 'introduction'), (['I', 'go', 'by', 'the', 'name'], 'introduction'), (['People', 'know', 'me', 'as'], 'introduction'), (['Hi'], 'greeting'), (['Hey'], 'greeting'), (['How', 'are', 'you'], 'greeting'), (['Is', 'anyone', 'there', '?'], 'greeting'), (['Hello'], 'greeting'), (['Good', 'day'], 'greeting'), (['Whats', 'up'], 'greeting'), (['How', 'are', 'you', 'doing'], 'greeting'), (['Howdy'], 'greeting'), (['Hi', 'there'], 'greeting'), (['Hola'], 'greeting'), (['Good', 'morning'], 'greeting'), (['Good', 'afternoon'], 'greeting'), (['Good', 'evening'], 'greeting'), (['It', 'is', 'nice', 'to', 'meet', 'you'], 'greeting'), (['Bye'], 'goodbye'), (['See', 'you', 'later'], 'goodbye'), (['Goodbye'], 'goodbye'), (['Nice', 'chatting', 'to', 'you', ',', 'bye'], 'goodbye'), (['Till', 'next', 'time'], 'goodbye'), (['Have', 'a', 'nice', 'day'], 'goodbye'), (['See', 'you', '!'], 'goodbye'), (['Later', '!'], 'goodbye'), (['Goodbye', '!'], 'goodbye'), (['I', \"'m\", 'off', '!'], 'goodbye'), (['That', \"'s\", 'all', 'for', 'now', '.', 'See', 'you', 'soon', '!'], 'goodbye'), (['I', \"'ve\", 'got', 'to', 'get', 'going', '.', 'Bye', '!'], 'goodbye'), (['It', 'was', 'nice', 'talking', 'to', 'you', '.', 'See', 'you', 'soon', '.'], 'goodbye'), (['I', \"'ve\", 'got', 'to', 'get', 'going', '.', 'Have', 'a', 'great', 'day', '!'], 'goodbye'), (['It', 'was', 'nice', 'talking', 'to', 'you', '.', 'Have', 'a', 'great', 'day', '!'], 'goodbye'), (['I', \"'ve\", 'got', 'to', 'get', 'going', '.', 'Have', 'a', 'nice', 'day', '!'], 'goodbye'), (['It', 'was', 'nice', 'talking', 'to', 'you', '.', 'Have', 'a', 'nice', 'day', '!'], 'goodbye'), (['I', \"'ve\", 'got', 'to', 'get', 'going', '.', 'See', 'you', 'later', '!'], 'goodbye'), (['Thanks'], 'thanks'), (['Thank', 'you'], 'thanks'), (['That', \"'s\", 'helpful'], 'thanks'), (['Thank', \"'s\", 'a', 'lot', '!'], 'thanks'), (['Thanks', 'for', 'helping', 'me'], 'thanks'), (['Awesome', ',', 'thanks'], 'thanks'), (['Thanks', 'for', 'the', 'help'], 'thanks'), (['Thanks', 'a', 'bunch'], 'thanks'), (['Thanks', 'for', 'everything'], 'thanks'), (['Thanks', 'for', 'the', 'chat'], 'thanks'), (['Thanks', 'for', 'the', 'conversation'], 'thanks'), (['Thanks', 'for', 'the', 'info'], 'thanks'), (['Which', 'items', 'do', 'you', 'have', '?'], 'items'), (['What', 'kinds', 'of', 'items', 'are', 'there', '?'], 'items'), (['What', 'do', 'you', 'sell', '?'], 'items'), (['What', 'are', 'your', 'items', '?'], 'items'), (['What', 'do', 'you', 'have', '?'], 'items'), (['What', 'are', 'you', 'selling', '?'], 'items'), (['What', 'do', 'you', 'offer', '?'], 'items'), (['What', 'do', 'you', 'have', 'for', 'sale', '?'], 'items'), (['What', 'do', 'you', 'have', 'in', 'stock', '?'], 'items'), (['What', 'are', 'your', 'products', '?'], 'items'), (['Do', 'you', 'take', 'credit', 'cards', '?'], 'payments'), (['Do', 'you', 'accept', 'Mastercard', '?'], 'payments'), (['Can', 'I', 'pay', 'with', 'Paypal', '?'], 'payments'), (['Are', 'you', 'cash', 'only', '?'], 'payments'), (['Do', 'you', 'accept', 'VISA', '?'], 'payments'), (['Do', 'you', 'accept', 'AMEX', '?'], 'payments'), (['Do', 'you', 'accept', 'Discover', 'Card', '?'], 'payments'), (['Do', 'you', 'accept', 'Apple', 'Pay', '?'], 'payments'), (['Do', 'you', 'accept', 'Google', 'Pay', '?'], 'payments'), (['Do', 'you', 'accept', 'Samsung', 'Pay', '?'], 'payments'), (['Do', 'you', 'accept', 'Bitcoin', '?'], 'payments'), (['Do', 'you', 'accept', 'cryptocurrency', '?'], 'payments'), (['Do', 'you', 'accept', 'crypto', '?'], 'payments'), (['Do', 'you', 'accept', 'Dogecoin', '?'], 'payments'), (['Do', 'you', 'accept', 'Ethereum', '?'], 'payments'), (['How', 'long', 'does', 'delivery', 'take', '?'], 'delivery'), (['How', 'long', 'does', 'shipping', 'take', '?'], 'delivery'), (['When', 'do', 'I', 'get', 'my', 'delivery', '?'], 'delivery'), (['When', 'do', 'I', 'get', 'my', 'order', '?'], 'delivery'), (['When', 'do', 'I', 'get', 'my', 'package', '?'], 'delivery'), (['When', 'do', 'I', 'get', 'my', 'shipment', '?'], 'delivery'), (['When', 'do', 'I', 'get', 'my', 'item', '?'], 'delivery'), (['Tell', 'me', 'a', 'joke', '!'], 'funny'), (['Tell', 'me', 'something', 'funny', '!'], 'funny'), (['Do', 'you', 'know', 'a', 'joke', '?'], 'funny'), (['Do', 'you', 'know', 'any', 'jokes', '?'], 'funny'), (['Do', 'you', 'know', 'any', 'funny', 'jokes', '?'], 'funny'), (['Get', 'me', 'the', 'latest', 'fussball'], 'fussball'), (['Tell', 'me', 'about', 'fussball'], 'fussball'), (['What', \"'s\", 'happening', 'in', 'fussball'], 'fussball'), (['Give', 'me', 'updates', 'on', 'fussball'], 'fussball'), (['I', \"'m\", 'interested', 'in', 'fussball'], 'fussball'), (['Can', 'you', 'provide', 'fussball'], 'fussball'), (['Tell', 'me', 'more', 'about', 'fussball'], 'fussball'), (['Share', 'fussball'], 'fussball'), (['fussball'], 'fussball'), (['Get', 'me', 'the', 'latest', 'resultcenter'], 'resultcenter'), (['Tell', 'me', 'about', 'resultcenter'], 'resultcenter'), (['What', \"'s\", 'happening', 'in', 'resultcenter'], 'resultcenter'), (['Give', 'me', 'updates', 'on', 'resultcenter'], 'resultcenter'), (['I', \"'m\", 'interested', 'in', 'resultcenter'], 'resultcenter'), (['Can', 'you', 'provide', 'resultcenter'], 'resultcenter'), (['Tell', 'me', 'more', 'about', 'resultcenter'], 'resultcenter'), (['Share', 'resultcenter'], 'resultcenter'), (['resultcenter'], 'resultcenter'), (['Get', 'me', 'the', 'latest', 'wirtschaft'], 'wirtschaft'), (['Tell', 'me', 'about', 'wirtschaft'], 'wirtschaft'), (['What', \"'s\", 'happening', 'in', 'wirtschaft'], 'wirtschaft'), (['Give', 'me', 'updates', 'on', 'wirtschaft'], 'wirtschaft'), (['I', \"'m\", 'interested', 'in', 'wirtschaft'], 'wirtschaft'), (['Can', 'you', 'provide', 'wirtschaft'], 'wirtschaft'), (['Tell', 'me', 'more', 'about', 'wirtschaft'], 'wirtschaft'), (['Share', 'wirtschaft'], 'wirtschaft'), (['wirtschaft'], 'wirtschaft'), (['Get', 'me', 'the', 'latest', 'www.srgssr.ch'], 'www.srgssr.ch'), (['Tell', 'me', 'about', 'www.srgssr.ch'], 'www.srgssr.ch'), (['What', \"'s\", 'happening', 'in', 'www.srgssr.ch'], 'www.srgssr.ch'), (['Give', 'me', 'updates', 'on', 'www.srgssr.ch'], 'www.srgssr.ch'), (['I', \"'m\", 'interested', 'in', 'www.srgssr.ch'], 'www.srgssr.ch'), (['Can', 'you', 'provide', 'www.srgssr.ch'], 'www.srgssr.ch'), (['Tell', 'me', 'more', 'about', 'www.srgssr.ch'], 'www.srgssr.ch'), (['Share', 'www.srgssr.ch'], 'www.srgssr.ch'), (['www.srgssr.ch'], 'www.srgssr.ch'), (['Get', 'me', 'the', 'latest', 'video'], 'video'), (['Tell', 'me', 'about', 'video'], 'video'), (['What', \"'s\", 'happening', 'in', 'video'], 'video'), (['Give', 'me', 'updates', 'on', 'video'], 'video'), (['I', \"'m\", 'interested', 'in', 'video'], 'video'), (['Can', 'you', 'provide', 'video'], 'video'), (['Tell', 'me', 'more', 'about', 'video'], 'video'), (['Share', 'video'], 'video'), (['video'], 'video'), (['Get', 'me', 'the', 'latest', 'dialog'], 'dialog'), (['Tell', 'me', 'about', 'dialog'], 'dialog'), (['What', \"'s\", 'happening', 'in', 'dialog'], 'dialog'), (['Give', 'me', 'updates', 'on', 'dialog'], 'dialog'), (['I', \"'m\", 'interested', 'in', 'dialog'], 'dialog'), (['Can', 'you', 'provide', 'dialog'], 'dialog'), (['Tell', 'me', 'more', 'about', 'dialog'], 'dialog'), (['Share', 'dialog'], 'dialog'), (['dialog'], 'dialog'), (['Get', 'me', 'the', 'latest', 'kassensturz-espresso'], 'kassensturz-espresso'), (['Tell', 'me', 'about', 'kassensturz-espresso'], 'kassensturz-espresso'), (['What', \"'s\", 'happening', 'in', 'kassensturz-espresso'], 'kassensturz-espresso'), (['Give', 'me', 'updates', 'on', 'kassensturz-espresso'], 'kassensturz-espresso'), (['I', \"'m\", 'interested', 'in', 'kassensturz-espresso'], 'kassensturz-espresso'), (['Can', 'you', 'provide', 'kassensturz-espresso'], 'kassensturz-espresso'), (['Tell', 'me', 'more', 'about', 'kassensturz-espresso'], 'kassensturz-espresso'), (['Share', 'kassensturz-espresso'], 'kassensturz-espresso'), (['kassensturz-espresso'], 'kassensturz-espresso'), (['Get', 'me', 'the', 'latest', 'www.radioswissjazz.ch'], 'www.radioswissjazz.ch'), (['Tell', 'me', 'about', 'www.radioswissjazz.ch'], 'www.radioswissjazz.ch'), (['What', \"'s\", 'happening', 'in', 'www.radioswissjazz.ch'], 'www.radioswissjazz.ch'), (['Give', 'me', 'updates', 'on', 'www.radioswissjazz.ch'], 'www.radioswissjazz.ch'), (['I', \"'m\", 'interested', 'in', 'www.radioswissjazz.ch'], 'www.radioswissjazz.ch'), (['Can', 'you', 'provide', 'www.radioswissjazz.ch'], 'www.radioswissjazz.ch'), (['Tell', 'me', 'more', 'about', 'www.radioswissjazz.ch'], 'www.radioswissjazz.ch'), (['Share', 'www.radioswissjazz.ch'], 'www.radioswissjazz.ch'), (['www.radioswissjazz.ch'], 'www.radioswissjazz.ch'), (['Get', 'me', 'the', 'latest', 'www.rsi.ch'], 'www.rsi.ch'), (['Tell', 'me', 'about', 'www.rsi.ch'], 'www.rsi.ch'), (['What', \"'s\", 'happening', 'in', 'www.rsi.ch'], 'www.rsi.ch'), (['Give', 'me', 'updates', 'on', 'www.rsi.ch'], 'www.rsi.ch'), (['I', \"'m\", 'interested', 'in', 'www.rsi.ch'], 'www.rsi.ch'), (['Can', 'you', 'provide', 'www.rsi.ch'], 'www.rsi.ch'), (['Tell', 'me', 'more', 'about', 'www.rsi.ch'], 'www.rsi.ch'), (['Share', 'www.rsi.ch'], 'www.rsi.ch'), (['www.rsi.ch'], 'www.rsi.ch'), (['Get', 'me', 'the', 'latest', 'tv'], 'tv'), (['Tell', 'me', 'about', 'tv'], 'tv'), (['What', \"'s\", 'happening', 'in', 'tv'], 'tv'), (['Give', 'me', 'updates', 'on', 'tv'], 'tv'), (['I', \"'m\", 'interested', 'in', 'tv'], 'tv'), (['Can', 'you', 'provide', 'tv'], 'tv'), (['Tell', 'me', 'more', 'about', 'tv'], 'tv'), (['Share', 'tv'], 'tv'), (['tv'], 'tv'), (['Get', 'me', 'the', 'latest', 'school'], 'school'), (['Tell', 'me', 'about', 'school'], 'school'), (['What', \"'s\", 'happening', 'in', 'school'], 'school'), (['Give', 'me', 'updates', 'on', 'school'], 'school'), (['I', \"'m\", 'interested', 'in', 'school'], 'school'), (['Can', 'you', 'provide', 'school'], 'school'), (['Tell', 'me', 'more', 'about', 'school'], 'school'), (['Share', 'school'], 'school'), (['school'], 'school'), (['Get', 'me', 'the', 'latest', 'international'], 'international'), (['Tell', 'me', 'about', 'international'], 'international'), (['What', \"'s\", 'happening', 'in', 'international'], 'international'), (['Give', 'me', 'updates', 'on', 'international'], 'international'), (['I', \"'m\", 'interested', 'in', 'international'], 'international'), (['Can', 'you', 'provide', 'international'], 'international'), (['Tell', 'me', 'more', 'about', 'international'], 'international'), (['Share', 'international'], 'international'), (['international'], 'international'), (['Get', 'me', 'the', 'latest', 'kunst'], 'kunst'), (['Tell', 'me', 'about', 'kunst'], 'kunst'), (['What', \"'s\", 'happening', 'in', 'kunst'], 'kunst'), (['Give', 'me', 'updates', 'on', 'kunst'], 'kunst'), (['I', \"'m\", 'interested', 'in', 'kunst'], 'kunst'), (['Can', 'you', 'provide', 'kunst'], 'kunst'), (['Tell', 'me', 'more', 'about', 'kunst'], 'kunst'), (['Share', 'kunst'], 'kunst'), (['kunst'], 'kunst'), (['Get', 'me', 'the', 'latest', 'literatur'], 'literatur'), (['Tell', 'me', 'about', 'literatur'], 'literatur'), (['What', \"'s\", 'happening', 'in', 'literatur'], 'literatur'), (['Give', 'me', 'updates', 'on', 'literatur'], 'literatur'), (['I', \"'m\", 'interested', 'in', 'literatur'], 'literatur'), (['Can', 'you', 'provide', 'literatur'], 'literatur'), (['Tell', 'me', 'more', 'about', 'literatur'], 'literatur'), (['Share', 'literatur'], 'literatur'), (['literatur'], 'literatur'), (['Get', 'me', 'the', 'latest', 'musik'], 'musik'), (['Tell', 'me', 'about', 'musik'], 'musik'), (['What', \"'s\", 'happening', 'in', 'musik'], 'musik'), (['Give', 'me', 'updates', 'on', 'musik'], 'musik'), (['I', \"'m\", 'interested', 'in', 'musik'], 'musik'), (['Can', 'you', 'provide', 'musik'], 'musik'), (['Tell', 'me', 'more', 'about', 'musik'], 'musik'), (['Share', 'musik'], 'musik'), (['musik'], 'musik'), (['Get', 'me', 'the', 'latest', 'meteo-stories'], 'meteo-stories'), (['Tell', 'me', 'about', 'meteo-stories'], 'meteo-stories'), (['What', \"'s\", 'happening', 'in', 'meteo-stories'], 'meteo-stories'), (['Give', 'me', 'updates', 'on', 'meteo-stories'], 'meteo-stories'), (['I', \"'m\", 'interested', 'in', 'meteo-stories'], 'meteo-stories'), (['Can', 'you', 'provide', 'meteo-stories'], 'meteo-stories'), (['Tell', 'me', 'more', 'about', 'meteo-stories'], 'meteo-stories'), (['Share', 'meteo-stories'], 'meteo-stories'), (['meteo-stories'], 'meteo-stories'), (['Get', 'me', 'the', 'latest', 'www.radioswisspop.ch'], 'www.radioswisspop.ch'), (['Tell', 'me', 'about', 'www.radioswisspop.ch'], 'www.radioswisspop.ch'), (['What', \"'s\", 'happening', 'in', 'www.radioswisspop.ch'], 'www.radioswisspop.ch'), (['Give', 'me', 'updates', 'on', 'www.radioswisspop.ch'], 'www.radioswisspop.ch'), (['I', \"'m\", 'interested', 'in', 'www.radioswisspop.ch'], 'www.radioswisspop.ch'), (['Can', 'you', 'provide', 'www.radioswisspop.ch'], 'www.radioswisspop.ch'), (['Tell', 'me', 'more', 'about', 'www.radioswisspop.ch'], 'www.radioswisspop.ch'), (['Share', 'www.radioswisspop.ch'], 'www.radioswisspop.ch'), (['www.radioswisspop.ch'], 'www.radioswisspop.ch'), (['Get', 'me', 'the', 'latest', 'startseite'], 'startseite'), (['Tell', 'me', 'about', 'startseite'], 'startseite'), (['What', \"'s\", 'happening', 'in', 'startseite'], 'startseite'), (['Give', 'me', 'updates', 'on', 'startseite'], 'startseite'), (['I', \"'m\", 'interested', 'in', 'startseite'], 'startseite'), (['Can', 'you', 'provide', 'startseite'], 'startseite'), (['Tell', 'me', 'more', 'about', 'startseite'], 'startseite'), (['Share', 'startseite'], 'startseite'), (['startseite'], 'startseite'), (['Get', 'me', 'the', 'latest', 'www.rtr.ch'], 'www.rtr.ch'), (['Tell', 'me', 'about', 'www.rtr.ch'], 'www.rtr.ch'), (['What', \"'s\", 'happening', 'in', 'www.rtr.ch'], 'www.rtr.ch'), (['Give', 'me', 'updates', 'on', 'www.rtr.ch'], 'www.rtr.ch'), (['I', \"'m\", 'interested', 'in', 'www.rtr.ch'], 'www.rtr.ch'), (['Can', 'you', 'provide', 'www.rtr.ch'], 'www.rtr.ch'), (['Tell', 'me', 'more', 'about', 'www.rtr.ch'], 'www.rtr.ch'), (['Share', 'www.rtr.ch'], 'www.rtr.ch'), (['www.rtr.ch'], 'www.rtr.ch'), (['Get', 'me', 'the', 'latest', 'jobs.srf.ch'], 'jobs.srf.ch'), (['Tell', 'me', 'about', 'jobs.srf.ch'], 'jobs.srf.ch'), (['What', \"'s\", 'happening', 'in', 'jobs.srf.ch'], 'jobs.srf.ch'), (['Give', 'me', 'updates', 'on', 'jobs.srf.ch'], 'jobs.srf.ch'), (['I', \"'m\", 'interested', 'in', 'jobs.srf.ch'], 'jobs.srf.ch'), (['Can', 'you', 'provide', 'jobs.srf.ch'], 'jobs.srf.ch'), (['Tell', 'me', 'more', 'about', 'jobs.srf.ch'], 'jobs.srf.ch'), (['Share', 'jobs.srf.ch'], 'jobs.srf.ch'), (['jobs.srf.ch'], 'jobs.srf.ch'), (['Get', 'me', 'the', 'latest', 'gesellschaft'], 'gesellschaft'), (['Tell', 'me', 'about', 'gesellschaft'], 'gesellschaft'), (['What', \"'s\", 'happening', 'in', 'gesellschaft'], 'gesellschaft'), (['Give', 'me', 'updates', 'on', 'gesellschaft'], 'gesellschaft'), (['I', \"'m\", 'interested', 'in', 'gesellschaft'], 'gesellschaft'), (['Can', 'you', 'provide', 'gesellschaft'], 'gesellschaft'), (['Tell', 'me', 'more', 'about', 'gesellschaft'], 'gesellschaft'), (['Share', 'gesellschaft'], 'gesellschaft'), (['gesellschaft'], 'gesellschaft'), (['Get', 'me', 'the', 'latest', 'www.swissinfo.ch'], 'www.swissinfo.ch'), (['Tell', 'me', 'about', 'www.swissinfo.ch'], 'www.swissinfo.ch'), (['What', \"'s\", 'happening', 'in', 'www.swissinfo.ch'], 'www.swissinfo.ch'), (['Give', 'me', 'updates', 'on', 'www.swissinfo.ch'], 'www.swissinfo.ch'), (['I', \"'m\", 'interested', 'in', 'www.swissinfo.ch'], 'www.swissinfo.ch'), (['Can', 'you', 'provide', 'www.swissinfo.ch'], 'www.swissinfo.ch'), (['Tell', 'me', 'more', 'about', 'www.swissinfo.ch'], 'www.swissinfo.ch'), (['Share', 'www.swissinfo.ch'], 'www.swissinfo.ch'), (['www.swissinfo.ch'], 'www.swissinfo.ch'), (['Get', 'me', 'the', 'latest', 'www.rts.ch'], 'www.rts.ch'), (['Tell', 'me', 'about', 'www.rts.ch'], 'www.rts.ch'), (['What', \"'s\", 'happening', 'in', 'www.rts.ch'], 'www.rts.ch'), (['Give', 'me', 'updates', 'on', 'www.rts.ch'], 'www.rts.ch'), (['I', \"'m\", 'interested', 'in', 'www.rts.ch'], 'www.rts.ch'), (['Can', 'you', 'provide', 'www.rts.ch'], 'www.rts.ch'), (['Tell', 'me', 'more', 'about', 'www.rts.ch'], 'www.rts.ch'), (['Share', 'www.rts.ch'], 'www.rts.ch'), (['www.rts.ch'], 'www.rts.ch'), (['Get', 'me', 'the', 'latest', 'www.srf.ch'], 'www.srf.ch'), (['Tell', 'me', 'about', 'www.srf.ch'], 'www.srf.ch'), (['What', \"'s\", 'happening', 'in', 'www.srf.ch'], 'www.srf.ch'), (['Give', 'me', 'updates', 'on', 'www.srf.ch'], 'www.srf.ch'), (['I', \"'m\", 'interested', 'in', 'www.srf.ch'], 'www.srf.ch'), (['Can', 'you', 'provide', 'www.srf.ch'], 'www.srf.ch'), (['Tell', 'me', 'more', 'about', 'www.srf.ch'], 'www.srf.ch'), (['Share', 'www.srf.ch'], 'www.srf.ch'), (['www.srf.ch'], 'www.srf.ch'), (['Get', 'me', 'the', 'latest', 'ski-alpin'], 'ski-alpin'), (['Tell', 'me', 'about', 'ski-alpin'], 'ski-alpin'), (['What', \"'s\", 'happening', 'in', 'ski-alpin'], 'ski-alpin'), (['Give', 'me', 'updates', 'on', 'ski-alpin'], 'ski-alpin'), (['I', \"'m\", 'interested', 'in', 'ski-alpin'], 'ski-alpin'), (['Can', 'you', 'provide', 'ski-alpin'], 'ski-alpin'), (['Tell', 'me', 'more', 'about', 'ski-alpin'], 'ski-alpin'), (['Share', 'ski-alpin'], 'ski-alpin'), (['ski-alpin'], 'ski-alpin'), (['Get', 'me', 'the', 'latest', 'live'], 'live'), (['Tell', 'me', 'about', 'live'], 'live'), (['What', \"'s\", 'happening', 'in', 'live'], 'live'), (['Give', 'me', 'updates', 'on', 'live'], 'live'), (['I', \"'m\", 'interested', 'in', 'live'], 'live'), (['Can', 'you', 'provide', 'live'], 'live'), (['Tell', 'me', 'more', 'about', 'live'], 'live'), (['Share', 'live'], 'live'), (['live'], 'live'), (['Get', 'me', 'the', 'latest', 'www.radioswissclassic.ch'], 'www.radioswissclassic.ch'), (['Tell', 'me', 'about', 'www.radioswissclassic.ch'], 'www.radioswissclassic.ch'), (['What', \"'s\", 'happening', 'in', 'www.radioswissclassic.ch'], 'www.radioswissclassic.ch'), (['Give', 'me', 'updates', 'on', 'www.radioswissclassic.ch'], 'www.radioswissclassic.ch'), (['I', \"'m\", 'interested', 'in', 'www.radioswissclassic.ch'], 'www.radioswissclassic.ch'), (['Can', 'you', 'provide', 'www.radioswissclassic.ch'], 'www.radioswissclassic.ch'), (['Tell', 'me', 'more', 'about', 'www.radioswissclassic.ch'], 'www.radioswissclassic.ch'), (['Share', 'www.radioswissclassic.ch'], 'www.radioswissclassic.ch'), (['www.radioswissclassic.ch'], 'www.radioswissclassic.ch'), (['Get', 'me', 'the', 'latest', 'radio'], 'radio'), (['Tell', 'me', 'about', 'radio'], 'radio'), (['What', \"'s\", 'happening', 'in', 'radio'], 'radio'), (['Give', 'me', 'updates', 'on', 'radio'], 'radio'), (['I', \"'m\", 'interested', 'in', 'radio'], 'radio'), (['Can', 'you', 'provide', 'radio'], 'radio'), (['Tell', 'me', 'more', 'about', 'radio'], 'radio'), (['Share', 'radio'], 'radio'), (['radio'], 'radio'), (['Get', 'me', 'the', 'latest', 'schweiz'], 'schweiz'), (['Tell', 'me', 'about', 'schweiz'], 'schweiz'), (['What', \"'s\", 'happening', 'in', 'schweiz'], 'schweiz'), (['Give', 'me', 'updates', 'on', 'schweiz'], 'schweiz'), (['I', \"'m\", 'interested', 'in', 'schweiz'], 'schweiz'), (['Can', 'you', 'provide', 'schweiz'], 'schweiz'), (['Tell', 'me', 'more', 'about', 'schweiz'], 'schweiz'), (['Share', 'schweiz'], 'schweiz'), (['schweiz'], 'schweiz'), (['Get', 'me', 'the', 'latest', 'website-und-apps'], 'website-und-apps'), (['Tell', 'me', 'about', 'website-und-apps'], 'website-und-apps'), (['What', \"'s\", 'happening', 'in', 'website-und-apps'], 'website-und-apps'), (['Give', 'me', 'updates', 'on', 'website-und-apps'], 'website-und-apps'), (['I', \"'m\", 'interested', 'in', 'website-und-apps'], 'website-und-apps'), (['Can', 'you', 'provide', 'website-und-apps'], 'website-und-apps'), (['Tell', 'me', 'more', 'about', 'website-und-apps'], 'website-und-apps'), (['Share', 'website-und-apps'], 'website-und-apps'), (['website-und-apps'], 'website-und-apps'), (['Get', 'me', 'the', 'latest', 'wetter'], 'wetter'), (['Tell', 'me', 'about', 'wetter'], 'wetter'), (['What', \"'s\", 'happening', 'in', 'wetter'], 'wetter'), (['Give', 'me', 'updates', 'on', 'wetter'], 'wetter'), (['I', \"'m\", 'interested', 'in', 'wetter'], 'wetter'), (['Can', 'you', 'provide', 'wetter'], 'wetter'), (['Tell', 'me', 'more', 'about', 'wetter'], 'wetter'), (['Share', 'wetter'], 'wetter'), (['wetter'], 'wetter'), (['Get', 'me', 'the', 'latest', 'arbeitsrecht'], 'arbeitsrecht'), (['Tell', 'me', 'about', 'arbeitsrecht'], 'arbeitsrecht'), (['What', \"'s\", 'happening', 'in', 'arbeitsrecht'], 'arbeitsrecht'), (['Give', 'me', 'updates', 'on', 'arbeitsrecht'], 'arbeitsrecht'), (['I', \"'m\", 'interested', 'in', 'arbeitsrecht'], 'arbeitsrecht'), (['Can', 'you', 'provide', 'arbeitsrecht'], 'arbeitsrecht'), (['Tell', 'me', 'more', 'about', 'arbeitsrecht'], 'arbeitsrecht'), (['Share', 'arbeitsrecht'], 'arbeitsrecht'), (['arbeitsrecht'], 'arbeitsrecht'), (['Get', 'me', 'the', 'latest', 'woerterbuch'], 'woerterbuch'), (['Tell', 'me', 'about', 'woerterbuch'], 'woerterbuch'), (['What', \"'s\", 'happening', 'in', 'woerterbuch'], 'woerterbuch'), (['Give', 'me', 'updates', 'on', 'woerterbuch'], 'woerterbuch'), (['I', \"'m\", 'interested', 'in', 'woerterbuch'], 'woerterbuch'), (['Can', 'you', 'provide', 'woerterbuch'], 'woerterbuch'), (['Tell', 'me', 'more', 'about', 'woerterbuch'], 'woerterbuch'), (['Share', 'woerterbuch'], 'woerterbuch'), (['woerterbuch'], 'woerterbuch'), (['Get', 'me', 'the', 'latest', 'gesundheit'], 'gesundheit'), (['Tell', 'me', 'about', 'gesundheit'], 'gesundheit'), (['What', \"'s\", 'happening', 'in', 'gesundheit'], 'gesundheit'), (['Give', 'me', 'updates', 'on', 'gesundheit'], 'gesundheit'), (['I', \"'m\", 'interested', 'in', 'gesundheit'], 'gesundheit'), (['Can', 'you', 'provide', 'gesundheit'], 'gesundheit'), (['Tell', 'me', 'more', 'about', 'gesundheit'], 'gesundheit'), (['Share', 'gesundheit'], 'gesundheit'), (['gesundheit'], 'gesundheit'), (['Get', 'me', 'the', 'latest', 'decodar-nossa-cultura'], 'decodar-nossa-cultura'), (['Tell', 'me', 'about', 'decodar-nossa-cultura'], 'decodar-nossa-cultura'), (['What', \"'s\", 'happening', 'in', 'decodar-nossa-cultura'], 'decodar-nossa-cultura'), (['Give', 'me', 'updates', 'on', 'decodar-nossa-cultura'], 'decodar-nossa-cultura'), (['I', \"'m\", 'interested', 'in', 'decodar-nossa-cultura'], 'decodar-nossa-cultura'), (['Can', 'you', 'provide', 'decodar-nossa-cultura'], 'decodar-nossa-cultura'), (['Tell', 'me', 'more', 'about', 'decodar-nossa-cultura'], 'decodar-nossa-cultura'), (['Share', 'decodar-nossa-cultura'], 'decodar-nossa-cultura'), (['decodar-nossa-cultura'], 'decodar-nossa-cultura'), (['Get', 'me', 'the', 'latest', 'mehr-sport'], 'mehr-sport'), (['Tell', 'me', 'about', 'mehr-sport'], 'mehr-sport'), (['What', \"'s\", 'happening', 'in', 'mehr-sport'], 'mehr-sport'), (['Give', 'me', 'updates', 'on', 'mehr-sport'], 'mehr-sport'), (['I', \"'m\", 'interested', 'in', 'mehr-sport'], 'mehr-sport'), (['Can', 'you', 'provide', 'mehr-sport'], 'mehr-sport'), (['Tell', 'me', 'more', 'about', 'mehr-sport'], 'mehr-sport'), (['Share', 'mehr-sport'], 'mehr-sport'), (['mehr-sport'], 'mehr-sport'), (['Get', 'me', 'the', 'latest', 'themen'], 'themen'), (['Tell', 'me', 'about', 'themen'], 'themen'), (['What', \"'s\", 'happening', 'in', 'themen'], 'themen'), (['Give', 'me', 'updates', 'on', 'themen'], 'themen'), (['I', \"'m\", 'interested', 'in', 'themen'], 'themen'), (['Can', 'you', 'provide', 'themen'], 'themen'), (['Tell', 'me', 'more', 'about', 'themen'], 'themen'), (['Share', 'themen'], 'themen'), (['themen'], 'themen')]\n"
     ]
    }
   ],
   "source": [
    "all_words = []\n",
    "tags = []\n",
    "xy = []\n",
    "# loop through each sentence in our intents patterns\n",
    "for intent in intents[\"intents\"]:\n",
    "    tag = intent[\"tag\"]\n",
    "    # add to tag list\n",
    "    tags.append(tag)\n",
    "    for pattern in intent[\"patterns\"]:\n",
    "        # tokenize each word in the sentence\n",
    "        w = tokenize(pattern)\n",
    "        # add to our words list\n",
    "        all_words.extend(w)\n",
    "        # add to xy pair\n",
    "        xy.append((w, tag))\n",
    "\n",
    "print(all_words)\n",
    "print(tags)\n",
    "print(xy)"
   ]
  },
  {
   "cell_type": "markdown",
   "metadata": {},
   "source": [
    "# 3.1 Preprocessing Intent Data"
   ]
  },
  {
   "cell_type": "code",
   "execution_count": 8,
   "metadata": {},
   "outputs": [
    {
     "name": "stdout",
     "output_type": "stream",
     "text": [
      "427 patterns\n",
      "45 tags: ['arbeitsrecht', 'decodar-nossa-cultura', 'delivery', 'dialog', 'funny', 'fussball', 'gesellschaft', 'gesundheit', 'goodbye', 'greeting', 'international', 'introduction', 'items', 'jobs.srf.ch', 'kassensturz-espresso', 'kunst', 'literatur', 'live', 'mehr-sport', 'meteo-stories', 'musik', 'payments', 'radio', 'resultcenter', 'school', 'schweiz', 'ski-alpin', 'startseite', 'thanks', 'themen', 'tv', 'video', 'website-und-apps', 'wetter', 'wirtschaft', 'woerterbuch', 'www.radioswissclassic.ch', 'www.radioswissjazz.ch', 'www.radioswisspop.ch', 'www.rsi.ch', 'www.rtr.ch', 'www.rts.ch', 'www.srf.ch', 'www.srgssr.ch', 'www.swissinfo.ch']\n",
      "167 unique stemmed words: [\"'d\", \"'m\", \"'s\", \"'ve\", 'a', 'about', 'accept', 'afternoon', 'all', 'allow', 'am', 'amex', 'ani', 'anyon', 'appl', 'arbeitsrecht', 'are', 'as', 'awesom', 'bitcoin', 'bunch', 'by', 'bye', 'call', 'can', 'card', 'cash', 'chat', 'convers', 'credit', 'crypto', 'cryptocurr', 'day', 'decodar-nossa-cultura', 'deliveri', 'dialog', 'discov', 'do', 'doe', 'dogecoin', 'ethereum', 'even', 'everyth', 'for', 'funni', 'fussbal', 'gesellschaft', 'gesundheit', 'get', 'give', 'go', 'good', 'goodby', 'googl', 'got', 'great', 'greet', 'happen', 'have', 'hello', 'help', 'hey', 'hi', 'hola', 'how', 'howdi', 'i', 'in', 'info', 'interest', 'intern', 'introduc', 'is', 'it', 'item', 'jobs.srf.ch', 'joke', 'kassensturz-espresso', 'kind', 'know', 'kunst', 'later', 'latest', 'like', 'literatur', 'live', 'long', 'lot', 'mastercard', 'me', 'meet', 'mehr-sport', 'meteo-stori', 'more', 'morn', 'musik', 'my', 'myself', 'name', 'next', 'nice', 'now', 'of', 'off', 'offer', 'on', 'onli', 'order', 'packag', 'pay', 'paypal', 'peopl', 'product', 'provid', 'radio', 'resultcent', 'sale', 'samsung', 'school', 'schweiz', 'see', 'sell', 'share', 'ship', 'shipment', 'ski-alpin', 'someth', 'soon', 'startseit', 'stock', 'take', 'talk', 'tell', 'thank', 'that', 'the', 'themen', 'there', 'they', 'till', 'time', 'to', 'tv', 'up', 'updat', 'video', 'visa', 'wa', 'website-und-app', 'wetter', 'what', 'when', 'which', 'wirtschaft', 'with', 'woerterbuch', 'www.radioswissclassic.ch', 'www.radioswissjazz.ch', 'www.radioswisspop.ch', 'www.rsi.ch', 'www.rtr.ch', 'www.rts.ch', 'www.srf.ch', 'www.srgssr.ch', 'www.swissinfo.ch', 'you', 'your']\n"
     ]
    }
   ],
   "source": [
    "# stem and lower each word and remove duplicates and sort\n",
    "ignore_words = [\"?\", \"!\", \".\", \",\"]\n",
    "all_words = [stem(w) for w in all_words if w not in ignore_words]\n",
    "all_words = sorted(set(all_words))\n",
    "tags = sorted(set(tags))\n",
    "\n",
    "print(len(xy), \"patterns\")\n",
    "print(len(tags), \"tags:\", tags)\n",
    "print(len(all_words), \"unique stemmed words:\", all_words)"
   ]
  },
  {
   "cell_type": "markdown",
   "metadata": {},
   "source": [
    "## 3.2 Train and Test Data"
   ]
  },
  {
   "cell_type": "code",
   "execution_count": 9,
   "metadata": {},
   "outputs": [
    {
     "name": "stdout",
     "output_type": "stream",
     "text": [
      "(427, 167)\n",
      "[[0. 0. 0. ... 0. 0. 0.]\n",
      " [0. 1. 0. ... 0. 0. 0.]\n",
      " [0. 0. 0. ... 0. 0. 0.]\n",
      " ...\n",
      " [0. 0. 0. ... 0. 0. 0.]\n",
      " [0. 0. 0. ... 0. 0. 0.]\n",
      " [0. 0. 0. ... 0. 0. 0.]]\n",
      "(427,)\n",
      "[11 11 11 11 11 11 11 11 11 11 11 11  9  9  9  9  9  9  9  9  9  9  9  9\n",
      "  9  9  9  8  8  8  8  8  8  8  8  8  8  8  8  8  8  8  8  8  8 28 28 28\n",
      " 28 28 28 28 28 28 28 28 28 12 12 12 12 12 12 12 12 12 12 21 21 21 21 21\n",
      " 21 21 21 21 21 21 21 21 21 21  2  2  2  2  2  2  2  4  4  4  4  4  5  5\n",
      "  5  5  5  5  5  5  5 23 23 23 23 23 23 23 23 23 34 34 34 34 34 34 34 34\n",
      " 34 43 43 43 43 43 43 43 43 43 31 31 31 31 31 31 31 31 31  3  3  3  3  3\n",
      "  3  3  3  3 14 14 14 14 14 14 14 14 14 37 37 37 37 37 37 37 37 37 39 39\n",
      " 39 39 39 39 39 39 39 30 30 30 30 30 30 30 30 30 24 24 24 24 24 24 24 24\n",
      " 24 10 10 10 10 10 10 10 10 10 15 15 15 15 15 15 15 15 15 16 16 16 16 16\n",
      " 16 16 16 16 20 20 20 20 20 20 20 20 20 19 19 19 19 19 19 19 19 19 38 38\n",
      " 38 38 38 38 38 38 38 27 27 27 27 27 27 27 27 27 40 40 40 40 40 40 40 40\n",
      " 40 13 13 13 13 13 13 13 13 13  6  6  6  6  6  6  6  6  6 44 44 44 44 44\n",
      " 44 44 44 44 41 41 41 41 41 41 41 41 41 42 42 42 42 42 42 42 42 42 26 26\n",
      " 26 26 26 26 26 26 26 17 17 17 17 17 17 17 17 17 36 36 36 36 36 36 36 36\n",
      " 36 22 22 22 22 22 22 22 22 22 25 25 25 25 25 25 25 25 25 32 32 32 32 32\n",
      " 32 32 32 32 33 33 33 33 33 33 33 33 33  0  0  0  0  0  0  0  0  0 35 35\n",
      " 35 35 35 35 35 35 35  7  7  7  7  7  7  7  7  7  1  1  1  1  1  1  1  1\n",
      "  1 18 18 18 18 18 18 18 18 18 29 29 29 29 29 29 29 29 29]\n"
     ]
    }
   ],
   "source": [
    "X_train = []\n",
    "y_train = []\n",
    "\n",
    "for pattern_sentence, tag in xy:\n",
    "    # X: bag of words for each pattern_sentence\n",
    "    bag = bag_of_words(pattern_sentence, all_words)\n",
    "    X_train.append(bag)\n",
    "    # y: PyTorch CrossEntropyLoss needs only class labels, not one-hot\n",
    "    label = tags.index(tag)\n",
    "    y_train.append(label)\n",
    "\n",
    "X_train = np.array(X_train)\n",
    "y_train = np.array(y_train)\n",
    "\n",
    "print(X_train.shape)\n",
    "print(X_train)\n",
    "print(y_train.shape)\n",
    "print(y_train)"
   ]
  },
  {
   "cell_type": "markdown",
   "metadata": {},
   "source": [
    "## 3.3 Create DataLoader "
   ]
  },
  {
   "cell_type": "code",
   "execution_count": 10,
   "metadata": {},
   "outputs": [],
   "source": [
    "class ChatDataset(Dataset):\n",
    "    def __init__(self, X_train, y_train):\n",
    "        self.n_samples = len(X_train)\n",
    "        self.x_data = X_train\n",
    "        self.y_data = y_train\n",
    "\n",
    "    # support indexing such that dataset[i] can be used to get i-th sample\n",
    "    def __getitem__(self, index):\n",
    "        return self.x_data[index], self.y_data[index]\n",
    "\n",
    "    # we can call len(dataset) to return the size\n",
    "    def __len__(self):\n",
    "        return self.n_samples"
   ]
  },
  {
   "cell_type": "code",
   "execution_count": 11,
   "metadata": {},
   "outputs": [
    {
     "name": "stdout",
     "output_type": "stream",
     "text": [
      "427\n",
      "[[0. 0. 0. ... 0. 0. 0.]\n",
      " [0. 1. 0. ... 0. 0. 0.]\n",
      " [0. 0. 0. ... 0. 0. 0.]\n",
      " ...\n",
      " [0. 0. 0. ... 0. 0. 0.]\n",
      " [0. 0. 0. ... 0. 0. 0.]\n",
      " [0. 0. 0. ... 0. 0. 0.]]\n",
      "[11 11 11 11 11 11 11 11 11 11 11 11  9  9  9  9  9  9  9  9  9  9  9  9\n",
      "  9  9  9  8  8  8  8  8  8  8  8  8  8  8  8  8  8  8  8  8  8 28 28 28\n",
      " 28 28 28 28 28 28 28 28 28 12 12 12 12 12 12 12 12 12 12 21 21 21 21 21\n",
      " 21 21 21 21 21 21 21 21 21 21  2  2  2  2  2  2  2  4  4  4  4  4  5  5\n",
      "  5  5  5  5  5  5  5 23 23 23 23 23 23 23 23 23 34 34 34 34 34 34 34 34\n",
      " 34 43 43 43 43 43 43 43 43 43 31 31 31 31 31 31 31 31 31  3  3  3  3  3\n",
      "  3  3  3  3 14 14 14 14 14 14 14 14 14 37 37 37 37 37 37 37 37 37 39 39\n",
      " 39 39 39 39 39 39 39 30 30 30 30 30 30 30 30 30 24 24 24 24 24 24 24 24\n",
      " 24 10 10 10 10 10 10 10 10 10 15 15 15 15 15 15 15 15 15 16 16 16 16 16\n",
      " 16 16 16 16 20 20 20 20 20 20 20 20 20 19 19 19 19 19 19 19 19 19 38 38\n",
      " 38 38 38 38 38 38 38 27 27 27 27 27 27 27 27 27 40 40 40 40 40 40 40 40\n",
      " 40 13 13 13 13 13 13 13 13 13  6  6  6  6  6  6  6  6  6 44 44 44 44 44\n",
      " 44 44 44 44 41 41 41 41 41 41 41 41 41 42 42 42 42 42 42 42 42 42 26 26\n",
      " 26 26 26 26 26 26 26 17 17 17 17 17 17 17 17 17 36 36 36 36 36 36 36 36\n",
      " 36 22 22 22 22 22 22 22 22 22 25 25 25 25 25 25 25 25 25 32 32 32 32 32\n",
      " 32 32 32 32 33 33 33 33 33 33 33 33 33  0  0  0  0  0  0  0  0  0 35 35\n",
      " 35 35 35 35 35 35 35  7  7  7  7  7  7  7  7  7  1  1  1  1  1  1  1  1\n",
      "  1 18 18 18 18 18 18 18 18 18 29 29 29 29 29 29 29 29 29]\n",
      "tensor([[0., 0., 0., 0., 0., 0., 0., 0., 0., 0., 0., 0., 0., 0., 0., 0., 0., 0.,\n",
      "         0., 0., 0., 0., 0., 0., 0., 0., 0., 0., 0., 0., 0., 0., 0., 0., 0., 0.,\n",
      "         0., 1., 0., 0., 0., 0., 0., 0., 0., 0., 0., 0., 1., 0., 0., 0., 0., 0.,\n",
      "         0., 0., 0., 0., 0., 0., 0., 0., 0., 0., 0., 0., 1., 0., 0., 0., 0., 0.,\n",
      "         0., 0., 0., 0., 0., 0., 0., 0., 0., 0., 0., 0., 0., 0., 0., 0., 0., 0.,\n",
      "         0., 0., 0., 0., 0., 0., 1., 0., 0., 0., 0., 0., 0., 0., 0., 0., 0., 1.,\n",
      "         0., 0., 0., 0., 0., 0., 0., 0., 0., 0., 0., 0., 0., 0., 0., 0., 0., 0.,\n",
      "         0., 0., 0., 0., 0., 0., 0., 0., 0., 0., 0., 0., 0., 0., 0., 0., 0., 0.,\n",
      "         0., 0., 0., 0., 0., 0., 0., 1., 0., 0., 0., 0., 0., 0., 0., 0., 0., 0.,\n",
      "         0., 0., 0., 0., 0.],\n",
      "        [0., 0., 1., 0., 0., 0., 0., 0., 0., 0., 0., 0., 0., 0., 0., 0., 0., 0.,\n",
      "         0., 0., 0., 0., 0., 0., 0., 0., 0., 0., 0., 0., 0., 0., 0., 0., 0., 0.,\n",
      "         0., 0., 0., 0., 0., 0., 0., 0., 0., 0., 0., 0., 0., 0., 0., 0., 0., 0.,\n",
      "         0., 0., 0., 1., 0., 0., 0., 0., 0., 0., 0., 0., 0., 1., 0., 0., 0., 0.,\n",
      "         0., 0., 0., 0., 0., 0., 0., 0., 0., 0., 0., 0., 0., 0., 0., 0., 0., 0.,\n",
      "         0., 0., 0., 0., 0., 0., 0., 0., 0., 0., 0., 0., 0., 0., 0., 0., 0., 0.,\n",
      "         0., 0., 0., 0., 0., 0., 0., 0., 0., 0., 0., 0., 0., 0., 0., 0., 0., 0.,\n",
      "         0., 0., 0., 0., 0., 0., 0., 0., 0., 0., 0., 0., 0., 0., 0., 0., 0., 0.,\n",
      "         0., 0., 0., 0., 0., 0., 1., 0., 0., 0., 0., 0., 0., 0., 0., 0., 0., 0.,\n",
      "         1., 0., 0., 0., 0.]])\n",
      "tensor([ 2, 42], dtype=torch.int32)\n"
     ]
    }
   ],
   "source": [
    "# define Batch size\n",
    "batch_size = 2\n",
    "\n",
    "dataset = ChatDataset(X_train=X_train, y_train=y_train)\n",
    "\n",
    "print(dataset.n_samples)\n",
    "print(dataset.x_data)\n",
    "print(dataset.y_data)\n",
    "\n",
    "# create DataLoader\n",
    "train_loader = DataLoader(\n",
    "    dataset=dataset, batch_size=batch_size, shuffle=True, num_workers=0\n",
    ")\n",
    "\n",
    "# get first batch\n",
    "for first_batch in train_loader:\n",
    "    break\n",
    "# get first training batch\n",
    "first_batch_inputs = first_batch[0]\n",
    "first_batch_labels = first_batch[1]\n",
    "print(first_batch_inputs)\n",
    "print(first_batch_labels)\n",
    "\n",
    "\n",
    "\n",
    "device = torch.device(\"cuda\" if torch.cuda.is_available() else \"cpu\")"
   ]
  },
  {
   "cell_type": "markdown",
   "metadata": {},
   "source": [
    "# 4 Model\n",
    "\n",
    "Hier in diesem Abschnitt importieren wir unsere unterschiedlichen Modelle die wir für die Klassifizierung der Intents verwenden wollen."
   ]
  },
  {
   "cell_type": "markdown",
   "metadata": {},
   "source": [
    "# 4.1 Define Hyperparameters"
   ]
  },
  {
   "cell_type": "code",
   "execution_count": 12,
   "metadata": {},
   "outputs": [
    {
     "name": "stdout",
     "output_type": "stream",
     "text": [
      "167 45\n"
     ]
    }
   ],
   "source": [
    "# Hyper-parameters\n",
    "batch_size = batch_size\n",
    "num_epochs = 100\n",
    "learning_rate = 0.001\n",
    "input_size = len(X_train[0])\n",
    "hidden_size = 20\n",
    "output_size = len(tags)\n",
    "print(input_size, output_size)\n"
   ]
  },
  {
   "cell_type": "markdown",
   "metadata": {},
   "source": [
    "## 4.2 Model Instanzieren"
   ]
  },
  {
   "cell_type": "code",
   "execution_count": 13,
   "metadata": {},
   "outputs": [],
   "source": [
    "neural_net = NeuralNet(input_size, hidden_size, output_size).to(device)\n",
    "\n",
    "# Loss and optimizer\n",
    "criterion = nn.CrossEntropyLoss()\n",
    "optimizer = torch.optim.Adam(neural_net.parameters(), lr=learning_rate)"
   ]
  },
  {
   "cell_type": "markdown",
   "metadata": {},
   "source": [
    "# 5 Train Model"
   ]
  },
  {
   "cell_type": "code",
   "execution_count": 14,
   "metadata": {},
   "outputs": [
    {
     "name": "stderr",
     "output_type": "stream",
     "text": [
      "Training Progress:  10%|█         | 10/100 [00:05<00:50,  1.80epoch/s]"
     ]
    },
    {
     "name": "stdout",
     "output_type": "stream",
     "text": [
      "Epoch [10/100], Loss: 0.07166445\n"
     ]
    },
    {
     "name": "stderr",
     "output_type": "stream",
     "text": [
      "Training Progress:  20%|██        | 20/100 [00:10<00:41,  1.91epoch/s]"
     ]
    },
    {
     "name": "stdout",
     "output_type": "stream",
     "text": [
      "Epoch [20/100], Loss: 0.02325162\n"
     ]
    },
    {
     "name": "stderr",
     "output_type": "stream",
     "text": [
      "Training Progress:  30%|███       | 30/100 [00:16<00:44,  1.57epoch/s]"
     ]
    },
    {
     "name": "stdout",
     "output_type": "stream",
     "text": [
      "Epoch [30/100], Loss: 0.00196371\n"
     ]
    },
    {
     "name": "stderr",
     "output_type": "stream",
     "text": [
      "Training Progress:  40%|████      | 40/100 [00:22<00:30,  2.00epoch/s]"
     ]
    },
    {
     "name": "stdout",
     "output_type": "stream",
     "text": [
      "Epoch [40/100], Loss: 0.00037437\n"
     ]
    },
    {
     "name": "stderr",
     "output_type": "stream",
     "text": [
      "Training Progress:  50%|█████     | 50/100 [00:27<00:22,  2.26epoch/s]"
     ]
    },
    {
     "name": "stdout",
     "output_type": "stream",
     "text": [
      "Epoch [50/100], Loss: 0.00006699\n"
     ]
    },
    {
     "name": "stderr",
     "output_type": "stream",
     "text": [
      "Training Progress:  60%|██████    | 60/100 [00:31<00:17,  2.25epoch/s]"
     ]
    },
    {
     "name": "stdout",
     "output_type": "stream",
     "text": [
      "Epoch [60/100], Loss: 0.00008237\n"
     ]
    },
    {
     "name": "stderr",
     "output_type": "stream",
     "text": [
      "Training Progress:  70%|███████   | 70/100 [00:36<00:13,  2.18epoch/s]"
     ]
    },
    {
     "name": "stdout",
     "output_type": "stream",
     "text": [
      "Epoch [70/100], Loss: 0.00000715\n"
     ]
    },
    {
     "name": "stderr",
     "output_type": "stream",
     "text": [
      "Training Progress:  80%|████████  | 80/100 [00:41<00:10,  1.89epoch/s]"
     ]
    },
    {
     "name": "stdout",
     "output_type": "stream",
     "text": [
      "Epoch [80/100], Loss: 0.00000310\n"
     ]
    },
    {
     "name": "stderr",
     "output_type": "stream",
     "text": [
      "Training Progress:  90%|█████████ | 90/100 [00:46<00:04,  2.15epoch/s]"
     ]
    },
    {
     "name": "stdout",
     "output_type": "stream",
     "text": [
      "Epoch [90/100], Loss: 0.00000083\n"
     ]
    },
    {
     "name": "stderr",
     "output_type": "stream",
     "text": [
      "Training Progress: 100%|██████████| 100/100 [00:51<00:00,  1.96epoch/s]"
     ]
    },
    {
     "name": "stdout",
     "output_type": "stream",
     "text": [
      "Epoch [100/100], Loss: 0.00000024\n",
      "final loss: 0.00000024\n"
     ]
    },
    {
     "name": "stderr",
     "output_type": "stream",
     "text": [
      "\n"
     ]
    }
   ],
   "source": [
    "# Train the model\n",
    "for epoch in tqdm(range(num_epochs), desc=\"Training Progress\", unit=\"epoch\"):\n",
    "    # Wrap the train_loader with tqdm to create a progress bar\n",
    "    for words, labels in train_loader:\n",
    "        words = words.to(device)\n",
    "        labels = labels.to(dtype=torch.long).to(device)\n",
    "\n",
    "        # Forward pass\n",
    "        outputs = neural_net(words)\n",
    "        loss = criterion(outputs, labels)\n",
    "\n",
    "        # Backward and optimize\n",
    "        optimizer.zero_grad()\n",
    "        loss.backward()\n",
    "        optimizer.step()\n",
    "\n",
    "    if (epoch + 1) % 10 == 0:  # Print loss after every 10 epochs\n",
    "        print(f\"Epoch [{epoch+1}/{num_epochs}], Loss: {loss.item():.8f}\")\n",
    "\n",
    "\n",
    "print(f\"final loss: {loss.item():.8f}\")\n"
   ]
  },
  {
   "cell_type": "markdown",
   "metadata": {},
   "source": [
    "## 5.1 Save Model"
   ]
  },
  {
   "cell_type": "code",
   "execution_count": 15,
   "metadata": {},
   "outputs": [
    {
     "name": "stdout",
     "output_type": "stream",
     "text": [
      "training complete. file saved to model/mlp_weights.pth\n"
     ]
    }
   ],
   "source": [
    "data = {\n",
    "    \"model_state\": neural_net.state_dict(),\n",
    "    \"input_size\": input_size,\n",
    "    \"hidden_size\": hidden_size,\n",
    "    \"output_size\": output_size,\n",
    "    \"all_words\": all_words,\n",
    "    \"tags\": tags,\n",
    "}\n",
    "\n",
    "FILE = \"model/mlp_weights.pth\"\n",
    "torch.save(data, FILE)\n",
    "\n",
    "print(f\"training complete. file saved to {FILE}\")"
   ]
  },
  {
   "cell_type": "markdown",
   "metadata": {},
   "source": [
    "# 6 Load Model"
   ]
  },
  {
   "cell_type": "code",
   "execution_count": 16,
   "metadata": {},
   "outputs": [
    {
     "name": "stdout",
     "output_type": "stream",
     "text": [
      "Let's chat! type 'quit' to exit\n"
     ]
    }
   ],
   "source": [
    "data = torch.load(FILE)\n",
    "\n",
    "input_size = data[\"input_size\"]\n",
    "hidden_size = data[\"hidden_size\"]\n",
    "output_size = data[\"output_size\"]\n",
    "all_words = data[\"all_words\"]\n",
    "tags = data[\"tags\"]\n",
    "model_state = data[\"model_state\"]\n",
    "\n",
    "neural_net = NeuralNet(input_size, hidden_size, output_size).to(device)\n",
    "neural_net.load_state_dict(model_state)\n",
    "neural_net.eval()\n",
    "\n",
    "bot_name = \"Stupid Bounty Hunter Bot\"\n",
    "print(\"Let's chat! type 'quit' to exit\")\n",
    "while True:\n",
    "    # sentence = \"do you use credit cards?\"\n",
    "    sentence = input(\"You: \")\n",
    "    if sentence == \"quit\":\n",
    "        break\n",
    "\n",
    "    sentence = tokenize(sentence)\n",
    "    X = bag_of_words(sentence, all_words)\n",
    "    X = X.reshape(1, X.shape[0])\n",
    "    X = torch.from_numpy(X).to(device)\n",
    "\n",
    "    output = neural_net(X)\n",
    "    _, predicted = torch.max(output, dim=1)\n",
    "\n",
    "    tag = tags[predicted.item()]\n",
    "\n",
    "    probs = torch.softmax(output, dim=1)\n",
    "    prob = probs[0][predicted.item()]\n",
    "\n",
    "    if prob.item() > 0.75:\n",
    "        for intent in intents[\"intents\"]:\n",
    "            if tag == intent[\"tag\"]:\n",
    "                print(f\"{bot_name}: {np.random.choice(intent['responses'])}\")\n",
    "    else:\n",
    "        print(f\"{bot_name}: I do not understand...\")"
   ]
  },
  {
   "cell_type": "code",
   "execution_count": 17,
   "metadata": {},
   "outputs": [
    {
     "name": "stdout",
     "output_type": "stream",
     "text": [
      "Let's chat! type 'quit' to exit\n",
      "Stupid Bounty Hunter Bot: Hi Rami, nice to meet you!\n",
      "Stupid Bounty Hunter Bot: Hi Jelle, nice to meet you!\n",
      "Stupid Bounty Hunter Bot: Hi, how can I help you Rami, Jelle?\n",
      "Stupid Bounty Hunter Bot: Hi, what can I do for you today ?\n",
      "Stupid Bounty Hunter Bot: Hi there, what can I do for you ? \n",
      "Stupid Bounty Hunter Bot: Hello, thanks for visiting \n",
      "Stupid Bounty Hunter Bot: Hello, thanks for visiting \n",
      "Stupid Bounty Hunter Bot: Hi, what can I do for you today ?\n"
     ]
    }
   ],
   "source": [
    "import torch\n",
    "import numpy as np\n",
    "import spacy\n",
    "\n",
    "# Load the SpaCy NER model\n",
    "nlp = spacy.load(\"en_core_web_sm\")\n",
    "\n",
    "# Function to extract persons from user input using SpaCy NER\n",
    "def extract_persons(text):\n",
    "    doc = nlp(text)\n",
    "    persons = [ent.text for ent in doc.ents if ent.label_ == \"PERSON\"]\n",
    "    return persons\n",
    "\n",
    "# Your existing code for chatbot\n",
    "data = torch.load(FILE)\n",
    "\n",
    "input_size = data[\"input_size\"]\n",
    "hidden_size = data[\"hidden_size\"]\n",
    "output_size = data[\"output_size\"]\n",
    "all_words = data[\"all_words\"]\n",
    "tags = data[\"tags\"]\n",
    "model_state = data[\"model_state\"]\n",
    "\n",
    "neural_net = NeuralNet(input_size, hidden_size, output_size).to(device)\n",
    "neural_net.load_state_dict(model_state)\n",
    "neural_net.eval()\n",
    "\n",
    "bot_name = \"Stupid Bounty Hunter Bot\"\n",
    "print(\"Let's chat! type 'quit' to exit\")\n",
    "while True:\n",
    "    sentence = input(\"You: \")\n",
    "    if sentence == \"quit\":\n",
    "        break\n",
    "\n",
    "    # Extract persons from the user input\n",
    "    persons = extract_persons(sentence)\n",
    "\n",
    "    sentence = tokenize(sentence)\n",
    "    X = bag_of_words(sentence, all_words)\n",
    "    X = X.reshape(1, X.shape[0])\n",
    "    X = torch.from_numpy(X).to(device)\n",
    "\n",
    "    output = neural_net(X)\n",
    "    _, predicted = torch.max(output, dim=1)\n",
    "\n",
    "    tag = tags[predicted.item()]\n",
    "\n",
    "    probs = torch.softmax(output, dim=1)\n",
    "    prob = probs[0][predicted.item()]\n",
    "\n",
    "    if prob.item() > 0.75:\n",
    "        for intent in intents[\"intents\"]:\n",
    "            if tag == intent[\"tag\"]:\n",
    "                # Add NER results to the response\n",
    "                response = np.random.choice(intent['responses'])\n",
    "                if persons:\n",
    "                    response = response.replace(\"{persons}\", \", \".join(persons))\n",
    "                else:\n",
    "                    response = response.replace(\"{persons}\", \"\")\n",
    "                print(f\"{bot_name}: {response}\")\n",
    "    else:\n",
    "        print(f\"{bot_name}: I do not understand...\")\n"
   ]
  }
 ],
 "metadata": {
  "kernelspec": {
   "display_name": "scratchbot",
   "language": "python",
   "name": "python3"
  },
  "language_info": {
   "codemirror_mode": {
    "name": "ipython",
    "version": 3
   },
   "file_extension": ".py",
   "mimetype": "text/x-python",
   "name": "python",
   "nbconvert_exporter": "python",
   "pygments_lexer": "ipython3",
   "version": "3.9.7"
  }
 },
 "nbformat": 4,
 "nbformat_minor": 2
}
