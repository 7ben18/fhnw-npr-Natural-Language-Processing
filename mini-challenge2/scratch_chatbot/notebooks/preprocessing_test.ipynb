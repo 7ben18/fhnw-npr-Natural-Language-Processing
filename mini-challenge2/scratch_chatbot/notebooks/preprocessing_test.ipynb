{
 "cells": [
  {
   "cell_type": "markdown",
   "metadata": {},
   "source": [
    "# Import Preprocessing Module"
   ]
  },
  {
   "cell_type": "code",
   "execution_count": 1,
   "metadata": {},
   "outputs": [],
   "source": [
    "from preprocessing import tokenize, stem, bag_of_words"
   ]
  },
  {
   "cell_type": "markdown",
   "metadata": {},
   "source": [
    "# Test Tokenizer"
   ]
  },
  {
   "cell_type": "code",
   "execution_count": 2,
   "metadata": {},
   "outputs": [
    {
     "name": "stdout",
     "output_type": "stream",
     "text": [
      "['believe', 'believed', 'believes', 'believing', 'believer']\n",
      "['believ', 'believ', 'believ', 'believ', 'believ']\n"
     ]
    }
   ],
   "source": [
    "word_list = [\"believe\", \"believed\", \"believes\", \"believing\", \"believer\"]\n",
    "print(word_list)\n",
    "stemmed_words = [stem(w) for w in word_list]\n",
    "print(stemmed_words)"
   ]
  },
  {
   "cell_type": "markdown",
   "metadata": {},
   "source": [
    "# Test Stemmer"
   ]
  },
  {
   "cell_type": "code",
   "execution_count": 3,
   "metadata": {},
   "outputs": [
    {
     "name": "stdout",
     "output_type": "stream",
     "text": [
      "['believe', 'believed', 'believes', 'believing', 'believer']\n",
      "['believ', 'believ', 'believ', 'believ', 'believ']\n"
     ]
    }
   ],
   "source": [
    "word_list = [\"believe\", \"believed\", \"believes\", \"believing\", \"believer\"]\n",
    "print(word_list)\n",
    "stemmed_words = [stem(w) for w in word_list]\n",
    "print(stemmed_words)"
   ]
  },
  {
   "cell_type": "markdown",
   "metadata": {},
   "source": [
    "# Bag of Words"
   ]
  },
  {
   "cell_type": "code",
   "execution_count": 4,
   "metadata": {},
   "outputs": [
    {
     "name": "stdout",
     "output_type": "stream",
     "text": [
      "[0. 1. 0. 1. 0. 0. 0.]\n"
     ]
    }
   ],
   "source": [
    "sentence = [\"hello\", \"how\", \"are\", \"you\"]\n",
    "words = [\"hi\", \"hello\", \"I\", \"you\", \"bye\", \"thank\", \"cool\"]\n",
    "bag = bag_of_words(sentence, words)\n",
    "print(bag)"
   ]
  }
 ],
 "metadata": {
  "kernelspec": {
   "display_name": "npr-mc2",
   "language": "python",
   "name": "python3"
  },
  "language_info": {
   "codemirror_mode": {
    "name": "ipython",
    "version": 3
   },
   "file_extension": ".py",
   "mimetype": "text/x-python",
   "name": "python",
   "nbconvert_exporter": "python",
   "pygments_lexer": "ipython3",
   "version": "3.9.7"
  }
 },
 "nbformat": 4,
 "nbformat_minor": 2
}
