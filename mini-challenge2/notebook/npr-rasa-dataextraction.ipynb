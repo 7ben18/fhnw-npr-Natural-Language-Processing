{
 "cells": [
  {
   "cell_type": "markdown",
   "metadata": {},
   "source": [
    "<div style=\"width: 30%; float: right; margin: 10px; margin-right: 5%;\">\n",
    "    <img src=\"https://upload.wikimedia.org/wikipedia/commons/thumb/d/d3/FHNW_Logo.svg/2560px-FHNW_Logo.svg.png\" width=\"500\" style=\"float: left; filter: invert(50%);\"/>\n",
    "</div>\n",
    "\n",
    "<h1 style=\"text-align: left; margin-top: 10px; float: left; width: 60%;\">\n",
    "    npr Mini-Challenge 2 <br> \n",
    "</h1>\n",
    "\n",
    "<p style=\"clear: both; text-align: left;\">\n",
    "    Bearbeitet durch Si Ben Tran, Yannic Lais, Rami Tarabishi im HS 2023.<br>Bachelor of Science FHNW in Data Science.\n",
    "</p>\n",
    "\n",
    "\n",
    "# Aufgabe aus dem Space\n",
    "Mini-Challenge 2-C (LE6):\n",
    "Chatbot\n",
    "\n",
    "You build a simple chatbot for hotel recommendation (here you can combine with npr and webscraping challenge) or extend the chatbot from the library (auxilio, please take contact with me), with rasa or dialogflow. You can also propose a use case. Important is the way intent are recognized and NER or variables are extracted. Delivery is a report on the use case, interactions and how intents are recognized and variables extracted. Also an error analysis on concrete conversations (confidence of models, explanation of predictions, etc.) should be undertaken. The submission can be done in a group of 2 or 3.\n",
    "\n",
    "# Aufgbanestellung Änderung\n",
    "Statt für ein \"Hotel Recommendation\" Chatbot zu erstellen ändern wir die Aufgabenstellung indem wir einen \"Immobilien Chatbot\" erstellen. "
   ]
  },
  {
   "cell_type": "markdown",
   "metadata": {},
   "source": [
    "# Setup und Libraries\n",
    "`%load_ext autoreload`: Diese Zeile aktiviert die automatische Aktualisierung von Python-Modulen, wenn Änderungen vorgenommen werden.  \n",
    "`%autoreload 2`: Hier wird festgelegt, dass alle Module automatisch neu geladen werden und gelöschte Module neu importiert werden, wenn Änderungen auftreten.  \n",
    "`import os`: Das Python-Modul \"os\" wird importiert, um Funktionen für die Interaktion mit dem Betriebssystem zur Verfügung zu stellen.   \n",
    "`os.chdir('../')`: Das aktuelle Arbeitsverzeichnis wird eine Ebene nach oben geändert, um auf Dateien in einem übergeordneten Verzeichnis zuzugreifen.  \n"
   ]
  },
  {
   "cell_type": "code",
   "execution_count": 1,
   "metadata": {},
   "outputs": [],
   "source": [
    "# setup auto reload\n",
    "%load_ext autoreload\n",
    "%autoreload 2\n",
    "\n",
    "# setup path\n",
    "import os\n",
    "os.chdir('../')"
   ]
  },
  {
   "cell_type": "markdown",
   "metadata": {},
   "source": [
    "`DataManager`: Die Klasse \"DataManager\" wird importiert, welche sich im Ordner \"src\" befindet. Diese Klasse wird verwendet, um die Daten zu laden. "
   ]
  },
  {
   "cell_type": "code",
   "execution_count": 2,
   "metadata": {},
   "outputs": [],
   "source": [
    "# import data_manager\n",
    "from src.data_manager import DataManager"
   ]
  },
  {
   "cell_type": "markdown",
   "metadata": {},
   "source": [
    "# Daten"
   ]
  },
  {
   "cell_type": "markdown",
   "metadata": {},
   "source": [
    "In diesem Abschnitt laden wir die Daten mit dem gegebenen Pfad. Anschliessend werden die Daten in ein Dataframe geladen und nur die relevanten Spalten für die npr Challenge 2, bzw für den Immobilien Chatbot, ausgewählt."
   ]
  },
  {
   "cell_type": "code",
   "execution_count": 18,
   "metadata": {},
   "outputs": [],
   "source": [
    "data_manager = DataManager(\"data/immo_data_202208.parquet\")\n",
    "data_manager.load_data()\n",
    "\n",
    "# extract npr clean data without NAs\n",
    "data = data_manager.get_clean_npr_data()\n",
    "data\n",
    "\n",
    "# Export data as csv and json file \n",
    "data.to_csv(\"RASA/data/immo_data_202208.csv\", index=False)\n",
    "\n",
    "# Export data as json file for rasa\n",
    "data.to_json(\"RASA/data/immo_data_202208.json\", orient=\"records\")\n"
   ]
  },
  {
   "cell_type": "markdown",
   "metadata": {},
   "source": []
  }
 ],
 "metadata": {
  "kernelspec": {
   "display_name": "npr",
   "language": "python",
   "name": "python3"
  },
  "language_info": {
   "codemirror_mode": {
    "name": "ipython",
    "version": 3
   },
   "file_extension": ".py",
   "mimetype": "text/x-python",
   "name": "python",
   "nbconvert_exporter": "python",
   "pygments_lexer": "ipython3",
   "version": "3.8.8"
  },
  "orig_nbformat": 4
 },
 "nbformat": 4,
 "nbformat_minor": 2
}
