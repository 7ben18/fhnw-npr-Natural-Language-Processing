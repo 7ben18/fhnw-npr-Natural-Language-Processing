{
 "cells": [
  {
   "cell_type": "markdown",
   "metadata": {},
   "source": [
    "<div style=\"width: 30%; float: right; margin: 10px; margin-right: 5%;\">\n",
    "    <img src=\"https://upload.wikimedia.org/wikipedia/commons/thumb/d/d3/FHNW_Logo.svg/2560px-FHNW_Logo.svg.png\" width=\"500\" style=\"float: left; filter: invert(50%);\"/>\n",
    "</div>\n",
    "\n",
    "<h1 style=\"text-align: left; margin-top: 10px; float: left; width: 60%;\">\n",
    "    npr Mini-Challenge 2 <br> \n",
    "</h1>\n",
    "\n",
    "<p style=\"clear: both; text-align: left;\">\n",
    "    Bearbeitet durch Si Ben Tran, Yannic Lais, Rami Tarabishi im HS 2023.<br>Bachelor of Science FHNW in Data Science.\n",
    "</p>\n",
    "\n",
    "\n",
    "# Aufgabe aus dem Space\n",
    "Mini-Challenge 2-C (LE6):\n",
    "Chatbot\n",
    "\n",
    "You build a simple chatbot for hotel recommendation (here you can combine with npr and webscraping challenge) or extend the chatbot from the library (auxilio, please take contact with me), with rasa or dialogflow. You can also propose a use case. Important is the way intent are recognized and NER or variables are extracted. Delivery is a report on the use case, interactions and how intents are recognized and variables extracted. Also an error analysis on concrete conversations (confidence of models, explanation of predictions, etc.) should be undertaken. The submission can be done in a group of 2 or 3.\n",
    "\n",
    "# Aufgbanestellung Änderung\n",
    "Statt für ein \"Hotel Recommendation\" Chatbot zu erstellen ändern wir die Aufgabenstellung indem wir einen \"Immobilien Chatbot\" erstellen. "
   ]
  },
  {
   "cell_type": "markdown",
   "metadata": {},
   "source": [
    "# Imports"
   ]
  },
  {
   "cell_type": "code",
   "execution_count": 1,
   "metadata": {},
   "outputs": [],
   "source": [
    "# setup auto reload\n",
    "%load_ext autoreload\n",
    "%autoreload 2\n",
    "\n",
    "# setup path\n",
    "import os\n",
    "os.chdir('../')"
   ]
  },
  {
   "cell_type": "code",
   "execution_count": 23,
   "metadata": {},
   "outputs": [],
   "source": [
    "# import data_manager\n",
    "from src.data_manager import DataManager"
   ]
  },
  {
   "cell_type": "markdown",
   "metadata": {},
   "source": [
    "# Daten"
   ]
  },
  {
   "cell_type": "code",
   "execution_count": 24,
   "metadata": {},
   "outputs": [
    {
     "data": {
      "text/html": [
       "<div>\n",
       "<style scoped>\n",
       "    .dataframe tbody tr th:only-of-type {\n",
       "        vertical-align: middle;\n",
       "    }\n",
       "\n",
       "    .dataframe tbody tr th {\n",
       "        vertical-align: top;\n",
       "    }\n",
       "\n",
       "    .dataframe thead th {\n",
       "        text-align: right;\n",
       "    }\n",
       "</style>\n",
       "<table border=\"1\" class=\"dataframe\">\n",
       "  <thead>\n",
       "    <tr style=\"text-align: right;\">\n",
       "      <th></th>\n",
       "      <th>description</th>\n",
       "      <th>type_unified</th>\n",
       "    </tr>\n",
       "  </thead>\n",
       "  <tbody>\n",
       "    <tr>\n",
       "      <th>0</th>\n",
       "      <td>3.5 rooms, 100 m²«Luxuriöse Attika-Wohnung mit...</td>\n",
       "      <td>penthouse</td>\n",
       "    </tr>\n",
       "    <tr>\n",
       "      <th>1</th>\n",
       "      <td>4.5 rooms, 156 m²«Stilvolle Liegenschaft - ruh...</td>\n",
       "      <td>terrace-house</td>\n",
       "    </tr>\n",
       "    <tr>\n",
       "      <th>2</th>\n",
       "      <td>2.5 rooms, 93 m²«Moderne, lichtdurchflutete At...</td>\n",
       "      <td>penthouse</td>\n",
       "    </tr>\n",
       "    <tr>\n",
       "      <th>3</th>\n",
       "      <td>4.5 rooms, 154 m²«AgentSelly - Luxuriöses Eckh...</td>\n",
       "      <td>detached-house</td>\n",
       "    </tr>\n",
       "    <tr>\n",
       "      <th>4</th>\n",
       "      <td>4.5 rooms, 142 m²«MIT GARTENSITZPLATZ UND VIEL...</td>\n",
       "      <td>flat</td>\n",
       "    </tr>\n",
       "    <tr>\n",
       "      <th>...</th>\n",
       "      <td>...</td>\n",
       "      <td>...</td>\n",
       "    </tr>\n",
       "    <tr>\n",
       "      <th>21982</th>\n",
       "      <td>Nouvelle promotion de 4 grands appartements à ...</td>\n",
       "      <td>flat</td>\n",
       "    </tr>\n",
       "    <tr>\n",
       "      <th>21983</th>\n",
       "      <td>GenéralMagnifique et spacieux appartement de 3...</td>\n",
       "      <td>flat</td>\n",
       "    </tr>\n",
       "    <tr>\n",
       "      <th>21984</th>\n",
       "      <td>Trust immobilier vous propose: Réf : 3005 - TC...</td>\n",
       "      <td>flat</td>\n",
       "    </tr>\n",
       "    <tr>\n",
       "      <th>21985</th>\n",
       "      <td>Dans une promotion de standing et idéalement s...</td>\n",
       "      <td>attic-flat</td>\n",
       "    </tr>\n",
       "    <tr>\n",
       "      <th>21986</th>\n",
       "      <td>Situé en plein cœur de Crans-Montana et à seul...</td>\n",
       "      <td>attic-flat</td>\n",
       "    </tr>\n",
       "  </tbody>\n",
       "</table>\n",
       "<p>21805 rows × 2 columns</p>\n",
       "</div>"
      ],
      "text/plain": [
       "                                             description    type_unified\n",
       "0      3.5 rooms, 100 m²«Luxuriöse Attika-Wohnung mit...       penthouse\n",
       "1      4.5 rooms, 156 m²«Stilvolle Liegenschaft - ruh...   terrace-house\n",
       "2      2.5 rooms, 93 m²«Moderne, lichtdurchflutete At...       penthouse\n",
       "3      4.5 rooms, 154 m²«AgentSelly - Luxuriöses Eckh...  detached-house\n",
       "4      4.5 rooms, 142 m²«MIT GARTENSITZPLATZ UND VIEL...            flat\n",
       "...                                                  ...             ...\n",
       "21982  Nouvelle promotion de 4 grands appartements à ...            flat\n",
       "21983  GenéralMagnifique et spacieux appartement de 3...            flat\n",
       "21984  Trust immobilier vous propose: Réf : 3005 - TC...            flat\n",
       "21985  Dans une promotion de standing et idéalement s...      attic-flat\n",
       "21986  Situé en plein cœur de Crans-Montana et à seul...      attic-flat\n",
       "\n",
       "[21805 rows x 2 columns]"
      ]
     },
     "execution_count": 24,
     "metadata": {},
     "output_type": "execute_result"
    }
   ],
   "source": [
    "data_manager = DataManager(\"data/immo_data_202208.parquet\")\n",
    "# Load data\n",
    "data_manager.load_data()\n",
    "\n",
    "# extract npr clean data without NAs\n",
    "data = data_manager.get_clean_npr_data()\n",
    "data\n"
   ]
  },
  {
   "cell_type": "markdown",
   "metadata": {},
   "source": []
  }
 ],
 "metadata": {
  "kernelspec": {
   "display_name": "npr",
   "language": "python",
   "name": "python3"
  },
  "language_info": {
   "codemirror_mode": {
    "name": "ipython",
    "version": 3
   },
   "file_extension": ".py",
   "mimetype": "text/x-python",
   "name": "python",
   "nbconvert_exporter": "python",
   "pygments_lexer": "ipython3",
   "version": "3.9.7"
  },
  "orig_nbformat": 4
 },
 "nbformat": 4,
 "nbformat_minor": 2
}
