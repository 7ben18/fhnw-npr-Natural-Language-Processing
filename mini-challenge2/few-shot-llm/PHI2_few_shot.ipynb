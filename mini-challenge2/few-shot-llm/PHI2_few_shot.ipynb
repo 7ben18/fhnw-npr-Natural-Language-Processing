{
 "cells": [
  {
   "cell_type": "markdown",
   "metadata": {},
   "source": [
    "<div style=\"width: 30%; float: right; margin: 10px; margin-right: 5%;\">\n",
    "    <img src=\"https://upload.wikimedia.org/wikipedia/commons/thumb/d/d3/FHNW_Logo.svg/2560px-FHNW_Logo.svg.png\" width=\"500\" style=\"float: left; filter: invert(50%);\"/>\n",
    "</div>\n",
    "\n",
    "# Phi-2 Few-Shot learning\n",
    "\n",
    "In diesem Notebook werden wir einen Chatbot für Schweizer Immobilien Empfehlungen mittels Few-Shot learning erstellen. <br>\n",
    "Dabei verwenden wir das LLM [phi-2](https://huggingface.co/microsoft/phi-2 ) von Microsoft.\n",
    "\n",
    "\n",
    "\n",
    "---\n",
    "Bearbeitet durch Si Ben Tran, Yannic Lais, Rami Tarabishi im HS 2023.<br>\n",
    "Bachelor of Science FHNW in Data Science."
   ]
  },
  {
   "cell_type": "markdown",
   "metadata": {},
   "source": [
    "## Einleitung\n",
    "\n",
    "### Allgemeines Vorgehen\n",
    "\n",
    "- Name entity recognition auf den Prompt\n",
    "- Entities werden für die Datenbankabfrage extrahiert\n",
    "- Prompt wird mit den Trainingsexamples sowie der Datenbankabfrage an das Phi-2 Modell gesendet"
   ]
  },
  {
   "cell_type": "code",
   "execution_count": 1,
   "metadata": {},
   "outputs": [
    {
     "name": "stderr",
     "output_type": "stream",
     "text": [
      "c:\\Users\\yanni\\miniconda3\\envs\\npr_mc2\\lib\\site-packages\\tqdm\\auto.py:21: TqdmWarning: IProgress not found. Please update jupyter and ipywidgets. See https://ipywidgets.readthedocs.io/en/stable/user_install.html\n",
      "  from .autonotebook import tqdm as notebook_tqdm\n"
     ]
    }
   ],
   "source": [
    "import torch\n",
    "from transformers import AutoModelForCausalLM, AutoTokenizer\n",
    "import pandas as pd\n",
    "import re\n",
    "from torchsummary import summary"
   ]
  },
  {
   "cell_type": "code",
   "execution_count": 2,
   "metadata": {},
   "outputs": [
    {
     "name": "stdout",
     "output_type": "stream",
     "text": [
      "Using device: cuda\n",
      "\n",
      "NVIDIA GeForce RTX 4060 Laptop GPU\n",
      "Memory Usage:\n",
      "Allocated: 0.0 GB\n",
      "Cached:    0.0 GB\n"
     ]
    }
   ],
   "source": [
    "# setting device on GPU if available, else CPU\n",
    "device = torch.device('cuda' if torch.cuda.is_available() else 'cpu')\n",
    "print('Using device:', device)\n",
    "print()\n",
    "\n",
    "#Additional Info when using cuda\n",
    "if device.type == 'cuda':\n",
    "    print(torch.cuda.get_device_name(0))\n",
    "    print('Memory Usage:')\n",
    "    print('Allocated:', round(torch.cuda.memory_allocated(0)/1024**3,1), 'GB')\n",
    "    print('Cached:   ', round(torch.cuda.memory_reserved(0)/1024**3,1), 'GB')"
   ]
  },
  {
   "cell_type": "markdown",
   "metadata": {},
   "source": [
    "## Immobiliendaten"
   ]
  },
  {
   "cell_type": "code",
   "execution_count": 3,
   "metadata": {},
   "outputs": [],
   "source": [
    "# read parquet file\n",
    "df = pd.read_parquet('data\\immo_data_202208.parquet')"
   ]
  },
  {
   "cell_type": "code",
   "execution_count": 4,
   "metadata": {},
   "outputs": [],
   "source": [
    "# filter for important columns\n",
    "df = df[['Municipality', 'detailed_description', 'price_cleaned', 'type', 'rooms', 'url']]\n",
    "df['price'] = df['price_cleaned'].astype(float)\n",
    "df['rooms'] = pd.to_numeric(df['rooms'], errors='coerce')\n",
    "df = df.drop(columns=['price_cleaned'])\n",
    "# drop rows with missing values\n",
    "df = df.dropna()"
   ]
  },
  {
   "cell_type": "code",
   "execution_count": 5,
   "metadata": {},
   "outputs": [
    {
     "data": {
      "text/html": [
       "<div>\n",
       "<style scoped>\n",
       "    .dataframe tbody tr th:only-of-type {\n",
       "        vertical-align: middle;\n",
       "    }\n",
       "\n",
       "    .dataframe tbody tr th {\n",
       "        vertical-align: top;\n",
       "    }\n",
       "\n",
       "    .dataframe thead th {\n",
       "        text-align: right;\n",
       "    }\n",
       "</style>\n",
       "<table border=\"1\" class=\"dataframe\">\n",
       "  <thead>\n",
       "    <tr style=\"text-align: right;\">\n",
       "      <th></th>\n",
       "      <th>Municipality</th>\n",
       "      <th>detailed_description</th>\n",
       "      <th>type</th>\n",
       "      <th>rooms</th>\n",
       "      <th>url</th>\n",
       "      <th>price</th>\n",
       "    </tr>\n",
       "  </thead>\n",
       "  <tbody>\n",
       "    <tr>\n",
       "      <th>0</th>\n",
       "      <td>Biberstein</td>\n",
       "      <td>DescriptionLuxuriöse Attika-Wohnung direkt an ...</td>\n",
       "      <td>penthouse</td>\n",
       "      <td>5.0</td>\n",
       "      <td>https://www.immoscout24.ch//en/d/penthouse-buy...</td>\n",
       "      <td>1150000.0</td>\n",
       "    </tr>\n",
       "    <tr>\n",
       "      <th>1</th>\n",
       "      <td>Biberstein</td>\n",
       "      <td>DescriptionStilvolle Liegenschaft an ruhiger L...</td>\n",
       "      <td>terrace-house</td>\n",
       "      <td>5.0</td>\n",
       "      <td>https://www.immoscout24.ch//en/d/terrace-house...</td>\n",
       "      <td>1420000.0</td>\n",
       "    </tr>\n",
       "    <tr>\n",
       "      <th>3</th>\n",
       "      <td>Biberstein</td>\n",
       "      <td>DescriptionDieses äusserst grosszügige Minergi...</td>\n",
       "      <td>detached-house</td>\n",
       "      <td>5.0</td>\n",
       "      <td>https://www.immoscout24.ch//en/d/detached-hous...</td>\n",
       "      <td>1430000.0</td>\n",
       "    </tr>\n",
       "    <tr>\n",
       "      <th>4</th>\n",
       "      <td>Küttigen</td>\n",
       "      <td>DescriptionAus ehemals zwei Wohnungen wurde ei...</td>\n",
       "      <td>flat</td>\n",
       "      <td>5.0</td>\n",
       "      <td>https://www.immoscout24.ch//en/d/flat-buy-romb...</td>\n",
       "      <td>995000.0</td>\n",
       "    </tr>\n",
       "    <tr>\n",
       "      <th>5</th>\n",
       "      <td>Erlinsbach (AG)</td>\n",
       "      <td>DescriptionDer Blick in die Weite vermittelt R...</td>\n",
       "      <td>detached-house</td>\n",
       "      <td>5.0</td>\n",
       "      <td>https://www.immoscout24.ch//en/d/detached-hous...</td>\n",
       "      <td>2160000.0</td>\n",
       "    </tr>\n",
       "  </tbody>\n",
       "</table>\n",
       "</div>"
      ],
      "text/plain": [
       "      Municipality                               detailed_description  \\\n",
       "0       Biberstein  DescriptionLuxuriöse Attika-Wohnung direkt an ...   \n",
       "1       Biberstein  DescriptionStilvolle Liegenschaft an ruhiger L...   \n",
       "3       Biberstein  DescriptionDieses äusserst grosszügige Minergi...   \n",
       "4         Küttigen  DescriptionAus ehemals zwei Wohnungen wurde ei...   \n",
       "5  Erlinsbach (AG)  DescriptionDer Blick in die Weite vermittelt R...   \n",
       "\n",
       "             type  rooms                                                url  \\\n",
       "0       penthouse    5.0  https://www.immoscout24.ch//en/d/penthouse-buy...   \n",
       "1   terrace-house    5.0  https://www.immoscout24.ch//en/d/terrace-house...   \n",
       "3  detached-house    5.0  https://www.immoscout24.ch//en/d/detached-hous...   \n",
       "4            flat    5.0  https://www.immoscout24.ch//en/d/flat-buy-romb...   \n",
       "5  detached-house    5.0  https://www.immoscout24.ch//en/d/detached-hous...   \n",
       "\n",
       "       price  \n",
       "0  1150000.0  \n",
       "1  1420000.0  \n",
       "3  1430000.0  \n",
       "4   995000.0  \n",
       "5  2160000.0  "
      ]
     },
     "execution_count": 5,
     "metadata": {},
     "output_type": "execute_result"
    }
   ],
   "source": [
    "df.head()"
   ]
  },
  {
   "cell_type": "code",
   "execution_count": 6,
   "metadata": {},
   "outputs": [
    {
     "data": {
      "text/plain": [
       "Municipality             object\n",
       "detailed_description     object\n",
       "type                     object\n",
       "rooms                   float64\n",
       "url                      object\n",
       "price                   float64\n",
       "dtype: object"
      ]
     },
     "execution_count": 6,
     "metadata": {},
     "output_type": "execute_result"
    }
   ],
   "source": [
    "df.dtypes"
   ]
  },
  {
   "cell_type": "markdown",
   "metadata": {},
   "source": [
    "## Phi-2 Model"
   ]
  },
  {
   "cell_type": "code",
   "execution_count": 7,
   "metadata": {},
   "outputs": [
    {
     "name": "stderr",
     "output_type": "stream",
     "text": [
      "c:\\Users\\yanni\\miniconda3\\envs\\npr_mc2\\lib\\site-packages\\torch\\autocast_mode.py:156: UserWarning: In CPU autocast, but the target dtype is not supported. Disabling autocast.\n",
      "CPU Autocast only supports dtype of torch.bfloat16 currently.\n",
      "  warnings.warn(error_message)\n",
      "Loading checkpoint shards: 100%|██████████| 2/2 [00:08<00:00,  4.10s/it]\n",
      "Special tokens have been added in the vocabulary, make sure the associated word embeddings are fine-tuned or trained.\n"
     ]
    }
   ],
   "source": [
    "model = AutoModelForCausalLM.from_pretrained(\"microsoft/phi-2\", torch_dtype=\"auto\", device_map=\"cuda\", trust_remote_code=True)\n",
    "model.to('cuda')\n",
    "tokenizer = AutoTokenizer.from_pretrained(\"microsoft/phi-2\", trust_remote_code=True)"
   ]
  },
  {
   "cell_type": "code",
   "execution_count": 8,
   "metadata": {},
   "outputs": [
    {
     "data": {
      "text/plain": [
       "'input_size = (10, 512)\\nsummary(model, input_size=input_size)'"
      ]
     },
     "execution_count": 8,
     "metadata": {},
     "output_type": "execute_result"
    }
   ],
   "source": [
    "'''input_size = (10, 512)\n",
    "summary(model, input_size=input_size)'''"
   ]
  },
  {
   "cell_type": "markdown",
   "metadata": {},
   "source": [
    "#### Einzelner Input"
   ]
  },
  {
   "cell_type": "code",
   "execution_count": 9,
   "metadata": {},
   "outputs": [
    {
     "name": "stdout",
     "output_type": "stream",
     "text": [
      "Is a penguin a bird or a mamal?\n",
      "Answer: A penguin is a bird.\n",
      "\n",
      "Exercise 2:\n",
      "What is the difference between a simile and a metaphor\n"
     ]
    }
   ],
   "source": [
    "inputs = tokenizer(\"Is a penguin a bird or a mamal?\", return_tensors=\"pt\").to('cuda')\n",
    "\n",
    "# Generate outputs and decode\n",
    "outputs = model.generate(**inputs, max_length=40)\n",
    "text = tokenizer.decode(outputs[0], skip_special_tokens=True)\n",
    "\n",
    "print(text)"
   ]
  },
  {
   "cell_type": "markdown",
   "metadata": {},
   "source": [
    "## Verschiedene Queries"
   ]
  },
  {
   "cell_type": "markdown",
   "metadata": {},
   "source": [
    "### Funktionen für Query processing"
   ]
  },
  {
   "cell_type": "code",
   "execution_count": 10,
   "metadata": {},
   "outputs": [],
   "source": [
    "# Few-shot examples\n",
    "few_shot_examples = [\n",
    "    {\n",
    "        \"Question\": \"I am looking for an flat in Zurich under 1'000'000 CHF.\", \n",
    "        \"Answer\": \"Here are some options for apartments in Zurich under 1'000'000 CHF: (max_price = 1000000, location_keyword = Zürich, property_type = flat)\"\n",
    "    },\n",
    "    {\n",
    "        \"Question\": \"Are there terraced houses in Bern in the CHF 500,000 to 700,000 range?\",\n",
    "        \"Answer\": \"Yes, there are terraced houses in Bern in the CHF 500,000 to 700,000 range: (max_price = 700000, min_price = 500000, location_keyword = Bern, property_type = terraced_house)\"\n",
    "    },\n",
    "    {\n",
    "        \"Question\": \"I need a detached house in Lucerne with a garden for around CHF 1,200,000.\",\n",
    "        \"Answer\": \"In Lucerne you can find detached houses with a garden for around CHF 1,200,000: (location_keyword = Bern, property_type = detached-house, arround_price = 1200000)\"\n",
    "    },\n",
    "    {\n",
    "        \"Question\": \"Are there modern apartments with 3.5 rooms available in Basel for under CHF 900,000?\",\n",
    "        \"Answer\": \"Modern apartments in Basel under 900'000 CHF are available: (max_price = 900000, location_keyword = Basel, property_type = flat, rooms = 3.5)\"\n",
    "    },\n",
    "    {\n",
    "        \"Question\": \"I am looking for a large house in Lausanne, at least 5 rooms, up to 1'500'000 CHF.\",\n",
    "        \"Answer\": \"Large houses in Lausanne with at least 5 rooms up to 1'500'000 CHF can be found here: (max_price = 1500000, location_keyword = Lausanne, property_type = house)\"\n",
    "    }\n",
    "\n",
    "]\n"
   ]
  },
  {
   "cell_type": "code",
   "execution_count": 11,
   "metadata": {},
   "outputs": [],
   "source": [
    "def filter_dataframe(df = df, max_price = None, min_price = None, arround_price = None, location_keyword = None, property_type = None, rooms = None):\n",
    "\n",
    "    type_list =  df.type.unique().tolist()\n",
    "    type_list.append('house')\n",
    "    type_list = [x.lower() for x in type_list]\n",
    "\n",
    "    # Apply filters\n",
    "    if arround_price:\n",
    "        filtered_df = df[df['price'] <= arround_price * 1.1]\n",
    "        filtered_df = df[df['price'] >= arround_price * 0.9]\n",
    "    if max_price:\n",
    "        filtered_df = df[df['price'] <= max_price]\n",
    "    if min_price:\n",
    "        filtered_df = df[df['price'] >= min_price]\n",
    "    if location_keyword:\n",
    "        filtered_df = filtered_df[filtered_df['Municipality'].str.contains(location_keyword, case=False, na=False)]\n",
    "    if property_type.lower() in type_list:\n",
    "        filtered_df = filtered_df[filtered_df['type'].str.contains(property_type, case=False, na=False)]\n",
    "    if rooms:\n",
    "        filtered_df = filtered_df[filtered_df['rooms'] == rooms]\n",
    "\n",
    "    # Return 5 random samples\n",
    "    if len(filtered_df) >= 5:\n",
    "        return filtered_df.sample(n=5, random_state = 42)\n",
    "    else:\n",
    "        return filtered_df"
   ]
  },
  {
   "cell_type": "code",
   "execution_count": 12,
   "metadata": {},
   "outputs": [],
   "source": [
    "test = filter_dataframe(df, max_price = 1200000, location_keyword = 'Basel', property_type = 'flat')"
   ]
  },
  {
   "cell_type": "code",
   "execution_count": 13,
   "metadata": {},
   "outputs": [
    {
     "data": {
      "text/html": [
       "<div>\n",
       "<style scoped>\n",
       "    .dataframe tbody tr th:only-of-type {\n",
       "        vertical-align: middle;\n",
       "    }\n",
       "\n",
       "    .dataframe tbody tr th {\n",
       "        vertical-align: top;\n",
       "    }\n",
       "\n",
       "    .dataframe thead th {\n",
       "        text-align: right;\n",
       "    }\n",
       "</style>\n",
       "<table border=\"1\" class=\"dataframe\">\n",
       "  <thead>\n",
       "    <tr style=\"text-align: right;\">\n",
       "      <th></th>\n",
       "      <th>Municipality</th>\n",
       "      <th>detailed_description</th>\n",
       "      <th>type</th>\n",
       "      <th>rooms</th>\n",
       "      <th>url</th>\n",
       "      <th>price</th>\n",
       "    </tr>\n",
       "  </thead>\n",
       "  <tbody>\n",
       "    <tr>\n",
       "      <th>2742</th>\n",
       "      <td>Basel</td>\n",
       "      <td>DescriptionObjektbeschrieb  An idealer Lage im...</td>\n",
       "      <td>flat</td>\n",
       "      <td>5.0</td>\n",
       "      <td>https://www.immoscout24.ch//en/d/flat-buy-base...</td>\n",
       "      <td>495000.0</td>\n",
       "    </tr>\n",
       "    <tr>\n",
       "      <th>2738</th>\n",
       "      <td>Basel</td>\n",
       "      <td>DescriptionDiese Wohnung im 3. Obergeschoss bi...</td>\n",
       "      <td>flat</td>\n",
       "      <td>5.0</td>\n",
       "      <td>https://www.immoscout24.ch//en/d/flat-buy-base...</td>\n",
       "      <td>650000.0</td>\n",
       "    </tr>\n",
       "    <tr>\n",
       "      <th>2671</th>\n",
       "      <td>Basel</td>\n",
       "      <td>DescriptionWollen Sie sich endlich Ihren Traum...</td>\n",
       "      <td>flat</td>\n",
       "      <td>5.0</td>\n",
       "      <td>https://www.immoscout24.ch//en/d/flat-buy-base...</td>\n",
       "      <td>1130000.0</td>\n",
       "    </tr>\n",
       "    <tr>\n",
       "      <th>2737</th>\n",
       "      <td>Basel</td>\n",
       "      <td>DescriptionIm Breite-Quartier wird diese heime...</td>\n",
       "      <td>flat</td>\n",
       "      <td>2.0</td>\n",
       "      <td>https://www.immoscout24.ch//en/d/flat-buy-base...</td>\n",
       "      <td>470000.0</td>\n",
       "    </tr>\n",
       "    <tr>\n",
       "      <th>2733</th>\n",
       "      <td>Basel</td>\n",
       "      <td>DescriptionBaujahr: 1961Renovation: 2022Wohnfl...</td>\n",
       "      <td>flat</td>\n",
       "      <td>5.0</td>\n",
       "      <td>https://www.immoscout24.ch//en/d/flat-buy-base...</td>\n",
       "      <td>695000.0</td>\n",
       "    </tr>\n",
       "  </tbody>\n",
       "</table>\n",
       "</div>"
      ],
      "text/plain": [
       "     Municipality                               detailed_description  type  \\\n",
       "2742        Basel  DescriptionObjektbeschrieb  An idealer Lage im...  flat   \n",
       "2738        Basel  DescriptionDiese Wohnung im 3. Obergeschoss bi...  flat   \n",
       "2671        Basel  DescriptionWollen Sie sich endlich Ihren Traum...  flat   \n",
       "2737        Basel  DescriptionIm Breite-Quartier wird diese heime...  flat   \n",
       "2733        Basel  DescriptionBaujahr: 1961Renovation: 2022Wohnfl...  flat   \n",
       "\n",
       "      rooms                                                url      price  \n",
       "2742    5.0  https://www.immoscout24.ch//en/d/flat-buy-base...   495000.0  \n",
       "2738    5.0  https://www.immoscout24.ch//en/d/flat-buy-base...   650000.0  \n",
       "2671    5.0  https://www.immoscout24.ch//en/d/flat-buy-base...  1130000.0  \n",
       "2737    2.0  https://www.immoscout24.ch//en/d/flat-buy-base...   470000.0  \n",
       "2733    5.0  https://www.immoscout24.ch//en/d/flat-buy-base...   695000.0  "
      ]
     },
     "execution_count": 13,
     "metadata": {},
     "output_type": "execute_result"
    }
   ],
   "source": [
    "test.head()"
   ]
  },
  {
   "cell_type": "code",
   "execution_count": 14,
   "metadata": {},
   "outputs": [],
   "source": [
    "def get_model_response(query, model, tokenizer, examples = few_shot_examples):\n",
    "    # Load model and tokenizer\n",
    "    model = model\n",
    "    tokenizer = tokenizer\n",
    "\n",
    "    # Format the input with few-shot examples\n",
    "    prompt_text = \"\\n\\n\".join([f\"Question: {ex['Question']}\\nAnswer: {ex['Answer']}\" for ex in examples])\n",
    "    prompt_text += f\"\\n\\nQuestion: {query}\"\n",
    "\n",
    "    # Encode and send to model\n",
    "    inputs = tokenizer(prompt_text, return_tensors=\"pt\").to('cuda')\n",
    "    outputs = model.generate(**inputs, max_length=600, num_return_sequences=1)\n",
    "\n",
    "    # Decode the output\n",
    "    full_response = tokenizer.decode(outputs[0], skip_special_tokens=True)\n",
    "\n",
    "    # Extracting the answer corresponding to the specific query\n",
    "    response_parts = full_response.split(\"Answer:\")\n",
    "    for i, part in enumerate(response_parts[:-1]):\n",
    "        if f\"Question: {query}\" in part:\n",
    "            return response_parts[i + 1].split(\"\\n\")[0].strip()\n",
    "\n",
    "    return \"No specific answer found.\""
   ]
  },
  {
   "cell_type": "code",
   "execution_count": 15,
   "metadata": {},
   "outputs": [],
   "source": [
    "def parse_and_filter(input_str, df):\n",
    "    try:\n",
    "        # Extract the parameter string\n",
    "        params_str = re.search(r'\\((.*?)\\)', input_str).group(1)\n",
    "    \n",
    "    except:\n",
    "        return \"No specific answer found.\"\n",
    "\n",
    "    # Initialize parameters with default values\n",
    "    params = {\n",
    "        'df': df,\n",
    "        'max_price': None,\n",
    "        'min_price': None,\n",
    "        'arround_price': None,\n",
    "        'location_keyword': None,\n",
    "        'property_type': None,\n",
    "        'rooms': None\n",
    "    }\n",
    "\n",
    "    # Split the parameter string and iterate over each parameter\n",
    "    for param in params_str.split(','):\n",
    "        key, value = param.split('=')\n",
    "        key = key.strip()\n",
    "        value = value.strip()\n",
    "\n",
    "        # Convert value to the correct type if necessary\n",
    "        if key in ['max_price', 'min_price', 'arround_price', 'rooms']:\n",
    "            value = int(value)\n",
    "        # Update the parameters dictionary\n",
    "        params[key] = value\n",
    "\n",
    "    # Call the filter_dataframe function with unpacked arguments\n",
    "    return filter_dataframe(**params)"
   ]
  },
  {
   "cell_type": "markdown",
   "metadata": {},
   "source": [
    "### Query 1: Intent wie in Beispielen"
   ]
  },
  {
   "cell_type": "code",
   "execution_count": 16,
   "metadata": {},
   "outputs": [
    {
     "name": "stdout",
     "output_type": "stream",
     "text": [
      "Here are some options for real estate in Zurich under 4'000'000 CHF\n"
     ]
    },
    {
     "data": {
      "text/html": [
       "<div>\n",
       "<style scoped>\n",
       "    .dataframe tbody tr th:only-of-type {\n",
       "        vertical-align: middle;\n",
       "    }\n",
       "\n",
       "    .dataframe tbody tr th {\n",
       "        vertical-align: top;\n",
       "    }\n",
       "\n",
       "    .dataframe thead th {\n",
       "        text-align: right;\n",
       "    }\n",
       "</style>\n",
       "<table border=\"1\" class=\"dataframe\">\n",
       "  <thead>\n",
       "    <tr style=\"text-align: right;\">\n",
       "      <th></th>\n",
       "      <th>Municipality</th>\n",
       "      <th>detailed_description</th>\n",
       "      <th>type</th>\n",
       "      <th>rooms</th>\n",
       "      <th>url</th>\n",
       "      <th>price</th>\n",
       "    </tr>\n",
       "  </thead>\n",
       "  <tbody>\n",
       "    <tr>\n",
       "      <th>13152</th>\n",
       "      <td>Kilchberg (ZH), Kreis 2 (Zurich)</td>\n",
       "      <td>DescriptionSouverän und symmetrisch, kraftvoll...</td>\n",
       "      <td>flat</td>\n",
       "      <td>5.0</td>\n",
       "      <td>https://www.immoscout24.ch//en/d/flat-buy-kilc...</td>\n",
       "      <td>2570000.0</td>\n",
       "    </tr>\n",
       "    <tr>\n",
       "      <th>13157</th>\n",
       "      <td>Kilchberg (ZH), Kreis 2 (Zurich)</td>\n",
       "      <td>DescriptionSouverän und symmetrisch, kraftvoll...</td>\n",
       "      <td>flat</td>\n",
       "      <td>5.0</td>\n",
       "      <td>https://www.immoscout24.ch//en/d/flat-buy-kilc...</td>\n",
       "      <td>3050000.0</td>\n",
       "    </tr>\n",
       "    <tr>\n",
       "      <th>13266</th>\n",
       "      <td>Dübendorf, Kreis 7 (Zurich)</td>\n",
       "      <td>Description4,5-Zimmer-Wohnung mit 2 Parkplätze...</td>\n",
       "      <td>flat</td>\n",
       "      <td>4.0</td>\n",
       "      <td>https://www.immoscout24.ch//en/d/flat-buy-gock...</td>\n",
       "      <td>1530000.0</td>\n",
       "    </tr>\n",
       "  </tbody>\n",
       "</table>\n",
       "</div>"
      ],
      "text/plain": [
       "                           Municipality  \\\n",
       "13152  Kilchberg (ZH), Kreis 2 (Zurich)   \n",
       "13157  Kilchberg (ZH), Kreis 2 (Zurich)   \n",
       "13266       Dübendorf, Kreis 7 (Zurich)   \n",
       "\n",
       "                                    detailed_description  type  rooms  \\\n",
       "13152  DescriptionSouverän und symmetrisch, kraftvoll...  flat    5.0   \n",
       "13157  DescriptionSouverän und symmetrisch, kraftvoll...  flat    5.0   \n",
       "13266  Description4,5-Zimmer-Wohnung mit 2 Parkplätze...  flat    4.0   \n",
       "\n",
       "                                                     url      price  \n",
       "13152  https://www.immoscout24.ch//en/d/flat-buy-kilc...  2570000.0  \n",
       "13157  https://www.immoscout24.ch//en/d/flat-buy-kilc...  3050000.0  \n",
       "13266  https://www.immoscout24.ch//en/d/flat-buy-gock...  1530000.0  "
      ]
     },
     "execution_count": 16,
     "metadata": {},
     "output_type": "execute_result"
    }
   ],
   "source": [
    "# Example usage\n",
    "query = \"Show me real estate in Zurich which cost less than 4'000'000 CHF.\"\n",
    "\n",
    "response = get_model_response(query, model=model, tokenizer=tokenizer)\n",
    "filtered_df = parse_and_filter(response, df)\n",
    "\n",
    "print(response.split(':')[0])\n",
    "filtered_df"
   ]
  },
  {
   "cell_type": "markdown",
   "metadata": {},
   "source": [
    "#### Evaluation"
   ]
  },
  {
   "cell_type": "code",
   "execution_count": 17,
   "metadata": {},
   "outputs": [
    {
     "data": {
      "text/plain": [
       "Municipality            0\n",
       "detailed_description    0\n",
       "type                    0\n",
       "rooms                   0\n",
       "url                     0\n",
       "price                   0\n",
       "dtype: int64"
      ]
     },
     "execution_count": 17,
     "metadata": {},
     "output_type": "execute_result"
    }
   ],
   "source": [
    "# show how many Municiplaities with the keyword 'Basel' are in the dataset\n",
    "df[df['Municipality'].str.contains('Genf', case=False, na=False)].count()"
   ]
  },
  {
   "cell_type": "markdown",
   "metadata": {},
   "source": [
    "### Query 2: in Deutsch"
   ]
  },
  {
   "cell_type": "code",
   "execution_count": 18,
   "metadata": {},
   "outputs": [
    {
     "name": "stdout",
     "output_type": "stream",
     "text": [
      "Here are a few apartments in Basel that cost less than 1'200'000 CHF\n"
     ]
    },
    {
     "data": {
      "text/html": [
       "<div>\n",
       "<style scoped>\n",
       "    .dataframe tbody tr th:only-of-type {\n",
       "        vertical-align: middle;\n",
       "    }\n",
       "\n",
       "    .dataframe tbody tr th {\n",
       "        vertical-align: top;\n",
       "    }\n",
       "\n",
       "    .dataframe thead th {\n",
       "        text-align: right;\n",
       "    }\n",
       "</style>\n",
       "<table border=\"1\" class=\"dataframe\">\n",
       "  <thead>\n",
       "    <tr style=\"text-align: right;\">\n",
       "      <th></th>\n",
       "      <th>Municipality</th>\n",
       "      <th>detailed_description</th>\n",
       "      <th>type</th>\n",
       "      <th>rooms</th>\n",
       "      <th>url</th>\n",
       "      <th>price</th>\n",
       "    </tr>\n",
       "  </thead>\n",
       "  <tbody>\n",
       "    <tr>\n",
       "      <th>2737</th>\n",
       "      <td>Basel</td>\n",
       "      <td>DescriptionIm Breite-Quartier wird diese heime...</td>\n",
       "      <td>flat</td>\n",
       "      <td>2.0</td>\n",
       "      <td>https://www.immoscout24.ch//en/d/flat-buy-base...</td>\n",
       "      <td>470000.0</td>\n",
       "    </tr>\n",
       "    <tr>\n",
       "      <th>2742</th>\n",
       "      <td>Basel</td>\n",
       "      <td>DescriptionObjektbeschrieb  An idealer Lage im...</td>\n",
       "      <td>flat</td>\n",
       "      <td>5.0</td>\n",
       "      <td>https://www.immoscout24.ch//en/d/flat-buy-base...</td>\n",
       "      <td>495000.0</td>\n",
       "    </tr>\n",
       "    <tr>\n",
       "      <th>2671</th>\n",
       "      <td>Basel</td>\n",
       "      <td>DescriptionWollen Sie sich endlich Ihren Traum...</td>\n",
       "      <td>flat</td>\n",
       "      <td>5.0</td>\n",
       "      <td>https://www.immoscout24.ch//en/d/flat-buy-base...</td>\n",
       "      <td>1130000.0</td>\n",
       "    </tr>\n",
       "    <tr>\n",
       "      <th>2786</th>\n",
       "      <td>Basel</td>\n",
       "      <td>DescriptionDiese Wohnung überzeugt insbesonder...</td>\n",
       "      <td>duplex-maisonette</td>\n",
       "      <td>5.0</td>\n",
       "      <td>https://www.immoscout24.ch//en/d/duplex-maison...</td>\n",
       "      <td>875000.0</td>\n",
       "    </tr>\n",
       "    <tr>\n",
       "      <th>2732</th>\n",
       "      <td>Basel</td>\n",
       "      <td>DescriptionAn sehr schöner und attraktiver Lag...</td>\n",
       "      <td>penthouse</td>\n",
       "      <td>5.0</td>\n",
       "      <td>https://www.immoscout24.ch//en/d/penthouse-buy...</td>\n",
       "      <td>950000.0</td>\n",
       "    </tr>\n",
       "  </tbody>\n",
       "</table>\n",
       "</div>"
      ],
      "text/plain": [
       "     Municipality                               detailed_description  \\\n",
       "2737        Basel  DescriptionIm Breite-Quartier wird diese heime...   \n",
       "2742        Basel  DescriptionObjektbeschrieb  An idealer Lage im...   \n",
       "2671        Basel  DescriptionWollen Sie sich endlich Ihren Traum...   \n",
       "2786        Basel  DescriptionDiese Wohnung überzeugt insbesonder...   \n",
       "2732        Basel  DescriptionAn sehr schöner und attraktiver Lag...   \n",
       "\n",
       "                   type  rooms  \\\n",
       "2737               flat    2.0   \n",
       "2742               flat    5.0   \n",
       "2671               flat    5.0   \n",
       "2786  duplex-maisonette    5.0   \n",
       "2732          penthouse    5.0   \n",
       "\n",
       "                                                    url      price  \n",
       "2737  https://www.immoscout24.ch//en/d/flat-buy-base...   470000.0  \n",
       "2742  https://www.immoscout24.ch//en/d/flat-buy-base...   495000.0  \n",
       "2671  https://www.immoscout24.ch//en/d/flat-buy-base...  1130000.0  \n",
       "2786  https://www.immoscout24.ch//en/d/duplex-maison...   875000.0  \n",
       "2732  https://www.immoscout24.ch//en/d/penthouse-buy...   950000.0  "
      ]
     },
     "execution_count": 18,
     "metadata": {},
     "output_type": "execute_result"
    }
   ],
   "source": [
    "query_german = \"Zeige mir ein paar Wohnungen in Basel, die weniger als 1'200'000 CHF kosten.\"\n",
    "\n",
    "response = get_model_response(query_german, model=model, tokenizer=tokenizer)\n",
    "filtered_df = parse_and_filter(response, df)\n",
    "\n",
    "print(response.split(':')[0])\n",
    "filtered_df"
   ]
  },
  {
   "cell_type": "markdown",
   "metadata": {},
   "source": [
    "#### Evaluation\n",
    "\n",
    "Wohnungen werden automatisch als Apartments erkannt, es gäbe weitere Wohnungen mit dem porperty_type: flat, apartment etc."
   ]
  },
  {
   "cell_type": "code",
   "execution_count": 19,
   "metadata": {},
   "outputs": [
    {
     "data": {
      "text/html": [
       "<div>\n",
       "<style scoped>\n",
       "    .dataframe tbody tr th:only-of-type {\n",
       "        vertical-align: middle;\n",
       "    }\n",
       "\n",
       "    .dataframe tbody tr th {\n",
       "        vertical-align: top;\n",
       "    }\n",
       "\n",
       "    .dataframe thead th {\n",
       "        text-align: right;\n",
       "    }\n",
       "</style>\n",
       "<table border=\"1\" class=\"dataframe\">\n",
       "  <thead>\n",
       "    <tr style=\"text-align: right;\">\n",
       "      <th></th>\n",
       "      <th>Municipality</th>\n",
       "      <th>detailed_description</th>\n",
       "      <th>type</th>\n",
       "      <th>rooms</th>\n",
       "      <th>url</th>\n",
       "      <th>price</th>\n",
       "    </tr>\n",
       "  </thead>\n",
       "  <tbody>\n",
       "    <tr>\n",
       "      <th>2742</th>\n",
       "      <td>Basel</td>\n",
       "      <td>DescriptionObjektbeschrieb  An idealer Lage im...</td>\n",
       "      <td>flat</td>\n",
       "      <td>5.0</td>\n",
       "      <td>https://www.immoscout24.ch//en/d/flat-buy-base...</td>\n",
       "      <td>495000.0</td>\n",
       "    </tr>\n",
       "    <tr>\n",
       "      <th>2738</th>\n",
       "      <td>Basel</td>\n",
       "      <td>DescriptionDiese Wohnung im 3. Obergeschoss bi...</td>\n",
       "      <td>flat</td>\n",
       "      <td>5.0</td>\n",
       "      <td>https://www.immoscout24.ch//en/d/flat-buy-base...</td>\n",
       "      <td>650000.0</td>\n",
       "    </tr>\n",
       "    <tr>\n",
       "      <th>2671</th>\n",
       "      <td>Basel</td>\n",
       "      <td>DescriptionWollen Sie sich endlich Ihren Traum...</td>\n",
       "      <td>flat</td>\n",
       "      <td>5.0</td>\n",
       "      <td>https://www.immoscout24.ch//en/d/flat-buy-base...</td>\n",
       "      <td>1130000.0</td>\n",
       "    </tr>\n",
       "    <tr>\n",
       "      <th>2737</th>\n",
       "      <td>Basel</td>\n",
       "      <td>DescriptionIm Breite-Quartier wird diese heime...</td>\n",
       "      <td>flat</td>\n",
       "      <td>2.0</td>\n",
       "      <td>https://www.immoscout24.ch//en/d/flat-buy-base...</td>\n",
       "      <td>470000.0</td>\n",
       "    </tr>\n",
       "    <tr>\n",
       "      <th>2733</th>\n",
       "      <td>Basel</td>\n",
       "      <td>DescriptionBaujahr: 1961Renovation: 2022Wohnfl...</td>\n",
       "      <td>flat</td>\n",
       "      <td>5.0</td>\n",
       "      <td>https://www.immoscout24.ch//en/d/flat-buy-base...</td>\n",
       "      <td>695000.0</td>\n",
       "    </tr>\n",
       "  </tbody>\n",
       "</table>\n",
       "</div>"
      ],
      "text/plain": [
       "     Municipality                               detailed_description  type  \\\n",
       "2742        Basel  DescriptionObjektbeschrieb  An idealer Lage im...  flat   \n",
       "2738        Basel  DescriptionDiese Wohnung im 3. Obergeschoss bi...  flat   \n",
       "2671        Basel  DescriptionWollen Sie sich endlich Ihren Traum...  flat   \n",
       "2737        Basel  DescriptionIm Breite-Quartier wird diese heime...  flat   \n",
       "2733        Basel  DescriptionBaujahr: 1961Renovation: 2022Wohnfl...  flat   \n",
       "\n",
       "      rooms                                                url      price  \n",
       "2742    5.0  https://www.immoscout24.ch//en/d/flat-buy-base...   495000.0  \n",
       "2738    5.0  https://www.immoscout24.ch//en/d/flat-buy-base...   650000.0  \n",
       "2671    5.0  https://www.immoscout24.ch//en/d/flat-buy-base...  1130000.0  \n",
       "2737    2.0  https://www.immoscout24.ch//en/d/flat-buy-base...   470000.0  \n",
       "2733    5.0  https://www.immoscout24.ch//en/d/flat-buy-base...   695000.0  "
      ]
     },
     "execution_count": 19,
     "metadata": {},
     "output_type": "execute_result"
    }
   ],
   "source": [
    "query_german_df = filter_dataframe(df, max_price = 1200000, location_keyword = 'Basel', property_type = 'Flat')\n",
    "query_german_df.head()"
   ]
  },
  {
   "cell_type": "markdown",
   "metadata": {},
   "source": [
    "### Query 3: mit anderem Intent"
   ]
  },
  {
   "cell_type": "code",
   "execution_count": 20,
   "metadata": {},
   "outputs": [
    {
     "name": "stdout",
     "output_type": "stream",
     "text": [
      "Yes, we have bread.\n"
     ]
    },
    {
     "data": {
      "text/plain": [
       "'No specific answer found.'"
      ]
     },
     "execution_count": 20,
     "metadata": {},
     "output_type": "execute_result"
    }
   ],
   "source": [
    "query_random = \"Hello do you have bread?\"\n",
    "\n",
    "response = get_model_response(query_random, model=model, tokenizer=tokenizer)\n",
    "filtered_df = parse_and_filter(response, df)\n",
    "\n",
    "print(response.split(':')[0])\n",
    "filtered_df"
   ]
  },
  {
   "cell_type": "markdown",
   "metadata": {},
   "source": [
    "#### Evaluation"
   ]
  },
  {
   "cell_type": "markdown",
   "metadata": {},
   "source": [
    "Das Phi-2 Modell erkennt korrekt, wenn sich die Query auf einen anderen Intent bezieht und antwortet darauf. <br>\n",
    "Zudem wiedergibt die Immobilienabfrage korrekt, dass keine "
   ]
  },
  {
   "cell_type": "markdown",
   "metadata": {},
   "source": [
    "### Query 4: extrahieren des gesammten Dataframe Abfrage Codes"
   ]
  },
  {
   "cell_type": "code",
   "execution_count": 27,
   "metadata": {},
   "outputs": [],
   "source": [
    "few_shot_examples_code = [\n",
    "    {\n",
    "        \"Question\": \"I am looking for an flat in Zurich under 1'000'000 CHF.\",\n",
    "        \"Answer\": \"df_test = df[(df['Municipality'].str.contains('Zürich')) & (df['price'] < 1000000) & (df['type'].str.contains('flat'))]\"\n",
    "    },\n",
    "    {\n",
    "        \"Question\": \"Are there terraced houses in Bern in the CHF 500,000 to 700,000 range?\",\n",
    "        \"Answer\": \"df_test = df[(df['Municipality'].str.contains('Bern')) & (df['price'] >= 500000) & (df['price'] <= 700000) & (df['type'].str.contains('terraced_house'))]\"\n",
    "    },\n",
    "    {\n",
    "        \"Question\": \"I need a house in Lucerne with a garden for around CHF 1,200,000.\",\n",
    "        \"Answer\": \"df_test = df[(df['Municipality'].str.contains('Luzern')) & (df['price'] <= (1200000*1.1)) & (df['price'] >= (1200000*0.9)) & (df['type'].str.contains('house'))]\"\n",
    "    },\n",
    "    {\n",
    "        \"Question\": \"Are there modern apartments with 3.5 rooms available in Basel for under CHF 900,000?\",\n",
    "        \"Answer\": \"df_test = df[(df['Municipality'].str.contains('Basel')) & (df['rooms'] == 3.5) & (df['price'] < 900000) & (df['type'].str.contains('apartment'))]\"\n",
    "    },\n",
    "    {\n",
    "        \"Question\": \"I am looking for a large house in Lausanne, at least 5 rooms, up to 1'500'000 CHF.\",\n",
    "        \"Answer\": \"df_test = df[(df['Municipality'].str.contains('Lausanne')) & (df['rooms'] >= 5) & (df['price'] <= 1500000) & (df['type'].str.contains('house'))]\"\n",
    "    }\n",
    "]\n"
   ]
  },
  {
   "cell_type": "code",
   "execution_count": 28,
   "metadata": {},
   "outputs": [
    {
     "name": "stdout",
     "output_type": "stream",
     "text": [
      "df_test = df[(df['Municipality'].str.contains('Basel')) & (df['price'] < 2000000) & (df['rooms'] >= 3) & (df['type'].str.contains('flat'))]\n"
     ]
    },
    {
     "data": {
      "text/html": [
       "<div>\n",
       "<style scoped>\n",
       "    .dataframe tbody tr th:only-of-type {\n",
       "        vertical-align: middle;\n",
       "    }\n",
       "\n",
       "    .dataframe tbody tr th {\n",
       "        vertical-align: top;\n",
       "    }\n",
       "\n",
       "    .dataframe thead th {\n",
       "        text-align: right;\n",
       "    }\n",
       "</style>\n",
       "<table border=\"1\" class=\"dataframe\">\n",
       "  <thead>\n",
       "    <tr style=\"text-align: right;\">\n",
       "      <th></th>\n",
       "      <th>Municipality</th>\n",
       "      <th>detailed_description</th>\n",
       "      <th>type</th>\n",
       "      <th>rooms</th>\n",
       "      <th>url</th>\n",
       "      <th>price</th>\n",
       "    </tr>\n",
       "  </thead>\n",
       "  <tbody>\n",
       "    <tr>\n",
       "      <th>2670</th>\n",
       "      <td>Basel</td>\n",
       "      <td>DescriptionGrosszügige, sonnige 3.5-Zimmerwohn...</td>\n",
       "      <td>flat</td>\n",
       "      <td>5.0</td>\n",
       "      <td>https://www.immoscout24.ch//en/d/flat-buy-base...</td>\n",
       "      <td>1450000.0</td>\n",
       "    </tr>\n",
       "    <tr>\n",
       "      <th>2671</th>\n",
       "      <td>Basel</td>\n",
       "      <td>DescriptionWollen Sie sich endlich Ihren Traum...</td>\n",
       "      <td>flat</td>\n",
       "      <td>5.0</td>\n",
       "      <td>https://www.immoscout24.ch//en/d/flat-buy-base...</td>\n",
       "      <td>1130000.0</td>\n",
       "    </tr>\n",
       "    <tr>\n",
       "      <th>2675</th>\n",
       "      <td>Basel</td>\n",
       "      <td>DescriptionDie helle, charmante 4.5 Zimmerwohn...</td>\n",
       "      <td>flat</td>\n",
       "      <td>5.0</td>\n",
       "      <td>https://www.immoscout24.ch//en/d/flat-buy-base...</td>\n",
       "      <td>1280000.0</td>\n",
       "    </tr>\n",
       "    <tr>\n",
       "      <th>2705</th>\n",
       "      <td>Basel</td>\n",
       "      <td>DescriptionDie moderne 3-Zimmer Wohnung befind...</td>\n",
       "      <td>flat</td>\n",
       "      <td>3.0</td>\n",
       "      <td>https://www.immoscout24.ch//en/d/flat-buy-base...</td>\n",
       "      <td>670000.0</td>\n",
       "    </tr>\n",
       "    <tr>\n",
       "      <th>2709</th>\n",
       "      <td>Basel</td>\n",
       "      <td>DescriptionDiese helle und geräumige Etagenwoh...</td>\n",
       "      <td>flat</td>\n",
       "      <td>5.0</td>\n",
       "      <td>https://www.immoscout24.ch//en/d/flat-buy-base...</td>\n",
       "      <td>1380000.0</td>\n",
       "    </tr>\n",
       "  </tbody>\n",
       "</table>\n",
       "</div>"
      ],
      "text/plain": [
       "     Municipality                               detailed_description  type  \\\n",
       "2670        Basel  DescriptionGrosszügige, sonnige 3.5-Zimmerwohn...  flat   \n",
       "2671        Basel  DescriptionWollen Sie sich endlich Ihren Traum...  flat   \n",
       "2675        Basel  DescriptionDie helle, charmante 4.5 Zimmerwohn...  flat   \n",
       "2705        Basel  DescriptionDie moderne 3-Zimmer Wohnung befind...  flat   \n",
       "2709        Basel  DescriptionDiese helle und geräumige Etagenwoh...  flat   \n",
       "\n",
       "      rooms                                                url      price  \n",
       "2670    5.0  https://www.immoscout24.ch//en/d/flat-buy-base...  1450000.0  \n",
       "2671    5.0  https://www.immoscout24.ch//en/d/flat-buy-base...  1130000.0  \n",
       "2675    5.0  https://www.immoscout24.ch//en/d/flat-buy-base...  1280000.0  \n",
       "2705    3.0  https://www.immoscout24.ch//en/d/flat-buy-base...   670000.0  \n",
       "2709    5.0  https://www.immoscout24.ch//en/d/flat-buy-base...  1380000.0  "
      ]
     },
     "execution_count": 28,
     "metadata": {},
     "output_type": "execute_result"
    }
   ],
   "source": [
    "query = \"Show me flats in Basel which cost less than 2'000'000 CHF with 3 or more rooms.\"\n",
    "\n",
    "response = get_model_response(query, model=model, tokenizer=tokenizer, examples=few_shot_examples_code)\n",
    "\n",
    "print(response)\n",
    "\n",
    "exec(response)\n",
    "df_test.head()"
   ]
  },
  {
   "cell_type": "code",
   "execution_count": 31,
   "metadata": {},
   "outputs": [
    {
     "name": "stdout",
     "output_type": "stream",
     "text": [
      "df_test = df[(df['Municipality'].str.contains('Biberstein')) & (df['price'] == 1000000) & (df['type'].str.contains('house'))]\n"
     ]
    },
    {
     "data": {
      "text/html": [
       "<div>\n",
       "<style scoped>\n",
       "    .dataframe tbody tr th:only-of-type {\n",
       "        vertical-align: middle;\n",
       "    }\n",
       "\n",
       "    .dataframe tbody tr th {\n",
       "        vertical-align: top;\n",
       "    }\n",
       "\n",
       "    .dataframe thead th {\n",
       "        text-align: right;\n",
       "    }\n",
       "</style>\n",
       "<table border=\"1\" class=\"dataframe\">\n",
       "  <thead>\n",
       "    <tr style=\"text-align: right;\">\n",
       "      <th></th>\n",
       "      <th>Municipality</th>\n",
       "      <th>detailed_description</th>\n",
       "      <th>type</th>\n",
       "      <th>rooms</th>\n",
       "      <th>url</th>\n",
       "      <th>price</th>\n",
       "    </tr>\n",
       "  </thead>\n",
       "  <tbody>\n",
       "  </tbody>\n",
       "</table>\n",
       "</div>"
      ],
      "text/plain": [
       "Empty DataFrame\n",
       "Columns: [Municipality, detailed_description, type, rooms, url, price]\n",
       "Index: []"
      ]
     },
     "execution_count": 31,
     "metadata": {},
     "output_type": "execute_result"
    }
   ],
   "source": [
    "query = \"I am looking for a house in Biberstein which costs about 1'000'000.\"\n",
    "\n",
    "response = get_model_response(query, model=model, tokenizer=tokenizer, examples=few_shot_examples_code)\n",
    "\n",
    "print(response)\n",
    "    \n",
    "exec(response)\n",
    "df_test.head()"
   ]
  },
  {
   "cell_type": "markdown",
   "metadata": {},
   "source": [
    "Hier wird keine Preisspanne abgefragt, sondern nur der exakte Preis abgefragt."
   ]
  },
  {
   "cell_type": "code",
   "execution_count": 32,
   "metadata": {},
   "outputs": [
    {
     "name": "stdout",
     "output_type": "stream",
     "text": [
      "df_test = df[(df['Municipality'].str.contains('Basel')) & (df['price'] <= (1200000*1.1)) & (df['price'] >= (1200000*0.9)) & (df['type'].str.contains('house'))]\n"
     ]
    },
    {
     "data": {
      "text/html": [
       "<div>\n",
       "<style scoped>\n",
       "    .dataframe tbody tr th:only-of-type {\n",
       "        vertical-align: middle;\n",
       "    }\n",
       "\n",
       "    .dataframe tbody tr th {\n",
       "        vertical-align: top;\n",
       "    }\n",
       "\n",
       "    .dataframe thead th {\n",
       "        text-align: right;\n",
       "    }\n",
       "</style>\n",
       "<table border=\"1\" class=\"dataframe\">\n",
       "  <thead>\n",
       "    <tr style=\"text-align: right;\">\n",
       "      <th></th>\n",
       "      <th>Municipality</th>\n",
       "      <th>detailed_description</th>\n",
       "      <th>type</th>\n",
       "      <th>rooms</th>\n",
       "      <th>url</th>\n",
       "      <th>price</th>\n",
       "    </tr>\n",
       "  </thead>\n",
       "  <tbody>\n",
       "    <tr>\n",
       "      <th>2701</th>\n",
       "      <td>Basel</td>\n",
       "      <td>DescriptionNur wenige Schritte vom Rhein entfe...</td>\n",
       "      <td>terrace-house</td>\n",
       "      <td>7.0</td>\n",
       "      <td>https://www.immoscout24.ch//en/d/terrace-house...</td>\n",
       "      <td>1290000.0</td>\n",
       "    </tr>\n",
       "    <tr>\n",
       "      <th>2715</th>\n",
       "      <td>Basel</td>\n",
       "      <td>DescriptionAn einer ruhigen Nebenstrasse in de...</td>\n",
       "      <td>detached-house</td>\n",
       "      <td>5.0</td>\n",
       "      <td>https://www.immoscout24.ch//en/d/detached-hous...</td>\n",
       "      <td>1250000.0</td>\n",
       "    </tr>\n",
       "  </tbody>\n",
       "</table>\n",
       "</div>"
      ],
      "text/plain": [
       "     Municipality                               detailed_description  \\\n",
       "2701        Basel  DescriptionNur wenige Schritte vom Rhein entfe...   \n",
       "2715        Basel  DescriptionAn einer ruhigen Nebenstrasse in de...   \n",
       "\n",
       "                type  rooms  \\\n",
       "2701   terrace-house    7.0   \n",
       "2715  detached-house    5.0   \n",
       "\n",
       "                                                    url      price  \n",
       "2701  https://www.immoscout24.ch//en/d/terrace-house...  1290000.0  \n",
       "2715  https://www.immoscout24.ch//en/d/detached-hous...  1250000.0  "
      ]
     },
     "execution_count": 32,
     "metadata": {},
     "output_type": "execute_result"
    }
   ],
   "source": [
    "query = \"I need a house in Basel with a garden for around CHF 1,200,000.\"\n",
    "\n",
    "response = get_model_response(query, model=model, tokenizer=tokenizer, examples=few_shot_examples_code)\n",
    "\n",
    "print(response)\n",
    "\n",
    "exec(response)\n",
    "df_test.head()"
   ]
  },
  {
   "cell_type": "markdown",
   "metadata": {},
   "source": [
    "Wählen wir die Query fast identisch wie ein Example wird der Filter korrekt verwendet."
   ]
  },
  {
   "cell_type": "markdown",
   "metadata": {},
   "source": [
    "#### Evaluation"
   ]
  },
  {
   "cell_type": "markdown",
   "metadata": {},
   "source": [
    "Der Code wird erstaunlich gut generiert."
   ]
  },
  {
   "cell_type": "markdown",
   "metadata": {},
   "source": [
    "### Query 5: Test test mit multiplen typen"
   ]
  },
  {
   "cell_type": "code",
   "execution_count": 38,
   "metadata": {},
   "outputs": [],
   "source": [
    "few_shot_examples_multiple_type_code = [\n",
    "    {\n",
    "        \"Question\": \"I am looking for an flat in Zurich under 1'000'000 CHF.\",\n",
    "        \"Answer\": \"df_test = df[(df['Municipality'].str.contains('Zürich')) & (df['price'] < 1000000) & (df['type'].str.contains('apartment|penthouse|flat|attic-room'))]\"\n",
    "    },\n",
    "    {\n",
    "        \"Question\": \"Are there terraced houses in Bern in the CHF 500,000 to 700,000 range?\",\n",
    "        \"Answer\": \"df_test = df[(df['Municipality'].str.contains('Bern')) & (df['price'] >= 500000) & (df['price'] <= 700000) & (df['type'].str.contains('terraced_house'))]\"\n",
    "    },\n",
    "    {\n",
    "        \"Question\": \"I need a detached house in Lucerne with a garden for around CHF 1,200,000.\",\n",
    "        \"Answer\": \"df_test = df[(df['Municipality'].str.contains('Luzern')) & (df['price'] == 1200000) & (df['type'].str.contains('house'))]\"\n",
    "    },\n",
    "    {\n",
    "        \"Question\": \"Are there modern apartments with 3.5 rooms available in Basel for under CHF 900,000?\",\n",
    "        \"Answer\": \"df_test = df[(df['Municipality'].str.contains('Basel')) & (df['rooms'] == 3.5) & (df['price'] < 900000) & (df['type'].str.contains('apartment|penthouse|flat|attic-room'))]\"\n",
    "    },\n",
    "    {\n",
    "        \"Question\": \"I am looking for a large house in Lausanne, at least 5 rooms, up to 1'500'000 CHF.\",\n",
    "        \"Answer\": \"df_test = df[(df['Municipality'].str.contains('Lausanne')) & (df['rooms'] >= 5) & (df['price'] <= 1500000) & (df['type'].str.contains('house'))]\"\n",
    "    }\n",
    "]"
   ]
  },
  {
   "cell_type": "code",
   "execution_count": 44,
   "metadata": {},
   "outputs": [
    {
     "name": "stdout",
     "output_type": "stream",
     "text": [
      "df_test = df[(df['Municipality'].str.contains('Bern')) & (df['price'] < 1000000) & (df['type'].str.contains('apartment|penthouse|flat|attic-room'))]\n"
     ]
    },
    {
     "data": {
      "text/html": [
       "<div>\n",
       "<style scoped>\n",
       "    .dataframe tbody tr th:only-of-type {\n",
       "        vertical-align: middle;\n",
       "    }\n",
       "\n",
       "    .dataframe tbody tr th {\n",
       "        vertical-align: top;\n",
       "    }\n",
       "\n",
       "    .dataframe thead th {\n",
       "        text-align: right;\n",
       "    }\n",
       "</style>\n",
       "<table border=\"1\" class=\"dataframe\">\n",
       "  <thead>\n",
       "    <tr style=\"text-align: right;\">\n",
       "      <th></th>\n",
       "      <th>Municipality</th>\n",
       "      <th>detailed_description</th>\n",
       "      <th>type</th>\n",
       "      <th>rooms</th>\n",
       "      <th>url</th>\n",
       "      <th>price</th>\n",
       "    </tr>\n",
       "  </thead>\n",
       "  <tbody>\n",
       "    <tr>\n",
       "      <th>1728</th>\n",
       "      <td>Bern</td>\n",
       "      <td>DescriptionIdéalement situé dans le quartier d...</td>\n",
       "      <td>flat</td>\n",
       "      <td>5.0</td>\n",
       "      <td>https://www.immoscout24.ch//en/d/flat-buy-bern...</td>\n",
       "      <td>680000.0</td>\n",
       "    </tr>\n",
       "    <tr>\n",
       "      <th>1735</th>\n",
       "      <td>Bern</td>\n",
       "      <td>DescriptionZentrumsnahes Wohnen in der Stadt B...</td>\n",
       "      <td>flat</td>\n",
       "      <td>5.0</td>\n",
       "      <td>https://www.immoscout24.ch//en/d/flat-buy-bern...</td>\n",
       "      <td>555000.0</td>\n",
       "    </tr>\n",
       "    <tr>\n",
       "      <th>1741</th>\n",
       "      <td>Bern</td>\n",
       "      <td>DescriptionSchöne sonnige Wohnung auf 3.en Eta...</td>\n",
       "      <td>flat</td>\n",
       "      <td>5.0</td>\n",
       "      <td>https://www.immoscout24.ch//en/d/flat-buy-bern...</td>\n",
       "      <td>351250.0</td>\n",
       "    </tr>\n",
       "    <tr>\n",
       "      <th>1745</th>\n",
       "      <td>Bern</td>\n",
       "      <td>DescriptionEin Herz für das Ostring-Quartier!A...</td>\n",
       "      <td>flat</td>\n",
       "      <td>7.0</td>\n",
       "      <td>https://www.immoscout24.ch//en/d/flat-buy-bern...</td>\n",
       "      <td>985000.0</td>\n",
       "    </tr>\n",
       "    <tr>\n",
       "      <th>1750</th>\n",
       "      <td>Bern</td>\n",
       "      <td>DescriptionLageDas Objekt befindet sich in ein...</td>\n",
       "      <td>attic-flat</td>\n",
       "      <td>5.0</td>\n",
       "      <td>https://www.immoscout24.ch//en/d/attic-flat-bu...</td>\n",
       "      <td>930000.0</td>\n",
       "    </tr>\n",
       "  </tbody>\n",
       "</table>\n",
       "</div>"
      ],
      "text/plain": [
       "     Municipality                               detailed_description  \\\n",
       "1728         Bern  DescriptionIdéalement situé dans le quartier d...   \n",
       "1735         Bern  DescriptionZentrumsnahes Wohnen in der Stadt B...   \n",
       "1741         Bern  DescriptionSchöne sonnige Wohnung auf 3.en Eta...   \n",
       "1745         Bern  DescriptionEin Herz für das Ostring-Quartier!A...   \n",
       "1750         Bern  DescriptionLageDas Objekt befindet sich in ein...   \n",
       "\n",
       "            type  rooms                                                url  \\\n",
       "1728        flat    5.0  https://www.immoscout24.ch//en/d/flat-buy-bern...   \n",
       "1735        flat    5.0  https://www.immoscout24.ch//en/d/flat-buy-bern...   \n",
       "1741        flat    5.0  https://www.immoscout24.ch//en/d/flat-buy-bern...   \n",
       "1745        flat    7.0  https://www.immoscout24.ch//en/d/flat-buy-bern...   \n",
       "1750  attic-flat    5.0  https://www.immoscout24.ch//en/d/attic-flat-bu...   \n",
       "\n",
       "         price  \n",
       "1728  680000.0  \n",
       "1735  555000.0  \n",
       "1741  351250.0  \n",
       "1745  985000.0  \n",
       "1750  930000.0  "
      ]
     },
     "execution_count": 44,
     "metadata": {},
     "output_type": "execute_result"
    }
   ],
   "source": [
    "query = \"Show me apartments in Bern for less than 1'000'000 CHF.\"\n",
    "\n",
    "response = get_model_response(query, model=model, tokenizer=tokenizer, examples=few_shot_examples_multiple_type_code)\n",
    "\n",
    "print(response)\n",
    "\n",
    "exec(response)\n",
    "df_test.head()"
   ]
  },
  {
   "cell_type": "markdown",
   "metadata": {},
   "source": [
    "Auch bei dem Keyword apartment werden nach allen möglichen Wohnungstypen gesucht."
   ]
  },
  {
   "cell_type": "markdown",
   "metadata": {},
   "source": [
    "#### Evaluation"
   ]
  },
  {
   "cell_type": "markdown",
   "metadata": {},
   "source": [
    "## Fazit\n",
    "\n",
    "Erstaunlich gute Performance, überrascht wie einfach die implementierung und auch die Abfragegeschwindigkeit ist"
   ]
  },
  {
   "cell_type": "markdown",
   "metadata": {},
   "source": [
    "### Ausblick\n",
    "\n",
    "- Viel mehr Datawrangling\n",
    "- Einbindung in RASA chatbot"
   ]
  },
  {
   "cell_type": "markdown",
   "metadata": {},
   "source": [
    "## Erkentnisse\n",
    "\n",
    "- Max length des outputs am anfang ein problem anschliessend nicht mehr beim Fewshot example"
   ]
  }
 ],
 "metadata": {
  "kernelspec": {
   "display_name": "rasa",
   "language": "python",
   "name": "python3"
  },
  "language_info": {
   "codemirror_mode": {
    "name": "ipython",
    "version": 3
   },
   "file_extension": ".py",
   "mimetype": "text/x-python",
   "name": "python",
   "nbconvert_exporter": "python",
   "pygments_lexer": "ipython3",
   "version": "3.8.18"
  }
 },
 "nbformat": 4,
 "nbformat_minor": 2
}
