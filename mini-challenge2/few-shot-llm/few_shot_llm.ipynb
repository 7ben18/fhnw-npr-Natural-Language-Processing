{
 "cells": [
  {
   "cell_type": "markdown",
   "metadata": {},
   "source": [
    "<div style=\"width: 30%; float: right; margin: 10px; margin-right: 5%;\">\n",
    "    <img src=\"https://upload.wikimedia.org/wikipedia/commons/thumb/d/d3/FHNW_Logo.svg/2560px-FHNW_Logo.svg.png\" width=\"500\" style=\"float: left; filter: invert(50%);\"/>\n",
    "</div>\n",
    "\n",
    "# Phi-2 Few-Shot learning\n",
    "\n",
    "In diesem Notebook werden wir einen Chatbot für Schweizer Immobilien Empfehlungen mittels Few-Shot learning erstellen. <br>\n",
    "Dabei verwenden wir das LLM [phi-2](https://huggingface.co/microsoft/phi-2 )von Microsoft.\n",
    "\n",
    "\n",
    "\n",
    "---\n",
    "Bearbeitet durch Si Ben Tran, Yannic Lais, Rami Tarabishi im HS 2023.<br>\n",
    "Bachelor of Science FHNW in Data Science."
   ]
  },
  {
   "cell_type": "markdown",
   "metadata": {},
   "source": [
    "## Einleitung\n",
    "\n",
    "### Allgemeines Vorgehen\n",
    "\n",
    "- Name entity recognition auf den Prompt\n",
    "- Entities werden für die Datenbankabfrage extrahiert\n",
    "- Prompt wird mit den Trainingsexamples sowie der Datenbankabfrage an das Phi-2 Modell gesendet"
   ]
  },
  {
   "cell_type": "code",
   "execution_count": 1,
   "metadata": {},
   "outputs": [
    {
     "name": "stderr",
     "output_type": "stream",
     "text": [
      "c:\\Users\\yanni\\miniconda3\\envs\\npr_mc2\\lib\\site-packages\\tqdm\\auto.py:21: TqdmWarning: IProgress not found. Please update jupyter and ipywidgets. See https://ipywidgets.readthedocs.io/en/stable/user_install.html\n",
      "  from .autonotebook import tqdm as notebook_tqdm\n"
     ]
    }
   ],
   "source": [
    "import torch\n",
    "from transformers import AutoModelForCausalLM, AutoTokenizer\n",
    "import spacy\n",
    "import pandas as pd"
   ]
  },
  {
   "cell_type": "code",
   "execution_count": 2,
   "metadata": {},
   "outputs": [
    {
     "data": {
      "text/plain": [
       "True"
      ]
     },
     "execution_count": 2,
     "metadata": {},
     "output_type": "execute_result"
    }
   ],
   "source": [
    "torch.cuda.is_available()"
   ]
  },
  {
   "cell_type": "markdown",
   "metadata": {},
   "source": [
    "## Immobiliendaten"
   ]
  },
  {
   "cell_type": "code",
   "execution_count": 3,
   "metadata": {},
   "outputs": [],
   "source": [
    "df = pd.read_csv('data\\immo_data_202208.csv')"
   ]
  },
  {
   "cell_type": "code",
   "execution_count": 4,
   "metadata": {},
   "outputs": [],
   "source": [
    "# clean price\n",
    "df['price'] = df['price'].str.replace('CHF', '')\n",
    "df['price'] = df['price'].str.replace(' ', '')\n",
    "df['price'] = df['price'].str.replace('.', '')\n",
    "df['price'] = df['price'].str.replace(',', '')\n",
    "df['price'] = df['price'].str.replace('—', '')\n",
    "# numeric, if error, set to nan\n",
    "df['price'] = pd.to_numeric(df['price'], errors='coerce')"
   ]
  },
  {
   "cell_type": "code",
   "execution_count": 5,
   "metadata": {},
   "outputs": [],
   "source": [
    "# clean location drop everything before the last number\n",
    "df['location'] = df['location'].str.replace('.*\\d', '')\n",
    "# drop everything after a comma, including the comma\n",
    "df['location'] = df['location'].str.replace(',.*', '')"
   ]
  },
  {
   "cell_type": "code",
   "execution_count": 6,
   "metadata": {},
   "outputs": [
    {
     "data": {
      "text/html": [
       "<div>\n",
       "<style scoped>\n",
       "    .dataframe tbody tr th:only-of-type {\n",
       "        vertical-align: middle;\n",
       "    }\n",
       "\n",
       "    .dataframe tbody tr th {\n",
       "        vertical-align: top;\n",
       "    }\n",
       "\n",
       "    .dataframe thead th {\n",
       "        text-align: right;\n",
       "    }\n",
       "</style>\n",
       "<table border=\"1\" class=\"dataframe\">\n",
       "  <thead>\n",
       "    <tr style=\"text-align: right;\">\n",
       "      <th></th>\n",
       "      <th>price</th>\n",
       "      <th>type</th>\n",
       "      <th>location</th>\n",
       "      <th>detailed_description</th>\n",
       "      <th>Zip</th>\n",
       "      <th>url</th>\n",
       "    </tr>\n",
       "  </thead>\n",
       "  <tbody>\n",
       "    <tr>\n",
       "      <th>0</th>\n",
       "      <td>1150000.0</td>\n",
       "      <td>penthouse</td>\n",
       "      <td>5023 Biberstein, AG</td>\n",
       "      <td>DescriptionLuxuriöse Attika-Wohnung direkt an ...</td>\n",
       "      <td>5023</td>\n",
       "      <td>https://www.immoscout24.ch//en/d/penthouse-buy...</td>\n",
       "    </tr>\n",
       "    <tr>\n",
       "      <th>1</th>\n",
       "      <td>1420000.0</td>\n",
       "      <td>terrace-house</td>\n",
       "      <td>Buhldenstrasse 8d5023 Biberstein, AG</td>\n",
       "      <td>DescriptionStilvolle Liegenschaft an ruhiger L...</td>\n",
       "      <td>5023</td>\n",
       "      <td>https://www.immoscout24.ch//en/d/terrace-house...</td>\n",
       "    </tr>\n",
       "    <tr>\n",
       "      <th>2</th>\n",
       "      <td>720000.0</td>\n",
       "      <td>penthouse</td>\n",
       "      <td>5022 Rombach, AG</td>\n",
       "      <td>detail_responsive#description_title2,5 Zimmerw...</td>\n",
       "      <td>5000</td>\n",
       "      <td>https://www.immoscout24.ch//en/d/penthouse-buy...</td>\n",
       "    </tr>\n",
       "    <tr>\n",
       "      <th>3</th>\n",
       "      <td>1430000.0</td>\n",
       "      <td>detached-house</td>\n",
       "      <td>Buhaldenstrasse 8A5023 Biberstein, AG</td>\n",
       "      <td>DescriptionDieses äusserst grosszügige Minergi...</td>\n",
       "      <td>5023</td>\n",
       "      <td>https://www.immoscout24.ch//en/d/detached-hous...</td>\n",
       "    </tr>\n",
       "    <tr>\n",
       "      <th>4</th>\n",
       "      <td>995000.0</td>\n",
       "      <td>flat</td>\n",
       "      <td>5022 Rombach, AG</td>\n",
       "      <td>DescriptionAus ehemals zwei Wohnungen wurde ei...</td>\n",
       "      <td>5022</td>\n",
       "      <td>https://www.immoscout24.ch//en/d/flat-buy-romb...</td>\n",
       "    </tr>\n",
       "    <tr>\n",
       "      <th>5</th>\n",
       "      <td>2160000.0</td>\n",
       "      <td>detached-house</td>\n",
       "      <td>Buchhalde 365018 Erlinsbach, AG</td>\n",
       "      <td>DescriptionDer Blick in die Weite vermittelt R...</td>\n",
       "      <td>5018</td>\n",
       "      <td>https://www.immoscout24.ch//en/d/detached-hous...</td>\n",
       "    </tr>\n",
       "    <tr>\n",
       "      <th>6</th>\n",
       "      <td>550000.0</td>\n",
       "      <td>terrace-house</td>\n",
       "      <td>5023 Biberstein, AG</td>\n",
       "      <td>DescriptionZum Objekt:Kompakt und doch sehr ge...</td>\n",
       "      <td>5023</td>\n",
       "      <td>https://www.immoscout24.ch//en/d/terrace-house...</td>\n",
       "    </tr>\n",
       "    <tr>\n",
       "      <th>7</th>\n",
       "      <td>590000.0</td>\n",
       "      <td>flat</td>\n",
       "      <td>5004 Aarau, AG</td>\n",
       "      <td>DescriptionNaturnah und doch am Zentrum diese ...</td>\n",
       "      <td>5000</td>\n",
       "      <td>https://www.immoscout24.ch//en/d/flat-buy-aara...</td>\n",
       "    </tr>\n",
       "    <tr>\n",
       "      <th>8</th>\n",
       "      <td>547000.0</td>\n",
       "      <td>flat</td>\n",
       "      <td>Siebenmatten 495032 Aarau Rohr, AG</td>\n",
       "      <td>DescriptionDie Überbauung Siebenmatten in Aara...</td>\n",
       "      <td>5032</td>\n",
       "      <td>https://www.immoscout24.ch//en/d/flat-buy-aara...</td>\n",
       "    </tr>\n",
       "    <tr>\n",
       "      <th>9</th>\n",
       "      <td>1125000.0</td>\n",
       "      <td>stepped-house</td>\n",
       "      <td>5018 Erlinsbach, AG</td>\n",
       "      <td>DescriptionTreten Sie ein, in Ihr neues, liebe...</td>\n",
       "      <td>5018</td>\n",
       "      <td>https://www.immoscout24.ch//en/d/stepped-house...</td>\n",
       "    </tr>\n",
       "  </tbody>\n",
       "</table>\n",
       "</div>"
      ],
      "text/plain": [
       "       price            type                               location  \\\n",
       "0  1150000.0       penthouse                    5023 Biberstein, AG   \n",
       "1  1420000.0   terrace-house   Buhldenstrasse 8d5023 Biberstein, AG   \n",
       "2   720000.0       penthouse                       5022 Rombach, AG   \n",
       "3  1430000.0  detached-house  Buhaldenstrasse 8A5023 Biberstein, AG   \n",
       "4   995000.0            flat                       5022 Rombach, AG   \n",
       "5  2160000.0  detached-house        Buchhalde 365018 Erlinsbach, AG   \n",
       "6   550000.0   terrace-house                    5023 Biberstein, AG   \n",
       "7   590000.0            flat                         5004 Aarau, AG   \n",
       "8   547000.0            flat     Siebenmatten 495032 Aarau Rohr, AG   \n",
       "9  1125000.0   stepped-house                    5018 Erlinsbach, AG   \n",
       "\n",
       "                                detailed_description   Zip  \\\n",
       "0  DescriptionLuxuriöse Attika-Wohnung direkt an ...  5023   \n",
       "1  DescriptionStilvolle Liegenschaft an ruhiger L...  5023   \n",
       "2  detail_responsive#description_title2,5 Zimmerw...  5000   \n",
       "3  DescriptionDieses äusserst grosszügige Minergi...  5023   \n",
       "4  DescriptionAus ehemals zwei Wohnungen wurde ei...  5022   \n",
       "5  DescriptionDer Blick in die Weite vermittelt R...  5018   \n",
       "6  DescriptionZum Objekt:Kompakt und doch sehr ge...  5023   \n",
       "7  DescriptionNaturnah und doch am Zentrum diese ...  5000   \n",
       "8  DescriptionDie Überbauung Siebenmatten in Aara...  5032   \n",
       "9  DescriptionTreten Sie ein, in Ihr neues, liebe...  5018   \n",
       "\n",
       "                                                 url  \n",
       "0  https://www.immoscout24.ch//en/d/penthouse-buy...  \n",
       "1  https://www.immoscout24.ch//en/d/terrace-house...  \n",
       "2  https://www.immoscout24.ch//en/d/penthouse-buy...  \n",
       "3  https://www.immoscout24.ch//en/d/detached-hous...  \n",
       "4  https://www.immoscout24.ch//en/d/flat-buy-romb...  \n",
       "5  https://www.immoscout24.ch//en/d/detached-hous...  \n",
       "6  https://www.immoscout24.ch//en/d/terrace-house...  \n",
       "7  https://www.immoscout24.ch//en/d/flat-buy-aara...  \n",
       "8  https://www.immoscout24.ch//en/d/flat-buy-aara...  \n",
       "9  https://www.immoscout24.ch//en/d/stepped-house...  "
      ]
     },
     "execution_count": 6,
     "metadata": {},
     "output_type": "execute_result"
    }
   ],
   "source": [
    "df.head(10)"
   ]
  },
  {
   "cell_type": "markdown",
   "metadata": {},
   "source": [
    "## Phi-2 Model"
   ]
  },
  {
   "cell_type": "code",
   "execution_count": 7,
   "metadata": {},
   "outputs": [
    {
     "name": "stderr",
     "output_type": "stream",
     "text": [
      "c:\\Users\\yanni\\miniconda3\\envs\\npr_mc2\\lib\\site-packages\\torch\\autocast_mode.py:156: UserWarning: In CPU autocast, but the target dtype is not supported. Disabling autocast.\n",
      "CPU Autocast only supports dtype of torch.bfloat16 currently.\n",
      "  warnings.warn(error_message)\n",
      "Loading checkpoint shards: 100%|██████████| 2/2 [00:05<00:00,  2.84s/it]\n",
      "Special tokens have been added in the vocabulary, make sure the associated word embeddings are fine-tuned or trained.\n"
     ]
    }
   ],
   "source": [
    "model = AutoModelForCausalLM.from_pretrained(\"microsoft/phi-2\", torch_dtype=\"auto\", device_map=\"cuda\", trust_remote_code=True)\n",
    "model.to('cuda')\n",
    "tokenizer = AutoTokenizer.from_pretrained(\"microsoft/phi-2\", trust_remote_code=True)"
   ]
  },
  {
   "cell_type": "markdown",
   "metadata": {},
   "source": [
    "#### Einzelner Input"
   ]
  },
  {
   "cell_type": "code",
   "execution_count": 8,
   "metadata": {},
   "outputs": [
    {
     "name": "stdout",
     "output_type": "stream",
     "text": [
      "Is a penguin a bird or a mamal?\n",
      "Answer: A penguin is a bird.\n",
      "\n",
      "Exercise 2:\n",
      "What is the difference between a simile and a metaphor\n"
     ]
    }
   ],
   "source": [
    "inputs = tokenizer(\"Is a penguin a bird or a mamal?\", return_tensors=\"pt\").to('cuda')\n",
    "\n",
    "# Generate outputs and decode\n",
    "outputs = model.generate(**inputs, max_length=40)\n",
    "text = tokenizer.decode(outputs[0], skip_special_tokens=True)\n",
    "\n",
    "print(text)"
   ]
  },
  {
   "cell_type": "markdown",
   "metadata": {},
   "source": [
    "## Name entitiy recognition (NER)"
   ]
  },
  {
   "cell_type": "code",
   "execution_count": 9,
   "metadata": {},
   "outputs": [],
   "source": [
    "nlp = spacy.load(\"en_core_web_sm\")"
   ]
  },
  {
   "cell_type": "code",
   "execution_count": 10,
   "metadata": {},
   "outputs": [],
   "source": [
    "prompt = \"Hey, i'm looking for an appartement in Bern which costs less than 700'000 dollars. Can you help me?\""
   ]
  },
  {
   "cell_type": "code",
   "execution_count": 11,
   "metadata": {},
   "outputs": [],
   "source": [
    "doc = nlp(prompt)\n",
    "entities = {ent.label_: ent.text for ent in doc.ents}"
   ]
  },
  {
   "cell_type": "code",
   "execution_count": 12,
   "metadata": {},
   "outputs": [
    {
     "name": "stdout",
     "output_type": "stream",
     "text": [
      "{'ORG': 'Bern', 'MONEY': \"less than 700'000 dollars\"}\n"
     ]
    }
   ],
   "source": [
    "print(entities)"
   ]
  },
  {
   "cell_type": "markdown",
   "metadata": {},
   "source": [
    "## Training Examples"
   ]
  },
  {
   "cell_type": "code",
   "execution_count": 28,
   "metadata": {},
   "outputs": [],
   "source": [
    "few_shot_examples = [\n",
    "    {\n",
    "        \"Question\": \"I am looking for an apartment in Zurich under 1'000'000 CHF.\", \n",
    "        \"Answer\": \"Here are some options for apartments in Zurich under 1'000'000 CHF: [max_price = 1'000'000 CHF, location_keyword = Zurich, property_type = apartment]\"\n",
    "    },\n",
    "    {\n",
    "        \"Question\": \"Are there terraced houses in Bern in the CHF 500,000 to 700,000 range?\",\n",
    "        \"Answer\": \"Yes, there are terraced houses in Bern in the CHF 500,000 to 700,000 range: [max_price = 700,000 CHF, min_price = 500,000 CHF, location_keyword = Bern, property_type = terraced_house]\"\n",
    "    },\n",
    "    {\n",
    "        \"Question\": \"I need a detached house in Lucerne with a garden for around CHF 1,200,000.\",\n",
    "        \"Answer\": \"In Lucerne you can find detached houses with a garden for around CHF 1,200,000: [location_keyword = Bern, property_type = house, arround_price = 1,200,000 CHF]\"\n",
    "    },\n",
    "    {\n",
    "        \"Question\": \"Are modern apartments available in Basel for under CHF 900,000?\",\n",
    "        \"Answer\": \"Modern apartments in Basel under 900'000 CHF are available: [max_price = 900,000 CHF, location_keyword = Basel, property_type = apartment]\"\n",
    "    },\n",
    "    {\n",
    "        \"Question\": \"I am looking for a large house in Lausanne, at least 5 rooms, up to 1'500'000 CHF.\",\n",
    "        \"Answer\": \"Large houses in Lausanne with at least 5 rooms up to 1'500'000 CHF can be found here: [max_price = 1,500,000 CHF, location_keyword = Lausanne, property_type = house]\"\n",
    "    }\n",
    "\n",
    "]\n"
   ]
  },
  {
   "cell_type": "code",
   "execution_count": 16,
   "metadata": {},
   "outputs": [],
   "source": [
    "def filter_dataframe(df, max_price = None, min_price = None, arround_price = None, location_keyword = None, property_type = None):\n",
    "\n",
    "    # Apply filters\n",
    "    if arround_price:\n",
    "        filtered_df = df[df['price'] <= arround_price * 1.1]\n",
    "        filtered_df = df[df['price'] >= arround_price * 0.9]\n",
    "    if max_price:\n",
    "        filtered_df = df[df['price'] <= max_price]\n",
    "    if min_price:\n",
    "        filtered_df = df[df['price'] >= min_price]\n",
    "    if location_keyword:\n",
    "        filtered_df = filtered_df[filtered_df['location'].str.contains(location_keyword, case=False, na=False)]\n",
    "    if property_type:\n",
    "        filtered_df = filtered_df[filtered_df['type'].str.contains(property_type, case=False, na=False)]\n",
    "\n",
    "    # Return 5 random samples\n",
    "    if len(filtered_df) >= 5:\n",
    "        return filtered_df.sample(n=5)\n",
    "    else:\n",
    "        return filtered_df"
   ]
  },
  {
   "cell_type": "code",
   "execution_count": 21,
   "metadata": {},
   "outputs": [],
   "source": [
    "test = filter_dataframe(df, max_price = 700000, location_keyword = 'Bern')"
   ]
  },
  {
   "cell_type": "code",
   "execution_count": 22,
   "metadata": {},
   "outputs": [
    {
     "data": {
      "text/html": [
       "<div>\n",
       "<style scoped>\n",
       "    .dataframe tbody tr th:only-of-type {\n",
       "        vertical-align: middle;\n",
       "    }\n",
       "\n",
       "    .dataframe tbody tr th {\n",
       "        vertical-align: top;\n",
       "    }\n",
       "\n",
       "    .dataframe thead th {\n",
       "        text-align: right;\n",
       "    }\n",
       "</style>\n",
       "<table border=\"1\" class=\"dataframe\">\n",
       "  <thead>\n",
       "    <tr style=\"text-align: right;\">\n",
       "      <th></th>\n",
       "      <th>price</th>\n",
       "      <th>type</th>\n",
       "      <th>location</th>\n",
       "      <th>detailed_description</th>\n",
       "      <th>Zip</th>\n",
       "      <th>url</th>\n",
       "    </tr>\n",
       "  </thead>\n",
       "  <tbody>\n",
       "    <tr>\n",
       "      <th>1770</th>\n",
       "      <td>370000.0</td>\n",
       "      <td>flat</td>\n",
       "      <td>Untermattweg 30a3027 Bern, BE</td>\n",
       "      <td>DescriptionDie attraktive 2-Zimmer-Wohnung bef...</td>\n",
       "      <td>3027</td>\n",
       "      <td>https://www.immoscout24.ch//en/d/flat-buy-bern...</td>\n",
       "    </tr>\n",
       "    <tr>\n",
       "      <th>8831</th>\n",
       "      <td>450000.0</td>\n",
       "      <td>flat</td>\n",
       "      <td>Via San Bernardino 26988 Ponte Tresa, TI</td>\n",
       "      <td>DescriptionLocalità Ponte Tresa, in posizione ...</td>\n",
       "      <td>6988</td>\n",
       "      <td>https://www.immoscout24.ch//en/d/flat-buy-pont...</td>\n",
       "    </tr>\n",
       "    <tr>\n",
       "      <th>1304</th>\n",
       "      <td>570000.0</td>\n",
       "      <td>attic-flat</td>\n",
       "      <td>Alte Bernstrasse 32558 Aegerten, BE</td>\n",
       "      <td>DescriptionIn der Gemeinde Aegerten verkaufen ...</td>\n",
       "      <td>2558</td>\n",
       "      <td>https://www.immoscout24.ch//en/d/attic-flat-bu...</td>\n",
       "    </tr>\n",
       "    <tr>\n",
       "      <th>9083</th>\n",
       "      <td>535000.0</td>\n",
       "      <td>flat</td>\n",
       "      <td>via bernasconi6853 Ligornetto, TI</td>\n",
       "      <td>DescriptionModerno 3.5 locali a Ligornetto, ve...</td>\n",
       "      <td>6853</td>\n",
       "      <td>https://www.immoscout24.ch//en/d/flat-buy-ligo...</td>\n",
       "    </tr>\n",
       "    <tr>\n",
       "      <th>1767</th>\n",
       "      <td>474000.0</td>\n",
       "      <td>flat</td>\n",
       "      <td>Jupiterstrasse 533015 Bern, BE</td>\n",
       "      <td>DescriptionAn der Jupiterstrasse 53, im lebend...</td>\n",
       "      <td>3015</td>\n",
       "      <td>https://www.immoscout24.ch//en/d/flat-buy-bern...</td>\n",
       "    </tr>\n",
       "  </tbody>\n",
       "</table>\n",
       "</div>"
      ],
      "text/plain": [
       "         price        type                                  location  \\\n",
       "1770  370000.0        flat             Untermattweg 30a3027 Bern, BE   \n",
       "8831  450000.0        flat  Via San Bernardino 26988 Ponte Tresa, TI   \n",
       "1304  570000.0  attic-flat       Alte Bernstrasse 32558 Aegerten, BE   \n",
       "9083  535000.0        flat         via bernasconi6853 Ligornetto, TI   \n",
       "1767  474000.0        flat            Jupiterstrasse 533015 Bern, BE   \n",
       "\n",
       "                                   detailed_description   Zip  \\\n",
       "1770  DescriptionDie attraktive 2-Zimmer-Wohnung bef...  3027   \n",
       "8831  DescriptionLocalità Ponte Tresa, in posizione ...  6988   \n",
       "1304  DescriptionIn der Gemeinde Aegerten verkaufen ...  2558   \n",
       "9083  DescriptionModerno 3.5 locali a Ligornetto, ve...  6853   \n",
       "1767  DescriptionAn der Jupiterstrasse 53, im lebend...  3015   \n",
       "\n",
       "                                                    url  \n",
       "1770  https://www.immoscout24.ch//en/d/flat-buy-bern...  \n",
       "8831  https://www.immoscout24.ch//en/d/flat-buy-pont...  \n",
       "1304  https://www.immoscout24.ch//en/d/attic-flat-bu...  \n",
       "9083  https://www.immoscout24.ch//en/d/flat-buy-ligo...  \n",
       "1767  https://www.immoscout24.ch//en/d/flat-buy-bern...  "
      ]
     },
     "execution_count": 22,
     "metadata": {},
     "output_type": "execute_result"
    }
   ],
   "source": [
    "test.head()"
   ]
  },
  {
   "cell_type": "markdown",
   "metadata": {},
   "source": [
    "## Process Prompt"
   ]
  },
  {
   "cell_type": "code",
   "execution_count": 41,
   "metadata": {},
   "outputs": [],
   "source": [
    "def get_model_response(query, model, tokenizer):\n",
    "    # Load model and tokenizer\n",
    "    model = model\n",
    "    tokenizer = tokenizer\n",
    "\n",
    "    # Format the input with few-shot examples\n",
    "    prompt_text = \"\\n\\n\".join([f\"Question: {ex['Question']}\\nAnswer: {ex['Answer']}\" for ex in few_shot_examples])\n",
    "    prompt_text += f\"\\n\\nQuestion: {query}\"\n",
    "\n",
    "    # Encode and send to model\n",
    "    inputs = tokenizer(prompt_text, return_tensors=\"pt\").to('cuda')\n",
    "    outputs = model.generate(**inputs, max_length=600, num_return_sequences=1)\n",
    "\n",
    "    # Decode the output\n",
    "    full_response = tokenizer.decode(outputs[0], skip_special_tokens=True)\n",
    "\n",
    "    # Extracting the answer corresponding to the specific query\n",
    "    response_parts = full_response.split(\"Answer:\")\n",
    "    for i, part in enumerate(response_parts[:-1]):\n",
    "        if f\"Question: {query}\" in part:\n",
    "            return response_parts[i + 1].split(\"\\n\")[0].strip()\n",
    "\n",
    "    return \"No specific answer found.\""
   ]
  },
  {
   "cell_type": "code",
   "execution_count": 42,
   "metadata": {},
   "outputs": [
    {
     "name": "stdout",
     "output_type": "stream",
     "text": [
      "Here are some appartements in Basel that cost less than 700'000 CHF: [max_price = 700,000 CHF, location_keyword = Basel, property_type = apartment]\n"
     ]
    }
   ],
   "source": [
    "# Example usage\n",
    "query = \"Show me a few appartements in Basel which cost less than 700'000 CHF.\"\n",
    "response = get_model_response(query, model=model, tokenizer=tokenizer)\n",
    "print(response)"
   ]
  }
 ],
 "metadata": {
  "kernelspec": {
   "display_name": "rasa",
   "language": "python",
   "name": "python3"
  },
  "language_info": {
   "codemirror_mode": {
    "name": "ipython",
    "version": 3
   },
   "file_extension": ".py",
   "mimetype": "text/x-python",
   "name": "python",
   "nbconvert_exporter": "python",
   "pygments_lexer": "ipython3",
   "version": "3.8.18"
  }
 },
 "nbformat": 4,
 "nbformat_minor": 2
}
