{
 "cells": [
  {
   "cell_type": "markdown",
   "metadata": {},
   "source": [
    "<div style=\"width: 30%; float: right; margin: 10px; margin-right: 5%;\">\n",
    "    <img src=\"https://upload.wikimedia.org/wikipedia/commons/thumb/d/d3/FHNW_Logo.svg/2560px-FHNW_Logo.svg.png\" width=\"500\" style=\"float: left; filter: invert(50%);\"/>\n",
    "</div>\n",
    "\n",
    "# Phi-2 Few-Shot learning\n",
    "\n",
    "In diesem Notebook werden wir einen Chatbot für Schweizer Immobilien Empfehlungen mittels Few-Shot learning erstellen. <br>\n",
    "Dabei verwenden wir das LLM [phi-2](https://huggingface.co/microsoft/phi-2 ) von Microsoft.\n",
    "\n",
    "\n",
    "\n",
    "---\n",
    "Bearbeitet durch Si Ben Tran, Yannic Lais, Rami Tarabishi im HS 2023.<br>\n",
    "Bachelor of Science FHNW in Data Science."
   ]
  },
  {
   "cell_type": "markdown",
   "metadata": {},
   "source": [
    "## Einleitung\n",
    "\n",
    "### Allgemeines Vorgehen\n",
    "\n",
    "- Name entity recognition auf den Prompt\n",
    "- Entities werden für die Datenbankabfrage extrahiert\n",
    "- Prompt wird mit den Trainingsexamples sowie der Datenbankabfrage an das Phi-2 Modell gesendet"
   ]
  },
  {
   "cell_type": "code",
   "execution_count": 1,
   "metadata": {},
   "outputs": [
    {
     "name": "stderr",
     "output_type": "stream",
     "text": [
      "c:\\Users\\yanni\\miniconda3\\envs\\npr_mc2\\lib\\site-packages\\tqdm\\auto.py:21: TqdmWarning: IProgress not found. Please update jupyter and ipywidgets. See https://ipywidgets.readthedocs.io/en/stable/user_install.html\n",
      "  from .autonotebook import tqdm as notebook_tqdm\n"
     ]
    }
   ],
   "source": [
    "import torch\n",
    "from transformers import AutoModelForCausalLM, AutoTokenizer\n",
    "import spacy\n",
    "import pandas as pd\n",
    "import re\n",
    "from torchsummary import summary"
   ]
  },
  {
   "cell_type": "code",
   "execution_count": 2,
   "metadata": {},
   "outputs": [
    {
     "name": "stdout",
     "output_type": "stream",
     "text": [
      "Using device: cuda\n",
      "\n",
      "NVIDIA GeForce RTX 4060 Laptop GPU\n",
      "Memory Usage:\n",
      "Allocated: 0.0 GB\n",
      "Cached:    0.0 GB\n"
     ]
    }
   ],
   "source": [
    "# setting device on GPU if available, else CPU\n",
    "device = torch.device('cuda' if torch.cuda.is_available() else 'cpu')\n",
    "print('Using device:', device)\n",
    "print()\n",
    "\n",
    "#Additional Info when using cuda\n",
    "if device.type == 'cuda':\n",
    "    print(torch.cuda.get_device_name(0))\n",
    "    print('Memory Usage:')\n",
    "    print('Allocated:', round(torch.cuda.memory_allocated(0)/1024**3,1), 'GB')\n",
    "    print('Cached:   ', round(torch.cuda.memory_reserved(0)/1024**3,1), 'GB')"
   ]
  },
  {
   "cell_type": "markdown",
   "metadata": {},
   "source": [
    "## Immobiliendaten"
   ]
  },
  {
   "cell_type": "code",
   "execution_count": 3,
   "metadata": {},
   "outputs": [],
   "source": [
    "# read parquet file\n",
    "df = pd.read_parquet('data\\immo_data_202208.parquet')"
   ]
  },
  {
   "cell_type": "code",
   "execution_count": 4,
   "metadata": {},
   "outputs": [],
   "source": [
    "# filter for important columns\n",
    "df = df[['Municipality', 'detailed_description', 'price_cleaned', 'type', 'rooms', 'url']]\n",
    "df['price'] = df['price_cleaned'].astype(float)\n",
    "df = df.drop(columns=['price_cleaned'])\n",
    "# drop rows with missing values\n",
    "df = df.dropna()"
   ]
  },
  {
   "cell_type": "code",
   "execution_count": 5,
   "metadata": {},
   "outputs": [
    {
     "data": {
      "text/html": [
       "<div>\n",
       "<style scoped>\n",
       "    .dataframe tbody tr th:only-of-type {\n",
       "        vertical-align: middle;\n",
       "    }\n",
       "\n",
       "    .dataframe tbody tr th {\n",
       "        vertical-align: top;\n",
       "    }\n",
       "\n",
       "    .dataframe thead th {\n",
       "        text-align: right;\n",
       "    }\n",
       "</style>\n",
       "<table border=\"1\" class=\"dataframe\">\n",
       "  <thead>\n",
       "    <tr style=\"text-align: right;\">\n",
       "      <th></th>\n",
       "      <th>Municipality</th>\n",
       "      <th>detailed_description</th>\n",
       "      <th>type</th>\n",
       "      <th>rooms</th>\n",
       "      <th>url</th>\n",
       "      <th>price</th>\n",
       "    </tr>\n",
       "  </thead>\n",
       "  <tbody>\n",
       "    <tr>\n",
       "      <th>0</th>\n",
       "      <td>Biberstein</td>\n",
       "      <td>DescriptionLuxuriöse Attika-Wohnung direkt an ...</td>\n",
       "      <td>penthouse</td>\n",
       "      <td>5.0</td>\n",
       "      <td>https://www.immoscout24.ch//en/d/penthouse-buy...</td>\n",
       "      <td>1150000.0</td>\n",
       "    </tr>\n",
       "    <tr>\n",
       "      <th>1</th>\n",
       "      <td>Biberstein</td>\n",
       "      <td>DescriptionStilvolle Liegenschaft an ruhiger L...</td>\n",
       "      <td>terrace-house</td>\n",
       "      <td>5.0</td>\n",
       "      <td>https://www.immoscout24.ch//en/d/terrace-house...</td>\n",
       "      <td>1420000.0</td>\n",
       "    </tr>\n",
       "    <tr>\n",
       "      <th>3</th>\n",
       "      <td>Biberstein</td>\n",
       "      <td>DescriptionDieses äusserst grosszügige Minergi...</td>\n",
       "      <td>detached-house</td>\n",
       "      <td>5.0</td>\n",
       "      <td>https://www.immoscout24.ch//en/d/detached-hous...</td>\n",
       "      <td>1430000.0</td>\n",
       "    </tr>\n",
       "    <tr>\n",
       "      <th>4</th>\n",
       "      <td>Küttigen</td>\n",
       "      <td>DescriptionAus ehemals zwei Wohnungen wurde ei...</td>\n",
       "      <td>flat</td>\n",
       "      <td>5.0</td>\n",
       "      <td>https://www.immoscout24.ch//en/d/flat-buy-romb...</td>\n",
       "      <td>995000.0</td>\n",
       "    </tr>\n",
       "    <tr>\n",
       "      <th>5</th>\n",
       "      <td>Erlinsbach (AG)</td>\n",
       "      <td>DescriptionDer Blick in die Weite vermittelt R...</td>\n",
       "      <td>detached-house</td>\n",
       "      <td>5.0</td>\n",
       "      <td>https://www.immoscout24.ch//en/d/detached-hous...</td>\n",
       "      <td>2160000.0</td>\n",
       "    </tr>\n",
       "  </tbody>\n",
       "</table>\n",
       "</div>"
      ],
      "text/plain": [
       "      Municipality                               detailed_description  \\\n",
       "0       Biberstein  DescriptionLuxuriöse Attika-Wohnung direkt an ...   \n",
       "1       Biberstein  DescriptionStilvolle Liegenschaft an ruhiger L...   \n",
       "3       Biberstein  DescriptionDieses äusserst grosszügige Minergi...   \n",
       "4         Küttigen  DescriptionAus ehemals zwei Wohnungen wurde ei...   \n",
       "5  Erlinsbach (AG)  DescriptionDer Blick in die Weite vermittelt R...   \n",
       "\n",
       "             type rooms                                                url  \\\n",
       "0       penthouse   5.0  https://www.immoscout24.ch//en/d/penthouse-buy...   \n",
       "1   terrace-house   5.0  https://www.immoscout24.ch//en/d/terrace-house...   \n",
       "3  detached-house   5.0  https://www.immoscout24.ch//en/d/detached-hous...   \n",
       "4            flat   5.0  https://www.immoscout24.ch//en/d/flat-buy-romb...   \n",
       "5  detached-house   5.0  https://www.immoscout24.ch//en/d/detached-hous...   \n",
       "\n",
       "       price  \n",
       "0  1150000.0  \n",
       "1  1420000.0  \n",
       "3  1430000.0  \n",
       "4   995000.0  \n",
       "5  2160000.0  "
      ]
     },
     "execution_count": 5,
     "metadata": {},
     "output_type": "execute_result"
    }
   ],
   "source": [
    "df.head()"
   ]
  },
  {
   "cell_type": "markdown",
   "metadata": {},
   "source": [
    "## Phi-2 Model"
   ]
  },
  {
   "cell_type": "code",
   "execution_count": 6,
   "metadata": {},
   "outputs": [
    {
     "name": "stderr",
     "output_type": "stream",
     "text": [
      "c:\\Users\\yanni\\miniconda3\\envs\\npr_mc2\\lib\\site-packages\\torch\\autocast_mode.py:156: UserWarning: In CPU autocast, but the target dtype is not supported. Disabling autocast.\n",
      "CPU Autocast only supports dtype of torch.bfloat16 currently.\n",
      "  warnings.warn(error_message)\n",
      "Loading checkpoint shards: 100%|██████████| 2/2 [00:05<00:00,  2.88s/it]\n",
      "Special tokens have been added in the vocabulary, make sure the associated word embeddings are fine-tuned or trained.\n"
     ]
    }
   ],
   "source": [
    "model = AutoModelForCausalLM.from_pretrained(\"microsoft/phi-2\", torch_dtype=\"auto\", device_map=\"cuda\", trust_remote_code=True)\n",
    "model.to('cuda')\n",
    "tokenizer = AutoTokenizer.from_pretrained(\"microsoft/phi-2\", trust_remote_code=True)"
   ]
  },
  {
   "cell_type": "code",
   "execution_count": 7,
   "metadata": {},
   "outputs": [
    {
     "data": {
      "text/plain": [
       "'input_size = (10, 512)\\nsummary(model, input_size=input_size)'"
      ]
     },
     "execution_count": 7,
     "metadata": {},
     "output_type": "execute_result"
    }
   ],
   "source": [
    "'''input_size = (10, 512)\n",
    "summary(model, input_size=input_size)'''"
   ]
  },
  {
   "cell_type": "markdown",
   "metadata": {},
   "source": [
    "#### Einzelner Input"
   ]
  },
  {
   "cell_type": "code",
   "execution_count": 8,
   "metadata": {},
   "outputs": [
    {
     "name": "stdout",
     "output_type": "stream",
     "text": [
      "Is a penguin a bird or a mamal?\n",
      "Answer: A penguin is a bird.\n",
      "\n",
      "Exercise 2:\n",
      "What is the difference between a simile and a metaphor\n"
     ]
    }
   ],
   "source": [
    "inputs = tokenizer(\"Is a penguin a bird or a mamal?\", return_tensors=\"pt\").to('cuda')\n",
    "\n",
    "# Generate outputs and decode\n",
    "outputs = model.generate(**inputs, max_length=40)\n",
    "text = tokenizer.decode(outputs[0], skip_special_tokens=True)\n",
    "\n",
    "print(text)"
   ]
  },
  {
   "cell_type": "markdown",
   "metadata": {},
   "source": [
    "## Process Prompt"
   ]
  },
  {
   "cell_type": "code",
   "execution_count": 9,
   "metadata": {},
   "outputs": [],
   "source": [
    "# Few-shot examples\n",
    "few_shot_examples = [\n",
    "    {\n",
    "        \"Question\": \"I am looking for an flat in Zurich under 1'000'000 CHF.\", \n",
    "        \"Answer\": \"Here are some options for apartments in Zurich under 1'000'000 CHF: (max_price = 1000000, location_keyword = Zürich, property_type = flat)\"\n",
    "    },\n",
    "    {\n",
    "        \"Question\": \"Are there terraced houses in Bern in the CHF 500,000 to 700,000 range?\",\n",
    "        \"Answer\": \"Yes, there are terraced houses in Bern in the CHF 500,000 to 700,000 range: (max_price = 700000, min_price = 500000, location_keyword = Bern, property_type = terraced_house)\"\n",
    "    },\n",
    "    {\n",
    "        \"Question\": \"I need a detached house in Lucerne with a garden for around CHF 1,200,000.\",\n",
    "        \"Answer\": \"In Lucerne you can find detached houses with a garden for around CHF 1,200,000: (location_keyword = Bern, property_type = detached-house, arround_price = 1200000)\"\n",
    "    },\n",
    "    {\n",
    "        \"Question\": \"Are there modern apartments with 3.5 rooms available in Basel for under CHF 900,000?\",\n",
    "        \"Answer\": \"Modern apartments in Basel under 900'000 CHF are available: (max_price = 900000, location_keyword = Basel, property_type = flat, rooms = 3.5)\"\n",
    "    },\n",
    "    {\n",
    "        \"Question\": \"I am looking for a large house in Lausanne, at least 5 rooms, up to 1'500'000 CHF.\",\n",
    "        \"Answer\": \"Large houses in Lausanne with at least 5 rooms up to 1'500'000 CHF can be found here: (max_price = 1500000, location_keyword = Lausanne, property_type = house)\"\n",
    "    }\n",
    "\n",
    "]\n"
   ]
  },
  {
   "cell_type": "code",
   "execution_count": 10,
   "metadata": {},
   "outputs": [],
   "source": [
    "def filter_dataframe(df = df, max_price = None, min_price = None, arround_price = None, location_keyword = None, property_type = None, rooms = None):\n",
    "\n",
    "    type_list =  df.type.unique().tolist()\n",
    "    type_list.append('house')\n",
    "    type_list = [x.lower() for x in type_list]\n",
    "\n",
    "    # Apply filters\n",
    "    if arround_price:\n",
    "        filtered_df = df[df['price'] <= arround_price * 1.1]\n",
    "        filtered_df = df[df['price'] >= arround_price * 0.9]\n",
    "    if max_price:\n",
    "        filtered_df = df[df['price'] <= max_price]\n",
    "    if min_price:\n",
    "        filtered_df = df[df['price'] >= min_price]\n",
    "    if location_keyword:\n",
    "        filtered_df = filtered_df[filtered_df['Municipality'].str.contains(location_keyword, case=False, na=False)]\n",
    "    if property_type.lower() in type_list:\n",
    "        filtered_df = filtered_df[filtered_df['type'].str.contains(property_type, case=False, na=False)]\n",
    "    if rooms:\n",
    "        filtered_df = filtered_df[filtered_df['rooms'] == rooms]\n",
    "\n",
    "    # Return 5 random samples\n",
    "    if len(filtered_df) >= 5:\n",
    "        return filtered_df.sample(n=5, random_state = 42)\n",
    "    else:\n",
    "        return filtered_df"
   ]
  },
  {
   "cell_type": "code",
   "execution_count": 11,
   "metadata": {},
   "outputs": [],
   "source": [
    "test = filter_dataframe(df, max_price = 1200000, location_keyword = 'Basel', property_type = 'flat')"
   ]
  },
  {
   "cell_type": "code",
   "execution_count": 12,
   "metadata": {},
   "outputs": [
    {
     "data": {
      "text/html": [
       "<div>\n",
       "<style scoped>\n",
       "    .dataframe tbody tr th:only-of-type {\n",
       "        vertical-align: middle;\n",
       "    }\n",
       "\n",
       "    .dataframe tbody tr th {\n",
       "        vertical-align: top;\n",
       "    }\n",
       "\n",
       "    .dataframe thead th {\n",
       "        text-align: right;\n",
       "    }\n",
       "</style>\n",
       "<table border=\"1\" class=\"dataframe\">\n",
       "  <thead>\n",
       "    <tr style=\"text-align: right;\">\n",
       "      <th></th>\n",
       "      <th>Municipality</th>\n",
       "      <th>detailed_description</th>\n",
       "      <th>type</th>\n",
       "      <th>rooms</th>\n",
       "      <th>url</th>\n",
       "      <th>price</th>\n",
       "    </tr>\n",
       "  </thead>\n",
       "  <tbody>\n",
       "    <tr>\n",
       "      <th>2742</th>\n",
       "      <td>Basel</td>\n",
       "      <td>DescriptionObjektbeschrieb  An idealer Lage im...</td>\n",
       "      <td>flat</td>\n",
       "      <td>5.0</td>\n",
       "      <td>https://www.immoscout24.ch//en/d/flat-buy-base...</td>\n",
       "      <td>495000.0</td>\n",
       "    </tr>\n",
       "    <tr>\n",
       "      <th>2738</th>\n",
       "      <td>Basel</td>\n",
       "      <td>DescriptionDiese Wohnung im 3. Obergeschoss bi...</td>\n",
       "      <td>flat</td>\n",
       "      <td>5.0</td>\n",
       "      <td>https://www.immoscout24.ch//en/d/flat-buy-base...</td>\n",
       "      <td>650000.0</td>\n",
       "    </tr>\n",
       "    <tr>\n",
       "      <th>2671</th>\n",
       "      <td>Basel</td>\n",
       "      <td>DescriptionWollen Sie sich endlich Ihren Traum...</td>\n",
       "      <td>flat</td>\n",
       "      <td>5.0</td>\n",
       "      <td>https://www.immoscout24.ch//en/d/flat-buy-base...</td>\n",
       "      <td>1130000.0</td>\n",
       "    </tr>\n",
       "    <tr>\n",
       "      <th>2737</th>\n",
       "      <td>Basel</td>\n",
       "      <td>DescriptionIm Breite-Quartier wird diese heime...</td>\n",
       "      <td>flat</td>\n",
       "      <td>2.0</td>\n",
       "      <td>https://www.immoscout24.ch//en/d/flat-buy-base...</td>\n",
       "      <td>470000.0</td>\n",
       "    </tr>\n",
       "    <tr>\n",
       "      <th>2733</th>\n",
       "      <td>Basel</td>\n",
       "      <td>DescriptionBaujahr: 1961Renovation: 2022Wohnfl...</td>\n",
       "      <td>flat</td>\n",
       "      <td>5.0</td>\n",
       "      <td>https://www.immoscout24.ch//en/d/flat-buy-base...</td>\n",
       "      <td>695000.0</td>\n",
       "    </tr>\n",
       "  </tbody>\n",
       "</table>\n",
       "</div>"
      ],
      "text/plain": [
       "     Municipality                               detailed_description  type  \\\n",
       "2742        Basel  DescriptionObjektbeschrieb  An idealer Lage im...  flat   \n",
       "2738        Basel  DescriptionDiese Wohnung im 3. Obergeschoss bi...  flat   \n",
       "2671        Basel  DescriptionWollen Sie sich endlich Ihren Traum...  flat   \n",
       "2737        Basel  DescriptionIm Breite-Quartier wird diese heime...  flat   \n",
       "2733        Basel  DescriptionBaujahr: 1961Renovation: 2022Wohnfl...  flat   \n",
       "\n",
       "     rooms                                                url      price  \n",
       "2742   5.0  https://www.immoscout24.ch//en/d/flat-buy-base...   495000.0  \n",
       "2738   5.0  https://www.immoscout24.ch//en/d/flat-buy-base...   650000.0  \n",
       "2671   5.0  https://www.immoscout24.ch//en/d/flat-buy-base...  1130000.0  \n",
       "2737   2.0  https://www.immoscout24.ch//en/d/flat-buy-base...   470000.0  \n",
       "2733   5.0  https://www.immoscout24.ch//en/d/flat-buy-base...   695000.0  "
      ]
     },
     "execution_count": 12,
     "metadata": {},
     "output_type": "execute_result"
    }
   ],
   "source": [
    "test.head()"
   ]
  },
  {
   "cell_type": "code",
   "execution_count": 13,
   "metadata": {},
   "outputs": [],
   "source": [
    "def get_model_response(query, model, tokenizer):\n",
    "    # Load model and tokenizer\n",
    "    model = model\n",
    "    tokenizer = tokenizer\n",
    "\n",
    "    # Format the input with few-shot examples\n",
    "    prompt_text = \"\\n\\n\".join([f\"Question: {ex['Question']}\\nAnswer: {ex['Answer']}\" for ex in few_shot_examples])\n",
    "    prompt_text += f\"\\n\\nQuestion: {query}\"\n",
    "\n",
    "    # Encode and send to model\n",
    "    inputs = tokenizer(prompt_text, return_tensors=\"pt\").to('cuda')\n",
    "    outputs = model.generate(**inputs, max_length=600, num_return_sequences=1)\n",
    "\n",
    "    # Decode the output\n",
    "    full_response = tokenizer.decode(outputs[0], skip_special_tokens=True)\n",
    "\n",
    "    # Extracting the answer corresponding to the specific query\n",
    "    response_parts = full_response.split(\"Answer:\")\n",
    "    for i, part in enumerate(response_parts[:-1]):\n",
    "        if f\"Question: {query}\" in part:\n",
    "            return response_parts[i + 1].split(\"\\n\")[0].strip()\n",
    "\n",
    "    return \"No specific answer found.\""
   ]
  },
  {
   "cell_type": "code",
   "execution_count": 14,
   "metadata": {},
   "outputs": [],
   "source": [
    "def parse_and_filter(input_str, df):\n",
    "    try:\n",
    "        # Extract the parameter string\n",
    "        params_str = re.search(r'\\((.*?)\\)', input_str).group(1)\n",
    "    \n",
    "    except:\n",
    "        return \"No specific answer found.\"\n",
    "\n",
    "    # Initialize parameters with default values\n",
    "    params = {\n",
    "        'df': df,\n",
    "        'max_price': None,\n",
    "        'min_price': None,\n",
    "        'arround_price': None,\n",
    "        'location_keyword': None,\n",
    "        'property_type': None,\n",
    "        'rooms': None\n",
    "    }\n",
    "\n",
    "    # Split the parameter string and iterate over each parameter\n",
    "    for param in params_str.split(','):\n",
    "        key, value = param.split('=')\n",
    "        key = key.strip()\n",
    "        value = value.strip()\n",
    "\n",
    "        # Convert value to the correct type if necessary\n",
    "        if key in ['max_price', 'min_price', 'arround_price', 'rooms']:\n",
    "            value = int(value)\n",
    "        # Update the parameters dictionary\n",
    "        params[key] = value\n",
    "\n",
    "    # Call the filter_dataframe function with unpacked arguments\n",
    "    return filter_dataframe(**params)"
   ]
  },
  {
   "cell_type": "markdown",
   "metadata": {},
   "source": [
    "### Normal Query close to Examples"
   ]
  },
  {
   "cell_type": "code",
   "execution_count": 15,
   "metadata": {},
   "outputs": [
    {
     "name": "stdout",
     "output_type": "stream",
     "text": [
      "Here are some options for real estate in Genf under 4'000'000 CHF\n"
     ]
    },
    {
     "data": {
      "text/html": [
       "<div>\n",
       "<style scoped>\n",
       "    .dataframe tbody tr th:only-of-type {\n",
       "        vertical-align: middle;\n",
       "    }\n",
       "\n",
       "    .dataframe tbody tr th {\n",
       "        vertical-align: top;\n",
       "    }\n",
       "\n",
       "    .dataframe thead th {\n",
       "        text-align: right;\n",
       "    }\n",
       "</style>\n",
       "<table border=\"1\" class=\"dataframe\">\n",
       "  <thead>\n",
       "    <tr style=\"text-align: right;\">\n",
       "      <th></th>\n",
       "      <th>Municipality</th>\n",
       "      <th>detailed_description</th>\n",
       "      <th>type</th>\n",
       "      <th>rooms</th>\n",
       "      <th>url</th>\n",
       "      <th>price</th>\n",
       "    </tr>\n",
       "  </thead>\n",
       "  <tbody>\n",
       "    <tr>\n",
       "      <th>14086</th>\n",
       "      <td>Genf</td>\n",
       "      <td>Description\\n\"Magnifique appartement rénové au...</td>\n",
       "      <td>Apartment</td>\n",
       "      <td>4rm</td>\n",
       "      <td>https://www.homegate.ch/buy/3001932055</td>\n",
       "      <td>3950000.0</td>\n",
       "    </tr>\n",
       "    <tr>\n",
       "      <th>14293</th>\n",
       "      <td>Genf</td>\n",
       "      <td>Description\\n\"Attique meublé au centre ville a...</td>\n",
       "      <td>Apartment</td>\n",
       "      <td>2rm</td>\n",
       "      <td>https://www.homegate.ch/buy/3002030169</td>\n",
       "      <td>2900000.0</td>\n",
       "    </tr>\n",
       "    <tr>\n",
       "      <th>14294</th>\n",
       "      <td>Genf</td>\n",
       "      <td>Description\\n\"Stresa Lac Majeur - Lago Maggior...</td>\n",
       "      <td>Apartment</td>\n",
       "      <td>2rm</td>\n",
       "      <td>https://www.homegate.ch/buy/3002017927</td>\n",
       "      <td>289000.0</td>\n",
       "    </tr>\n",
       "  </tbody>\n",
       "</table>\n",
       "</div>"
      ],
      "text/plain": [
       "      Municipality                               detailed_description  \\\n",
       "14086         Genf  Description\\n\"Magnifique appartement rénové au...   \n",
       "14293         Genf  Description\\n\"Attique meublé au centre ville a...   \n",
       "14294         Genf  Description\\n\"Stresa Lac Majeur - Lago Maggior...   \n",
       "\n",
       "            type rooms                                     url      price  \n",
       "14086  Apartment   4rm  https://www.homegate.ch/buy/3001932055  3950000.0  \n",
       "14293  Apartment   2rm  https://www.homegate.ch/buy/3002030169  2900000.0  \n",
       "14294  Apartment   2rm  https://www.homegate.ch/buy/3002017927   289000.0  "
      ]
     },
     "execution_count": 15,
     "metadata": {},
     "output_type": "execute_result"
    }
   ],
   "source": [
    "# Example usage\n",
    "query = \"Show me real estate in genf which cost less than 4'000'000 CHF.\"\n",
    "\n",
    "response = get_model_response(query, model=model, tokenizer=tokenizer)\n",
    "filtered_df = parse_and_filter(response, df)\n",
    "\n",
    "print(response.split(':')[0])\n",
    "filtered_df"
   ]
  },
  {
   "cell_type": "markdown",
   "metadata": {},
   "source": [
    "#### Evaluation"
   ]
  },
  {
   "cell_type": "code",
   "execution_count": 16,
   "metadata": {},
   "outputs": [
    {
     "data": {
      "text/plain": [
       "Municipality            3\n",
       "detailed_description    3\n",
       "type                    3\n",
       "rooms                   3\n",
       "url                     3\n",
       "price                   3\n",
       "dtype: int64"
      ]
     },
     "execution_count": 16,
     "metadata": {},
     "output_type": "execute_result"
    }
   ],
   "source": [
    "# show how many Municiplaities with the keyword 'Basel' are in the dataset\n",
    "df[df['Municipality'].str.contains('Genf', case=False, na=False)].count()"
   ]
  },
  {
   "cell_type": "markdown",
   "metadata": {},
   "source": [
    "### Query in German"
   ]
  },
  {
   "cell_type": "code",
   "execution_count": 17,
   "metadata": {},
   "outputs": [
    {
     "name": "stdout",
     "output_type": "stream",
     "text": [
      "Here are a few apartments in Basel that cost less than 1'200'000 CHF\n"
     ]
    },
    {
     "data": {
      "text/html": [
       "<div>\n",
       "<style scoped>\n",
       "    .dataframe tbody tr th:only-of-type {\n",
       "        vertical-align: middle;\n",
       "    }\n",
       "\n",
       "    .dataframe tbody tr th {\n",
       "        vertical-align: top;\n",
       "    }\n",
       "\n",
       "    .dataframe thead th {\n",
       "        text-align: right;\n",
       "    }\n",
       "</style>\n",
       "<table border=\"1\" class=\"dataframe\">\n",
       "  <thead>\n",
       "    <tr style=\"text-align: right;\">\n",
       "      <th></th>\n",
       "      <th>Municipality</th>\n",
       "      <th>detailed_description</th>\n",
       "      <th>type</th>\n",
       "      <th>rooms</th>\n",
       "      <th>url</th>\n",
       "      <th>price</th>\n",
       "    </tr>\n",
       "  </thead>\n",
       "  <tbody>\n",
       "    <tr>\n",
       "      <th>21988</th>\n",
       "      <td>Basel</td>\n",
       "      <td>Description\\n\"4,5-Zimmer Eigentumswohnung mit ...</td>\n",
       "      <td>Apartment</td>\n",
       "      <td>4.5rm</td>\n",
       "      <td>https://www.homegate.ch/buy/3002036691</td>\n",
       "      <td>1075000.0</td>\n",
       "    </tr>\n",
       "  </tbody>\n",
       "</table>\n",
       "</div>"
      ],
      "text/plain": [
       "      Municipality                               detailed_description  \\\n",
       "21988        Basel  Description\\n\"4,5-Zimmer Eigentumswohnung mit ...   \n",
       "\n",
       "            type  rooms                                     url      price  \n",
       "21988  Apartment  4.5rm  https://www.homegate.ch/buy/3002036691  1075000.0  "
      ]
     },
     "execution_count": 17,
     "metadata": {},
     "output_type": "execute_result"
    }
   ],
   "source": [
    "query_german = \"Zeige mir ein paar Wohnungen in Basel, die weniger als 1'200'000 CHF kosten.\"\n",
    "\n",
    "response = get_model_response(query_german, model=model, tokenizer=tokenizer)\n",
    "filtered_df = parse_and_filter(response, df)\n",
    "\n",
    "print(response.split(':')[0])\n",
    "filtered_df"
   ]
  },
  {
   "cell_type": "markdown",
   "metadata": {},
   "source": [
    "#### Evaluation\n",
    "\n",
    "Wohnungen werden automatisch als Apartments erkannt, es gäbe weitere Wohnungen mit dem porperty_type: flat, apartment etc."
   ]
  },
  {
   "cell_type": "code",
   "execution_count": 20,
   "metadata": {},
   "outputs": [
    {
     "data": {
      "text/html": [
       "<div>\n",
       "<style scoped>\n",
       "    .dataframe tbody tr th:only-of-type {\n",
       "        vertical-align: middle;\n",
       "    }\n",
       "\n",
       "    .dataframe tbody tr th {\n",
       "        vertical-align: top;\n",
       "    }\n",
       "\n",
       "    .dataframe thead th {\n",
       "        text-align: right;\n",
       "    }\n",
       "</style>\n",
       "<table border=\"1\" class=\"dataframe\">\n",
       "  <thead>\n",
       "    <tr style=\"text-align: right;\">\n",
       "      <th></th>\n",
       "      <th>Municipality</th>\n",
       "      <th>detailed_description</th>\n",
       "      <th>type</th>\n",
       "      <th>rooms</th>\n",
       "      <th>url</th>\n",
       "      <th>price</th>\n",
       "    </tr>\n",
       "  </thead>\n",
       "  <tbody>\n",
       "    <tr>\n",
       "      <th>2742</th>\n",
       "      <td>Basel</td>\n",
       "      <td>DescriptionObjektbeschrieb  An idealer Lage im...</td>\n",
       "      <td>flat</td>\n",
       "      <td>5.0</td>\n",
       "      <td>https://www.immoscout24.ch//en/d/flat-buy-base...</td>\n",
       "      <td>495000.0</td>\n",
       "    </tr>\n",
       "    <tr>\n",
       "      <th>2738</th>\n",
       "      <td>Basel</td>\n",
       "      <td>DescriptionDiese Wohnung im 3. Obergeschoss bi...</td>\n",
       "      <td>flat</td>\n",
       "      <td>5.0</td>\n",
       "      <td>https://www.immoscout24.ch//en/d/flat-buy-base...</td>\n",
       "      <td>650000.0</td>\n",
       "    </tr>\n",
       "    <tr>\n",
       "      <th>2671</th>\n",
       "      <td>Basel</td>\n",
       "      <td>DescriptionWollen Sie sich endlich Ihren Traum...</td>\n",
       "      <td>flat</td>\n",
       "      <td>5.0</td>\n",
       "      <td>https://www.immoscout24.ch//en/d/flat-buy-base...</td>\n",
       "      <td>1130000.0</td>\n",
       "    </tr>\n",
       "    <tr>\n",
       "      <th>2737</th>\n",
       "      <td>Basel</td>\n",
       "      <td>DescriptionIm Breite-Quartier wird diese heime...</td>\n",
       "      <td>flat</td>\n",
       "      <td>2.0</td>\n",
       "      <td>https://www.immoscout24.ch//en/d/flat-buy-base...</td>\n",
       "      <td>470000.0</td>\n",
       "    </tr>\n",
       "    <tr>\n",
       "      <th>2733</th>\n",
       "      <td>Basel</td>\n",
       "      <td>DescriptionBaujahr: 1961Renovation: 2022Wohnfl...</td>\n",
       "      <td>flat</td>\n",
       "      <td>5.0</td>\n",
       "      <td>https://www.immoscout24.ch//en/d/flat-buy-base...</td>\n",
       "      <td>695000.0</td>\n",
       "    </tr>\n",
       "  </tbody>\n",
       "</table>\n",
       "</div>"
      ],
      "text/plain": [
       "     Municipality                               detailed_description  type  \\\n",
       "2742        Basel  DescriptionObjektbeschrieb  An idealer Lage im...  flat   \n",
       "2738        Basel  DescriptionDiese Wohnung im 3. Obergeschoss bi...  flat   \n",
       "2671        Basel  DescriptionWollen Sie sich endlich Ihren Traum...  flat   \n",
       "2737        Basel  DescriptionIm Breite-Quartier wird diese heime...  flat   \n",
       "2733        Basel  DescriptionBaujahr: 1961Renovation: 2022Wohnfl...  flat   \n",
       "\n",
       "     rooms                                                url      price  \n",
       "2742   5.0  https://www.immoscout24.ch//en/d/flat-buy-base...   495000.0  \n",
       "2738   5.0  https://www.immoscout24.ch//en/d/flat-buy-base...   650000.0  \n",
       "2671   5.0  https://www.immoscout24.ch//en/d/flat-buy-base...  1130000.0  \n",
       "2737   2.0  https://www.immoscout24.ch//en/d/flat-buy-base...   470000.0  \n",
       "2733   5.0  https://www.immoscout24.ch//en/d/flat-buy-base...   695000.0  "
      ]
     },
     "execution_count": 20,
     "metadata": {},
     "output_type": "execute_result"
    }
   ],
   "source": [
    "query_german_df = filter_dataframe(df, max_price = 1200000, location_keyword = 'Basel', property_type = 'Flat')\n",
    "query_german_df.head()"
   ]
  },
  {
   "cell_type": "markdown",
   "metadata": {},
   "source": [
    "### Random Query with different Intent"
   ]
  },
  {
   "cell_type": "code",
   "execution_count": 18,
   "metadata": {},
   "outputs": [
    {
     "name": "stdout",
     "output_type": "stream",
     "text": [
      "Yes, we have bread.\n"
     ]
    },
    {
     "data": {
      "text/plain": [
       "'No specific answer found.'"
      ]
     },
     "execution_count": 18,
     "metadata": {},
     "output_type": "execute_result"
    }
   ],
   "source": [
    "query_random = \"Hello do you have bread?\"\n",
    "\n",
    "response = get_model_response(query_random, model=model, tokenizer=tokenizer)\n",
    "filtered_df = parse_and_filter(response, df)\n",
    "\n",
    "print(response.split(':')[0])\n",
    "filtered_df"
   ]
  },
  {
   "cell_type": "markdown",
   "metadata": {},
   "source": [
    "#### Evaluation"
   ]
  },
  {
   "cell_type": "code",
   "execution_count": null,
   "metadata": {},
   "outputs": [],
   "source": []
  },
  {
   "cell_type": "code",
   "execution_count": null,
   "metadata": {},
   "outputs": [],
   "source": []
  },
  {
   "cell_type": "code",
   "execution_count": null,
   "metadata": {},
   "outputs": [],
   "source": []
  },
  {
   "cell_type": "code",
   "execution_count": null,
   "metadata": {},
   "outputs": [],
   "source": []
  },
  {
   "cell_type": "markdown",
   "metadata": {},
   "source": [
    "### Verbesserungen\n",
    "\n",
    "- Bekannte Städte auch englisher Name einsetzten Genf -> geneva\n",
    "- (Vergleich weiteres SLM)\n",
    "- Grenzen des Modelles austesten (selber code generieren lassen, selber eine spannweite einbauen price +/- 10%)\n",
    "- Evaluation des Modelles\n",
    "\n",
    "- Verbinden mit RASA Chatbot zur intenterkennung"
   ]
  },
  {
   "cell_type": "markdown",
   "metadata": {},
   "source": [
    "## Fazit\n",
    "\n",
    "Erstaunlich gute Performance, überrascht wie einfach die implementierung und auch die Abfragegeschwindigkeit ist"
   ]
  },
  {
   "cell_type": "markdown",
   "metadata": {},
   "source": [
    "### Ausblick\n",
    "\n",
    "- Viel mehr Datawrangling\n",
    "- Einbindung in RASA chatbot"
   ]
  },
  {
   "cell_type": "markdown",
   "metadata": {},
   "source": [
    "## Erkentnisse\n",
    "\n",
    "- Max length des outputs am anfang ein problem anschliessend nicht mehr beim Fewshot example"
   ]
  }
 ],
 "metadata": {
  "kernelspec": {
   "display_name": "rasa",
   "language": "python",
   "name": "python3"
  },
  "language_info": {
   "codemirror_mode": {
    "name": "ipython",
    "version": 3
   },
   "file_extension": ".py",
   "mimetype": "text/x-python",
   "name": "python",
   "nbconvert_exporter": "python",
   "pygments_lexer": "ipython3",
   "version": "3.8.18"
  }
 },
 "nbformat": 4,
 "nbformat_minor": 2
}
