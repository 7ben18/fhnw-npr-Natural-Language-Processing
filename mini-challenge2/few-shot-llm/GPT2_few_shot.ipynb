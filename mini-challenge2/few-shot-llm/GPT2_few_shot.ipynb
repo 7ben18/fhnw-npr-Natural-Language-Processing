{
 "cells": [
  {
   "cell_type": "markdown",
   "metadata": {},
   "source": [
    "<div style=\"width: 30%; float: right; margin: 10px; margin-right: 5%;\">\n",
    "    <img src=\"https://upload.wikimedia.org/wikipedia/commons/thumb/d/d3/FHNW_Logo.svg/2560px-FHNW_Logo.svg.png\" width=\"500\" style=\"float: left; filter: invert(50%);\"/>\n",
    "</div>\n",
    "\n",
    "# GPT-2 Few-Shot learning\n",
    "\n",
    "In diesem Notebook werden wir einen Chatbot für Schweizer Immobilien Empfehlungen mittels Few-Shot learning erstellen. <br>\n",
    "Dabei verwenden wir das LLM [GPT-2](https://huggingface.co/gpt2)von OpenAI.\n",
    "\n",
    "\n",
    "\n",
    "---\n",
    "Bearbeitet durch Si Ben Tran, Yannic Lais, Rami Tarabishi im HS 2023.<br>\n",
    "Bachelor of Science FHNW in Data Science."
   ]
  },
  {
   "cell_type": "markdown",
   "metadata": {},
   "source": [
    "## Einleitung\n",
    "\n",
    "### Allgemeines Vorgehen\n",
    "\n",
    "- Name entity recognition auf den Prompt\n",
    "- Entities werden für die Datenbankabfrage extrahiert\n",
    "- Prompt wird mit den Trainingsexamples sowie der Datenbankabfrage an das Phi-2 Modell gesendet"
   ]
  },
  {
   "cell_type": "code",
   "execution_count": 2,
   "metadata": {},
   "outputs": [
    {
     "name": "stderr",
     "output_type": "stream",
     "text": [
      "c:\\Python311\\Lib\\site-packages\\tqdm\\auto.py:21: TqdmWarning: IProgress not found. Please update jupyter and ipywidgets. See https://ipywidgets.readthedocs.io/en/stable/user_install.html\n",
      "  from .autonotebook import tqdm as notebook_tqdm\n"
     ]
    }
   ],
   "source": [
    "import torch\n",
    "from transformers import AutoModelForCausalLM, AutoTokenizer\n",
    "import pandas as pd\n",
    "import re"
   ]
  },
  {
   "cell_type": "code",
   "execution_count": 3,
   "metadata": {},
   "outputs": [
    {
     "name": "stdout",
     "output_type": "stream",
     "text": [
      "Using device: cuda\n",
      "\n",
      "NVIDIA GeForce RTX 3090\n",
      "Memory Usage:\n",
      "Allocated: 0.0 GB\n",
      "Cached:    0.0 GB\n"
     ]
    }
   ],
   "source": [
    "# setting device on GPU if available, else CPU\n",
    "device = torch.device('cuda' if torch.cuda.is_available() else 'cpu')\n",
    "print('Using device:', device)\n",
    "print()\n",
    "\n",
    "#Additional Info when using cuda\n",
    "if device.type == 'cuda':\n",
    "    print(torch.cuda.get_device_name(0))\n",
    "    print('Memory Usage:')\n",
    "    print('Allocated:', round(torch.cuda.memory_allocated(0)/1024**3,1), 'GB')\n",
    "    print('Cached:   ', round(torch.cuda.memory_reserved(0)/1024**3,1), 'GB')"
   ]
  },
  {
   "cell_type": "markdown",
   "metadata": {},
   "source": [
    "## Immobiliendaten"
   ]
  },
  {
   "cell_type": "code",
   "execution_count": 38,
   "metadata": {},
   "outputs": [],
   "source": [
    "# read parquet file\n",
    "df = pd.read_parquet('data\\immo_data_202208.parquet')"
   ]
  },
  {
   "cell_type": "code",
   "execution_count": 39,
   "metadata": {},
   "outputs": [],
   "source": [
    "# filter for important columns\n",
    "df = df[['Municipality', 'detailed_description', 'price_cleaned', 'type', 'rooms', 'url']]\n",
    "df['price'] = df['price_cleaned'].astype(float)\n",
    "df['rooms'] = pd.to_numeric(df['rooms'], errors='coerce')\n",
    "df = df.drop(columns=['price_cleaned'])\n",
    "# drop rows with missing values\n",
    "df = df.dropna()"
   ]
  },
  {
   "cell_type": "code",
   "execution_count": 6,
   "metadata": {},
   "outputs": [
    {
     "data": {
      "text/html": [
       "<div>\n",
       "<style scoped>\n",
       "    .dataframe tbody tr th:only-of-type {\n",
       "        vertical-align: middle;\n",
       "    }\n",
       "\n",
       "    .dataframe tbody tr th {\n",
       "        vertical-align: top;\n",
       "    }\n",
       "\n",
       "    .dataframe thead th {\n",
       "        text-align: right;\n",
       "    }\n",
       "</style>\n",
       "<table border=\"1\" class=\"dataframe\">\n",
       "  <thead>\n",
       "    <tr style=\"text-align: right;\">\n",
       "      <th></th>\n",
       "      <th>Municipality</th>\n",
       "      <th>detailed_description</th>\n",
       "      <th>type</th>\n",
       "      <th>rooms</th>\n",
       "      <th>url</th>\n",
       "      <th>price</th>\n",
       "    </tr>\n",
       "  </thead>\n",
       "  <tbody>\n",
       "    <tr>\n",
       "      <th>0</th>\n",
       "      <td>Biberstein</td>\n",
       "      <td>DescriptionLuxuriöse Attika-Wohnung direkt an ...</td>\n",
       "      <td>penthouse</td>\n",
       "      <td>5.0</td>\n",
       "      <td>https://www.immoscout24.ch//en/d/penthouse-buy...</td>\n",
       "      <td>1150000.0</td>\n",
       "    </tr>\n",
       "    <tr>\n",
       "      <th>1</th>\n",
       "      <td>Biberstein</td>\n",
       "      <td>DescriptionStilvolle Liegenschaft an ruhiger L...</td>\n",
       "      <td>terrace-house</td>\n",
       "      <td>5.0</td>\n",
       "      <td>https://www.immoscout24.ch//en/d/terrace-house...</td>\n",
       "      <td>1420000.0</td>\n",
       "    </tr>\n",
       "    <tr>\n",
       "      <th>3</th>\n",
       "      <td>Biberstein</td>\n",
       "      <td>DescriptionDieses äusserst grosszügige Minergi...</td>\n",
       "      <td>detached-house</td>\n",
       "      <td>5.0</td>\n",
       "      <td>https://www.immoscout24.ch//en/d/detached-hous...</td>\n",
       "      <td>1430000.0</td>\n",
       "    </tr>\n",
       "    <tr>\n",
       "      <th>4</th>\n",
       "      <td>Küttigen</td>\n",
       "      <td>DescriptionAus ehemals zwei Wohnungen wurde ei...</td>\n",
       "      <td>flat</td>\n",
       "      <td>5.0</td>\n",
       "      <td>https://www.immoscout24.ch//en/d/flat-buy-romb...</td>\n",
       "      <td>995000.0</td>\n",
       "    </tr>\n",
       "    <tr>\n",
       "      <th>5</th>\n",
       "      <td>Erlinsbach (AG)</td>\n",
       "      <td>DescriptionDer Blick in die Weite vermittelt R...</td>\n",
       "      <td>detached-house</td>\n",
       "      <td>5.0</td>\n",
       "      <td>https://www.immoscout24.ch//en/d/detached-hous...</td>\n",
       "      <td>2160000.0</td>\n",
       "    </tr>\n",
       "  </tbody>\n",
       "</table>\n",
       "</div>"
      ],
      "text/plain": [
       "      Municipality                               detailed_description  \\\n",
       "0       Biberstein  DescriptionLuxuriöse Attika-Wohnung direkt an ...   \n",
       "1       Biberstein  DescriptionStilvolle Liegenschaft an ruhiger L...   \n",
       "3       Biberstein  DescriptionDieses äusserst grosszügige Minergi...   \n",
       "4         Küttigen  DescriptionAus ehemals zwei Wohnungen wurde ei...   \n",
       "5  Erlinsbach (AG)  DescriptionDer Blick in die Weite vermittelt R...   \n",
       "\n",
       "             type rooms                                                url  \\\n",
       "0       penthouse   5.0  https://www.immoscout24.ch//en/d/penthouse-buy...   \n",
       "1   terrace-house   5.0  https://www.immoscout24.ch//en/d/terrace-house...   \n",
       "3  detached-house   5.0  https://www.immoscout24.ch//en/d/detached-hous...   \n",
       "4            flat   5.0  https://www.immoscout24.ch//en/d/flat-buy-romb...   \n",
       "5  detached-house   5.0  https://www.immoscout24.ch//en/d/detached-hous...   \n",
       "\n",
       "       price  \n",
       "0  1150000.0  \n",
       "1  1420000.0  \n",
       "3  1430000.0  \n",
       "4   995000.0  \n",
       "5  2160000.0  "
      ]
     },
     "execution_count": 6,
     "metadata": {},
     "output_type": "execute_result"
    }
   ],
   "source": [
    "df.head()"
   ]
  },
  {
   "cell_type": "markdown",
   "metadata": {},
   "source": [
    "## GPT2 Modell Laden"
   ]
  },
  {
   "cell_type": "code",
   "execution_count": 7,
   "metadata": {},
   "outputs": [],
   "source": [
    "model = AutoModelForCausalLM.from_pretrained(\"gpt2\", torch_dtype=\"auto\", device_map=\"cuda\", trust_remote_code=True)\n",
    "model.to('cuda')\n",
    "tokenizer = AutoTokenizer.from_pretrained(\"gpt2\", trust_remote_code=True)"
   ]
  },
  {
   "cell_type": "markdown",
   "metadata": {},
   "source": [
    "#### Einzelner Input"
   ]
  },
  {
   "cell_type": "code",
   "execution_count": 8,
   "metadata": {},
   "outputs": [
    {
     "name": "stderr",
     "output_type": "stream",
     "text": [
      "Setting `pad_token_id` to `eos_token_id`:50256 for open-end generation.\n"
     ]
    },
    {
     "name": "stdout",
     "output_type": "stream",
     "text": [
      "Is a penguin a bird or a mamal?\n",
      "\n",
      "A penguin is a bird that lives in the water. It is a very small bird. It is a very small bird.\n"
     ]
    }
   ],
   "source": [
    "inputs = tokenizer(\"Is a penguin a bird or a mamal?\", return_tensors=\"pt\").to('cuda')\n",
    "\n",
    "# Generate outputs and decode\n",
    "outputs = model.generate(**inputs, max_length=40)\n",
    "text = tokenizer.decode(outputs[0], skip_special_tokens=True)\n",
    "\n",
    "print(text)"
   ]
  },
  {
   "cell_type": "markdown",
   "metadata": {},
   "source": [
    "GPT2 scheint weiter zu generieren, bis das Token Limit erreicht ist, egal ob es schon die antwort richtig und ganz gegeben hat."
   ]
  },
  {
   "cell_type": "markdown",
   "metadata": {},
   "source": [
    "## Process Prompt"
   ]
  },
  {
   "cell_type": "code",
   "execution_count": 9,
   "metadata": {},
   "outputs": [],
   "source": [
    "def filter_dataframe(df = df, max_price = None, min_price = None, arround_price = None, location_keyword = None, property_type = None, rooms = None):\n",
    "\n",
    "    type_list =  df.type.unique().tolist()\n",
    "    type_list.append('house')\n",
    "    type_list = [x.lower() for x in type_list]\n",
    "\n",
    "    # Apply filters\n",
    "    if arround_price:\n",
    "        filtered_df = df[df['price'] <= arround_price * 1.1]\n",
    "        filtered_df = df[df['price'] >= arround_price * 0.9]\n",
    "    if max_price:\n",
    "        filtered_df = df[df['price'] <= max_price]\n",
    "    if min_price:\n",
    "        filtered_df = df[df['price'] >= min_price]\n",
    "    if location_keyword:\n",
    "        filtered_df = filtered_df[filtered_df['Municipality'].str.contains(location_keyword, case=False, na=False)]\n",
    "    if property_type.lower() in type_list:\n",
    "        filtered_df = filtered_df[filtered_df['type'].str.contains(property_type, case=False, na=False)]\n",
    "    if rooms:\n",
    "        filtered_df = filtered_df[filtered_df['rooms'] == rooms]\n",
    "\n",
    "    # Return 5 random samples\n",
    "    if len(filtered_df) >= 5:\n",
    "        return filtered_df.sample(n=5, random_state = 42)\n",
    "    else:\n",
    "        return filtered_df"
   ]
  },
  {
   "cell_type": "code",
   "execution_count": 10,
   "metadata": {},
   "outputs": [],
   "source": [
    "test = filter_dataframe(df, max_price = 1200000, location_keyword = 'Basel', property_type = 'flat')"
   ]
  },
  {
   "cell_type": "code",
   "execution_count": 11,
   "metadata": {},
   "outputs": [
    {
     "data": {
      "text/html": [
       "<div>\n",
       "<style scoped>\n",
       "    .dataframe tbody tr th:only-of-type {\n",
       "        vertical-align: middle;\n",
       "    }\n",
       "\n",
       "    .dataframe tbody tr th {\n",
       "        vertical-align: top;\n",
       "    }\n",
       "\n",
       "    .dataframe thead th {\n",
       "        text-align: right;\n",
       "    }\n",
       "</style>\n",
       "<table border=\"1\" class=\"dataframe\">\n",
       "  <thead>\n",
       "    <tr style=\"text-align: right;\">\n",
       "      <th></th>\n",
       "      <th>Municipality</th>\n",
       "      <th>detailed_description</th>\n",
       "      <th>type</th>\n",
       "      <th>rooms</th>\n",
       "      <th>url</th>\n",
       "      <th>price</th>\n",
       "    </tr>\n",
       "  </thead>\n",
       "  <tbody>\n",
       "    <tr>\n",
       "      <th>2742</th>\n",
       "      <td>Basel</td>\n",
       "      <td>DescriptionObjektbeschrieb  An idealer Lage im...</td>\n",
       "      <td>flat</td>\n",
       "      <td>5.0</td>\n",
       "      <td>https://www.immoscout24.ch//en/d/flat-buy-base...</td>\n",
       "      <td>495000.0</td>\n",
       "    </tr>\n",
       "    <tr>\n",
       "      <th>2738</th>\n",
       "      <td>Basel</td>\n",
       "      <td>DescriptionDiese Wohnung im 3. Obergeschoss bi...</td>\n",
       "      <td>flat</td>\n",
       "      <td>5.0</td>\n",
       "      <td>https://www.immoscout24.ch//en/d/flat-buy-base...</td>\n",
       "      <td>650000.0</td>\n",
       "    </tr>\n",
       "    <tr>\n",
       "      <th>2671</th>\n",
       "      <td>Basel</td>\n",
       "      <td>DescriptionWollen Sie sich endlich Ihren Traum...</td>\n",
       "      <td>flat</td>\n",
       "      <td>5.0</td>\n",
       "      <td>https://www.immoscout24.ch//en/d/flat-buy-base...</td>\n",
       "      <td>1130000.0</td>\n",
       "    </tr>\n",
       "    <tr>\n",
       "      <th>2737</th>\n",
       "      <td>Basel</td>\n",
       "      <td>DescriptionIm Breite-Quartier wird diese heime...</td>\n",
       "      <td>flat</td>\n",
       "      <td>2.0</td>\n",
       "      <td>https://www.immoscout24.ch//en/d/flat-buy-base...</td>\n",
       "      <td>470000.0</td>\n",
       "    </tr>\n",
       "    <tr>\n",
       "      <th>2733</th>\n",
       "      <td>Basel</td>\n",
       "      <td>DescriptionBaujahr: 1961Renovation: 2022Wohnfl...</td>\n",
       "      <td>flat</td>\n",
       "      <td>5.0</td>\n",
       "      <td>https://www.immoscout24.ch//en/d/flat-buy-base...</td>\n",
       "      <td>695000.0</td>\n",
       "    </tr>\n",
       "  </tbody>\n",
       "</table>\n",
       "</div>"
      ],
      "text/plain": [
       "     Municipality                               detailed_description  type  \\\n",
       "2742        Basel  DescriptionObjektbeschrieb  An idealer Lage im...  flat   \n",
       "2738        Basel  DescriptionDiese Wohnung im 3. Obergeschoss bi...  flat   \n",
       "2671        Basel  DescriptionWollen Sie sich endlich Ihren Traum...  flat   \n",
       "2737        Basel  DescriptionIm Breite-Quartier wird diese heime...  flat   \n",
       "2733        Basel  DescriptionBaujahr: 1961Renovation: 2022Wohnfl...  flat   \n",
       "\n",
       "     rooms                                                url      price  \n",
       "2742   5.0  https://www.immoscout24.ch//en/d/flat-buy-base...   495000.0  \n",
       "2738   5.0  https://www.immoscout24.ch//en/d/flat-buy-base...   650000.0  \n",
       "2671   5.0  https://www.immoscout24.ch//en/d/flat-buy-base...  1130000.0  \n",
       "2737   2.0  https://www.immoscout24.ch//en/d/flat-buy-base...   470000.0  \n",
       "2733   5.0  https://www.immoscout24.ch//en/d/flat-buy-base...   695000.0  "
      ]
     },
     "execution_count": 11,
     "metadata": {},
     "output_type": "execute_result"
    }
   ],
   "source": [
    "test.head()"
   ]
  },
  {
   "cell_type": "code",
   "execution_count": 12,
   "metadata": {},
   "outputs": [],
   "source": [
    "def parse_and_filter(input_str, df):\n",
    "    try:\n",
    "        # Extract the parameter string\n",
    "        params_str = re.search(r'\\((.*?)\\)', input_str).group(1)\n",
    "    except:\n",
    "        return \"No specific answer found.\"\n",
    "\n",
    "    # Initialize parameters with default values\n",
    "    params = {\n",
    "        'df': df,\n",
    "        'max_price': None,\n",
    "        'min_price': None,\n",
    "        'arround_price': None,\n",
    "        'location_keyword': None,\n",
    "        'property_type': None,\n",
    "        'rooms': None\n",
    "    }\n",
    "\n",
    "    # Split the parameter string and iterate over each parameter\n",
    "    for param in params_str.split(','):\n",
    "        key, value = param.split('=')\n",
    "        key = key.strip()\n",
    "        value = value.strip()\n",
    "\n",
    "        # Convert value to the correct type if necessary\n",
    "        if key in ['max_price', 'min_price', 'arround_price', 'rooms']:\n",
    "            value = int(value)\n",
    "        # Update the parameters dictionary\n",
    "        params[key] = value\n",
    "\n",
    "    # Call the filter_dataframe function with unpacked arguments\n",
    "    return filter_dataframe(**params)"
   ]
  },
  {
   "cell_type": "code",
   "execution_count": 13,
   "metadata": {},
   "outputs": [],
   "source": [
    "# Few-shot examples:\n",
    "few_shot_examples = [\n",
    "    {\n",
    "        \"Question\": \"I am looking for an flat in Zurich under 1'000'000 CHF.\", \n",
    "        \"Answer\": \"Here are some options for apartments in Zurich under 1'000'000 CHF: (max_price = 1000000, location_keyword = Zürich, property_type = flat)\"\n",
    "    },\n",
    "    {\n",
    "        \"Question\": \"Are there terraced houses in Bern in the CHF 500,000 to 700,000 range?\",\n",
    "        \"Answer\": \"Yes, there are terraced houses in Bern in the CHF 500,000 to 700,000 range: (max_price = 700000, min_price = 500000, location_keyword = Bern, property_type = terraced_house)\"\n",
    "    },\n",
    "    {\n",
    "        \"Question\": \"I need a detached house in Lucerne with a garden for around CHF 1,200,000.\",\n",
    "        \"Answer\": \"In Lucerne you can find detached houses with a garden for around CHF 1,200,000: (location_keyword = Bern, property_type = detached-house, arround_price = 1200000)\"\n",
    "    },\n",
    "    {\n",
    "        \"Question\": \"Are there modern apartments with 3.5 rooms available in Basel for under CHF 900,000?\",\n",
    "        \"Answer\": \"Modern apartments in Basel under 900'000 CHF are available: (max_price = 900000, location_keyword = Basel, property_type = flat, rooms = 3.5)\"\n",
    "    },\n",
    "    {\n",
    "        \"Question\": \"I am looking for a large house in Lausanne, at least 5 rooms, up to 1'500'000 CHF.\",\n",
    "        \"Answer\": \"Large houses in Lausanne with at least 5 rooms up to 1'500'000 CHF can be found here: (max_price = 1500000, location_keyword = Lausanne, property_type = house)\"\n",
    "    }\n",
    "]"
   ]
  },
  {
   "cell_type": "code",
   "execution_count": 22,
   "metadata": {},
   "outputs": [],
   "source": [
    "def get_model_response(query, model, tokenizer, few_shots = None, pre_query = None):\n",
    "    # Load model and tokenizer\n",
    "    model = model\n",
    "    tokenizer = tokenizer\n",
    "\n",
    "    if few_shots:\n",
    "        prompt_text = \"\\n\".join([f\"Question: {ex['Question']}\\nAnswer: {ex['Answer']}\" for ex in few_shots])\n",
    "        prompt_text += f\"\\nQuestion: {query}\"\n",
    "        prompt_text += \"\\nAnswer:\"\n",
    "    elif pre_query:\n",
    "        prompt_text = pre_query\n",
    "        prompt_text += f\"\\nQuestion: {query}\"\n",
    "        prompt_text += \"\\nAnswer:\"\n",
    "    else:\n",
    "        prompt_text = f\"Question: {query}\\nAnswer:\"\n",
    "\n",
    "    print(prompt_text)\n",
    "\n",
    "    # Encode and send to model\n",
    "    inputs = tokenizer(prompt_text, return_tensors=\"pt\").to('cuda')\n",
    "    outputs = model.generate(**inputs, max_length=1024, num_return_sequences=1)\n",
    "\n",
    "    # Decode the output\n",
    "    full_response = tokenizer.decode(outputs[0], skip_special_tokens=True)\n",
    "\n",
    "    # Extracting the answer corresponding to the specific query\n",
    "    response_parts = full_response.split(\"Answer:\")\n",
    "    for i, part in enumerate(response_parts[:-1]):\n",
    "        if f\"Question: {query}\" in part:\n",
    "            return response_parts[i + 1].split(\"\\n\")[0].strip()\n",
    "\n",
    "    return \"No specific answer found.\""
   ]
  },
  {
   "cell_type": "markdown",
   "metadata": {},
   "source": [
    "#### Mit gleiche few-shot prompt als phi-2:"
   ]
  },
  {
   "cell_type": "code",
   "execution_count": 24,
   "metadata": {},
   "outputs": [
    {
     "name": "stderr",
     "output_type": "stream",
     "text": [
      "Setting `pad_token_id` to `eos_token_id`:50256 for open-end generation.\n"
     ]
    },
    {
     "name": "stdout",
     "output_type": "stream",
     "text": [
      "Question: I am looking for an flat in Zurich under 1'000'000 CHF.\n",
      "Answer: Here are some options for apartments in Zurich under 1'000'000 CHF: (max_price = 1000000, location_keyword = Zürich, property_type = flat)\n",
      "Question: Are there terraced houses in Bern in the CHF 500,000 to 700,000 range?\n",
      "Answer: Yes, there are terraced houses in Bern in the CHF 500,000 to 700,000 range: (max_price = 700000, min_price = 500000, location_keyword = Bern, property_type = terraced_house)\n",
      "Question: I need a detached house in Lucerne with a garden for around CHF 1,200,000.\n",
      "Answer: In Lucerne you can find detached houses with a garden for around CHF 1,200,000: (location_keyword = Bern, property_type = detached-house, arround_price = 1200000)\n",
      "Question: Are there modern apartments with 3.5 rooms available in Basel for under CHF 900,000?\n",
      "Answer: Modern apartments in Basel under 900'000 CHF are available: (max_price = 900000, location_keyword = Basel, property_type = flat, rooms = 3.5)\n",
      "Question: I am looking for a large house in Lausanne, at least 5 rooms, up to 1'500'000 CHF.\n",
      "Answer: Large houses in Lausanne with at least 5 rooms up to 1'500'000 CHF can be found here: (max_price = 1500000, location_keyword = Lausanne, property_type = house)\n",
      "Question: Give me houses in aarau which cost less than 4'000'000 CHF.\n",
      "Answer:\n",
      "Give me houses in aarau which cost less than 4'000'000 CHF can be found here: (max_price = 40000, location_keyword = Aarau, property_type = house)\n"
     ]
    },
    {
     "data": {
      "text/html": [
       "<div>\n",
       "<style scoped>\n",
       "    .dataframe tbody tr th:only-of-type {\n",
       "        vertical-align: middle;\n",
       "    }\n",
       "\n",
       "    .dataframe tbody tr th {\n",
       "        vertical-align: top;\n",
       "    }\n",
       "\n",
       "    .dataframe thead th {\n",
       "        text-align: right;\n",
       "    }\n",
       "</style>\n",
       "<table border=\"1\" class=\"dataframe\">\n",
       "  <thead>\n",
       "    <tr style=\"text-align: right;\">\n",
       "      <th></th>\n",
       "      <th>Municipality</th>\n",
       "      <th>detailed_description</th>\n",
       "      <th>type</th>\n",
       "      <th>rooms</th>\n",
       "      <th>url</th>\n",
       "      <th>price</th>\n",
       "    </tr>\n",
       "  </thead>\n",
       "  <tbody>\n",
       "  </tbody>\n",
       "</table>\n",
       "</div>"
      ],
      "text/plain": [
       "Empty DataFrame\n",
       "Columns: [Municipality, detailed_description, type, rooms, url, price]\n",
       "Index: []"
      ]
     },
     "execution_count": 24,
     "metadata": {},
     "output_type": "execute_result"
    }
   ],
   "source": [
    "# Example usage\n",
    "query = \"Give me houses in aarau which cost less than 4'000'000 CHF.\"\n",
    "response = get_model_response(query, model=model, tokenizer=tokenizer, few_shots=few_shot_examples)\n",
    "print(response)\n",
    "\n",
    "filtered_df = parse_and_filter(response, df)\n",
    "\n",
    "filtered_df"
   ]
  },
  {
   "cell_type": "markdown",
   "metadata": {},
   "source": [
    "GPT-2 Gibt eine Antwort zurück, die nicht richtig geschrieben ist, aber die richtige struktur hat mit falschen properties (Speciefisch preis, glaub das ist wegen den ' im preis). \n",
    "\n",
    "#### Mit gleiche few-shot prompt als phi-2 mit anderen preis format:"
   ]
  },
  {
   "cell_type": "code",
   "execution_count": 25,
   "metadata": {},
   "outputs": [
    {
     "name": "stderr",
     "output_type": "stream",
     "text": [
      "Setting `pad_token_id` to `eos_token_id`:50256 for open-end generation.\n"
     ]
    },
    {
     "name": "stdout",
     "output_type": "stream",
     "text": [
      "Question: I am looking for an flat in Zurich under 1'000'000 CHF.\n",
      "Answer: Here are some options for apartments in Zurich under 1'000'000 CHF: (max_price = 1000000, location_keyword = Zürich, property_type = flat)\n",
      "Question: Are there terraced houses in Bern in the CHF 500,000 to 700,000 range?\n",
      "Answer: Yes, there are terraced houses in Bern in the CHF 500,000 to 700,000 range: (max_price = 700000, min_price = 500000, location_keyword = Bern, property_type = terraced_house)\n",
      "Question: I need a detached house in Lucerne with a garden for around CHF 1,200,000.\n",
      "Answer: In Lucerne you can find detached houses with a garden for around CHF 1,200,000: (location_keyword = Bern, property_type = detached-house, arround_price = 1200000)\n",
      "Question: Are there modern apartments with 3.5 rooms available in Basel for under CHF 900,000?\n",
      "Answer: Modern apartments in Basel under 900'000 CHF are available: (max_price = 900000, location_keyword = Basel, property_type = flat, rooms = 3.5)\n",
      "Question: I am looking for a large house in Lausanne, at least 5 rooms, up to 1'500'000 CHF.\n",
      "Answer: Large houses in Lausanne with at least 5 rooms up to 1'500'000 CHF can be found here: (max_price = 1500000, location_keyword = Lausanne, property_type = house)\n",
      "Question: Give me houses in aarau which cost less than 4000000 CHF.\n",
      "Answer:\n",
      "Give me houses in aarau which cost less than 4000000 CHF can be found here: (max_price = 4000000, location_keyword = Lausanne, property_type = house)\n"
     ]
    },
    {
     "data": {
      "text/html": [
       "<div>\n",
       "<style scoped>\n",
       "    .dataframe tbody tr th:only-of-type {\n",
       "        vertical-align: middle;\n",
       "    }\n",
       "\n",
       "    .dataframe tbody tr th {\n",
       "        vertical-align: top;\n",
       "    }\n",
       "\n",
       "    .dataframe thead th {\n",
       "        text-align: right;\n",
       "    }\n",
       "</style>\n",
       "<table border=\"1\" class=\"dataframe\">\n",
       "  <thead>\n",
       "    <tr style=\"text-align: right;\">\n",
       "      <th></th>\n",
       "      <th>Municipality</th>\n",
       "      <th>detailed_description</th>\n",
       "      <th>type</th>\n",
       "      <th>rooms</th>\n",
       "      <th>url</th>\n",
       "      <th>price</th>\n",
       "    </tr>\n",
       "  </thead>\n",
       "  <tbody>\n",
       "    <tr>\n",
       "      <th>13676</th>\n",
       "      <td>Le Mont-sur-Lausanne</td>\n",
       "      <td>Description\\n\"Les Villas de Bellevue - Villa A...</td>\n",
       "      <td>Bifamiliar house</td>\n",
       "      <td>6.5rm</td>\n",
       "      <td>https://www.homegate.ch/buy/3002039073</td>\n",
       "      <td>1850000.0</td>\n",
       "    </tr>\n",
       "    <tr>\n",
       "      <th>13815</th>\n",
       "      <td>Belmont-sur-Lausanne</td>\n",
       "      <td>Description\\n\"Maison individuelle à rénover\"\\n...</td>\n",
       "      <td>Single house</td>\n",
       "      <td>4.5rm</td>\n",
       "      <td>https://www.homegate.ch/buy/3001735442</td>\n",
       "      <td>1195000.0</td>\n",
       "    </tr>\n",
       "    <tr>\n",
       "      <th>10216</th>\n",
       "      <td>Lausanne</td>\n",
       "      <td>DescriptionEN EXCLUSIVITE !A deux pas du Parc ...</td>\n",
       "      <td>detached-house</td>\n",
       "      <td>5.0</td>\n",
       "      <td>https://www.immoscout24.ch//en/d/detached-hous...</td>\n",
       "      <td>1790000.0</td>\n",
       "    </tr>\n",
       "    <tr>\n",
       "      <th>13442</th>\n",
       "      <td>Lausanne</td>\n",
       "      <td>Description\\n\"RARE A LA VENTE ! MAISON MITOYEN...</td>\n",
       "      <td>Bifamiliar house</td>\n",
       "      <td>5rm</td>\n",
       "      <td>https://www.homegate.ch/buy/3001001892</td>\n",
       "      <td>2640000.0</td>\n",
       "    </tr>\n",
       "    <tr>\n",
       "      <th>10230</th>\n",
       "      <td>Lausanne</td>\n",
       "      <td>DescriptionIdéalement située proche de la lign...</td>\n",
       "      <td>detached-house</td>\n",
       "      <td>5.0</td>\n",
       "      <td>https://www.immoscout24.ch//en/d/detached-hous...</td>\n",
       "      <td>1950000.0</td>\n",
       "    </tr>\n",
       "  </tbody>\n",
       "</table>\n",
       "</div>"
      ],
      "text/plain": [
       "                 Municipality  \\\n",
       "13676    Le Mont-sur-Lausanne   \n",
       "13815    Belmont-sur-Lausanne   \n",
       "10216                Lausanne   \n",
       "13442                Lausanne   \n",
       "10230                Lausanne   \n",
       "\n",
       "                                    detailed_description              type  \\\n",
       "13676  Description\\n\"Les Villas de Bellevue - Villa A...  Bifamiliar house   \n",
       "13815  Description\\n\"Maison individuelle à rénover\"\\n...      Single house   \n",
       "10216  DescriptionEN EXCLUSIVITE !A deux pas du Parc ...    detached-house   \n",
       "13442  Description\\n\"RARE A LA VENTE ! MAISON MITOYEN...  Bifamiliar house   \n",
       "10230  DescriptionIdéalement située proche de la lign...    detached-house   \n",
       "\n",
       "       rooms                                                url      price  \n",
       "13676  6.5rm             https://www.homegate.ch/buy/3002039073  1850000.0  \n",
       "13815  4.5rm             https://www.homegate.ch/buy/3001735442  1195000.0  \n",
       "10216    5.0  https://www.immoscout24.ch//en/d/detached-hous...  1790000.0  \n",
       "13442    5rm             https://www.homegate.ch/buy/3001001892  2640000.0  \n",
       "10230    5.0  https://www.immoscout24.ch//en/d/detached-hous...  1950000.0  "
      ]
     },
     "execution_count": 25,
     "metadata": {},
     "output_type": "execute_result"
    }
   ],
   "source": [
    "# Example usage\n",
    "query = \"Give me houses in aarau which cost less than 4000000 CHF.\"\n",
    "response = get_model_response(query, model=model, tokenizer=tokenizer, few_shots=few_shot_examples)\n",
    "print(response)\n",
    "\n",
    "filtered_df = parse_and_filter(response, df)\n",
    "\n",
    "filtered_df"
   ]
  },
  {
   "cell_type": "markdown",
   "metadata": {},
   "source": [
    "Jetzt das ich die ' beim preis raus genommen habe, versteht GPT-2 die preis besser und gibt die richtige antwort zurück.\n",
    "\n",
    "#### Ohne few-shot, aber mit einer Erklärung wie die Anfrage aufgebaut ist:"
   ]
  },
  {
   "cell_type": "code",
   "execution_count": 18,
   "metadata": {},
   "outputs": [
    {
     "name": "stderr",
     "output_type": "stream",
     "text": [
      "Setting `pad_token_id` to `eos_token_id`:50256 for open-end generation.\n"
     ]
    },
    {
     "name": "stdout",
     "output_type": "stream",
     "text": [
      "You will be given a question about a real estate inquiry, in which there are values which you need to extract and answer back in the following format: <Answer> (max_price = <max_price>, min_price = <min_price>, around_price = <around_price>, location_keyword = <location_keyword>, property_type = <property_type>, rooms = <rooms>).\n",
      "Question: Give me houses in aarau which cost less than 4000000 CHF.\n",
      "Answer:\n",
      "Give me houses in aarau which cost less than 4000000 CHF.\n"
     ]
    },
    {
     "data": {
      "text/plain": [
       "'No specific answer found.'"
      ]
     },
     "execution_count": 18,
     "metadata": {},
     "output_type": "execute_result"
    }
   ],
   "source": [
    "# Example usage\n",
    "query = \"Give me houses in aarau which cost less than 4000000 CHF.\"\n",
    "pre_query = \"You will be given a question about a real estate inquiry, in which there are values which you need to extract and answer back in the following format: <Answer> (max_price = <max_price>, min_price = <min_price>, around_price = <around_price>, location_keyword = <location_keyword>, property_type = <property_type>, rooms = <rooms>).\"\n",
    "response = get_model_response(query, model=model, tokenizer=tokenizer, pre_query=pre_query)\n",
    "print(response)\n",
    "filtered_df = parse_and_filter(response, df)\n",
    "\n",
    "filtered_df"
   ]
  },
  {
   "cell_type": "markdown",
   "metadata": {},
   "source": [
    "Das model versteht einfach nicht die aufgabe von der anfrage und gibt eine antwort zurück, die entweder wie den prompt ausseiht aber ohne dem richtigen format, oder die format vo gefragt wurde.\n",
    "\n",
    "#### Few-shot mit einem deutchen prompt:"
   ]
  },
  {
   "cell_type": "code",
   "execution_count": 26,
   "metadata": {},
   "outputs": [
    {
     "name": "stderr",
     "output_type": "stream",
     "text": [
      "Setting `pad_token_id` to `eos_token_id`:50256 for open-end generation.\n"
     ]
    },
    {
     "name": "stdout",
     "output_type": "stream",
     "text": [
      "Question: I am looking for an flat in Zurich under 1'000'000 CHF.\n",
      "Answer: Here are some options for apartments in Zurich under 1'000'000 CHF: (max_price = 1000000, location_keyword = Zürich, property_type = flat)\n",
      "Question: Are there terraced houses in Bern in the CHF 500,000 to 700,000 range?\n",
      "Answer: Yes, there are terraced houses in Bern in the CHF 500,000 to 700,000 range: (max_price = 700000, min_price = 500000, location_keyword = Bern, property_type = terraced_house)\n",
      "Question: I need a detached house in Lucerne with a garden for around CHF 1,200,000.\n",
      "Answer: In Lucerne you can find detached houses with a garden for around CHF 1,200,000: (location_keyword = Bern, property_type = detached-house, arround_price = 1200000)\n",
      "Question: Are there modern apartments with 3.5 rooms available in Basel for under CHF 900,000?\n",
      "Answer: Modern apartments in Basel under 900'000 CHF are available: (max_price = 900000, location_keyword = Basel, property_type = flat, rooms = 3.5)\n",
      "Question: I am looking for a large house in Lausanne, at least 5 rooms, up to 1'500'000 CHF.\n",
      "Answer: Large houses in Lausanne with at least 5 rooms up to 1'500'000 CHF can be found here: (max_price = 1500000, location_keyword = Lausanne, property_type = house)\n",
      "Question: Zeige mir ein paar Wohnungen in Basel, die weniger als 1'200'000 CHF kosten.\n",
      "Answer:\n",
      "Zeige mir ein paar Wohnungen in Basel, die weniger als 1'200'000 CHF kosten.\n"
     ]
    },
    {
     "data": {
      "text/plain": [
       "'No specific answer found.'"
      ]
     },
     "execution_count": 26,
     "metadata": {},
     "output_type": "execute_result"
    }
   ],
   "source": [
    "# Example usage\n",
    "query_german = \"Zeige mir ein paar Wohnungen in Basel, die weniger als 1'200'000 CHF kosten.\"\n",
    "response = get_model_response(query_german, model=model, tokenizer=tokenizer, few_shots=few_shot_examples)\n",
    "print(response)\n",
    "\n",
    "filtered_df = parse_and_filter(response, df)\n",
    "\n",
    "filtered_df"
   ]
  },
  {
   "cell_type": "markdown",
   "metadata": {},
   "source": [
    "Da GPT-2 nicht wirklich ein multi language modell ist, versteht es nicht die anfrage und gibt einfach den prompt zurück als antwort."
   ]
  },
  {
   "cell_type": "markdown",
   "metadata": {},
   "source": [
    "## Weitere Queries:\n",
    "\n",
    "Die folgenden queries volgen wie bei Phi-2 gemacht war"
   ]
  },
  {
   "cell_type": "markdown",
   "metadata": {},
   "source": [
    "### Random query ohne few shot:"
   ]
  },
  {
   "cell_type": "code",
   "execution_count": 27,
   "metadata": {},
   "outputs": [
    {
     "name": "stderr",
     "output_type": "stream",
     "text": [
      "Setting `pad_token_id` to `eos_token_id`:50256 for open-end generation.\n"
     ]
    },
    {
     "name": "stdout",
     "output_type": "stream",
     "text": [
      "Question: Hello do you have bread?\n",
      "Answer:\n",
      "Yes, I do.\n"
     ]
    },
    {
     "data": {
      "text/plain": [
       "'No specific answer found.'"
      ]
     },
     "execution_count": 27,
     "metadata": {},
     "output_type": "execute_result"
    }
   ],
   "source": [
    "query_random = \"Hello do you have bread?\"\n",
    "\n",
    "response = get_model_response(query_random, model=model, tokenizer=tokenizer)\n",
    "filtered_df = parse_and_filter(response, df)\n",
    "\n",
    "print(response.split(':')[0])\n",
    "filtered_df"
   ]
  },
  {
   "cell_type": "markdown",
   "metadata": {},
   "source": [
    "Ohne fewshots versteht GPT-2 die anfrage richit und beantwortet sie richtig."
   ]
  },
  {
   "cell_type": "code",
   "execution_count": 28,
   "metadata": {},
   "outputs": [
    {
     "name": "stderr",
     "output_type": "stream",
     "text": [
      "Setting `pad_token_id` to `eos_token_id`:50256 for open-end generation.\n"
     ]
    },
    {
     "name": "stdout",
     "output_type": "stream",
     "text": [
      "Question: I am looking for an flat in Zurich under 1'000'000 CHF.\n",
      "Answer: Here are some options for apartments in Zurich under 1'000'000 CHF: (max_price = 1000000, location_keyword = Zürich, property_type = flat)\n",
      "Question: Are there terraced houses in Bern in the CHF 500,000 to 700,000 range?\n",
      "Answer: Yes, there are terraced houses in Bern in the CHF 500,000 to 700,000 range: (max_price = 700000, min_price = 500000, location_keyword = Bern, property_type = terraced_house)\n",
      "Question: I need a detached house in Lucerne with a garden for around CHF 1,200,000.\n",
      "Answer: In Lucerne you can find detached houses with a garden for around CHF 1,200,000: (location_keyword = Bern, property_type = detached-house, arround_price = 1200000)\n",
      "Question: Are there modern apartments with 3.5 rooms available in Basel for under CHF 900,000?\n",
      "Answer: Modern apartments in Basel under 900'000 CHF are available: (max_price = 900000, location_keyword = Basel, property_type = flat, rooms = 3.5)\n",
      "Question: I am looking for a large house in Lausanne, at least 5 rooms, up to 1'500'000 CHF.\n",
      "Answer: Large houses in Lausanne with at least 5 rooms up to 1'500'000 CHF can be found here: (max_price = 1500000, location_keyword = Lausanne, property_type = house)\n",
      "Question: Hello do you have bread?\n",
      "Answer:\n",
      "Yes, I have bread in Zurich.\n"
     ]
    },
    {
     "data": {
      "text/plain": [
       "'No specific answer found.'"
      ]
     },
     "execution_count": 28,
     "metadata": {},
     "output_type": "execute_result"
    }
   ],
   "source": [
    "# Mit fewshot\n",
    "query_random = \"Hello do you have bread?\"\n",
    "\n",
    "response = get_model_response(query_random, model=model, tokenizer=tokenizer, few_shots=few_shot_examples)\n",
    "filtered_df = parse_and_filter(response, df)\n",
    "\n",
    "print(response.split(':')[0])\n",
    "filtered_df"
   ]
  },
  {
   "cell_type": "markdown",
   "metadata": {},
   "source": [
    "GPT-2 Verstehet die anfrage und antwortet \"richtig\", es probiert sogar die query an den beispiel anzupassen mit einer stadt."
   ]
  },
  {
   "cell_type": "markdown",
   "metadata": {},
   "source": [
    "### Extrahieren des gesammten Dataframe Abfrage Codes"
   ]
  },
  {
   "cell_type": "code",
   "execution_count": 21,
   "metadata": {},
   "outputs": [],
   "source": [
    "few_shot_examples_code = [\n",
    "    {\n",
    "        \"Question\": \"I am looking for an flat in Zurich under 1'000'000 CHF.\",\n",
    "        \"Answer\": \"df_test = df[(df['Municipality'].str.contains('Zürich')) & (df['price'] < 1000000) & (df['type'].str.contains('flat'))]\"\n",
    "    },\n",
    "    {\n",
    "        \"Question\": \"Are there terraced houses in Bern in the CHF 500,000 to 700,000 range?\",\n",
    "        \"Answer\": \"df_test = df[(df['Municipality'].str.contains('Bern')) & (df['price'] >= 500000) & (df['price'] <= 700000) & (df['type'].str.contains('terraced_house'))]\"\n",
    "    },\n",
    "    {\n",
    "        \"Question\": \"I need a house in Lucerne with a garden for around CHF 1,200,000.\",\n",
    "        \"Answer\": \"df_test = df[(df['Municipality'].str.contains('Luzern')) & (df['price'] <= (1200000*1.1)) & (df['price'] >= (1200000*0.9)) & (df['type'].str.contains('house'))]\"\n",
    "    },\n",
    "    {\n",
    "        \"Question\": \"Are there modern apartments with 3.5 rooms available in Basel for under CHF 900,000?\",\n",
    "        \"Answer\": \"df_test = df[(df['Municipality'].str.contains('Basel')) & (df['rooms'] == 3.5) & (df['price'] < 900000) & (df['type'].str.contains('apartment'))]\"\n",
    "    },\n",
    "    {\n",
    "        \"Question\": \"I am looking for a large house in Lausanne, at least 5 rooms, up to 1'500'000 CHF.\",\n",
    "        \"Answer\": \"df_test = df[(df['Municipality'].str.contains('Lausanne')) & (df['rooms'] >= 5) & (df['price'] <= 1500000) & (df['type'].str.contains('house'))]\"\n",
    "    }\n",
    "]"
   ]
  },
  {
   "cell_type": "code",
   "execution_count": 41,
   "metadata": {},
   "outputs": [
    {
     "name": "stderr",
     "output_type": "stream",
     "text": [
      "Setting `pad_token_id` to `eos_token_id`:50256 for open-end generation.\n"
     ]
    },
    {
     "name": "stdout",
     "output_type": "stream",
     "text": [
      "Question: I am looking for an flat in Zurich under 1'000'000 CHF.\n",
      "Answer: df_test = df[(df['Municipality'].str.contains('Zürich')) & (df['price'] < 1000000) & (df['type'].str.contains('flat'))]\n",
      "Question: Are there terraced houses in Bern in the CHF 500,000 to 700,000 range?\n",
      "Answer: df_test = df[(df['Municipality'].str.contains('Bern')) & (df['price'] >= 500000) & (df['price'] <= 700000) & (df['type'].str.contains('terraced_house'))]\n",
      "Question: I need a house in Lucerne with a garden for around CHF 1,200,000.\n",
      "Answer: df_test = df[(df['Municipality'].str.contains('Luzern')) & (df['price'] <= (1200000*1.1)) & (df['price'] >= (1200000*0.9)) & (df['type'].str.contains('house'))]\n",
      "Question: Are there modern apartments with 3.5 rooms available in Basel for under CHF 900,000?\n",
      "Answer: df_test = df[(df['Municipality'].str.contains('Basel')) & (df['rooms'] == 3.5) & (df['price'] < 900000) & (df['type'].str.contains('apartment'))]\n",
      "Question: I am looking for a large house in Lausanne, at least 5 rooms, up to 1'500'000 CHF.\n",
      "Answer: df_test = df[(df['Municipality'].str.contains('Lausanne')) & (df['rooms'] >= 5) & (df['price'] <= 1500000) & (df['type'].str.contains('house'))]\n",
      "Question: Show me flats in Basel which cost less than 2000000 CHF with 3 or more rooms.\n",
      "Answer:\n",
      "df_test = df[(df['Municipality'].str.contains('Lausanne')) & (df['rooms'] >= 3) & (df['price'] < 2000000) & (df['type'].str.contains('house'))]\n"
     ]
    },
    {
     "data": {
      "text/html": [
       "<div>\n",
       "<style scoped>\n",
       "    .dataframe tbody tr th:only-of-type {\n",
       "        vertical-align: middle;\n",
       "    }\n",
       "\n",
       "    .dataframe tbody tr th {\n",
       "        vertical-align: top;\n",
       "    }\n",
       "\n",
       "    .dataframe thead th {\n",
       "        text-align: right;\n",
       "    }\n",
       "</style>\n",
       "<table border=\"1\" class=\"dataframe\">\n",
       "  <thead>\n",
       "    <tr style=\"text-align: right;\">\n",
       "      <th></th>\n",
       "      <th>Municipality</th>\n",
       "      <th>detailed_description</th>\n",
       "      <th>type</th>\n",
       "      <th>rooms</th>\n",
       "      <th>url</th>\n",
       "      <th>price</th>\n",
       "    </tr>\n",
       "  </thead>\n",
       "  <tbody>\n",
       "    <tr>\n",
       "      <th>10216</th>\n",
       "      <td>Lausanne</td>\n",
       "      <td>DescriptionEN EXCLUSIVITE !A deux pas du Parc ...</td>\n",
       "      <td>detached-house</td>\n",
       "      <td>5.0</td>\n",
       "      <td>https://www.immoscout24.ch//en/d/detached-hous...</td>\n",
       "      <td>1790000.0</td>\n",
       "    </tr>\n",
       "    <tr>\n",
       "      <th>10218</th>\n",
       "      <td>Lausanne</td>\n",
       "      <td>DescriptionSur les hauts de Lausanne, cette vi...</td>\n",
       "      <td>terrace-house</td>\n",
       "      <td>5.0</td>\n",
       "      <td>https://www.immoscout24.ch//en/d/terrace-house...</td>\n",
       "      <td>1590000.0</td>\n",
       "    </tr>\n",
       "    <tr>\n",
       "      <th>10222</th>\n",
       "      <td>Lausanne</td>\n",
       "      <td>DescriptionSitué dans un quartier calme et rés...</td>\n",
       "      <td>detached-house</td>\n",
       "      <td>5.0</td>\n",
       "      <td>https://www.immoscout24.ch//en/d/detached-hous...</td>\n",
       "      <td>1790000.0</td>\n",
       "    </tr>\n",
       "    <tr>\n",
       "      <th>10226</th>\n",
       "      <td>Lausanne</td>\n",
       "      <td>DescriptionIMMO 4G vous présente en exclusivit...</td>\n",
       "      <td>detached-house</td>\n",
       "      <td>7.0</td>\n",
       "      <td>https://www.immoscout24.ch//en/d/detached-hous...</td>\n",
       "      <td>1950000.0</td>\n",
       "    </tr>\n",
       "    <tr>\n",
       "      <th>10230</th>\n",
       "      <td>Lausanne</td>\n",
       "      <td>DescriptionIdéalement située proche de la lign...</td>\n",
       "      <td>detached-house</td>\n",
       "      <td>5.0</td>\n",
       "      <td>https://www.immoscout24.ch//en/d/detached-hous...</td>\n",
       "      <td>1950000.0</td>\n",
       "    </tr>\n",
       "  </tbody>\n",
       "</table>\n",
       "</div>"
      ],
      "text/plain": [
       "      Municipality                               detailed_description  \\\n",
       "10216     Lausanne  DescriptionEN EXCLUSIVITE !A deux pas du Parc ...   \n",
       "10218     Lausanne  DescriptionSur les hauts de Lausanne, cette vi...   \n",
       "10222     Lausanne  DescriptionSitué dans un quartier calme et rés...   \n",
       "10226     Lausanne  DescriptionIMMO 4G vous présente en exclusivit...   \n",
       "10230     Lausanne  DescriptionIdéalement située proche de la lign...   \n",
       "\n",
       "                 type  rooms  \\\n",
       "10216  detached-house    5.0   \n",
       "10218   terrace-house    5.0   \n",
       "10222  detached-house    5.0   \n",
       "10226  detached-house    7.0   \n",
       "10230  detached-house    5.0   \n",
       "\n",
       "                                                     url      price  \n",
       "10216  https://www.immoscout24.ch//en/d/detached-hous...  1790000.0  \n",
       "10218  https://www.immoscout24.ch//en/d/terrace-house...  1590000.0  \n",
       "10222  https://www.immoscout24.ch//en/d/detached-hous...  1790000.0  \n",
       "10226  https://www.immoscout24.ch//en/d/detached-hous...  1950000.0  \n",
       "10230  https://www.immoscout24.ch//en/d/detached-hous...  1950000.0  "
      ]
     },
     "execution_count": 41,
     "metadata": {},
     "output_type": "execute_result"
    }
   ],
   "source": [
    "query = \"Show me flats in Basel which cost less than 2000000 CHF with 3 or more rooms.\"\n",
    "\n",
    "response = get_model_response(query, model=model, tokenizer=tokenizer, few_shots=few_shot_examples_code)\n",
    "\n",
    "print(response)\n",
    "\n",
    "exec(response)\n",
    "df_test.head()"
   ]
  },
  {
   "cell_type": "markdown",
   "metadata": {},
   "source": [
    "In ein paar wege hat GPT2 es richtig verstanden, aber es hat immer noch schwierigkeiten den ganzen code richtig zu generieren. Es hat die anzahl zimmer und den 'less than' vor dem preis richtig gekriegt, aber danach hat es einfach die parameter vom letsten beispiel genommen und die query damit generiert."
   ]
  },
  {
   "cell_type": "code",
   "execution_count": 42,
   "metadata": {},
   "outputs": [
    {
     "name": "stderr",
     "output_type": "stream",
     "text": [
      "Setting `pad_token_id` to `eos_token_id`:50256 for open-end generation.\n"
     ]
    },
    {
     "name": "stdout",
     "output_type": "stream",
     "text": [
      "Question: I am looking for an flat in Zurich under 1'000'000 CHF.\n",
      "Answer: df_test = df[(df['Municipality'].str.contains('Zürich')) & (df['price'] < 1000000) & (df['type'].str.contains('flat'))]\n",
      "Question: Are there terraced houses in Bern in the CHF 500,000 to 700,000 range?\n",
      "Answer: df_test = df[(df['Municipality'].str.contains('Bern')) & (df['price'] >= 500000) & (df['price'] <= 700000) & (df['type'].str.contains('terraced_house'))]\n",
      "Question: I need a house in Lucerne with a garden for around CHF 1,200,000.\n",
      "Answer: df_test = df[(df['Municipality'].str.contains('Luzern')) & (df['price'] <= (1200000*1.1)) & (df['price'] >= (1200000*0.9)) & (df['type'].str.contains('house'))]\n",
      "Question: Are there modern apartments with 3.5 rooms available in Basel for under CHF 900,000?\n",
      "Answer: df_test = df[(df['Municipality'].str.contains('Basel')) & (df['rooms'] == 3.5) & (df['price'] < 900000) & (df['type'].str.contains('apartment'))]\n",
      "Question: I am looking for a large house in Lausanne, at least 5 rooms, up to 1'500'000 CHF.\n",
      "Answer: df_test = df[(df['Municipality'].str.contains('Lausanne')) & (df['rooms'] >= 5) & (df['price'] <= 1500000) & (df['type'].str.contains('house'))]\n",
      "Question: I need a house in Basel with a garden for around CHF 1200000.\n",
      "Answer:\n",
      "df_test = df[(df['Municipality'].str.contains('Luzern')) & (df['price'] >= 1200000) & (df['price'] <= 1500000) & (df['type'].str.contains('house'))]\n"
     ]
    },
    {
     "data": {
      "text/html": [
       "<div>\n",
       "<style scoped>\n",
       "    .dataframe tbody tr th:only-of-type {\n",
       "        vertical-align: middle;\n",
       "    }\n",
       "\n",
       "    .dataframe tbody tr th {\n",
       "        vertical-align: top;\n",
       "    }\n",
       "\n",
       "    .dataframe thead th {\n",
       "        text-align: right;\n",
       "    }\n",
       "</style>\n",
       "<table border=\"1\" class=\"dataframe\">\n",
       "  <thead>\n",
       "    <tr style=\"text-align: right;\">\n",
       "      <th></th>\n",
       "      <th>Municipality</th>\n",
       "      <th>detailed_description</th>\n",
       "      <th>type</th>\n",
       "      <th>rooms</th>\n",
       "      <th>url</th>\n",
       "      <th>price</th>\n",
       "    </tr>\n",
       "  </thead>\n",
       "  <tbody>\n",
       "  </tbody>\n",
       "</table>\n",
       "</div>"
      ],
      "text/plain": [
       "Empty DataFrame\n",
       "Columns: [Municipality, detailed_description, type, rooms, url, price]\n",
       "Index: []"
      ]
     },
     "execution_count": 42,
     "metadata": {},
     "output_type": "execute_result"
    }
   ],
   "source": [
    "query = \"I need a house in Basel with a garden for around CHF 1200000.\"\n",
    "\n",
    "response = get_model_response(query, model=model, tokenizer=tokenizer, few_shots=few_shot_examples_code)\n",
    "\n",
    "print(response)\n",
    "\n",
    "exec(response)\n",
    "df_test.head()"
   ]
  },
  {
   "cell_type": "code",
   "execution_count": 43,
   "metadata": {},
   "outputs": [
    {
     "name": "stderr",
     "output_type": "stream",
     "text": [
      "Setting `pad_token_id` to `eos_token_id`:50256 for open-end generation.\n"
     ]
    },
    {
     "name": "stdout",
     "output_type": "stream",
     "text": [
      "Question: I am looking for an flat in Zurich under 1'000'000 CHF.\n",
      "Answer: df_test = df[(df['Municipality'].str.contains('Zürich')) & (df['price'] < 1000000) & (df['type'].str.contains('flat'))]\n",
      "Question: Are there terraced houses in Bern in the CHF 500,000 to 700,000 range?\n",
      "Answer: df_test = df[(df['Municipality'].str.contains('Bern')) & (df['price'] >= 500000) & (df['price'] <= 700000) & (df['type'].str.contains('terraced_house'))]\n",
      "Question: I need a house in Lucerne with a garden for around CHF 1,200,000.\n",
      "Answer: df_test = df[(df['Municipality'].str.contains('Luzern')) & (df['price'] <= (1200000*1.1)) & (df['price'] >= (1200000*0.9)) & (df['type'].str.contains('house'))]\n",
      "Question: Are there modern apartments with 3.5 rooms available in Basel for under CHF 900,000?\n",
      "Answer: df_test = df[(df['Municipality'].str.contains('Basel')) & (df['rooms'] == 3.5) & (df['price'] < 900000) & (df['type'].str.contains('apartment'))]\n",
      "Question: I am looking for a large house in Lausanne, at least 5 rooms, up to 1'500'000 CHF.\n",
      "Answer: df_test = df[(df['Municipality'].str.contains('Lausanne')) & (df['rooms'] >= 5) & (df['price'] <= 1500000) & (df['type'].str.contains('house'))]\n",
      "Question: I am looking for a house in Biberstein which costs about 1000000.\n",
      "Answer:\n",
      "df_test = df[(df['Municipality'].str.contains('Biberstein')) & (df['rooms'] >= 1000000) & (df['price'] < 1000000) & (df['type'].str.contains('house'))]\n"
     ]
    },
    {
     "data": {
      "text/html": [
       "<div>\n",
       "<style scoped>\n",
       "    .dataframe tbody tr th:only-of-type {\n",
       "        vertical-align: middle;\n",
       "    }\n",
       "\n",
       "    .dataframe tbody tr th {\n",
       "        vertical-align: top;\n",
       "    }\n",
       "\n",
       "    .dataframe thead th {\n",
       "        text-align: right;\n",
       "    }\n",
       "</style>\n",
       "<table border=\"1\" class=\"dataframe\">\n",
       "  <thead>\n",
       "    <tr style=\"text-align: right;\">\n",
       "      <th></th>\n",
       "      <th>Municipality</th>\n",
       "      <th>detailed_description</th>\n",
       "      <th>type</th>\n",
       "      <th>rooms</th>\n",
       "      <th>url</th>\n",
       "      <th>price</th>\n",
       "    </tr>\n",
       "  </thead>\n",
       "  <tbody>\n",
       "  </tbody>\n",
       "</table>\n",
       "</div>"
      ],
      "text/plain": [
       "Empty DataFrame\n",
       "Columns: [Municipality, detailed_description, type, rooms, url, price]\n",
       "Index: []"
      ]
     },
     "execution_count": 43,
     "metadata": {},
     "output_type": "execute_result"
    }
   ],
   "source": [
    "query = \"I am looking for a house in Biberstein which costs about 1000000.\"\n",
    "\n",
    "response = get_model_response(query, model=model, tokenizer=tokenizer, few_shots=few_shot_examples_code)\n",
    "\n",
    "print(response)\n",
    "\n",
    "exec(response)\n",
    "df_test.head()"
   ]
  },
  {
   "cell_type": "markdown",
   "metadata": {},
   "source": [
    "Mit anderen queries, ist es gleich, beim ersten hat es diesmal den richtigen preis format \"around\" gefunden in den beispiele, aber wieder hat es die parameter genommen von dem genauen beispiel und nicht angepasst an die query. Und bei dem zweiten hat es die richtige gemeinde gefunden, aber hat den preis als anzahl zimmer genommen."
   ]
  },
  {
   "cell_type": "markdown",
   "metadata": {},
   "source": [
    "## Fazit GPT2\n",
    "\n",
    "Durch die experimenten sehen wir, dass GPT-2 mit strikten formaten von prompts gehen kann, aber gibt immer noch nicht wirklich eine corversational antowrt zurück. <br>\n",
    "Eher ist die antwort \"`<prompt>` kann man hier finden: (Antwort)\" wenn es überhaupt eine richtige antwort formt. <br>\n",
    "\n",
    "Sogar mit erklärung von der anfrage, versteht GPT-2 die aufgabe gar nicht und gibt einfach den prompt zurück als antwort."
   ]
  }
 ],
 "metadata": {
  "kernelspec": {
   "display_name": "rasa",
   "language": "python",
   "name": "python3"
  },
  "language_info": {
   "codemirror_mode": {
    "name": "ipython",
    "version": 3
   },
   "file_extension": ".py",
   "mimetype": "text/x-python",
   "name": "python",
   "nbconvert_exporter": "python",
   "pygments_lexer": "ipython3",
   "version": "3.10.11"
  }
 },
 "nbformat": 4,
 "nbformat_minor": 2
}
